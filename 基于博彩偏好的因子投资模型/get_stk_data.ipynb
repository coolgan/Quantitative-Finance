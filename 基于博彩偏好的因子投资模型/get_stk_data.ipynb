{
 "cells": [
  {
   "cell_type": "code",
   "execution_count": null,
   "metadata": {},
   "outputs": [],
   "source": [
    "import time\n",
    "import tushare as ts\n",
    "import pandas as pd\n",
    "import numpy as np\n",
    "import matplotlib.pyplot as plt\n",
    "from datetime import datetime"
   ]
  },
  {
   "cell_type": "code",
   "execution_count": null,
   "metadata": {},
   "outputs": [],
   "source": [
    "tushare_token = '604c146e2dc9044b250b3312916ef9e170734e53b0528384ccb736b7' \n",
    "pro = ts.pro_api(tushare_token)"
   ]
  },
  {
   "cell_type": "markdown",
   "metadata": {},
   "source": [
    "# get daily stock data"
   ]
  },
  {
   "cell_type": "markdown",
   "metadata": {},
   "source": [
    "## download daily stock quote"
   ]
  },
  {
   "cell_type": "code",
   "execution_count": null,
   "metadata": {},
   "outputs": [],
   "source": [
    "date = pro.query('trade_cal', start_date='19991230', end_date='20200901')\n",
    "trade_date = date[date['is_open']==1].reset_index(drop=True)\n",
    "total = pd.DataFrame()\n",
    "for i,date in enumerate(trade_date['cal_date'].tolist()[0:20]):\n",
    "    daily_basic = pro.daily_basic(ts_code='', trade_date=date, fields='ts_code,trade_date,close,turnover_rate,volume_ratio,pe,pb,total_mv,circ_mv')\n",
    "    #total = pd.concat([total,daily_basic],axis=0)\n",
    "    daily_basic.to_csv('./stk_daily/'+date+'.csv',index=False)\n",
    "    time.sleep(0.05)\n",
    "    print(date,i)"
   ]
  },
  {
   "cell_type": "markdown",
   "metadata": {},
   "source": [
    "## merge data"
   ]
  },
  {
   "cell_type": "code",
   "execution_count": null,
   "metadata": {},
   "outputs": [],
   "source": [
    "import os\n",
    "stk_list = os.listdir('./stk_daily/')\n",
    "df_list = []\n",
    "for stk in stk_list:\n",
    "    temp = pd.read_csv('./stk_daily/'+stk)\n",
    "    df_list.append(temp)\n",
    "\n",
    "df_total = pd.concat(df_list)\n",
    "df_total = df_total.sort_values(by=['trade_date','ts_code']).reset_index(drop=True)"
   ]
  },
  {
   "cell_type": "markdown",
   "metadata": {},
   "source": [
    "## calculate stk ret"
   ]
  },
  {
   "cell_type": "code",
   "execution_count": null,
   "metadata": {},
   "outputs": [],
   "source": [
    "# calculate stk ret\n",
    "output = pd.DataFrame()\n",
    "for stk,group in df_total.groupby('ts_code'):\n",
    "    group['ret'] = group['close'].pct_change()\n",
    "    output = pd.concat([output,group],axis=0)\n",
    "    #print(stk)\n",
    "output.sort_values(by=['trade_date','ts_code']).reset_index(drop=True).to_csv('stk_daily.csv',index=False)"
   ]
  },
  {
   "cell_type": "markdown",
   "metadata": {},
   "source": [
    "# get monthly stock data"
   ]
  },
  {
   "cell_type": "code",
   "execution_count": null,
   "metadata": {},
   "outputs": [],
   "source": [
    "date = pro.trade_cal(exchange='', start_date='20000101', end_date='20201231')\n",
    "date = date[date['is_open']==1].reset_index(drop=True)\n",
    "date['month'] = date['cal_date'].apply(lambda x:int( x[0:6] ))\n",
    "date['cal_date'] = date['cal_date'].astype(int)\n",
    "month_end = date.groupby('month').apply(lambda x:x.iloc[-1,:]).reset_index(drop=True)"
   ]
  },
  {
   "cell_type": "code",
   "execution_count": null,
   "metadata": {},
   "outputs": [],
   "source": [
    "# monthly indicator data\n",
    "indicator_list = []\n",
    "for date in month_end['cal_date'].tolist():\n",
    "    indicator = pro.query('daily_basic', ts_code='', trade_date=str(date),fields='ts_code,trade_date,close,total_mv,circ_mv,turnover_rate,volume_ratio,pe,pb')\n",
    "    indicator_list.append(indicator)\n",
    "indicator_df = pd.concat(indicator_list).sort_values(by=['trade_date','ts_code']).reset_index(drop=True)\n",
    "\n",
    "# monthly ret data\n",
    "Mret_list = []\n",
    "for date in month_end['cal_date'].tolist():\n",
    "    Mretdf = pro.monthly(trade_date=str(date), fields='ts_code,trade_date,pct_chg')\n",
    "    Mret_list.append(Mretdf)\n",
    "    print(date)\n",
    "Mret = pd.concat(Mret_list)\n",
    "pd.merge(indicator_df,Mret)#.to_csv('stk_monthly.csv',index=False)"
   ]
  },
  {
   "cell_type": "markdown",
   "metadata": {},
   "source": [
    "# get ST stock list"
   ]
  },
  {
   "cell_type": "code",
   "execution_count": null,
   "metadata": {},
   "outputs": [],
   "source": [
    "bs_code_list = list( map( lambda x: 'sh.'+x.split('.')[0] if x.split('.')[-1]=='SH' else 'sz.'+x.split('.')[0] , stk_month['ts_code'].unique().tolist()) )\n",
    "# bs_date_list = pd.to_datetime(stk_month['trade_date'],format='%Y%m%d').dt.strftime(date_format='%Y-%m-%d')#\n",
    "bs_date_list = list( map( lambda x:str(x)[0:4] + '-' + str(x)[4:6] + '-' + str(x)[6:8],stk_month['trade_date'].unique().tolist() ))"
   ]
  },
  {
   "cell_type": "code",
   "execution_count": null,
   "metadata": {},
   "outputs": [],
   "source": [
    "lg = bs.login()\n",
    "total = []\n",
    "for code in bs_code_list:\n",
    "    rs = bs.query_history_k_data_plus(code,\n",
    "        \"date,code,tradestatus,pctChg,isST\",\n",
    "        start_date=bs_date_list[0], end_date=bs_date_list[-1],\n",
    "        frequency=\"d\", adjustflag=\"3\")\n",
    "    data_list = []\n",
    "    while (rs.error_code == '0') & rs.next():\n",
    "        data_list.append(rs.get_row_data())\n",
    "    \n",
    "    result = pd.DataFrame(data_list, columns=rs.fields)\n",
    "    result = result[result['date'].isin(bs_date_list)].reset_index(drop=True)\n",
    "    total.append(result)\n",
    "    print(code)"
   ]
  },
  {
   "cell_type": "code",
   "execution_count": null,
   "metadata": {},
   "outputs": [],
   "source": [
    "df = pd.concat(total,axis=0)\n",
    "df.reset_index(drop=True).to_csv('st_file.csv',index=False)\n",
    "st_df = pd.read_csv('st_file.csv')\n",
    "st_df['ts_code'] = st_df['code'].apply(lambda x: x.split('.')[-1]+'.SZ' if x.split('.')[0]=='sz' else x.split('.')[-1]+'.SH')\n",
    "st_df['trade_date'] = st_df['date'].apply(lambda x:int(x.replace('-','')))"
   ]
  }
 ],
 "metadata": {
  "hide_input": false,
  "kernelspec": {
   "display_name": "Python 3",
   "language": "python",
   "name": "python3"
  },
  "language_info": {
   "codemirror_mode": {
    "name": "ipython",
    "version": 3
   },
   "file_extension": ".py",
   "mimetype": "text/x-python",
   "name": "python",
   "nbconvert_exporter": "python",
   "pygments_lexer": "ipython3",
   "version": "3.8.5"
  },
  "toc": {
   "base_numbering": 1,
   "nav_menu": {},
   "number_sections": true,
   "sideBar": true,
   "skip_h1_title": false,
   "title_cell": "Table of Contents",
   "title_sidebar": "Contents",
   "toc_cell": false,
   "toc_position": {},
   "toc_section_display": true,
   "toc_window_display": false
  },
  "varInspector": {
   "cols": {
    "lenName": 16,
    "lenType": 16,
    "lenVar": 40
   },
   "kernels_config": {
    "python": {
     "delete_cmd_postfix": "",
     "delete_cmd_prefix": "del ",
     "library": "var_list.py",
     "varRefreshCmd": "print(var_dic_list())"
    },
    "r": {
     "delete_cmd_postfix": ") ",
     "delete_cmd_prefix": "rm(",
     "library": "var_list.r",
     "varRefreshCmd": "cat(var_dic_list()) "
    }
   },
   "types_to_exclude": [
    "module",
    "function",
    "builtin_function_or_method",
    "instance",
    "_Feature"
   ],
   "window_display": false
  }
 },
 "nbformat": 4,
 "nbformat_minor": 4
}
