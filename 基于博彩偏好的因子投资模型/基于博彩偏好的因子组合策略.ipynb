{
 "cells": [
  {
   "cell_type": "code",
   "execution_count": 1,
   "metadata": {
    "ExecuteTime": {
     "end_time": "2021-01-30T11:44:09.035170Z",
     "start_time": "2021-01-30T11:44:07.447272Z"
    }
   },
   "outputs": [],
   "source": [
    "import time\n",
    "import math\n",
    "import numpy as np\n",
    "import pandas as pd\n",
    "import baostock as bs\n",
    "import tushare as ts\n",
    "import statsmodels.api as sm\n",
    "import matplotlib.pyplot as plt\n",
    "from scipy import stats\n",
    "from datetime import datetime"
   ]
  },
  {
   "cell_type": "markdown",
   "metadata": {},
   "source": [
    "# 计算个股偏度指标"
   ]
  },
  {
   "cell_type": "markdown",
   "metadata": {},
   "source": [
    "## 导入日度股票交易数据"
   ]
  },
  {
   "cell_type": "code",
   "execution_count": 19,
   "metadata": {
    "ExecuteTime": {
     "end_time": "2021-01-29T06:14:00.705040Z",
     "start_time": "2021-01-29T06:13:41.255102Z"
    }
   },
   "outputs": [],
   "source": [
    "# 日度股票交易数据包括个股日度收益率、成交量、换手率、总市值、PE、PB等\n",
    "# 样本区间## 导入日度股票交易数据为2000年1月到2020年9月，数据来自tushare\n",
    "stk = pd.read_csv('../stk_daily.csv')\n",
    "stk['month'] = stk['trade_date'].apply(lambda x:int(str(x)[0:6]))\n",
    "stk = stk[stk['trade_date']<20200900].reset_index(drop=True)"
   ]
  },
  {
   "cell_type": "markdown",
   "metadata": {},
   "source": [
    "## 下载市场指数日序列"
   ]
  },
  {
   "cell_type": "code",
   "execution_count": 2,
   "metadata": {
    "ExecuteTime": {
     "end_time": "2021-01-29T06:04:05.939828Z",
     "start_time": "2021-01-29T06:04:05.009881Z"
    }
   },
   "outputs": [],
   "source": [
    "# 市场指数采用上证指数，数据来自tushare\n",
    "token = '604c146e2dc9044b250b3312916ef9e170734e53b0528384ccb736b7'\n",
    "pro = ts.pro_api(token)\n",
    "index = pro.index_daily(ts_code='000001.SH')\n",
    "index['trade_date'] = index['trade_date'].astype(int)\n",
    "index['pct_chg'] = index['pct_chg']/100\n",
    "index = index[index['trade_date']>20000001].sort_values(by='trade_date').reset_index(drop=True)"
   ]
  },
  {
   "cell_type": "markdown",
   "metadata": {},
   "source": [
    "## 导入无风险利率"
   ]
  },
  {
   "cell_type": "code",
   "execution_count": 5,
   "metadata": {
    "ExecuteTime": {
     "end_time": "2021-01-30T11:44:53.341325Z",
     "start_time": "2021-01-30T11:44:53.218832Z"
    }
   },
   "outputs": [],
   "source": [
    "# 无风险利率采用7日银行间质押式回购利率，数据来自万得金融终端\n",
    "rf = pd.read_excel('../银行间质押式回购.xls')\n",
    "rf = rf.iloc[0:-2,:].reset_index(drop=True)\n",
    "rf['R007'] = (rf['R007']/100)/365\n",
    "rf = rf.rename(columns={'指标名称':'trade_date'})\n",
    "rf['trade_date'] = pd.to_datetime(rf['trade_date']).dt.strftime('%Y%m%d').astype(int)\n",
    "rf['month'] = rf['trade_date'].apply(lambda x:str(x)[0:6]).astype(int)"
   ]
  },
  {
   "cell_type": "markdown",
   "metadata": {},
   "source": [
    "## 合并数据"
   ]
  },
  {
   "cell_type": "code",
   "execution_count": 239,
   "metadata": {
    "ExecuteTime": {
     "end_time": "2021-01-27T15:57:23.899007Z",
     "start_time": "2021-01-27T15:57:18.374272Z"
    }
   },
   "outputs": [],
   "source": [
    "reg_data = pd.merge(stk,index[['trade_date','pct_chg']])[['trade_date','month','ts_code','ret','pct_chg']].rename(columns={'pct_chg':'index_ret'})\n",
    "reg_data = pd.merge(reg_data,rf).dropna().reset_index(drop=True)"
   ]
  },
  {
   "cell_type": "markdown",
   "metadata": {},
   "source": [
    "## 循环计算个股月度总偏度、协偏度、最大日收益"
   ]
  },
  {
   "cell_type": "code",
   "execution_count": 240,
   "metadata": {
    "ExecuteTime": {
     "end_time": "2021-01-27T15:57:27.331985Z",
     "start_time": "2021-01-27T15:57:27.324008Z"
    }
   },
   "outputs": [],
   "source": [
    "def cal_skew(data_i_t):\n",
    "    skew = data_i_t['ret'].skew()\n",
    "    #kurt = data_i_t['ret'].kurt()\n",
    "    return skew\n",
    "def cal_coskew(data_i_t):\n",
    "    # Referrence: Ang et al.(2006) Downside Risks. JF\n",
    "    r_i = data_i_t['ret'] - data_i_t['R007']\n",
    "    r_m = data_i_t['index_ret'] - data_i_t['R007']\n",
    "    res_i = r_i - r_i.mean()\n",
    "    res_m = r_m - r_m.mean()\n",
    "    coskew = (res_i*np.power(res_m,2)).mean() / ( np.sqrt( np.power(res_i,2).mean() ) *  np.power(res_m,2).mean())\n",
    "    #cokurt = (res_i*np.power(res_m,3)).mean() / ( np.sqrt( np.power(res_i,2).mean() ) *  np.power(np.power(res_m,2).mean(),3/2))\n",
    "    return coskew\n",
    "def cal_iskew(data_i_t):\n",
    "    r_i = data_i_t['ret'] - data_i_t['R007']\n",
    "    r_m = data_i_t['index_ret'] - data_i_t['R007']\n",
    "    res_i = sm.OLS(r_i,sm.add_constant(r_m)).fit().resid\n",
    "    iskew = res_i.skew()\n",
    "    return iskew\n",
    "def cal_3d_MaxRet(data_i_t):\n",
    "    return data_i_t['ret'].nlargest(3).mean()\n",
    "def cal_5d_MaxRet(data_i_t):\n",
    "    return data_i_t['ret'].nlargest(5).mean()\n",
    "def cal_7d_MaxRet(data_i_t):\n",
    "    return data_i_t['ret'].nlargest(7).mean()"
   ]
  },
  {
   "cell_type": "code",
   "execution_count": 242,
   "metadata": {
    "ExecuteTime": {
     "end_time": "2021-01-27T16:27:51.504817Z",
     "start_time": "2021-01-27T15:57:41.841785Z"
    },
    "scrolled": true
   },
   "outputs": [
    {
     "name": "stdout",
     "output_type": "stream",
     "text": [
      "000001.SZ\n",
      "000002.SZ\n",
      "000003.SZ\n"
     ]
    },
    {
     "name": "stderr",
     "output_type": "stream",
     "text": [
      "<ipython-input-240-1ac76a73e39a>:11: RuntimeWarning: invalid value encountered in double_scalars\n",
      "  coskew = (res_i*np.power(res_m,2)).mean() / ( np.sqrt( np.power(res_i,2).mean() ) *  np.power(res_m,2).mean())\n"
     ]
    },
    {
     "name": "stdout",
     "output_type": "stream",
     "text": [
      "000004.SZ\n"
     ]
    },
    {
     "name": "stderr",
     "output_type": "stream",
     "text": [
      "<ipython-input-240-1ac76a73e39a>:11: RuntimeWarning: invalid value encountered in double_scalars\n",
      "  coskew = (res_i*np.power(res_m,2)).mean() / ( np.sqrt( np.power(res_i,2).mean() ) *  np.power(res_m,2).mean())\n"
     ]
    },
    {
     "name": "stdout",
     "output_type": "stream",
     "text": [
      "000005.SZ\n",
      "000006.SZ\n"
     ]
    },
    {
     "name": "stderr",
     "output_type": "stream",
     "text": [
      "<ipython-input-240-1ac76a73e39a>:11: RuntimeWarning: invalid value encountered in double_scalars\n",
      "  coskew = (res_i*np.power(res_m,2)).mean() / ( np.sqrt( np.power(res_i,2).mean() ) *  np.power(res_m,2).mean())\n"
     ]
    },
    {
     "name": "stdout",
     "output_type": "stream",
     "text": [
      "000007.SZ\n",
      "000008.SZ\n"
     ]
    },
    {
     "name": "stderr",
     "output_type": "stream",
     "text": [
      "<ipython-input-240-1ac76a73e39a>:11: RuntimeWarning: invalid value encountered in double_scalars\n",
      "  coskew = (res_i*np.power(res_m,2)).mean() / ( np.sqrt( np.power(res_i,2).mean() ) *  np.power(res_m,2).mean())\n"
     ]
    },
    {
     "name": "stdout",
     "output_type": "stream",
     "text": [
      "000009.SZ\n"
     ]
    },
    {
     "name": "stderr",
     "output_type": "stream",
     "text": [
      "<ipython-input-240-1ac76a73e39a>:11: RuntimeWarning: invalid value encountered in double_scalars\n",
      "  coskew = (res_i*np.power(res_m,2)).mean() / ( np.sqrt( np.power(res_i,2).mean() ) *  np.power(res_m,2).mean())\n"
     ]
    },
    {
     "name": "stdout",
     "output_type": "stream",
     "text": [
      "000010.SZ\n",
      "000011.SZ\n",
      "000012.SZ\n",
      "000013.SZ\n",
      "000014.SZ\n",
      "000015.SZ\n",
      "000016.SZ\n"
     ]
    },
    {
     "name": "stderr",
     "output_type": "stream",
     "text": [
      "<ipython-input-240-1ac76a73e39a>:11: RuntimeWarning: invalid value encountered in double_scalars\n",
      "  coskew = (res_i*np.power(res_m,2)).mean() / ( np.sqrt( np.power(res_i,2).mean() ) *  np.power(res_m,2).mean())\n"
     ]
    },
    {
     "name": "stdout",
     "output_type": "stream",
     "text": [
      "000017.SZ\n",
      "000018.SZ\n",
      "000019.SZ\n"
     ]
    },
    {
     "name": "stderr",
     "output_type": "stream",
     "text": [
      "<ipython-input-240-1ac76a73e39a>:11: RuntimeWarning: invalid value encountered in double_scalars\n",
      "  coskew = (res_i*np.power(res_m,2)).mean() / ( np.sqrt( np.power(res_i,2).mean() ) *  np.power(res_m,2).mean())\n"
     ]
    },
    {
     "name": "stdout",
     "output_type": "stream",
     "text": [
      "000020.SZ\n",
      "000021.SZ\n",
      "000022.SZ\n",
      "000023.SZ\n",
      "000024.SZ\n",
      "000025.SZ\n",
      "000026.SZ\n"
     ]
    },
    {
     "name": "stderr",
     "output_type": "stream",
     "text": [
      "<ipython-input-240-1ac76a73e39a>:11: RuntimeWarning: invalid value encountered in double_scalars\n",
      "  coskew = (res_i*np.power(res_m,2)).mean() / ( np.sqrt( np.power(res_i,2).mean() ) *  np.power(res_m,2).mean())\n"
     ]
    },
    {
     "name": "stdout",
     "output_type": "stream",
     "text": [
      "000027.SZ\n",
      "000028.SZ\n",
      "000029.SZ\n",
      "000030.SZ\n",
      "000031.SZ\n",
      "000032.SZ\n",
      "000033.SZ\n",
      "000034.SZ\n",
      "000035.SZ\n",
      "000036.SZ\n",
      "000037.SZ\n",
      "000038.SZ\n",
      "000039.SZ\n"
     ]
    },
    {
     "name": "stderr",
     "output_type": "stream",
     "text": [
      "<ipython-input-240-1ac76a73e39a>:11: RuntimeWarning: invalid value encountered in double_scalars\n",
      "  coskew = (res_i*np.power(res_m,2)).mean() / ( np.sqrt( np.power(res_i,2).mean() ) *  np.power(res_m,2).mean())\n"
     ]
    },
    {
     "name": "stdout",
     "output_type": "stream",
     "text": [
      "000040.SZ\n",
      "000042.SZ\n",
      "000043.SZ\n",
      "000045.SZ\n",
      "000046.SZ\n",
      "000047.SZ\n",
      "000048.SZ\n",
      "000049.SZ\n",
      "000050.SZ\n",
      "000055.SZ\n",
      "000056.SZ\n",
      "000058.SZ\n"
     ]
    },
    {
     "name": "stderr",
     "output_type": "stream",
     "text": [
      "<ipython-input-240-1ac76a73e39a>:11: RuntimeWarning: invalid value encountered in double_scalars\n",
      "  coskew = (res_i*np.power(res_m,2)).mean() / ( np.sqrt( np.power(res_i,2).mean() ) *  np.power(res_m,2).mean())\n"
     ]
    },
    {
     "name": "stdout",
     "output_type": "stream",
     "text": [
      "000059.SZ\n",
      "000060.SZ\n",
      "000061.SZ\n",
      "000062.SZ\n",
      "000063.SZ\n",
      "000065.SZ\n",
      "000066.SZ\n"
     ]
    },
    {
     "name": "stderr",
     "output_type": "stream",
     "text": [
      "<ipython-input-240-1ac76a73e39a>:11: RuntimeWarning: invalid value encountered in double_scalars\n",
      "  coskew = (res_i*np.power(res_m,2)).mean() / ( np.sqrt( np.power(res_i,2).mean() ) *  np.power(res_m,2).mean())\n"
     ]
    },
    {
     "name": "stdout",
     "output_type": "stream",
     "text": [
      "000068.SZ\n",
      "000069.SZ\n",
      "000070.SZ\n",
      "000078.SZ\n",
      "000088.SZ\n",
      "000089.SZ\n",
      "000090.SZ\n",
      "000096.SZ\n",
      "000099.SZ\n",
      "000100.SZ\n"
     ]
    },
    {
     "name": "stderr",
     "output_type": "stream",
     "text": [
      "<ipython-input-240-1ac76a73e39a>:11: RuntimeWarning: invalid value encountered in double_scalars\n",
      "  coskew = (res_i*np.power(res_m,2)).mean() / ( np.sqrt( np.power(res_i,2).mean() ) *  np.power(res_m,2).mean())\n"
     ]
    },
    {
     "name": "stdout",
     "output_type": "stream",
     "text": [
      "000150.SZ\n",
      "000151.SZ\n",
      "000153.SZ\n",
      "000155.SZ\n",
      "000156.SZ\n",
      "000157.SZ\n"
     ]
    },
    {
     "name": "stderr",
     "output_type": "stream",
     "text": [
      "<ipython-input-240-1ac76a73e39a>:11: RuntimeWarning: invalid value encountered in double_scalars\n",
      "  coskew = (res_i*np.power(res_m,2)).mean() / ( np.sqrt( np.power(res_i,2).mean() ) *  np.power(res_m,2).mean())\n"
     ]
    },
    {
     "name": "stdout",
     "output_type": "stream",
     "text": [
      "000158.SZ\n",
      "000159.SZ\n"
     ]
    },
    {
     "name": "stderr",
     "output_type": "stream",
     "text": [
      "<ipython-input-240-1ac76a73e39a>:11: RuntimeWarning: invalid value encountered in double_scalars\n",
      "  coskew = (res_i*np.power(res_m,2)).mean() / ( np.sqrt( np.power(res_i,2).mean() ) *  np.power(res_m,2).mean())\n"
     ]
    },
    {
     "name": "stdout",
     "output_type": "stream",
     "text": [
      "000166.SZ\n",
      "000301.SZ\n",
      "000333.SZ\n"
     ]
    },
    {
     "name": "stderr",
     "output_type": "stream",
     "text": [
      "<ipython-input-240-1ac76a73e39a>:11: RuntimeWarning: invalid value encountered in double_scalars\n",
      "  coskew = (res_i*np.power(res_m,2)).mean() / ( np.sqrt( np.power(res_i,2).mean() ) *  np.power(res_m,2).mean())\n"
     ]
    },
    {
     "name": "stdout",
     "output_type": "stream",
     "text": [
      "000338.SZ\n",
      "000400.SZ\n",
      "000401.SZ\n",
      "000402.SZ\n",
      "000403.SZ\n",
      "000404.SZ\n",
      "000405.SZ\n",
      "000406.SZ\n",
      "000407.SZ\n",
      "000408.SZ\n",
      "000409.SZ\n"
     ]
    },
    {
     "name": "stderr",
     "output_type": "stream",
     "text": [
      "<ipython-input-240-1ac76a73e39a>:11: RuntimeWarning: invalid value encountered in double_scalars\n",
      "  coskew = (res_i*np.power(res_m,2)).mean() / ( np.sqrt( np.power(res_i,2).mean() ) *  np.power(res_m,2).mean())\n",
      "<ipython-input-240-1ac76a73e39a>:11: RuntimeWarning: invalid value encountered in double_scalars\n",
      "  coskew = (res_i*np.power(res_m,2)).mean() / ( np.sqrt( np.power(res_i,2).mean() ) *  np.power(res_m,2).mean())\n"
     ]
    },
    {
     "name": "stdout",
     "output_type": "stream",
     "text": [
      "000410.SZ\n",
      "000411.SZ\n",
      "000412.SZ\n"
     ]
    },
    {
     "name": "stderr",
     "output_type": "stream",
     "text": [
      "<ipython-input-240-1ac76a73e39a>:11: RuntimeWarning: invalid value encountered in double_scalars\n",
      "  coskew = (res_i*np.power(res_m,2)).mean() / ( np.sqrt( np.power(res_i,2).mean() ) *  np.power(res_m,2).mean())\n"
     ]
    },
    {
     "name": "stdout",
     "output_type": "stream",
     "text": [
      "000413.SZ\n"
     ]
    },
    {
     "name": "stderr",
     "output_type": "stream",
     "text": [
      "<ipython-input-240-1ac76a73e39a>:11: RuntimeWarning: invalid value encountered in double_scalars\n",
      "  coskew = (res_i*np.power(res_m,2)).mean() / ( np.sqrt( np.power(res_i,2).mean() ) *  np.power(res_m,2).mean())\n",
      "<ipython-input-240-1ac76a73e39a>:11: RuntimeWarning: invalid value encountered in double_scalars\n",
      "  coskew = (res_i*np.power(res_m,2)).mean() / ( np.sqrt( np.power(res_i,2).mean() ) *  np.power(res_m,2).mean())\n"
     ]
    },
    {
     "name": "stdout",
     "output_type": "stream",
     "text": [
      "000415.SZ\n",
      "000416.SZ\n"
     ]
    },
    {
     "name": "stderr",
     "output_type": "stream",
     "text": [
      "<ipython-input-240-1ac76a73e39a>:11: RuntimeWarning: invalid value encountered in double_scalars\n",
      "  coskew = (res_i*np.power(res_m,2)).mean() / ( np.sqrt( np.power(res_i,2).mean() ) *  np.power(res_m,2).mean())\n"
     ]
    },
    {
     "name": "stdout",
     "output_type": "stream",
     "text": [
      "000417.SZ\n",
      "000418.SZ\n",
      "000419.SZ\n",
      "000420.SZ\n",
      "000421.SZ\n",
      "000422.SZ\n"
     ]
    },
    {
     "name": "stderr",
     "output_type": "stream",
     "text": [
      "<ipython-input-240-1ac76a73e39a>:11: RuntimeWarning: invalid value encountered in double_scalars\n",
      "  coskew = (res_i*np.power(res_m,2)).mean() / ( np.sqrt( np.power(res_i,2).mean() ) *  np.power(res_m,2).mean())\n"
     ]
    },
    {
     "name": "stdout",
     "output_type": "stream",
     "text": [
      "000423.SZ\n",
      "000425.SZ\n",
      "000426.SZ\n",
      "000428.SZ\n",
      "000429.SZ\n"
     ]
    },
    {
     "name": "stderr",
     "output_type": "stream",
     "text": [
      "<ipython-input-240-1ac76a73e39a>:11: RuntimeWarning: invalid value encountered in double_scalars\n",
      "  coskew = (res_i*np.power(res_m,2)).mean() / ( np.sqrt( np.power(res_i,2).mean() ) *  np.power(res_m,2).mean())\n",
      "<ipython-input-240-1ac76a73e39a>:11: RuntimeWarning: invalid value encountered in double_scalars\n",
      "  coskew = (res_i*np.power(res_m,2)).mean() / ( np.sqrt( np.power(res_i,2).mean() ) *  np.power(res_m,2).mean())\n"
     ]
    },
    {
     "name": "stdout",
     "output_type": "stream",
     "text": [
      "000430.SZ\n",
      "000488.SZ\n"
     ]
    },
    {
     "name": "stderr",
     "output_type": "stream",
     "text": [
      "<ipython-input-240-1ac76a73e39a>:11: RuntimeWarning: invalid value encountered in double_scalars\n",
      "  coskew = (res_i*np.power(res_m,2)).mean() / ( np.sqrt( np.power(res_i,2).mean() ) *  np.power(res_m,2).mean())\n"
     ]
    },
    {
     "name": "stdout",
     "output_type": "stream",
     "text": [
      "000498.SZ\n",
      "000501.SZ\n"
     ]
    },
    {
     "name": "stderr",
     "output_type": "stream",
     "text": [
      "<ipython-input-240-1ac76a73e39a>:11: RuntimeWarning: invalid value encountered in double_scalars\n",
      "  coskew = (res_i*np.power(res_m,2)).mean() / ( np.sqrt( np.power(res_i,2).mean() ) *  np.power(res_m,2).mean())\n",
      "<ipython-input-240-1ac76a73e39a>:11: RuntimeWarning: invalid value encountered in double_scalars\n",
      "  coskew = (res_i*np.power(res_m,2)).mean() / ( np.sqrt( np.power(res_i,2).mean() ) *  np.power(res_m,2).mean())\n"
     ]
    },
    {
     "name": "stdout",
     "output_type": "stream",
     "text": [
      "000502.SZ\n"
     ]
    },
    {
     "name": "stderr",
     "output_type": "stream",
     "text": [
      "<ipython-input-240-1ac76a73e39a>:11: RuntimeWarning: invalid value encountered in double_scalars\n",
      "  coskew = (res_i*np.power(res_m,2)).mean() / ( np.sqrt( np.power(res_i,2).mean() ) *  np.power(res_m,2).mean())\n"
     ]
    },
    {
     "name": "stdout",
     "output_type": "stream",
     "text": [
      "000503.SZ\n",
      "000504.SZ\n",
      "000505.SZ\n"
     ]
    },
    {
     "name": "stderr",
     "output_type": "stream",
     "text": [
      "<ipython-input-240-1ac76a73e39a>:11: RuntimeWarning: invalid value encountered in double_scalars\n",
      "  coskew = (res_i*np.power(res_m,2)).mean() / ( np.sqrt( np.power(res_i,2).mean() ) *  np.power(res_m,2).mean())\n"
     ]
    },
    {
     "name": "stdout",
     "output_type": "stream",
     "text": [
      "000506.SZ\n",
      "000507.SZ\n"
     ]
    },
    {
     "name": "stderr",
     "output_type": "stream",
     "text": [
      "<ipython-input-240-1ac76a73e39a>:11: RuntimeWarning: invalid value encountered in double_scalars\n",
      "  coskew = (res_i*np.power(res_m,2)).mean() / ( np.sqrt( np.power(res_i,2).mean() ) *  np.power(res_m,2).mean())\n",
      "<ipython-input-240-1ac76a73e39a>:11: RuntimeWarning: invalid value encountered in double_scalars\n",
      "  coskew = (res_i*np.power(res_m,2)).mean() / ( np.sqrt( np.power(res_i,2).mean() ) *  np.power(res_m,2).mean())\n"
     ]
    },
    {
     "name": "stdout",
     "output_type": "stream",
     "text": [
      "000509.SZ\n",
      "000510.SZ\n",
      "000511.SZ\n",
      "000513.SZ\n",
      "000514.SZ\n"
     ]
    },
    {
     "name": "stderr",
     "output_type": "stream",
     "text": [
      "<ipython-input-240-1ac76a73e39a>:11: RuntimeWarning: invalid value encountered in double_scalars\n",
      "  coskew = (res_i*np.power(res_m,2)).mean() / ( np.sqrt( np.power(res_i,2).mean() ) *  np.power(res_m,2).mean())\n",
      "<ipython-input-240-1ac76a73e39a>:11: RuntimeWarning: invalid value encountered in double_scalars\n",
      "  coskew = (res_i*np.power(res_m,2)).mean() / ( np.sqrt( np.power(res_i,2).mean() ) *  np.power(res_m,2).mean())\n"
     ]
    },
    {
     "name": "stdout",
     "output_type": "stream",
     "text": [
      "000515.SZ\n",
      "000516.SZ\n",
      "000517.SZ\n"
     ]
    },
    {
     "name": "stderr",
     "output_type": "stream",
     "text": [
      "<ipython-input-240-1ac76a73e39a>:11: RuntimeWarning: invalid value encountered in double_scalars\n",
      "  coskew = (res_i*np.power(res_m,2)).mean() / ( np.sqrt( np.power(res_i,2).mean() ) *  np.power(res_m,2).mean())\n",
      "<ipython-input-240-1ac76a73e39a>:11: RuntimeWarning: invalid value encountered in double_scalars\n",
      "  coskew = (res_i*np.power(res_m,2)).mean() / ( np.sqrt( np.power(res_i,2).mean() ) *  np.power(res_m,2).mean())\n"
     ]
    },
    {
     "name": "stdout",
     "output_type": "stream",
     "text": [
      "000518.SZ\n"
     ]
    },
    {
     "name": "stderr",
     "output_type": "stream",
     "text": [
      "<ipython-input-240-1ac76a73e39a>:11: RuntimeWarning: invalid value encountered in double_scalars\n",
      "  coskew = (res_i*np.power(res_m,2)).mean() / ( np.sqrt( np.power(res_i,2).mean() ) *  np.power(res_m,2).mean())\n"
     ]
    },
    {
     "name": "stdout",
     "output_type": "stream",
     "text": [
      "000519.SZ\n",
      "000520.SZ\n",
      "000521.SZ\n",
      "000522.SZ\n"
     ]
    },
    {
     "name": "stderr",
     "output_type": "stream",
     "text": [
      "<ipython-input-240-1ac76a73e39a>:11: RuntimeWarning: invalid value encountered in double_scalars\n",
      "  coskew = (res_i*np.power(res_m,2)).mean() / ( np.sqrt( np.power(res_i,2).mean() ) *  np.power(res_m,2).mean())\n"
     ]
    },
    {
     "name": "stdout",
     "output_type": "stream",
     "text": [
      "000523.SZ\n"
     ]
    },
    {
     "name": "stderr",
     "output_type": "stream",
     "text": [
      "<ipython-input-240-1ac76a73e39a>:11: RuntimeWarning: invalid value encountered in double_scalars\n",
      "  coskew = (res_i*np.power(res_m,2)).mean() / ( np.sqrt( np.power(res_i,2).mean() ) *  np.power(res_m,2).mean())\n"
     ]
    },
    {
     "name": "stdout",
     "output_type": "stream",
     "text": [
      "000524.SZ\n",
      "000525.SZ\n",
      "000526.SZ\n",
      "000527.SZ\n",
      "000528.SZ\n",
      "000529.SZ\n",
      "000530.SZ\n",
      "000531.SZ\n",
      "000532.SZ\n",
      "000533.SZ\n",
      "000534.SZ\n",
      "000535.SZ\n"
     ]
    },
    {
     "name": "stderr",
     "output_type": "stream",
     "text": [
      "<ipython-input-240-1ac76a73e39a>:11: RuntimeWarning: invalid value encountered in double_scalars\n",
      "  coskew = (res_i*np.power(res_m,2)).mean() / ( np.sqrt( np.power(res_i,2).mean() ) *  np.power(res_m,2).mean())\n",
      "<ipython-input-240-1ac76a73e39a>:11: RuntimeWarning: invalid value encountered in double_scalars\n",
      "  coskew = (res_i*np.power(res_m,2)).mean() / ( np.sqrt( np.power(res_i,2).mean() ) *  np.power(res_m,2).mean())\n"
     ]
    },
    {
     "name": "stdout",
     "output_type": "stream",
     "text": [
      "000536.SZ\n",
      "000537.SZ\n"
     ]
    },
    {
     "name": "stderr",
     "output_type": "stream",
     "text": [
      "<ipython-input-240-1ac76a73e39a>:11: RuntimeWarning: invalid value encountered in double_scalars\n",
      "  coskew = (res_i*np.power(res_m,2)).mean() / ( np.sqrt( np.power(res_i,2).mean() ) *  np.power(res_m,2).mean())\n"
     ]
    },
    {
     "name": "stdout",
     "output_type": "stream",
     "text": [
      "000538.SZ\n",
      "000539.SZ\n",
      "000540.SZ\n",
      "000541.SZ\n",
      "000542.SZ\n"
     ]
    },
    {
     "name": "stderr",
     "output_type": "stream",
     "text": [
      "<ipython-input-240-1ac76a73e39a>:11: RuntimeWarning: invalid value encountered in double_scalars\n",
      "  coskew = (res_i*np.power(res_m,2)).mean() / ( np.sqrt( np.power(res_i,2).mean() ) *  np.power(res_m,2).mean())\n"
     ]
    },
    {
     "name": "stdout",
     "output_type": "stream",
     "text": [
      "000543.SZ\n",
      "000544.SZ\n"
     ]
    },
    {
     "name": "stderr",
     "output_type": "stream",
     "text": [
      "<ipython-input-240-1ac76a73e39a>:11: RuntimeWarning: invalid value encountered in double_scalars\n",
      "  coskew = (res_i*np.power(res_m,2)).mean() / ( np.sqrt( np.power(res_i,2).mean() ) *  np.power(res_m,2).mean())\n",
      "<ipython-input-240-1ac76a73e39a>:11: RuntimeWarning: invalid value encountered in double_scalars\n",
      "  coskew = (res_i*np.power(res_m,2)).mean() / ( np.sqrt( np.power(res_i,2).mean() ) *  np.power(res_m,2).mean())\n"
     ]
    },
    {
     "name": "stdout",
     "output_type": "stream",
     "text": [
      "000545.SZ\n",
      "000546.SZ\n",
      "000547.SZ\n",
      "000548.SZ\n",
      "000549.SZ\n",
      "000550.SZ\n",
      "000551.SZ\n",
      "000552.SZ\n",
      "000553.SZ\n",
      "000554.SZ\n",
      "000555.SZ\n",
      "000556.SZ\n",
      "000557.SZ\n",
      "000558.SZ\n",
      "000559.SZ\n"
     ]
    },
    {
     "name": "stderr",
     "output_type": "stream",
     "text": [
      "<ipython-input-240-1ac76a73e39a>:11: RuntimeWarning: invalid value encountered in double_scalars\n",
      "  coskew = (res_i*np.power(res_m,2)).mean() / ( np.sqrt( np.power(res_i,2).mean() ) *  np.power(res_m,2).mean())\n",
      "<ipython-input-240-1ac76a73e39a>:11: RuntimeWarning: invalid value encountered in double_scalars\n",
      "  coskew = (res_i*np.power(res_m,2)).mean() / ( np.sqrt( np.power(res_i,2).mean() ) *  np.power(res_m,2).mean())\n",
      "<ipython-input-240-1ac76a73e39a>:11: RuntimeWarning: invalid value encountered in double_scalars\n",
      "  coskew = (res_i*np.power(res_m,2)).mean() / ( np.sqrt( np.power(res_i,2).mean() ) *  np.power(res_m,2).mean())\n",
      "<ipython-input-240-1ac76a73e39a>:11: RuntimeWarning: invalid value encountered in double_scalars\n",
      "  coskew = (res_i*np.power(res_m,2)).mean() / ( np.sqrt( np.power(res_i,2).mean() ) *  np.power(res_m,2).mean())\n"
     ]
    },
    {
     "name": "stdout",
     "output_type": "stream",
     "text": [
      "000560.SZ\n",
      "000561.SZ\n",
      "000562.SZ\n",
      "000563.SZ\n",
      "000564.SZ\n",
      "000565.SZ\n",
      "000566.SZ\n",
      "000567.SZ\n",
      "000568.SZ\n",
      "000569.SZ\n",
      "000570.SZ\n",
      "000571.SZ\n",
      "000572.SZ\n",
      "000573.SZ\n",
      "000576.SZ\n",
      "000578.SZ\n",
      "000581.SZ\n",
      "000582.SZ\n",
      "000583.SZ\n"
     ]
    },
    {
     "name": "stderr",
     "output_type": "stream",
     "text": [
      "<ipython-input-240-1ac76a73e39a>:11: RuntimeWarning: invalid value encountered in double_scalars\n",
      "  coskew = (res_i*np.power(res_m,2)).mean() / ( np.sqrt( np.power(res_i,2).mean() ) *  np.power(res_m,2).mean())\n"
     ]
    },
    {
     "name": "stdout",
     "output_type": "stream",
     "text": [
      "000584.SZ\n",
      "000585.SZ\n",
      "000586.SZ\n"
     ]
    },
    {
     "name": "stderr",
     "output_type": "stream",
     "text": [
      "<ipython-input-240-1ac76a73e39a>:11: RuntimeWarning: invalid value encountered in double_scalars\n",
      "  coskew = (res_i*np.power(res_m,2)).mean() / ( np.sqrt( np.power(res_i,2).mean() ) *  np.power(res_m,2).mean())\n",
      "<ipython-input-240-1ac76a73e39a>:11: RuntimeWarning: invalid value encountered in double_scalars\n",
      "  coskew = (res_i*np.power(res_m,2)).mean() / ( np.sqrt( np.power(res_i,2).mean() ) *  np.power(res_m,2).mean())\n"
     ]
    },
    {
     "name": "stdout",
     "output_type": "stream",
     "text": [
      "000587.SZ\n",
      "000588.SZ\n"
     ]
    },
    {
     "name": "stderr",
     "output_type": "stream",
     "text": [
      "<ipython-input-240-1ac76a73e39a>:11: RuntimeWarning: invalid value encountered in double_scalars\n",
      "  coskew = (res_i*np.power(res_m,2)).mean() / ( np.sqrt( np.power(res_i,2).mean() ) *  np.power(res_m,2).mean())\n"
     ]
    },
    {
     "name": "stdout",
     "output_type": "stream",
     "text": [
      "000589.SZ\n"
     ]
    },
    {
     "name": "stderr",
     "output_type": "stream",
     "text": [
      "<ipython-input-240-1ac76a73e39a>:11: RuntimeWarning: invalid value encountered in double_scalars\n",
      "  coskew = (res_i*np.power(res_m,2)).mean() / ( np.sqrt( np.power(res_i,2).mean() ) *  np.power(res_m,2).mean())\n",
      "<ipython-input-240-1ac76a73e39a>:11: RuntimeWarning: invalid value encountered in double_scalars\n",
      "  coskew = (res_i*np.power(res_m,2)).mean() / ( np.sqrt( np.power(res_i,2).mean() ) *  np.power(res_m,2).mean())\n"
     ]
    },
    {
     "name": "stdout",
     "output_type": "stream",
     "text": [
      "000590.SZ\n",
      "000591.SZ\n",
      "000592.SZ\n",
      "000593.SZ\n"
     ]
    },
    {
     "name": "stderr",
     "output_type": "stream",
     "text": [
      "<ipython-input-240-1ac76a73e39a>:11: RuntimeWarning: invalid value encountered in double_scalars\n",
      "  coskew = (res_i*np.power(res_m,2)).mean() / ( np.sqrt( np.power(res_i,2).mean() ) *  np.power(res_m,2).mean())\n"
     ]
    },
    {
     "name": "stdout",
     "output_type": "stream",
     "text": [
      "000594.SZ\n",
      "000595.SZ\n",
      "000596.SZ\n",
      "000597.SZ\n",
      "000598.SZ\n"
     ]
    },
    {
     "name": "stderr",
     "output_type": "stream",
     "text": [
      "<ipython-input-240-1ac76a73e39a>:11: RuntimeWarning: invalid value encountered in double_scalars\n",
      "  coskew = (res_i*np.power(res_m,2)).mean() / ( np.sqrt( np.power(res_i,2).mean() ) *  np.power(res_m,2).mean())\n"
     ]
    },
    {
     "name": "stdout",
     "output_type": "stream",
     "text": [
      "000599.SZ\n",
      "000600.SZ\n",
      "000601.SZ\n",
      "000602.SZ\n",
      "000603.SZ\n"
     ]
    },
    {
     "name": "stderr",
     "output_type": "stream",
     "text": [
      "<ipython-input-240-1ac76a73e39a>:11: RuntimeWarning: invalid value encountered in double_scalars\n",
      "  coskew = (res_i*np.power(res_m,2)).mean() / ( np.sqrt( np.power(res_i,2).mean() ) *  np.power(res_m,2).mean())\n"
     ]
    },
    {
     "name": "stdout",
     "output_type": "stream",
     "text": [
      "000605.SZ\n"
     ]
    },
    {
     "name": "stderr",
     "output_type": "stream",
     "text": [
      "<ipython-input-240-1ac76a73e39a>:11: RuntimeWarning: invalid value encountered in double_scalars\n",
      "  coskew = (res_i*np.power(res_m,2)).mean() / ( np.sqrt( np.power(res_i,2).mean() ) *  np.power(res_m,2).mean())\n"
     ]
    },
    {
     "name": "stdout",
     "output_type": "stream",
     "text": [
      "000606.SZ\n",
      "000607.SZ\n",
      "000608.SZ\n"
     ]
    },
    {
     "name": "stderr",
     "output_type": "stream",
     "text": [
      "<ipython-input-240-1ac76a73e39a>:11: RuntimeWarning: invalid value encountered in double_scalars\n",
      "  coskew = (res_i*np.power(res_m,2)).mean() / ( np.sqrt( np.power(res_i,2).mean() ) *  np.power(res_m,2).mean())\n"
     ]
    },
    {
     "name": "stdout",
     "output_type": "stream",
     "text": [
      "000609.SZ\n",
      "000610.SZ\n"
     ]
    },
    {
     "name": "stderr",
     "output_type": "stream",
     "text": [
      "<ipython-input-240-1ac76a73e39a>:11: RuntimeWarning: invalid value encountered in double_scalars\n",
      "  coskew = (res_i*np.power(res_m,2)).mean() / ( np.sqrt( np.power(res_i,2).mean() ) *  np.power(res_m,2).mean())\n"
     ]
    },
    {
     "name": "stdout",
     "output_type": "stream",
     "text": [
      "000611.SZ\n",
      "000612.SZ\n"
     ]
    },
    {
     "name": "stderr",
     "output_type": "stream",
     "text": [
      "<ipython-input-240-1ac76a73e39a>:11: RuntimeWarning: invalid value encountered in double_scalars\n",
      "  coskew = (res_i*np.power(res_m,2)).mean() / ( np.sqrt( np.power(res_i,2).mean() ) *  np.power(res_m,2).mean())\n",
      "<ipython-input-240-1ac76a73e39a>:11: RuntimeWarning: invalid value encountered in double_scalars\n",
      "  coskew = (res_i*np.power(res_m,2)).mean() / ( np.sqrt( np.power(res_i,2).mean() ) *  np.power(res_m,2).mean())\n",
      "<ipython-input-240-1ac76a73e39a>:11: RuntimeWarning: invalid value encountered in double_scalars\n",
      "  coskew = (res_i*np.power(res_m,2)).mean() / ( np.sqrt( np.power(res_i,2).mean() ) *  np.power(res_m,2).mean())\n"
     ]
    },
    {
     "name": "stdout",
     "output_type": "stream",
     "text": [
      "000613.SZ\n",
      "000615.SZ\n",
      "000616.SZ\n",
      "000617.SZ\n",
      "000618.SZ\n",
      "000619.SZ\n",
      "000620.SZ\n",
      "000621.SZ\n",
      "000622.SZ\n",
      "000623.SZ\n",
      "000625.SZ\n",
      "000626.SZ\n",
      "000627.SZ\n"
     ]
    },
    {
     "name": "stderr",
     "output_type": "stream",
     "text": [
      "<ipython-input-240-1ac76a73e39a>:11: RuntimeWarning: invalid value encountered in double_scalars\n",
      "  coskew = (res_i*np.power(res_m,2)).mean() / ( np.sqrt( np.power(res_i,2).mean() ) *  np.power(res_m,2).mean())\n",
      "<ipython-input-240-1ac76a73e39a>:11: RuntimeWarning: invalid value encountered in double_scalars\n",
      "  coskew = (res_i*np.power(res_m,2)).mean() / ( np.sqrt( np.power(res_i,2).mean() ) *  np.power(res_m,2).mean())\n",
      "<ipython-input-240-1ac76a73e39a>:11: RuntimeWarning: invalid value encountered in double_scalars\n",
      "  coskew = (res_i*np.power(res_m,2)).mean() / ( np.sqrt( np.power(res_i,2).mean() ) *  np.power(res_m,2).mean())\n",
      "<ipython-input-240-1ac76a73e39a>:11: RuntimeWarning: invalid value encountered in double_scalars\n",
      "  coskew = (res_i*np.power(res_m,2)).mean() / ( np.sqrt( np.power(res_i,2).mean() ) *  np.power(res_m,2).mean())\n"
     ]
    },
    {
     "name": "stdout",
     "output_type": "stream",
     "text": [
      "000628.SZ\n"
     ]
    },
    {
     "name": "stderr",
     "output_type": "stream",
     "text": [
      "<ipython-input-240-1ac76a73e39a>:11: RuntimeWarning: invalid value encountered in double_scalars\n",
      "  coskew = (res_i*np.power(res_m,2)).mean() / ( np.sqrt( np.power(res_i,2).mean() ) *  np.power(res_m,2).mean())\n"
     ]
    },
    {
     "name": "stdout",
     "output_type": "stream",
     "text": [
      "000629.SZ\n",
      "000630.SZ\n",
      "000631.SZ\n",
      "000632.SZ\n"
     ]
    },
    {
     "name": "stderr",
     "output_type": "stream",
     "text": [
      "<ipython-input-240-1ac76a73e39a>:11: RuntimeWarning: invalid value encountered in double_scalars\n",
      "  coskew = (res_i*np.power(res_m,2)).mean() / ( np.sqrt( np.power(res_i,2).mean() ) *  np.power(res_m,2).mean())\n",
      "<ipython-input-240-1ac76a73e39a>:11: RuntimeWarning: invalid value encountered in double_scalars\n",
      "  coskew = (res_i*np.power(res_m,2)).mean() / ( np.sqrt( np.power(res_i,2).mean() ) *  np.power(res_m,2).mean())\n"
     ]
    },
    {
     "name": "stdout",
     "output_type": "stream",
     "text": [
      "000633.SZ\n"
     ]
    },
    {
     "name": "stderr",
     "output_type": "stream",
     "text": [
      "<ipython-input-240-1ac76a73e39a>:11: RuntimeWarning: invalid value encountered in double_scalars\n",
      "  coskew = (res_i*np.power(res_m,2)).mean() / ( np.sqrt( np.power(res_i,2).mean() ) *  np.power(res_m,2).mean())\n"
     ]
    },
    {
     "name": "stdout",
     "output_type": "stream",
     "text": [
      "000635.SZ\n",
      "000636.SZ\n",
      "000637.SZ\n"
     ]
    },
    {
     "name": "stderr",
     "output_type": "stream",
     "text": [
      "<ipython-input-240-1ac76a73e39a>:11: RuntimeWarning: invalid value encountered in double_scalars\n",
      "  coskew = (res_i*np.power(res_m,2)).mean() / ( np.sqrt( np.power(res_i,2).mean() ) *  np.power(res_m,2).mean())\n"
     ]
    },
    {
     "name": "stdout",
     "output_type": "stream",
     "text": [
      "000638.SZ\n",
      "000639.SZ\n",
      "000650.SZ\n",
      "000651.SZ\n",
      "000652.SZ\n",
      "000653.SZ\n",
      "000655.SZ\n",
      "000656.SZ\n",
      "000657.SZ\n",
      "000658.SZ\n",
      "000659.SZ\n",
      "000660.SZ\n",
      "000661.SZ\n",
      "000662.SZ\n",
      "000663.SZ\n",
      "000665.SZ\n",
      "000666.SZ\n",
      "000667.SZ\n"
     ]
    },
    {
     "name": "stderr",
     "output_type": "stream",
     "text": [
      "<ipython-input-240-1ac76a73e39a>:11: RuntimeWarning: invalid value encountered in double_scalars\n",
      "  coskew = (res_i*np.power(res_m,2)).mean() / ( np.sqrt( np.power(res_i,2).mean() ) *  np.power(res_m,2).mean())\n"
     ]
    },
    {
     "name": "stdout",
     "output_type": "stream",
     "text": [
      "000668.SZ\n",
      "000669.SZ\n",
      "000670.SZ\n",
      "000671.SZ\n"
     ]
    },
    {
     "name": "stderr",
     "output_type": "stream",
     "text": [
      "<ipython-input-240-1ac76a73e39a>:11: RuntimeWarning: invalid value encountered in double_scalars\n",
      "  coskew = (res_i*np.power(res_m,2)).mean() / ( np.sqrt( np.power(res_i,2).mean() ) *  np.power(res_m,2).mean())\n",
      "<ipython-input-240-1ac76a73e39a>:11: RuntimeWarning: invalid value encountered in double_scalars\n",
      "  coskew = (res_i*np.power(res_m,2)).mean() / ( np.sqrt( np.power(res_i,2).mean() ) *  np.power(res_m,2).mean())\n"
     ]
    },
    {
     "name": "stdout",
     "output_type": "stream",
     "text": [
      "000672.SZ\n",
      "000673.SZ\n",
      "000675.SZ\n"
     ]
    },
    {
     "name": "stderr",
     "output_type": "stream",
     "text": [
      "<ipython-input-240-1ac76a73e39a>:11: RuntimeWarning: invalid value encountered in double_scalars\n",
      "  coskew = (res_i*np.power(res_m,2)).mean() / ( np.sqrt( np.power(res_i,2).mean() ) *  np.power(res_m,2).mean())\n"
     ]
    },
    {
     "name": "stdout",
     "output_type": "stream",
     "text": [
      "000676.SZ\n"
     ]
    },
    {
     "name": "stderr",
     "output_type": "stream",
     "text": [
      "<ipython-input-240-1ac76a73e39a>:11: RuntimeWarning: invalid value encountered in double_scalars\n",
      "  coskew = (res_i*np.power(res_m,2)).mean() / ( np.sqrt( np.power(res_i,2).mean() ) *  np.power(res_m,2).mean())\n"
     ]
    },
    {
     "name": "stdout",
     "output_type": "stream",
     "text": [
      "000677.SZ\n"
     ]
    },
    {
     "name": "stderr",
     "output_type": "stream",
     "text": [
      "<ipython-input-240-1ac76a73e39a>:11: RuntimeWarning: invalid value encountered in double_scalars\n",
      "  coskew = (res_i*np.power(res_m,2)).mean() / ( np.sqrt( np.power(res_i,2).mean() ) *  np.power(res_m,2).mean())\n"
     ]
    },
    {
     "name": "stdout",
     "output_type": "stream",
     "text": [
      "000678.SZ\n",
      "000679.SZ\n",
      "000680.SZ\n"
     ]
    },
    {
     "name": "stderr",
     "output_type": "stream",
     "text": [
      "<ipython-input-240-1ac76a73e39a>:11: RuntimeWarning: invalid value encountered in double_scalars\n",
      "  coskew = (res_i*np.power(res_m,2)).mean() / ( np.sqrt( np.power(res_i,2).mean() ) *  np.power(res_m,2).mean())\n",
      "<ipython-input-240-1ac76a73e39a>:11: RuntimeWarning: invalid value encountered in double_scalars\n",
      "  coskew = (res_i*np.power(res_m,2)).mean() / ( np.sqrt( np.power(res_i,2).mean() ) *  np.power(res_m,2).mean())\n"
     ]
    },
    {
     "name": "stdout",
     "output_type": "stream",
     "text": [
      "000681.SZ\n",
      "000682.SZ\n",
      "000683.SZ\n",
      "000685.SZ\n",
      "000686.SZ\n",
      "000687.SZ\n"
     ]
    },
    {
     "name": "stderr",
     "output_type": "stream",
     "text": [
      "<ipython-input-240-1ac76a73e39a>:11: RuntimeWarning: invalid value encountered in double_scalars\n",
      "  coskew = (res_i*np.power(res_m,2)).mean() / ( np.sqrt( np.power(res_i,2).mean() ) *  np.power(res_m,2).mean())\n"
     ]
    },
    {
     "name": "stdout",
     "output_type": "stream",
     "text": [
      "000688.SZ\n",
      "000689.SZ\n",
      "000690.SZ\n",
      "000691.SZ\n",
      "000692.SZ\n",
      "000693.SZ\n",
      "000695.SZ\n"
     ]
    },
    {
     "name": "stderr",
     "output_type": "stream",
     "text": [
      "<ipython-input-240-1ac76a73e39a>:11: RuntimeWarning: invalid value encountered in double_scalars\n",
      "  coskew = (res_i*np.power(res_m,2)).mean() / ( np.sqrt( np.power(res_i,2).mean() ) *  np.power(res_m,2).mean())\n"
     ]
    },
    {
     "name": "stdout",
     "output_type": "stream",
     "text": [
      "000697.SZ\n"
     ]
    },
    {
     "name": "stderr",
     "output_type": "stream",
     "text": [
      "<ipython-input-240-1ac76a73e39a>:11: RuntimeWarning: invalid value encountered in double_scalars\n",
      "  coskew = (res_i*np.power(res_m,2)).mean() / ( np.sqrt( np.power(res_i,2).mean() ) *  np.power(res_m,2).mean())\n"
     ]
    },
    {
     "name": "stdout",
     "output_type": "stream",
     "text": [
      "000698.SZ\n",
      "000699.SZ\n",
      "000700.SZ\n",
      "000701.SZ\n",
      "000702.SZ\n",
      "000703.SZ\n",
      "000705.SZ\n",
      "000707.SZ\n",
      "000708.SZ\n",
      "000709.SZ\n",
      "000710.SZ\n",
      "000711.SZ\n",
      "000712.SZ\n"
     ]
    },
    {
     "name": "stderr",
     "output_type": "stream",
     "text": [
      "<ipython-input-240-1ac76a73e39a>:11: RuntimeWarning: invalid value encountered in double_scalars\n",
      "  coskew = (res_i*np.power(res_m,2)).mean() / ( np.sqrt( np.power(res_i,2).mean() ) *  np.power(res_m,2).mean())\n"
     ]
    },
    {
     "name": "stdout",
     "output_type": "stream",
     "text": [
      "000713.SZ\n"
     ]
    },
    {
     "name": "stderr",
     "output_type": "stream",
     "text": [
      "<ipython-input-240-1ac76a73e39a>:11: RuntimeWarning: invalid value encountered in double_scalars\n",
      "  coskew = (res_i*np.power(res_m,2)).mean() / ( np.sqrt( np.power(res_i,2).mean() ) *  np.power(res_m,2).mean())\n"
     ]
    },
    {
     "name": "stdout",
     "output_type": "stream",
     "text": [
      "000715.SZ\n",
      "000716.SZ\n",
      "000717.SZ\n",
      "000718.SZ\n",
      "000719.SZ\n",
      "000720.SZ\n"
     ]
    },
    {
     "name": "stderr",
     "output_type": "stream",
     "text": [
      "<ipython-input-240-1ac76a73e39a>:11: RuntimeWarning: invalid value encountered in double_scalars\n",
      "  coskew = (res_i*np.power(res_m,2)).mean() / ( np.sqrt( np.power(res_i,2).mean() ) *  np.power(res_m,2).mean())\n"
     ]
    },
    {
     "name": "stdout",
     "output_type": "stream",
     "text": [
      "000721.SZ\n"
     ]
    },
    {
     "name": "stderr",
     "output_type": "stream",
     "text": [
      "<ipython-input-240-1ac76a73e39a>:11: RuntimeWarning: invalid value encountered in double_scalars\n",
      "  coskew = (res_i*np.power(res_m,2)).mean() / ( np.sqrt( np.power(res_i,2).mean() ) *  np.power(res_m,2).mean())\n",
      "<ipython-input-240-1ac76a73e39a>:11: RuntimeWarning: invalid value encountered in double_scalars\n",
      "  coskew = (res_i*np.power(res_m,2)).mean() / ( np.sqrt( np.power(res_i,2).mean() ) *  np.power(res_m,2).mean())\n"
     ]
    },
    {
     "name": "stdout",
     "output_type": "stream",
     "text": [
      "000722.SZ\n"
     ]
    },
    {
     "name": "stderr",
     "output_type": "stream",
     "text": [
      "<ipython-input-240-1ac76a73e39a>:11: RuntimeWarning: invalid value encountered in double_scalars\n",
      "  coskew = (res_i*np.power(res_m,2)).mean() / ( np.sqrt( np.power(res_i,2).mean() ) *  np.power(res_m,2).mean())\n"
     ]
    },
    {
     "name": "stdout",
     "output_type": "stream",
     "text": [
      "000723.SZ\n",
      "000725.SZ\n",
      "000726.SZ\n",
      "000727.SZ\n",
      "000728.SZ\n",
      "000729.SZ\n",
      "000730.SZ\n",
      "000731.SZ\n"
     ]
    },
    {
     "name": "stderr",
     "output_type": "stream",
     "text": [
      "<ipython-input-240-1ac76a73e39a>:11: RuntimeWarning: invalid value encountered in double_scalars\n",
      "  coskew = (res_i*np.power(res_m,2)).mean() / ( np.sqrt( np.power(res_i,2).mean() ) *  np.power(res_m,2).mean())\n"
     ]
    },
    {
     "name": "stdout",
     "output_type": "stream",
     "text": [
      "000732.SZ\n",
      "000733.SZ\n",
      "000735.SZ\n",
      "000736.SZ\n",
      "000737.SZ\n",
      "000738.SZ\n",
      "000739.SZ\n"
     ]
    },
    {
     "name": "stderr",
     "output_type": "stream",
     "text": [
      "<ipython-input-240-1ac76a73e39a>:11: RuntimeWarning: invalid value encountered in double_scalars\n",
      "  coskew = (res_i*np.power(res_m,2)).mean() / ( np.sqrt( np.power(res_i,2).mean() ) *  np.power(res_m,2).mean())\n"
     ]
    },
    {
     "name": "stdout",
     "output_type": "stream",
     "text": [
      "000748.SZ\n",
      "000750.SZ\n",
      "000751.SZ\n",
      "000752.SZ\n",
      "000753.SZ\n",
      "000755.SZ\n",
      "000756.SZ\n",
      "000757.SZ\n",
      "000758.SZ\n"
     ]
    },
    {
     "name": "stderr",
     "output_type": "stream",
     "text": [
      "<ipython-input-240-1ac76a73e39a>:11: RuntimeWarning: invalid value encountered in double_scalars\n",
      "  coskew = (res_i*np.power(res_m,2)).mean() / ( np.sqrt( np.power(res_i,2).mean() ) *  np.power(res_m,2).mean())\n"
     ]
    },
    {
     "name": "stdout",
     "output_type": "stream",
     "text": [
      "000759.SZ\n",
      "000760.SZ\n",
      "000761.SZ\n"
     ]
    },
    {
     "name": "stderr",
     "output_type": "stream",
     "text": [
      "<ipython-input-240-1ac76a73e39a>:11: RuntimeWarning: invalid value encountered in double_scalars\n",
      "  coskew = (res_i*np.power(res_m,2)).mean() / ( np.sqrt( np.power(res_i,2).mean() ) *  np.power(res_m,2).mean())\n"
     ]
    },
    {
     "name": "stdout",
     "output_type": "stream",
     "text": [
      "000762.SZ\n",
      "000763.SZ\n",
      "000765.SZ\n",
      "000766.SZ\n",
      "000767.SZ\n",
      "000768.SZ\n",
      "000769.SZ\n",
      "000776.SZ\n",
      "000777.SZ\n",
      "000778.SZ\n",
      "000779.SZ\n",
      "000780.SZ\n",
      "000782.SZ\n",
      "000783.SZ\n"
     ]
    },
    {
     "name": "stderr",
     "output_type": "stream",
     "text": [
      "<ipython-input-240-1ac76a73e39a>:11: RuntimeWarning: invalid value encountered in double_scalars\n",
      "  coskew = (res_i*np.power(res_m,2)).mean() / ( np.sqrt( np.power(res_i,2).mean() ) *  np.power(res_m,2).mean())\n",
      "<ipython-input-240-1ac76a73e39a>:11: RuntimeWarning: invalid value encountered in double_scalars\n",
      "  coskew = (res_i*np.power(res_m,2)).mean() / ( np.sqrt( np.power(res_i,2).mean() ) *  np.power(res_m,2).mean())\n"
     ]
    },
    {
     "name": "stdout",
     "output_type": "stream",
     "text": [
      "000785.SZ\n",
      "000786.SZ\n",
      "000787.SZ\n",
      "000788.SZ\n",
      "000789.SZ\n",
      "000790.SZ\n",
      "000791.SZ\n"
     ]
    },
    {
     "name": "stderr",
     "output_type": "stream",
     "text": [
      "<ipython-input-240-1ac76a73e39a>:11: RuntimeWarning: invalid value encountered in double_scalars\n",
      "  coskew = (res_i*np.power(res_m,2)).mean() / ( np.sqrt( np.power(res_i,2).mean() ) *  np.power(res_m,2).mean())\n"
     ]
    },
    {
     "name": "stdout",
     "output_type": "stream",
     "text": [
      "000792.SZ\n"
     ]
    },
    {
     "name": "stderr",
     "output_type": "stream",
     "text": [
      "<ipython-input-240-1ac76a73e39a>:11: RuntimeWarning: invalid value encountered in double_scalars\n",
      "  coskew = (res_i*np.power(res_m,2)).mean() / ( np.sqrt( np.power(res_i,2).mean() ) *  np.power(res_m,2).mean())\n",
      "<ipython-input-240-1ac76a73e39a>:11: RuntimeWarning: invalid value encountered in double_scalars\n",
      "  coskew = (res_i*np.power(res_m,2)).mean() / ( np.sqrt( np.power(res_i,2).mean() ) *  np.power(res_m,2).mean())\n",
      "<ipython-input-240-1ac76a73e39a>:11: RuntimeWarning: invalid value encountered in double_scalars\n",
      "  coskew = (res_i*np.power(res_m,2)).mean() / ( np.sqrt( np.power(res_i,2).mean() ) *  np.power(res_m,2).mean())\n"
     ]
    },
    {
     "name": "stdout",
     "output_type": "stream",
     "text": [
      "000793.SZ\n",
      "000795.SZ\n"
     ]
    },
    {
     "name": "stderr",
     "output_type": "stream",
     "text": [
      "<ipython-input-240-1ac76a73e39a>:11: RuntimeWarning: invalid value encountered in double_scalars\n",
      "  coskew = (res_i*np.power(res_m,2)).mean() / ( np.sqrt( np.power(res_i,2).mean() ) *  np.power(res_m,2).mean())\n"
     ]
    },
    {
     "name": "stdout",
     "output_type": "stream",
     "text": [
      "000796.SZ\n",
      "000797.SZ\n",
      "000798.SZ\n",
      "000799.SZ\n",
      "000800.SZ\n"
     ]
    },
    {
     "name": "stderr",
     "output_type": "stream",
     "text": [
      "<ipython-input-240-1ac76a73e39a>:11: RuntimeWarning: invalid value encountered in double_scalars\n",
      "  coskew = (res_i*np.power(res_m,2)).mean() / ( np.sqrt( np.power(res_i,2).mean() ) *  np.power(res_m,2).mean())\n",
      "<ipython-input-240-1ac76a73e39a>:11: RuntimeWarning: invalid value encountered in double_scalars\n",
      "  coskew = (res_i*np.power(res_m,2)).mean() / ( np.sqrt( np.power(res_i,2).mean() ) *  np.power(res_m,2).mean())\n"
     ]
    },
    {
     "name": "stdout",
     "output_type": "stream",
     "text": [
      "000801.SZ\n",
      "000802.SZ\n"
     ]
    },
    {
     "name": "stderr",
     "output_type": "stream",
     "text": [
      "<ipython-input-240-1ac76a73e39a>:11: RuntimeWarning: invalid value encountered in double_scalars\n",
      "  coskew = (res_i*np.power(res_m,2)).mean() / ( np.sqrt( np.power(res_i,2).mean() ) *  np.power(res_m,2).mean())\n"
     ]
    },
    {
     "name": "stdout",
     "output_type": "stream",
     "text": [
      "000803.SZ\n",
      "000805.SZ\n",
      "000806.SZ\n",
      "000807.SZ\n"
     ]
    },
    {
     "name": "stderr",
     "output_type": "stream",
     "text": [
      "<ipython-input-240-1ac76a73e39a>:11: RuntimeWarning: invalid value encountered in double_scalars\n",
      "  coskew = (res_i*np.power(res_m,2)).mean() / ( np.sqrt( np.power(res_i,2).mean() ) *  np.power(res_m,2).mean())\n",
      "<ipython-input-240-1ac76a73e39a>:11: RuntimeWarning: invalid value encountered in double_scalars\n",
      "  coskew = (res_i*np.power(res_m,2)).mean() / ( np.sqrt( np.power(res_i,2).mean() ) *  np.power(res_m,2).mean())\n"
     ]
    },
    {
     "name": "stdout",
     "output_type": "stream",
     "text": [
      "000809.SZ\n",
      "000810.SZ\n",
      "000811.SZ\n"
     ]
    },
    {
     "name": "stderr",
     "output_type": "stream",
     "text": [
      "<ipython-input-240-1ac76a73e39a>:11: RuntimeWarning: invalid value encountered in double_scalars\n",
      "  coskew = (res_i*np.power(res_m,2)).mean() / ( np.sqrt( np.power(res_i,2).mean() ) *  np.power(res_m,2).mean())\n"
     ]
    },
    {
     "name": "stdout",
     "output_type": "stream",
     "text": [
      "000812.SZ\n",
      "000813.SZ\n",
      "000815.SZ\n",
      "000816.SZ\n",
      "000817.SZ\n",
      "000818.SZ\n",
      "000819.SZ\n"
     ]
    },
    {
     "name": "stderr",
     "output_type": "stream",
     "text": [
      "<ipython-input-240-1ac76a73e39a>:11: RuntimeWarning: invalid value encountered in double_scalars\n",
      "  coskew = (res_i*np.power(res_m,2)).mean() / ( np.sqrt( np.power(res_i,2).mean() ) *  np.power(res_m,2).mean())\n",
      "<ipython-input-240-1ac76a73e39a>:11: RuntimeWarning: invalid value encountered in double_scalars\n",
      "  coskew = (res_i*np.power(res_m,2)).mean() / ( np.sqrt( np.power(res_i,2).mean() ) *  np.power(res_m,2).mean())\n"
     ]
    },
    {
     "name": "stdout",
     "output_type": "stream",
     "text": [
      "000820.SZ\n"
     ]
    },
    {
     "name": "stderr",
     "output_type": "stream",
     "text": [
      "<ipython-input-240-1ac76a73e39a>:11: RuntimeWarning: invalid value encountered in double_scalars\n",
      "  coskew = (res_i*np.power(res_m,2)).mean() / ( np.sqrt( np.power(res_i,2).mean() ) *  np.power(res_m,2).mean())\n"
     ]
    },
    {
     "name": "stdout",
     "output_type": "stream",
     "text": [
      "000821.SZ\n",
      "000822.SZ\n",
      "000823.SZ\n",
      "000825.SZ\n",
      "000826.SZ\n",
      "000827.SZ\n"
     ]
    },
    {
     "name": "stderr",
     "output_type": "stream",
     "text": [
      "<ipython-input-240-1ac76a73e39a>:11: RuntimeWarning: invalid value encountered in double_scalars\n",
      "  coskew = (res_i*np.power(res_m,2)).mean() / ( np.sqrt( np.power(res_i,2).mean() ) *  np.power(res_m,2).mean())\n",
      "<ipython-input-240-1ac76a73e39a>:11: RuntimeWarning: invalid value encountered in double_scalars\n",
      "  coskew = (res_i*np.power(res_m,2)).mean() / ( np.sqrt( np.power(res_i,2).mean() ) *  np.power(res_m,2).mean())\n"
     ]
    },
    {
     "name": "stdout",
     "output_type": "stream",
     "text": [
      "000828.SZ\n",
      "000829.SZ\n",
      "000830.SZ\n",
      "000831.SZ\n",
      "000832.SZ\n",
      "000833.SZ\n"
     ]
    },
    {
     "name": "stderr",
     "output_type": "stream",
     "text": [
      "<ipython-input-240-1ac76a73e39a>:11: RuntimeWarning: invalid value encountered in double_scalars\n",
      "  coskew = (res_i*np.power(res_m,2)).mean() / ( np.sqrt( np.power(res_i,2).mean() ) *  np.power(res_m,2).mean())\n"
     ]
    },
    {
     "name": "stdout",
     "output_type": "stream",
     "text": [
      "000835.SZ\n",
      "000836.SZ\n",
      "000837.SZ\n"
     ]
    },
    {
     "name": "stderr",
     "output_type": "stream",
     "text": [
      "<ipython-input-240-1ac76a73e39a>:11: RuntimeWarning: invalid value encountered in double_scalars\n",
      "  coskew = (res_i*np.power(res_m,2)).mean() / ( np.sqrt( np.power(res_i,2).mean() ) *  np.power(res_m,2).mean())\n",
      "<ipython-input-240-1ac76a73e39a>:11: RuntimeWarning: invalid value encountered in double_scalars\n",
      "  coskew = (res_i*np.power(res_m,2)).mean() / ( np.sqrt( np.power(res_i,2).mean() ) *  np.power(res_m,2).mean())\n"
     ]
    },
    {
     "name": "stdout",
     "output_type": "stream",
     "text": [
      "000838.SZ\n",
      "000839.SZ\n",
      "000848.SZ\n",
      "000850.SZ\n"
     ]
    },
    {
     "name": "stderr",
     "output_type": "stream",
     "text": [
      "<ipython-input-240-1ac76a73e39a>:11: RuntimeWarning: invalid value encountered in double_scalars\n",
      "  coskew = (res_i*np.power(res_m,2)).mean() / ( np.sqrt( np.power(res_i,2).mean() ) *  np.power(res_m,2).mean())\n"
     ]
    },
    {
     "name": "stdout",
     "output_type": "stream",
     "text": [
      "000851.SZ\n",
      "000852.SZ\n"
     ]
    },
    {
     "name": "stderr",
     "output_type": "stream",
     "text": [
      "<ipython-input-240-1ac76a73e39a>:11: RuntimeWarning: invalid value encountered in double_scalars\n",
      "  coskew = (res_i*np.power(res_m,2)).mean() / ( np.sqrt( np.power(res_i,2).mean() ) *  np.power(res_m,2).mean())\n"
     ]
    },
    {
     "name": "stdout",
     "output_type": "stream",
     "text": [
      "000856.SZ\n",
      "000858.SZ\n"
     ]
    },
    {
     "name": "stderr",
     "output_type": "stream",
     "text": [
      "<ipython-input-240-1ac76a73e39a>:11: RuntimeWarning: invalid value encountered in double_scalars\n",
      "  coskew = (res_i*np.power(res_m,2)).mean() / ( np.sqrt( np.power(res_i,2).mean() ) *  np.power(res_m,2).mean())\n"
     ]
    },
    {
     "name": "stdout",
     "output_type": "stream",
     "text": [
      "000859.SZ\n",
      "000860.SZ\n"
     ]
    },
    {
     "name": "stderr",
     "output_type": "stream",
     "text": [
      "<ipython-input-240-1ac76a73e39a>:11: RuntimeWarning: invalid value encountered in double_scalars\n",
      "  coskew = (res_i*np.power(res_m,2)).mean() / ( np.sqrt( np.power(res_i,2).mean() ) *  np.power(res_m,2).mean())\n"
     ]
    },
    {
     "name": "stdout",
     "output_type": "stream",
     "text": [
      "000861.SZ\n",
      "000862.SZ\n",
      "000863.SZ\n",
      "000866.SZ\n",
      "000868.SZ\n",
      "000869.SZ\n"
     ]
    },
    {
     "name": "stderr",
     "output_type": "stream",
     "text": [
      "<ipython-input-240-1ac76a73e39a>:11: RuntimeWarning: invalid value encountered in double_scalars\n",
      "  coskew = (res_i*np.power(res_m,2)).mean() / ( np.sqrt( np.power(res_i,2).mean() ) *  np.power(res_m,2).mean())\n"
     ]
    },
    {
     "name": "stdout",
     "output_type": "stream",
     "text": [
      "000875.SZ\n",
      "000876.SZ\n",
      "000877.SZ\n",
      "000878.SZ\n"
     ]
    },
    {
     "name": "stderr",
     "output_type": "stream",
     "text": [
      "<ipython-input-240-1ac76a73e39a>:11: RuntimeWarning: invalid value encountered in double_scalars\n",
      "  coskew = (res_i*np.power(res_m,2)).mean() / ( np.sqrt( np.power(res_i,2).mean() ) *  np.power(res_m,2).mean())\n"
     ]
    },
    {
     "name": "stdout",
     "output_type": "stream",
     "text": [
      "000880.SZ\n",
      "000881.SZ\n",
      "000882.SZ\n",
      "000883.SZ\n"
     ]
    },
    {
     "name": "stderr",
     "output_type": "stream",
     "text": [
      "<ipython-input-240-1ac76a73e39a>:11: RuntimeWarning: invalid value encountered in double_scalars\n",
      "  coskew = (res_i*np.power(res_m,2)).mean() / ( np.sqrt( np.power(res_i,2).mean() ) *  np.power(res_m,2).mean())\n"
     ]
    },
    {
     "name": "stdout",
     "output_type": "stream",
     "text": [
      "000885.SZ\n",
      "000886.SZ\n",
      "000887.SZ\n"
     ]
    },
    {
     "name": "stderr",
     "output_type": "stream",
     "text": [
      "<ipython-input-240-1ac76a73e39a>:11: RuntimeWarning: invalid value encountered in double_scalars\n",
      "  coskew = (res_i*np.power(res_m,2)).mean() / ( np.sqrt( np.power(res_i,2).mean() ) *  np.power(res_m,2).mean())\n"
     ]
    },
    {
     "name": "stdout",
     "output_type": "stream",
     "text": [
      "000888.SZ\n"
     ]
    },
    {
     "name": "stderr",
     "output_type": "stream",
     "text": [
      "<ipython-input-240-1ac76a73e39a>:11: RuntimeWarning: invalid value encountered in double_scalars\n",
      "  coskew = (res_i*np.power(res_m,2)).mean() / ( np.sqrt( np.power(res_i,2).mean() ) *  np.power(res_m,2).mean())\n"
     ]
    },
    {
     "name": "stdout",
     "output_type": "stream",
     "text": [
      "000889.SZ\n",
      "000890.SZ\n",
      "000892.SZ\n",
      "000893.SZ\n"
     ]
    },
    {
     "name": "stderr",
     "output_type": "stream",
     "text": [
      "<ipython-input-240-1ac76a73e39a>:11: RuntimeWarning: invalid value encountered in double_scalars\n",
      "  coskew = (res_i*np.power(res_m,2)).mean() / ( np.sqrt( np.power(res_i,2).mean() ) *  np.power(res_m,2).mean())\n",
      "<ipython-input-240-1ac76a73e39a>:11: RuntimeWarning: invalid value encountered in double_scalars\n",
      "  coskew = (res_i*np.power(res_m,2)).mean() / ( np.sqrt( np.power(res_i,2).mean() ) *  np.power(res_m,2).mean())\n"
     ]
    },
    {
     "name": "stdout",
     "output_type": "stream",
     "text": [
      "000895.SZ\n",
      "000897.SZ\n",
      "000898.SZ\n",
      "000899.SZ\n",
      "000900.SZ\n",
      "000901.SZ\n",
      "000902.SZ\n"
     ]
    },
    {
     "name": "stderr",
     "output_type": "stream",
     "text": [
      "<ipython-input-240-1ac76a73e39a>:11: RuntimeWarning: invalid value encountered in double_scalars\n",
      "  coskew = (res_i*np.power(res_m,2)).mean() / ( np.sqrt( np.power(res_i,2).mean() ) *  np.power(res_m,2).mean())\n"
     ]
    },
    {
     "name": "stdout",
     "output_type": "stream",
     "text": [
      "000903.SZ\n",
      "000905.SZ\n"
     ]
    },
    {
     "name": "stderr",
     "output_type": "stream",
     "text": [
      "<ipython-input-240-1ac76a73e39a>:11: RuntimeWarning: invalid value encountered in double_scalars\n",
      "  coskew = (res_i*np.power(res_m,2)).mean() / ( np.sqrt( np.power(res_i,2).mean() ) *  np.power(res_m,2).mean())\n"
     ]
    },
    {
     "name": "stdout",
     "output_type": "stream",
     "text": [
      "000906.SZ\n"
     ]
    },
    {
     "name": "stderr",
     "output_type": "stream",
     "text": [
      "<ipython-input-240-1ac76a73e39a>:11: RuntimeWarning: invalid value encountered in double_scalars\n",
      "  coskew = (res_i*np.power(res_m,2)).mean() / ( np.sqrt( np.power(res_i,2).mean() ) *  np.power(res_m,2).mean())\n",
      "<ipython-input-240-1ac76a73e39a>:11: RuntimeWarning: invalid value encountered in double_scalars\n",
      "  coskew = (res_i*np.power(res_m,2)).mean() / ( np.sqrt( np.power(res_i,2).mean() ) *  np.power(res_m,2).mean())\n",
      "<ipython-input-240-1ac76a73e39a>:11: RuntimeWarning: invalid value encountered in double_scalars\n",
      "  coskew = (res_i*np.power(res_m,2)).mean() / ( np.sqrt( np.power(res_i,2).mean() ) *  np.power(res_m,2).mean())\n"
     ]
    },
    {
     "name": "stdout",
     "output_type": "stream",
     "text": [
      "000908.SZ\n",
      "000909.SZ\n",
      "000910.SZ\n",
      "000911.SZ\n",
      "000912.SZ\n",
      "000913.SZ\n",
      "000915.SZ\n",
      "000916.SZ\n"
     ]
    },
    {
     "name": "stderr",
     "output_type": "stream",
     "text": [
      "<ipython-input-240-1ac76a73e39a>:11: RuntimeWarning: invalid value encountered in double_scalars\n",
      "  coskew = (res_i*np.power(res_m,2)).mean() / ( np.sqrt( np.power(res_i,2).mean() ) *  np.power(res_m,2).mean())\n",
      "<ipython-input-240-1ac76a73e39a>:11: RuntimeWarning: invalid value encountered in double_scalars\n",
      "  coskew = (res_i*np.power(res_m,2)).mean() / ( np.sqrt( np.power(res_i,2).mean() ) *  np.power(res_m,2).mean())\n"
     ]
    },
    {
     "name": "stdout",
     "output_type": "stream",
     "text": [
      "000917.SZ\n"
     ]
    },
    {
     "name": "stderr",
     "output_type": "stream",
     "text": [
      "<ipython-input-240-1ac76a73e39a>:11: RuntimeWarning: invalid value encountered in double_scalars\n",
      "  coskew = (res_i*np.power(res_m,2)).mean() / ( np.sqrt( np.power(res_i,2).mean() ) *  np.power(res_m,2).mean())\n"
     ]
    },
    {
     "name": "stdout",
     "output_type": "stream",
     "text": [
      "000918.SZ\n"
     ]
    },
    {
     "name": "stderr",
     "output_type": "stream",
     "text": [
      "<ipython-input-240-1ac76a73e39a>:11: RuntimeWarning: invalid value encountered in double_scalars\n",
      "  coskew = (res_i*np.power(res_m,2)).mean() / ( np.sqrt( np.power(res_i,2).mean() ) *  np.power(res_m,2).mean())\n"
     ]
    },
    {
     "name": "stdout",
     "output_type": "stream",
     "text": [
      "000919.SZ\n",
      "000920.SZ\n"
     ]
    },
    {
     "name": "stderr",
     "output_type": "stream",
     "text": [
      "<ipython-input-240-1ac76a73e39a>:11: RuntimeWarning: invalid value encountered in double_scalars\n",
      "  coskew = (res_i*np.power(res_m,2)).mean() / ( np.sqrt( np.power(res_i,2).mean() ) *  np.power(res_m,2).mean())\n"
     ]
    },
    {
     "name": "stdout",
     "output_type": "stream",
     "text": [
      "000921.SZ\n",
      "000922.SZ\n",
      "000923.SZ\n"
     ]
    },
    {
     "name": "stderr",
     "output_type": "stream",
     "text": [
      "<ipython-input-240-1ac76a73e39a>:11: RuntimeWarning: invalid value encountered in double_scalars\n",
      "  coskew = (res_i*np.power(res_m,2)).mean() / ( np.sqrt( np.power(res_i,2).mean() ) *  np.power(res_m,2).mean())\n",
      "<ipython-input-240-1ac76a73e39a>:11: RuntimeWarning: invalid value encountered in double_scalars\n",
      "  coskew = (res_i*np.power(res_m,2)).mean() / ( np.sqrt( np.power(res_i,2).mean() ) *  np.power(res_m,2).mean())\n"
     ]
    },
    {
     "name": "stdout",
     "output_type": "stream",
     "text": [
      "000925.SZ\n",
      "000926.SZ\n",
      "000927.SZ\n",
      "000928.SZ\n"
     ]
    },
    {
     "name": "stderr",
     "output_type": "stream",
     "text": [
      "<ipython-input-240-1ac76a73e39a>:11: RuntimeWarning: invalid value encountered in double_scalars\n",
      "  coskew = (res_i*np.power(res_m,2)).mean() / ( np.sqrt( np.power(res_i,2).mean() ) *  np.power(res_m,2).mean())\n"
     ]
    },
    {
     "name": "stdout",
     "output_type": "stream",
     "text": [
      "000929.SZ\n",
      "000930.SZ\n",
      "000931.SZ\n",
      "000932.SZ\n",
      "000933.SZ\n",
      "000935.SZ\n",
      "000936.SZ\n",
      "000937.SZ\n",
      "000938.SZ\n"
     ]
    },
    {
     "name": "stderr",
     "output_type": "stream",
     "text": [
      "<ipython-input-240-1ac76a73e39a>:11: RuntimeWarning: invalid value encountered in double_scalars\n",
      "  coskew = (res_i*np.power(res_m,2)).mean() / ( np.sqrt( np.power(res_i,2).mean() ) *  np.power(res_m,2).mean())\n"
     ]
    },
    {
     "name": "stdout",
     "output_type": "stream",
     "text": [
      "000939.SZ\n",
      "000948.SZ\n",
      "000949.SZ\n",
      "000950.SZ\n",
      "000951.SZ\n",
      "000952.SZ\n",
      "000953.SZ\n",
      "000955.SZ\n",
      "000956.SZ\n",
      "000957.SZ\n",
      "000958.SZ\n",
      "000959.SZ\n"
     ]
    },
    {
     "name": "stderr",
     "output_type": "stream",
     "text": [
      "<ipython-input-240-1ac76a73e39a>:11: RuntimeWarning: invalid value encountered in double_scalars\n",
      "  coskew = (res_i*np.power(res_m,2)).mean() / ( np.sqrt( np.power(res_i,2).mean() ) *  np.power(res_m,2).mean())\n"
     ]
    },
    {
     "name": "stdout",
     "output_type": "stream",
     "text": [
      "000960.SZ\n"
     ]
    },
    {
     "name": "stderr",
     "output_type": "stream",
     "text": [
      "<ipython-input-240-1ac76a73e39a>:11: RuntimeWarning: invalid value encountered in double_scalars\n",
      "  coskew = (res_i*np.power(res_m,2)).mean() / ( np.sqrt( np.power(res_i,2).mean() ) *  np.power(res_m,2).mean())\n"
     ]
    },
    {
     "name": "stdout",
     "output_type": "stream",
     "text": [
      "000961.SZ\n"
     ]
    },
    {
     "name": "stderr",
     "output_type": "stream",
     "text": [
      "<ipython-input-240-1ac76a73e39a>:11: RuntimeWarning: invalid value encountered in double_scalars\n",
      "  coskew = (res_i*np.power(res_m,2)).mean() / ( np.sqrt( np.power(res_i,2).mean() ) *  np.power(res_m,2).mean())\n",
      "<ipython-input-240-1ac76a73e39a>:11: RuntimeWarning: invalid value encountered in double_scalars\n",
      "  coskew = (res_i*np.power(res_m,2)).mean() / ( np.sqrt( np.power(res_i,2).mean() ) *  np.power(res_m,2).mean())\n",
      "<ipython-input-240-1ac76a73e39a>:11: RuntimeWarning: invalid value encountered in double_scalars\n",
      "  coskew = (res_i*np.power(res_m,2)).mean() / ( np.sqrt( np.power(res_i,2).mean() ) *  np.power(res_m,2).mean())\n"
     ]
    },
    {
     "name": "stdout",
     "output_type": "stream",
     "text": [
      "000962.SZ\n",
      "000963.SZ\n",
      "000965.SZ\n",
      "000966.SZ\n"
     ]
    },
    {
     "name": "stderr",
     "output_type": "stream",
     "text": [
      "<ipython-input-240-1ac76a73e39a>:11: RuntimeWarning: invalid value encountered in double_scalars\n",
      "  coskew = (res_i*np.power(res_m,2)).mean() / ( np.sqrt( np.power(res_i,2).mean() ) *  np.power(res_m,2).mean())\n",
      "<ipython-input-240-1ac76a73e39a>:11: RuntimeWarning: invalid value encountered in double_scalars\n",
      "  coskew = (res_i*np.power(res_m,2)).mean() / ( np.sqrt( np.power(res_i,2).mean() ) *  np.power(res_m,2).mean())\n",
      "<ipython-input-240-1ac76a73e39a>:11: RuntimeWarning: invalid value encountered in double_scalars\n",
      "  coskew = (res_i*np.power(res_m,2)).mean() / ( np.sqrt( np.power(res_i,2).mean() ) *  np.power(res_m,2).mean())\n"
     ]
    },
    {
     "name": "stdout",
     "output_type": "stream",
     "text": [
      "000967.SZ\n",
      "000968.SZ\n",
      "000969.SZ\n",
      "000970.SZ\n"
     ]
    },
    {
     "name": "stderr",
     "output_type": "stream",
     "text": [
      "<ipython-input-240-1ac76a73e39a>:11: RuntimeWarning: invalid value encountered in double_scalars\n",
      "  coskew = (res_i*np.power(res_m,2)).mean() / ( np.sqrt( np.power(res_i,2).mean() ) *  np.power(res_m,2).mean())\n",
      "<ipython-input-240-1ac76a73e39a>:11: RuntimeWarning: invalid value encountered in double_scalars\n",
      "  coskew = (res_i*np.power(res_m,2)).mean() / ( np.sqrt( np.power(res_i,2).mean() ) *  np.power(res_m,2).mean())\n"
     ]
    },
    {
     "name": "stdout",
     "output_type": "stream",
     "text": [
      "000971.SZ\n",
      "000972.SZ\n"
     ]
    },
    {
     "name": "stderr",
     "output_type": "stream",
     "text": [
      "<ipython-input-240-1ac76a73e39a>:11: RuntimeWarning: invalid value encountered in double_scalars\n",
      "  coskew = (res_i*np.power(res_m,2)).mean() / ( np.sqrt( np.power(res_i,2).mean() ) *  np.power(res_m,2).mean())\n"
     ]
    },
    {
     "name": "stdout",
     "output_type": "stream",
     "text": [
      "000973.SZ\n"
     ]
    },
    {
     "name": "stderr",
     "output_type": "stream",
     "text": [
      "<ipython-input-240-1ac76a73e39a>:11: RuntimeWarning: invalid value encountered in double_scalars\n",
      "  coskew = (res_i*np.power(res_m,2)).mean() / ( np.sqrt( np.power(res_i,2).mean() ) *  np.power(res_m,2).mean())\n"
     ]
    },
    {
     "name": "stdout",
     "output_type": "stream",
     "text": [
      "000975.SZ\n",
      "000976.SZ\n"
     ]
    },
    {
     "name": "stderr",
     "output_type": "stream",
     "text": [
      "<ipython-input-240-1ac76a73e39a>:11: RuntimeWarning: invalid value encountered in double_scalars\n",
      "  coskew = (res_i*np.power(res_m,2)).mean() / ( np.sqrt( np.power(res_i,2).mean() ) *  np.power(res_m,2).mean())\n"
     ]
    },
    {
     "name": "stdout",
     "output_type": "stream",
     "text": [
      "000977.SZ\n",
      "000978.SZ\n",
      "000979.SZ\n",
      "000980.SZ\n"
     ]
    },
    {
     "name": "stderr",
     "output_type": "stream",
     "text": [
      "<ipython-input-240-1ac76a73e39a>:11: RuntimeWarning: invalid value encountered in double_scalars\n",
      "  coskew = (res_i*np.power(res_m,2)).mean() / ( np.sqrt( np.power(res_i,2).mean() ) *  np.power(res_m,2).mean())\n"
     ]
    },
    {
     "name": "stdout",
     "output_type": "stream",
     "text": [
      "000981.SZ\n"
     ]
    },
    {
     "name": "stderr",
     "output_type": "stream",
     "text": [
      "<ipython-input-240-1ac76a73e39a>:11: RuntimeWarning: invalid value encountered in double_scalars\n",
      "  coskew = (res_i*np.power(res_m,2)).mean() / ( np.sqrt( np.power(res_i,2).mean() ) *  np.power(res_m,2).mean())\n"
     ]
    },
    {
     "name": "stdout",
     "output_type": "stream",
     "text": [
      "000982.SZ\n",
      "000983.SZ\n",
      "000985.SZ\n",
      "000987.SZ\n",
      "000988.SZ\n",
      "000989.SZ\n"
     ]
    },
    {
     "name": "stderr",
     "output_type": "stream",
     "text": [
      "<ipython-input-240-1ac76a73e39a>:11: RuntimeWarning: invalid value encountered in double_scalars\n",
      "  coskew = (res_i*np.power(res_m,2)).mean() / ( np.sqrt( np.power(res_i,2).mean() ) *  np.power(res_m,2).mean())\n"
     ]
    },
    {
     "name": "stdout",
     "output_type": "stream",
     "text": [
      "000990.SZ\n",
      "000993.SZ\n"
     ]
    },
    {
     "name": "stderr",
     "output_type": "stream",
     "text": [
      "<ipython-input-240-1ac76a73e39a>:11: RuntimeWarning: invalid value encountered in double_scalars\n",
      "  coskew = (res_i*np.power(res_m,2)).mean() / ( np.sqrt( np.power(res_i,2).mean() ) *  np.power(res_m,2).mean())\n"
     ]
    },
    {
     "name": "stdout",
     "output_type": "stream",
     "text": [
      "000995.SZ\n"
     ]
    },
    {
     "name": "stderr",
     "output_type": "stream",
     "text": [
      "<ipython-input-240-1ac76a73e39a>:11: RuntimeWarning: invalid value encountered in double_scalars\n",
      "  coskew = (res_i*np.power(res_m,2)).mean() / ( np.sqrt( np.power(res_i,2).mean() ) *  np.power(res_m,2).mean())\n"
     ]
    },
    {
     "name": "stdout",
     "output_type": "stream",
     "text": [
      "000996.SZ\n",
      "000997.SZ\n"
     ]
    },
    {
     "name": "stderr",
     "output_type": "stream",
     "text": [
      "<ipython-input-240-1ac76a73e39a>:11: RuntimeWarning: invalid value encountered in double_scalars\n",
      "  coskew = (res_i*np.power(res_m,2)).mean() / ( np.sqrt( np.power(res_i,2).mean() ) *  np.power(res_m,2).mean())\n",
      "<ipython-input-240-1ac76a73e39a>:11: RuntimeWarning: invalid value encountered in double_scalars\n",
      "  coskew = (res_i*np.power(res_m,2)).mean() / ( np.sqrt( np.power(res_i,2).mean() ) *  np.power(res_m,2).mean())\n",
      "<ipython-input-240-1ac76a73e39a>:11: RuntimeWarning: invalid value encountered in double_scalars\n",
      "  coskew = (res_i*np.power(res_m,2)).mean() / ( np.sqrt( np.power(res_i,2).mean() ) *  np.power(res_m,2).mean())\n"
     ]
    },
    {
     "name": "stdout",
     "output_type": "stream",
     "text": [
      "000998.SZ\n",
      "000999.SZ\n"
     ]
    },
    {
     "name": "stderr",
     "output_type": "stream",
     "text": [
      "<ipython-input-240-1ac76a73e39a>:11: RuntimeWarning: invalid value encountered in double_scalars\n",
      "  coskew = (res_i*np.power(res_m,2)).mean() / ( np.sqrt( np.power(res_i,2).mean() ) *  np.power(res_m,2).mean())\n"
     ]
    },
    {
     "name": "stdout",
     "output_type": "stream",
     "text": [
      "001696.SZ\n",
      "001872.SZ\n",
      "001896.SZ\n",
      "001914.SZ\n",
      "001965.SZ\n"
     ]
    },
    {
     "name": "stderr",
     "output_type": "stream",
     "text": [
      "<ipython-input-240-1ac76a73e39a>:11: RuntimeWarning: invalid value encountered in double_scalars\n",
      "  coskew = (res_i*np.power(res_m,2)).mean() / ( np.sqrt( np.power(res_i,2).mean() ) *  np.power(res_m,2).mean())\n"
     ]
    },
    {
     "name": "stdout",
     "output_type": "stream",
     "text": [
      "001979.SZ\n",
      "002001.SZ\n",
      "002002.SZ\n",
      "002003.SZ\n",
      "002004.SZ\n",
      "002005.SZ\n"
     ]
    },
    {
     "name": "stderr",
     "output_type": "stream",
     "text": [
      "<ipython-input-240-1ac76a73e39a>:11: RuntimeWarning: invalid value encountered in double_scalars\n",
      "  coskew = (res_i*np.power(res_m,2)).mean() / ( np.sqrt( np.power(res_i,2).mean() ) *  np.power(res_m,2).mean())\n"
     ]
    },
    {
     "name": "stdout",
     "output_type": "stream",
     "text": [
      "002006.SZ\n",
      "002007.SZ\n",
      "002008.SZ\n"
     ]
    },
    {
     "name": "stderr",
     "output_type": "stream",
     "text": [
      "<ipython-input-240-1ac76a73e39a>:11: RuntimeWarning: invalid value encountered in double_scalars\n",
      "  coskew = (res_i*np.power(res_m,2)).mean() / ( np.sqrt( np.power(res_i,2).mean() ) *  np.power(res_m,2).mean())\n"
     ]
    },
    {
     "name": "stdout",
     "output_type": "stream",
     "text": [
      "002009.SZ\n"
     ]
    },
    {
     "name": "stderr",
     "output_type": "stream",
     "text": [
      "<ipython-input-240-1ac76a73e39a>:11: RuntimeWarning: invalid value encountered in double_scalars\n",
      "  coskew = (res_i*np.power(res_m,2)).mean() / ( np.sqrt( np.power(res_i,2).mean() ) *  np.power(res_m,2).mean())\n"
     ]
    },
    {
     "name": "stdout",
     "output_type": "stream",
     "text": [
      "002010.SZ\n",
      "002011.SZ\n",
      "002012.SZ\n",
      "002013.SZ\n",
      "002014.SZ\n",
      "002015.SZ\n",
      "002016.SZ\n",
      "002017.SZ\n",
      "002018.SZ\n",
      "002019.SZ\n",
      "002020.SZ\n",
      "002021.SZ\n",
      "002022.SZ\n",
      "002023.SZ\n",
      "002024.SZ\n",
      "002025.SZ\n",
      "002026.SZ\n",
      "002027.SZ\n",
      "002028.SZ\n",
      "002029.SZ\n",
      "002030.SZ\n",
      "002031.SZ\n",
      "002032.SZ\n"
     ]
    },
    {
     "name": "stderr",
     "output_type": "stream",
     "text": [
      "<ipython-input-240-1ac76a73e39a>:11: RuntimeWarning: invalid value encountered in double_scalars\n",
      "  coskew = (res_i*np.power(res_m,2)).mean() / ( np.sqrt( np.power(res_i,2).mean() ) *  np.power(res_m,2).mean())\n"
     ]
    },
    {
     "name": "stdout",
     "output_type": "stream",
     "text": [
      "002033.SZ\n",
      "002034.SZ\n",
      "002035.SZ\n",
      "002036.SZ\n"
     ]
    },
    {
     "name": "stderr",
     "output_type": "stream",
     "text": [
      "<ipython-input-240-1ac76a73e39a>:11: RuntimeWarning: invalid value encountered in double_scalars\n",
      "  coskew = (res_i*np.power(res_m,2)).mean() / ( np.sqrt( np.power(res_i,2).mean() ) *  np.power(res_m,2).mean())\n"
     ]
    },
    {
     "name": "stdout",
     "output_type": "stream",
     "text": [
      "002037.SZ\n",
      "002038.SZ\n",
      "002039.SZ\n",
      "002040.SZ\n",
      "002041.SZ\n",
      "002042.SZ\n",
      "002043.SZ\n",
      "002044.SZ\n",
      "002045.SZ\n",
      "002046.SZ\n"
     ]
    },
    {
     "name": "stderr",
     "output_type": "stream",
     "text": [
      "<ipython-input-240-1ac76a73e39a>:11: RuntimeWarning: invalid value encountered in double_scalars\n",
      "  coskew = (res_i*np.power(res_m,2)).mean() / ( np.sqrt( np.power(res_i,2).mean() ) *  np.power(res_m,2).mean())\n",
      "<ipython-input-240-1ac76a73e39a>:11: RuntimeWarning: invalid value encountered in double_scalars\n",
      "  coskew = (res_i*np.power(res_m,2)).mean() / ( np.sqrt( np.power(res_i,2).mean() ) *  np.power(res_m,2).mean())\n"
     ]
    },
    {
     "name": "stdout",
     "output_type": "stream",
     "text": [
      "002047.SZ\n",
      "002048.SZ\n"
     ]
    },
    {
     "name": "stderr",
     "output_type": "stream",
     "text": [
      "<ipython-input-240-1ac76a73e39a>:11: RuntimeWarning: invalid value encountered in double_scalars\n",
      "  coskew = (res_i*np.power(res_m,2)).mean() / ( np.sqrt( np.power(res_i,2).mean() ) *  np.power(res_m,2).mean())\n",
      "<ipython-input-240-1ac76a73e39a>:11: RuntimeWarning: invalid value encountered in double_scalars\n",
      "  coskew = (res_i*np.power(res_m,2)).mean() / ( np.sqrt( np.power(res_i,2).mean() ) *  np.power(res_m,2).mean())\n"
     ]
    },
    {
     "name": "stdout",
     "output_type": "stream",
     "text": [
      "002049.SZ\n",
      "002050.SZ\n",
      "002051.SZ\n",
      "002052.SZ\n",
      "002053.SZ\n",
      "002054.SZ\n",
      "002055.SZ\n",
      "002056.SZ\n",
      "002057.SZ\n",
      "002058.SZ\n"
     ]
    },
    {
     "name": "stderr",
     "output_type": "stream",
     "text": [
      "<ipython-input-240-1ac76a73e39a>:11: RuntimeWarning: invalid value encountered in double_scalars\n",
      "  coskew = (res_i*np.power(res_m,2)).mean() / ( np.sqrt( np.power(res_i,2).mean() ) *  np.power(res_m,2).mean())\n"
     ]
    },
    {
     "name": "stdout",
     "output_type": "stream",
     "text": [
      "002059.SZ\n",
      "002060.SZ\n",
      "002061.SZ\n",
      "002062.SZ\n",
      "002063.SZ\n",
      "002064.SZ\n",
      "002065.SZ\n",
      "002066.SZ\n",
      "002067.SZ\n",
      "002068.SZ\n"
     ]
    },
    {
     "name": "stderr",
     "output_type": "stream",
     "text": [
      "<ipython-input-240-1ac76a73e39a>:11: RuntimeWarning: invalid value encountered in double_scalars\n",
      "  coskew = (res_i*np.power(res_m,2)).mean() / ( np.sqrt( np.power(res_i,2).mean() ) *  np.power(res_m,2).mean())\n"
     ]
    },
    {
     "name": "stdout",
     "output_type": "stream",
     "text": [
      "002069.SZ\n",
      "002070.SZ\n",
      "002071.SZ\n",
      "002072.SZ\n",
      "002073.SZ\n",
      "002074.SZ\n",
      "002075.SZ\n"
     ]
    },
    {
     "name": "stderr",
     "output_type": "stream",
     "text": [
      "<ipython-input-240-1ac76a73e39a>:11: RuntimeWarning: invalid value encountered in double_scalars\n",
      "  coskew = (res_i*np.power(res_m,2)).mean() / ( np.sqrt( np.power(res_i,2).mean() ) *  np.power(res_m,2).mean())\n"
     ]
    },
    {
     "name": "stdout",
     "output_type": "stream",
     "text": [
      "002076.SZ\n",
      "002077.SZ\n",
      "002078.SZ\n",
      "002079.SZ\n",
      "002080.SZ\n",
      "002081.SZ\n",
      "002082.SZ\n",
      "002083.SZ\n",
      "002084.SZ\n"
     ]
    },
    {
     "name": "stderr",
     "output_type": "stream",
     "text": [
      "<ipython-input-240-1ac76a73e39a>:11: RuntimeWarning: invalid value encountered in double_scalars\n",
      "  coskew = (res_i*np.power(res_m,2)).mean() / ( np.sqrt( np.power(res_i,2).mean() ) *  np.power(res_m,2).mean())\n",
      "<ipython-input-240-1ac76a73e39a>:11: RuntimeWarning: invalid value encountered in double_scalars\n",
      "  coskew = (res_i*np.power(res_m,2)).mean() / ( np.sqrt( np.power(res_i,2).mean() ) *  np.power(res_m,2).mean())\n"
     ]
    },
    {
     "name": "stdout",
     "output_type": "stream",
     "text": [
      "002085.SZ\n",
      "002086.SZ\n",
      "002087.SZ\n",
      "002088.SZ\n"
     ]
    },
    {
     "name": "stderr",
     "output_type": "stream",
     "text": [
      "<ipython-input-240-1ac76a73e39a>:11: RuntimeWarning: invalid value encountered in double_scalars\n",
      "  coskew = (res_i*np.power(res_m,2)).mean() / ( np.sqrt( np.power(res_i,2).mean() ) *  np.power(res_m,2).mean())\n"
     ]
    },
    {
     "name": "stdout",
     "output_type": "stream",
     "text": [
      "002089.SZ\n"
     ]
    },
    {
     "name": "stderr",
     "output_type": "stream",
     "text": [
      "<ipython-input-240-1ac76a73e39a>:11: RuntimeWarning: invalid value encountered in double_scalars\n",
      "  coskew = (res_i*np.power(res_m,2)).mean() / ( np.sqrt( np.power(res_i,2).mean() ) *  np.power(res_m,2).mean())\n"
     ]
    },
    {
     "name": "stdout",
     "output_type": "stream",
     "text": [
      "002090.SZ\n",
      "002091.SZ\n",
      "002092.SZ\n",
      "002093.SZ\n",
      "002094.SZ\n",
      "002095.SZ\n",
      "002096.SZ\n",
      "002097.SZ\n",
      "002098.SZ\n",
      "002099.SZ\n",
      "002100.SZ\n",
      "002101.SZ\n",
      "002102.SZ\n",
      "002103.SZ\n",
      "002104.SZ\n",
      "002105.SZ\n",
      "002106.SZ\n",
      "002107.SZ\n",
      "002108.SZ\n",
      "002109.SZ\n"
     ]
    },
    {
     "name": "stderr",
     "output_type": "stream",
     "text": [
      "<ipython-input-240-1ac76a73e39a>:11: RuntimeWarning: invalid value encountered in double_scalars\n",
      "  coskew = (res_i*np.power(res_m,2)).mean() / ( np.sqrt( np.power(res_i,2).mean() ) *  np.power(res_m,2).mean())\n"
     ]
    },
    {
     "name": "stdout",
     "output_type": "stream",
     "text": [
      "002110.SZ\n"
     ]
    },
    {
     "name": "stderr",
     "output_type": "stream",
     "text": [
      "<ipython-input-240-1ac76a73e39a>:11: RuntimeWarning: invalid value encountered in double_scalars\n",
      "  coskew = (res_i*np.power(res_m,2)).mean() / ( np.sqrt( np.power(res_i,2).mean() ) *  np.power(res_m,2).mean())\n"
     ]
    },
    {
     "name": "stdout",
     "output_type": "stream",
     "text": [
      "002111.SZ\n",
      "002112.SZ\n",
      "002113.SZ\n",
      "002114.SZ\n",
      "002115.SZ\n",
      "002116.SZ\n",
      "002117.SZ\n",
      "002118.SZ\n"
     ]
    },
    {
     "name": "stderr",
     "output_type": "stream",
     "text": [
      "<ipython-input-240-1ac76a73e39a>:11: RuntimeWarning: invalid value encountered in double_scalars\n",
      "  coskew = (res_i*np.power(res_m,2)).mean() / ( np.sqrt( np.power(res_i,2).mean() ) *  np.power(res_m,2).mean())\n"
     ]
    },
    {
     "name": "stdout",
     "output_type": "stream",
     "text": [
      "002119.SZ\n",
      "002120.SZ\n"
     ]
    },
    {
     "name": "stderr",
     "output_type": "stream",
     "text": [
      "<ipython-input-240-1ac76a73e39a>:11: RuntimeWarning: invalid value encountered in double_scalars\n",
      "  coskew = (res_i*np.power(res_m,2)).mean() / ( np.sqrt( np.power(res_i,2).mean() ) *  np.power(res_m,2).mean())\n"
     ]
    },
    {
     "name": "stdout",
     "output_type": "stream",
     "text": [
      "002121.SZ\n",
      "002122.SZ\n",
      "002123.SZ\n",
      "002124.SZ\n",
      "002125.SZ\n",
      "002126.SZ\n",
      "002127.SZ\n",
      "002128.SZ\n",
      "002129.SZ\n",
      "002130.SZ\n"
     ]
    },
    {
     "name": "stderr",
     "output_type": "stream",
     "text": [
      "<ipython-input-240-1ac76a73e39a>:11: RuntimeWarning: invalid value encountered in double_scalars\n",
      "  coskew = (res_i*np.power(res_m,2)).mean() / ( np.sqrt( np.power(res_i,2).mean() ) *  np.power(res_m,2).mean())\n",
      "<ipython-input-240-1ac76a73e39a>:11: RuntimeWarning: invalid value encountered in double_scalars\n",
      "  coskew = (res_i*np.power(res_m,2)).mean() / ( np.sqrt( np.power(res_i,2).mean() ) *  np.power(res_m,2).mean())\n",
      "<ipython-input-240-1ac76a73e39a>:11: RuntimeWarning: invalid value encountered in double_scalars\n",
      "  coskew = (res_i*np.power(res_m,2)).mean() / ( np.sqrt( np.power(res_i,2).mean() ) *  np.power(res_m,2).mean())\n"
     ]
    },
    {
     "name": "stdout",
     "output_type": "stream",
     "text": [
      "002131.SZ\n",
      "002132.SZ\n"
     ]
    },
    {
     "name": "stderr",
     "output_type": "stream",
     "text": [
      "<ipython-input-240-1ac76a73e39a>:11: RuntimeWarning: invalid value encountered in double_scalars\n",
      "  coskew = (res_i*np.power(res_m,2)).mean() / ( np.sqrt( np.power(res_i,2).mean() ) *  np.power(res_m,2).mean())\n"
     ]
    },
    {
     "name": "stdout",
     "output_type": "stream",
     "text": [
      "002133.SZ\n"
     ]
    },
    {
     "name": "stderr",
     "output_type": "stream",
     "text": [
      "<ipython-input-240-1ac76a73e39a>:11: RuntimeWarning: invalid value encountered in double_scalars\n",
      "  coskew = (res_i*np.power(res_m,2)).mean() / ( np.sqrt( np.power(res_i,2).mean() ) *  np.power(res_m,2).mean())\n",
      "<ipython-input-240-1ac76a73e39a>:11: RuntimeWarning: invalid value encountered in double_scalars\n",
      "  coskew = (res_i*np.power(res_m,2)).mean() / ( np.sqrt( np.power(res_i,2).mean() ) *  np.power(res_m,2).mean())\n"
     ]
    },
    {
     "name": "stdout",
     "output_type": "stream",
     "text": [
      "002134.SZ\n",
      "002135.SZ\n"
     ]
    },
    {
     "name": "stderr",
     "output_type": "stream",
     "text": [
      "<ipython-input-240-1ac76a73e39a>:11: RuntimeWarning: invalid value encountered in double_scalars\n",
      "  coskew = (res_i*np.power(res_m,2)).mean() / ( np.sqrt( np.power(res_i,2).mean() ) *  np.power(res_m,2).mean())\n"
     ]
    },
    {
     "name": "stdout",
     "output_type": "stream",
     "text": [
      "002136.SZ\n",
      "002137.SZ\n",
      "002138.SZ\n",
      "002139.SZ\n",
      "002140.SZ\n",
      "002141.SZ\n",
      "002142.SZ\n"
     ]
    },
    {
     "name": "stderr",
     "output_type": "stream",
     "text": [
      "<ipython-input-240-1ac76a73e39a>:11: RuntimeWarning: invalid value encountered in double_scalars\n",
      "  coskew = (res_i*np.power(res_m,2)).mean() / ( np.sqrt( np.power(res_i,2).mean() ) *  np.power(res_m,2).mean())\n",
      "<ipython-input-240-1ac76a73e39a>:11: RuntimeWarning: invalid value encountered in double_scalars\n",
      "  coskew = (res_i*np.power(res_m,2)).mean() / ( np.sqrt( np.power(res_i,2).mean() ) *  np.power(res_m,2).mean())\n"
     ]
    },
    {
     "name": "stdout",
     "output_type": "stream",
     "text": [
      "002143.SZ\n",
      "002144.SZ\n"
     ]
    },
    {
     "name": "stderr",
     "output_type": "stream",
     "text": [
      "<ipython-input-240-1ac76a73e39a>:11: RuntimeWarning: invalid value encountered in double_scalars\n",
      "  coskew = (res_i*np.power(res_m,2)).mean() / ( np.sqrt( np.power(res_i,2).mean() ) *  np.power(res_m,2).mean())\n"
     ]
    },
    {
     "name": "stdout",
     "output_type": "stream",
     "text": [
      "002145.SZ\n",
      "002146.SZ\n",
      "002147.SZ\n",
      "002148.SZ\n",
      "002149.SZ\n",
      "002150.SZ\n",
      "002151.SZ\n",
      "002152.SZ\n",
      "002153.SZ\n",
      "002154.SZ\n",
      "002155.SZ\n",
      "002156.SZ\n",
      "002157.SZ\n",
      "002158.SZ\n",
      "002159.SZ\n",
      "002160.SZ\n",
      "002161.SZ\n",
      "002162.SZ\n",
      "002163.SZ\n"
     ]
    },
    {
     "name": "stderr",
     "output_type": "stream",
     "text": [
      "<ipython-input-240-1ac76a73e39a>:11: RuntimeWarning: invalid value encountered in double_scalars\n",
      "  coskew = (res_i*np.power(res_m,2)).mean() / ( np.sqrt( np.power(res_i,2).mean() ) *  np.power(res_m,2).mean())\n"
     ]
    },
    {
     "name": "stdout",
     "output_type": "stream",
     "text": [
      "002164.SZ\n",
      "002165.SZ\n"
     ]
    },
    {
     "name": "stderr",
     "output_type": "stream",
     "text": [
      "<ipython-input-240-1ac76a73e39a>:11: RuntimeWarning: invalid value encountered in double_scalars\n",
      "  coskew = (res_i*np.power(res_m,2)).mean() / ( np.sqrt( np.power(res_i,2).mean() ) *  np.power(res_m,2).mean())\n"
     ]
    },
    {
     "name": "stdout",
     "output_type": "stream",
     "text": [
      "002166.SZ\n",
      "002167.SZ\n",
      "002168.SZ\n"
     ]
    },
    {
     "name": "stderr",
     "output_type": "stream",
     "text": [
      "<ipython-input-240-1ac76a73e39a>:11: RuntimeWarning: invalid value encountered in double_scalars\n",
      "  coskew = (res_i*np.power(res_m,2)).mean() / ( np.sqrt( np.power(res_i,2).mean() ) *  np.power(res_m,2).mean())\n"
     ]
    },
    {
     "name": "stdout",
     "output_type": "stream",
     "text": [
      "002169.SZ\n",
      "002170.SZ\n",
      "002171.SZ\n",
      "002172.SZ\n",
      "002173.SZ\n",
      "002174.SZ\n",
      "002175.SZ\n",
      "002176.SZ\n",
      "002177.SZ\n",
      "002178.SZ\n",
      "002179.SZ\n"
     ]
    },
    {
     "name": "stderr",
     "output_type": "stream",
     "text": [
      "<ipython-input-240-1ac76a73e39a>:11: RuntimeWarning: invalid value encountered in double_scalars\n",
      "  coskew = (res_i*np.power(res_m,2)).mean() / ( np.sqrt( np.power(res_i,2).mean() ) *  np.power(res_m,2).mean())\n"
     ]
    },
    {
     "name": "stdout",
     "output_type": "stream",
     "text": [
      "002180.SZ\n",
      "002181.SZ\n",
      "002182.SZ\n",
      "002183.SZ\n",
      "002184.SZ\n",
      "002185.SZ\n",
      "002186.SZ\n",
      "002187.SZ\n",
      "002188.SZ\n",
      "002189.SZ\n",
      "002190.SZ\n",
      "002191.SZ\n",
      "002192.SZ\n",
      "002193.SZ\n"
     ]
    },
    {
     "name": "stderr",
     "output_type": "stream",
     "text": [
      "<ipython-input-240-1ac76a73e39a>:11: RuntimeWarning: invalid value encountered in double_scalars\n",
      "  coskew = (res_i*np.power(res_m,2)).mean() / ( np.sqrt( np.power(res_i,2).mean() ) *  np.power(res_m,2).mean())\n"
     ]
    },
    {
     "name": "stdout",
     "output_type": "stream",
     "text": [
      "002194.SZ\n",
      "002195.SZ\n",
      "002196.SZ\n",
      "002197.SZ\n"
     ]
    },
    {
     "name": "stderr",
     "output_type": "stream",
     "text": [
      "<ipython-input-240-1ac76a73e39a>:11: RuntimeWarning: invalid value encountered in double_scalars\n",
      "  coskew = (res_i*np.power(res_m,2)).mean() / ( np.sqrt( np.power(res_i,2).mean() ) *  np.power(res_m,2).mean())\n"
     ]
    },
    {
     "name": "stdout",
     "output_type": "stream",
     "text": [
      "002198.SZ\n",
      "002199.SZ\n",
      "002200.SZ\n",
      "002201.SZ\n",
      "002202.SZ\n",
      "002203.SZ\n",
      "002204.SZ\n",
      "002205.SZ\n",
      "002206.SZ\n",
      "002207.SZ\n"
     ]
    },
    {
     "name": "stderr",
     "output_type": "stream",
     "text": [
      "<ipython-input-240-1ac76a73e39a>:11: RuntimeWarning: invalid value encountered in double_scalars\n",
      "  coskew = (res_i*np.power(res_m,2)).mean() / ( np.sqrt( np.power(res_i,2).mean() ) *  np.power(res_m,2).mean())\n"
     ]
    },
    {
     "name": "stdout",
     "output_type": "stream",
     "text": [
      "002208.SZ\n"
     ]
    },
    {
     "name": "stderr",
     "output_type": "stream",
     "text": [
      "<ipython-input-240-1ac76a73e39a>:11: RuntimeWarning: invalid value encountered in double_scalars\n",
      "  coskew = (res_i*np.power(res_m,2)).mean() / ( np.sqrt( np.power(res_i,2).mean() ) *  np.power(res_m,2).mean())\n"
     ]
    },
    {
     "name": "stdout",
     "output_type": "stream",
     "text": [
      "002209.SZ\n"
     ]
    },
    {
     "name": "stderr",
     "output_type": "stream",
     "text": [
      "<ipython-input-240-1ac76a73e39a>:11: RuntimeWarning: invalid value encountered in double_scalars\n",
      "  coskew = (res_i*np.power(res_m,2)).mean() / ( np.sqrt( np.power(res_i,2).mean() ) *  np.power(res_m,2).mean())\n",
      "<ipython-input-240-1ac76a73e39a>:11: RuntimeWarning: invalid value encountered in double_scalars\n",
      "  coskew = (res_i*np.power(res_m,2)).mean() / ( np.sqrt( np.power(res_i,2).mean() ) *  np.power(res_m,2).mean())\n"
     ]
    },
    {
     "name": "stdout",
     "output_type": "stream",
     "text": [
      "002210.SZ\n"
     ]
    },
    {
     "name": "stderr",
     "output_type": "stream",
     "text": [
      "<ipython-input-240-1ac76a73e39a>:11: RuntimeWarning: invalid value encountered in double_scalars\n",
      "  coskew = (res_i*np.power(res_m,2)).mean() / ( np.sqrt( np.power(res_i,2).mean() ) *  np.power(res_m,2).mean())\n"
     ]
    },
    {
     "name": "stdout",
     "output_type": "stream",
     "text": [
      "002211.SZ\n",
      "002212.SZ\n"
     ]
    },
    {
     "name": "stderr",
     "output_type": "stream",
     "text": [
      "<ipython-input-240-1ac76a73e39a>:11: RuntimeWarning: invalid value encountered in double_scalars\n",
      "  coskew = (res_i*np.power(res_m,2)).mean() / ( np.sqrt( np.power(res_i,2).mean() ) *  np.power(res_m,2).mean())\n",
      "<ipython-input-240-1ac76a73e39a>:11: RuntimeWarning: invalid value encountered in double_scalars\n",
      "  coskew = (res_i*np.power(res_m,2)).mean() / ( np.sqrt( np.power(res_i,2).mean() ) *  np.power(res_m,2).mean())\n"
     ]
    },
    {
     "name": "stdout",
     "output_type": "stream",
     "text": [
      "002213.SZ\n"
     ]
    },
    {
     "name": "stderr",
     "output_type": "stream",
     "text": [
      "<ipython-input-240-1ac76a73e39a>:11: RuntimeWarning: invalid value encountered in double_scalars\n",
      "  coskew = (res_i*np.power(res_m,2)).mean() / ( np.sqrt( np.power(res_i,2).mean() ) *  np.power(res_m,2).mean())\n"
     ]
    },
    {
     "name": "stdout",
     "output_type": "stream",
     "text": [
      "002214.SZ\n",
      "002215.SZ\n",
      "002216.SZ\n",
      "002217.SZ\n"
     ]
    },
    {
     "name": "stderr",
     "output_type": "stream",
     "text": [
      "<ipython-input-240-1ac76a73e39a>:11: RuntimeWarning: invalid value encountered in double_scalars\n",
      "  coskew = (res_i*np.power(res_m,2)).mean() / ( np.sqrt( np.power(res_i,2).mean() ) *  np.power(res_m,2).mean())\n"
     ]
    },
    {
     "name": "stdout",
     "output_type": "stream",
     "text": [
      "002218.SZ\n"
     ]
    },
    {
     "name": "stderr",
     "output_type": "stream",
     "text": [
      "<ipython-input-240-1ac76a73e39a>:11: RuntimeWarning: invalid value encountered in double_scalars\n",
      "  coskew = (res_i*np.power(res_m,2)).mean() / ( np.sqrt( np.power(res_i,2).mean() ) *  np.power(res_m,2).mean())\n",
      "<ipython-input-240-1ac76a73e39a>:11: RuntimeWarning: invalid value encountered in double_scalars\n",
      "  coskew = (res_i*np.power(res_m,2)).mean() / ( np.sqrt( np.power(res_i,2).mean() ) *  np.power(res_m,2).mean())\n"
     ]
    },
    {
     "name": "stdout",
     "output_type": "stream",
     "text": [
      "002219.SZ\n",
      "002220.SZ\n",
      "002221.SZ\n",
      "002222.SZ\n",
      "002223.SZ\n",
      "002224.SZ\n",
      "002225.SZ\n"
     ]
    },
    {
     "name": "stderr",
     "output_type": "stream",
     "text": [
      "<ipython-input-240-1ac76a73e39a>:11: RuntimeWarning: invalid value encountered in double_scalars\n",
      "  coskew = (res_i*np.power(res_m,2)).mean() / ( np.sqrt( np.power(res_i,2).mean() ) *  np.power(res_m,2).mean())\n"
     ]
    },
    {
     "name": "stdout",
     "output_type": "stream",
     "text": [
      "002226.SZ\n",
      "002227.SZ\n"
     ]
    },
    {
     "name": "stderr",
     "output_type": "stream",
     "text": [
      "<ipython-input-240-1ac76a73e39a>:11: RuntimeWarning: invalid value encountered in double_scalars\n",
      "  coskew = (res_i*np.power(res_m,2)).mean() / ( np.sqrt( np.power(res_i,2).mean() ) *  np.power(res_m,2).mean())\n"
     ]
    },
    {
     "name": "stdout",
     "output_type": "stream",
     "text": [
      "002228.SZ\n",
      "002229.SZ\n",
      "002230.SZ\n",
      "002231.SZ\n",
      "002232.SZ\n"
     ]
    },
    {
     "name": "stderr",
     "output_type": "stream",
     "text": [
      "<ipython-input-240-1ac76a73e39a>:11: RuntimeWarning: invalid value encountered in double_scalars\n",
      "  coskew = (res_i*np.power(res_m,2)).mean() / ( np.sqrt( np.power(res_i,2).mean() ) *  np.power(res_m,2).mean())\n"
     ]
    },
    {
     "name": "stdout",
     "output_type": "stream",
     "text": [
      "002233.SZ\n",
      "002234.SZ\n"
     ]
    },
    {
     "name": "stderr",
     "output_type": "stream",
     "text": [
      "<ipython-input-240-1ac76a73e39a>:11: RuntimeWarning: invalid value encountered in double_scalars\n",
      "  coskew = (res_i*np.power(res_m,2)).mean() / ( np.sqrt( np.power(res_i,2).mean() ) *  np.power(res_m,2).mean())\n"
     ]
    },
    {
     "name": "stdout",
     "output_type": "stream",
     "text": [
      "002235.SZ\n",
      "002236.SZ\n",
      "002237.SZ\n",
      "002238.SZ\n"
     ]
    },
    {
     "name": "stderr",
     "output_type": "stream",
     "text": [
      "<ipython-input-240-1ac76a73e39a>:11: RuntimeWarning: invalid value encountered in double_scalars\n",
      "  coskew = (res_i*np.power(res_m,2)).mean() / ( np.sqrt( np.power(res_i,2).mean() ) *  np.power(res_m,2).mean())\n"
     ]
    },
    {
     "name": "stdout",
     "output_type": "stream",
     "text": [
      "002239.SZ\n",
      "002240.SZ\n",
      "002241.SZ\n",
      "002242.SZ\n",
      "002243.SZ\n"
     ]
    },
    {
     "name": "stderr",
     "output_type": "stream",
     "text": [
      "<ipython-input-240-1ac76a73e39a>:11: RuntimeWarning: invalid value encountered in double_scalars\n",
      "  coskew = (res_i*np.power(res_m,2)).mean() / ( np.sqrt( np.power(res_i,2).mean() ) *  np.power(res_m,2).mean())\n"
     ]
    },
    {
     "name": "stdout",
     "output_type": "stream",
     "text": [
      "002244.SZ\n",
      "002245.SZ\n",
      "002246.SZ\n",
      "002247.SZ\n",
      "002248.SZ\n",
      "002249.SZ\n",
      "002250.SZ\n",
      "002251.SZ\n",
      "002252.SZ\n",
      "002253.SZ\n",
      "002254.SZ\n",
      "002255.SZ\n"
     ]
    },
    {
     "name": "stderr",
     "output_type": "stream",
     "text": [
      "<ipython-input-240-1ac76a73e39a>:11: RuntimeWarning: invalid value encountered in double_scalars\n",
      "  coskew = (res_i*np.power(res_m,2)).mean() / ( np.sqrt( np.power(res_i,2).mean() ) *  np.power(res_m,2).mean())\n"
     ]
    },
    {
     "name": "stdout",
     "output_type": "stream",
     "text": [
      "002256.SZ\n",
      "002258.SZ\n",
      "002259.SZ\n",
      "002260.SZ\n",
      "002261.SZ\n",
      "002262.SZ\n"
     ]
    },
    {
     "name": "stderr",
     "output_type": "stream",
     "text": [
      "<ipython-input-240-1ac76a73e39a>:11: RuntimeWarning: invalid value encountered in double_scalars\n",
      "  coskew = (res_i*np.power(res_m,2)).mean() / ( np.sqrt( np.power(res_i,2).mean() ) *  np.power(res_m,2).mean())\n",
      "<ipython-input-240-1ac76a73e39a>:11: RuntimeWarning: invalid value encountered in double_scalars\n",
      "  coskew = (res_i*np.power(res_m,2)).mean() / ( np.sqrt( np.power(res_i,2).mean() ) *  np.power(res_m,2).mean())\n"
     ]
    },
    {
     "name": "stdout",
     "output_type": "stream",
     "text": [
      "002263.SZ\n"
     ]
    },
    {
     "name": "stderr",
     "output_type": "stream",
     "text": [
      "<ipython-input-240-1ac76a73e39a>:11: RuntimeWarning: invalid value encountered in double_scalars\n",
      "  coskew = (res_i*np.power(res_m,2)).mean() / ( np.sqrt( np.power(res_i,2).mean() ) *  np.power(res_m,2).mean())\n",
      "<ipython-input-240-1ac76a73e39a>:11: RuntimeWarning: invalid value encountered in double_scalars\n",
      "  coskew = (res_i*np.power(res_m,2)).mean() / ( np.sqrt( np.power(res_i,2).mean() ) *  np.power(res_m,2).mean())\n"
     ]
    },
    {
     "name": "stdout",
     "output_type": "stream",
     "text": [
      "002264.SZ\n",
      "002265.SZ\n"
     ]
    },
    {
     "name": "stderr",
     "output_type": "stream",
     "text": [
      "<ipython-input-240-1ac76a73e39a>:11: RuntimeWarning: invalid value encountered in double_scalars\n",
      "  coskew = (res_i*np.power(res_m,2)).mean() / ( np.sqrt( np.power(res_i,2).mean() ) *  np.power(res_m,2).mean())\n"
     ]
    },
    {
     "name": "stdout",
     "output_type": "stream",
     "text": [
      "002266.SZ\n",
      "002267.SZ\n",
      "002268.SZ\n"
     ]
    },
    {
     "name": "stderr",
     "output_type": "stream",
     "text": [
      "<ipython-input-240-1ac76a73e39a>:11: RuntimeWarning: invalid value encountered in double_scalars\n",
      "  coskew = (res_i*np.power(res_m,2)).mean() / ( np.sqrt( np.power(res_i,2).mean() ) *  np.power(res_m,2).mean())\n"
     ]
    },
    {
     "name": "stdout",
     "output_type": "stream",
     "text": [
      "002269.SZ\n"
     ]
    },
    {
     "name": "stderr",
     "output_type": "stream",
     "text": [
      "<ipython-input-240-1ac76a73e39a>:11: RuntimeWarning: invalid value encountered in double_scalars\n",
      "  coskew = (res_i*np.power(res_m,2)).mean() / ( np.sqrt( np.power(res_i,2).mean() ) *  np.power(res_m,2).mean())\n"
     ]
    },
    {
     "name": "stdout",
     "output_type": "stream",
     "text": [
      "002270.SZ\n",
      "002271.SZ\n",
      "002272.SZ\n",
      "002273.SZ\n"
     ]
    },
    {
     "name": "stderr",
     "output_type": "stream",
     "text": [
      "<ipython-input-240-1ac76a73e39a>:11: RuntimeWarning: invalid value encountered in double_scalars\n",
      "  coskew = (res_i*np.power(res_m,2)).mean() / ( np.sqrt( np.power(res_i,2).mean() ) *  np.power(res_m,2).mean())\n"
     ]
    },
    {
     "name": "stdout",
     "output_type": "stream",
     "text": [
      "002274.SZ\n",
      "002275.SZ\n"
     ]
    },
    {
     "name": "stderr",
     "output_type": "stream",
     "text": [
      "<ipython-input-240-1ac76a73e39a>:11: RuntimeWarning: invalid value encountered in double_scalars\n",
      "  coskew = (res_i*np.power(res_m,2)).mean() / ( np.sqrt( np.power(res_i,2).mean() ) *  np.power(res_m,2).mean())\n"
     ]
    },
    {
     "name": "stdout",
     "output_type": "stream",
     "text": [
      "002276.SZ\n",
      "002277.SZ\n",
      "002278.SZ\n",
      "002279.SZ\n",
      "002280.SZ\n",
      "002281.SZ\n",
      "002282.SZ\n",
      "002283.SZ\n"
     ]
    },
    {
     "name": "stderr",
     "output_type": "stream",
     "text": [
      "<ipython-input-240-1ac76a73e39a>:11: RuntimeWarning: invalid value encountered in double_scalars\n",
      "  coskew = (res_i*np.power(res_m,2)).mean() / ( np.sqrt( np.power(res_i,2).mean() ) *  np.power(res_m,2).mean())\n"
     ]
    },
    {
     "name": "stdout",
     "output_type": "stream",
     "text": [
      "002284.SZ\n"
     ]
    },
    {
     "name": "stderr",
     "output_type": "stream",
     "text": [
      "<ipython-input-240-1ac76a73e39a>:11: RuntimeWarning: invalid value encountered in double_scalars\n",
      "  coskew = (res_i*np.power(res_m,2)).mean() / ( np.sqrt( np.power(res_i,2).mean() ) *  np.power(res_m,2).mean())\n"
     ]
    },
    {
     "name": "stdout",
     "output_type": "stream",
     "text": [
      "002285.SZ\n"
     ]
    },
    {
     "name": "stderr",
     "output_type": "stream",
     "text": [
      "<ipython-input-240-1ac76a73e39a>:11: RuntimeWarning: invalid value encountered in double_scalars\n",
      "  coskew = (res_i*np.power(res_m,2)).mean() / ( np.sqrt( np.power(res_i,2).mean() ) *  np.power(res_m,2).mean())\n"
     ]
    },
    {
     "name": "stdout",
     "output_type": "stream",
     "text": [
      "002286.SZ\n"
     ]
    },
    {
     "name": "stderr",
     "output_type": "stream",
     "text": [
      "<ipython-input-240-1ac76a73e39a>:11: RuntimeWarning: invalid value encountered in double_scalars\n",
      "  coskew = (res_i*np.power(res_m,2)).mean() / ( np.sqrt( np.power(res_i,2).mean() ) *  np.power(res_m,2).mean())\n"
     ]
    },
    {
     "name": "stdout",
     "output_type": "stream",
     "text": [
      "002287.SZ\n",
      "002288.SZ\n"
     ]
    },
    {
     "name": "stderr",
     "output_type": "stream",
     "text": [
      "<ipython-input-240-1ac76a73e39a>:11: RuntimeWarning: invalid value encountered in double_scalars\n",
      "  coskew = (res_i*np.power(res_m,2)).mean() / ( np.sqrt( np.power(res_i,2).mean() ) *  np.power(res_m,2).mean())\n",
      "<ipython-input-240-1ac76a73e39a>:11: RuntimeWarning: invalid value encountered in double_scalars\n",
      "  coskew = (res_i*np.power(res_m,2)).mean() / ( np.sqrt( np.power(res_i,2).mean() ) *  np.power(res_m,2).mean())\n"
     ]
    },
    {
     "name": "stdout",
     "output_type": "stream",
     "text": [
      "002289.SZ\n",
      "002290.SZ\n"
     ]
    },
    {
     "name": "stderr",
     "output_type": "stream",
     "text": [
      "<ipython-input-240-1ac76a73e39a>:11: RuntimeWarning: invalid value encountered in double_scalars\n",
      "  coskew = (res_i*np.power(res_m,2)).mean() / ( np.sqrt( np.power(res_i,2).mean() ) *  np.power(res_m,2).mean())\n"
     ]
    },
    {
     "name": "stdout",
     "output_type": "stream",
     "text": [
      "002291.SZ\n",
      "002292.SZ\n",
      "002293.SZ\n",
      "002294.SZ\n"
     ]
    },
    {
     "name": "stderr",
     "output_type": "stream",
     "text": [
      "<ipython-input-240-1ac76a73e39a>:11: RuntimeWarning: invalid value encountered in double_scalars\n",
      "  coskew = (res_i*np.power(res_m,2)).mean() / ( np.sqrt( np.power(res_i,2).mean() ) *  np.power(res_m,2).mean())\n",
      "<ipython-input-240-1ac76a73e39a>:11: RuntimeWarning: invalid value encountered in double_scalars\n",
      "  coskew = (res_i*np.power(res_m,2)).mean() / ( np.sqrt( np.power(res_i,2).mean() ) *  np.power(res_m,2).mean())\n"
     ]
    },
    {
     "name": "stdout",
     "output_type": "stream",
     "text": [
      "002295.SZ\n"
     ]
    },
    {
     "name": "stderr",
     "output_type": "stream",
     "text": [
      "<ipython-input-240-1ac76a73e39a>:11: RuntimeWarning: invalid value encountered in double_scalars\n",
      "  coskew = (res_i*np.power(res_m,2)).mean() / ( np.sqrt( np.power(res_i,2).mean() ) *  np.power(res_m,2).mean())\n"
     ]
    },
    {
     "name": "stdout",
     "output_type": "stream",
     "text": [
      "002296.SZ\n"
     ]
    },
    {
     "name": "stderr",
     "output_type": "stream",
     "text": [
      "<ipython-input-240-1ac76a73e39a>:11: RuntimeWarning: invalid value encountered in double_scalars\n",
      "  coskew = (res_i*np.power(res_m,2)).mean() / ( np.sqrt( np.power(res_i,2).mean() ) *  np.power(res_m,2).mean())\n"
     ]
    },
    {
     "name": "stdout",
     "output_type": "stream",
     "text": [
      "002297.SZ\n"
     ]
    },
    {
     "name": "stderr",
     "output_type": "stream",
     "text": [
      "<ipython-input-240-1ac76a73e39a>:11: RuntimeWarning: invalid value encountered in double_scalars\n",
      "  coskew = (res_i*np.power(res_m,2)).mean() / ( np.sqrt( np.power(res_i,2).mean() ) *  np.power(res_m,2).mean())\n"
     ]
    },
    {
     "name": "stdout",
     "output_type": "stream",
     "text": [
      "002298.SZ\n"
     ]
    },
    {
     "name": "stderr",
     "output_type": "stream",
     "text": [
      "<ipython-input-240-1ac76a73e39a>:11: RuntimeWarning: invalid value encountered in double_scalars\n",
      "  coskew = (res_i*np.power(res_m,2)).mean() / ( np.sqrt( np.power(res_i,2).mean() ) *  np.power(res_m,2).mean())\n"
     ]
    },
    {
     "name": "stdout",
     "output_type": "stream",
     "text": [
      "002299.SZ\n",
      "002300.SZ\n"
     ]
    },
    {
     "name": "stderr",
     "output_type": "stream",
     "text": [
      "<ipython-input-240-1ac76a73e39a>:11: RuntimeWarning: invalid value encountered in double_scalars\n",
      "  coskew = (res_i*np.power(res_m,2)).mean() / ( np.sqrt( np.power(res_i,2).mean() ) *  np.power(res_m,2).mean())\n",
      "<ipython-input-240-1ac76a73e39a>:11: RuntimeWarning: invalid value encountered in double_scalars\n",
      "  coskew = (res_i*np.power(res_m,2)).mean() / ( np.sqrt( np.power(res_i,2).mean() ) *  np.power(res_m,2).mean())\n"
     ]
    },
    {
     "name": "stdout",
     "output_type": "stream",
     "text": [
      "002301.SZ\n",
      "002302.SZ\n",
      "002303.SZ\n",
      "002304.SZ\n"
     ]
    },
    {
     "name": "stderr",
     "output_type": "stream",
     "text": [
      "<ipython-input-240-1ac76a73e39a>:11: RuntimeWarning: invalid value encountered in double_scalars\n",
      "  coskew = (res_i*np.power(res_m,2)).mean() / ( np.sqrt( np.power(res_i,2).mean() ) *  np.power(res_m,2).mean())\n"
     ]
    },
    {
     "name": "stdout",
     "output_type": "stream",
     "text": [
      "002305.SZ\n",
      "002306.SZ\n",
      "002307.SZ\n"
     ]
    },
    {
     "name": "stderr",
     "output_type": "stream",
     "text": [
      "<ipython-input-240-1ac76a73e39a>:11: RuntimeWarning: invalid value encountered in double_scalars\n",
      "  coskew = (res_i*np.power(res_m,2)).mean() / ( np.sqrt( np.power(res_i,2).mean() ) *  np.power(res_m,2).mean())\n"
     ]
    },
    {
     "name": "stdout",
     "output_type": "stream",
     "text": [
      "002308.SZ\n"
     ]
    },
    {
     "name": "stderr",
     "output_type": "stream",
     "text": [
      "<ipython-input-240-1ac76a73e39a>:11: RuntimeWarning: invalid value encountered in double_scalars\n",
      "  coskew = (res_i*np.power(res_m,2)).mean() / ( np.sqrt( np.power(res_i,2).mean() ) *  np.power(res_m,2).mean())\n",
      "<ipython-input-240-1ac76a73e39a>:11: RuntimeWarning: invalid value encountered in double_scalars\n",
      "  coskew = (res_i*np.power(res_m,2)).mean() / ( np.sqrt( np.power(res_i,2).mean() ) *  np.power(res_m,2).mean())\n",
      "<ipython-input-240-1ac76a73e39a>:11: RuntimeWarning: invalid value encountered in double_scalars\n",
      "  coskew = (res_i*np.power(res_m,2)).mean() / ( np.sqrt( np.power(res_i,2).mean() ) *  np.power(res_m,2).mean())\n"
     ]
    },
    {
     "name": "stdout",
     "output_type": "stream",
     "text": [
      "002309.SZ\n",
      "002310.SZ\n"
     ]
    },
    {
     "name": "stderr",
     "output_type": "stream",
     "text": [
      "<ipython-input-240-1ac76a73e39a>:11: RuntimeWarning: invalid value encountered in double_scalars\n",
      "  coskew = (res_i*np.power(res_m,2)).mean() / ( np.sqrt( np.power(res_i,2).mean() ) *  np.power(res_m,2).mean())\n"
     ]
    },
    {
     "name": "stdout",
     "output_type": "stream",
     "text": [
      "002311.SZ\n",
      "002312.SZ\n",
      "002313.SZ\n",
      "002314.SZ\n",
      "002315.SZ\n"
     ]
    },
    {
     "name": "stderr",
     "output_type": "stream",
     "text": [
      "<ipython-input-240-1ac76a73e39a>:11: RuntimeWarning: invalid value encountered in double_scalars\n",
      "  coskew = (res_i*np.power(res_m,2)).mean() / ( np.sqrt( np.power(res_i,2).mean() ) *  np.power(res_m,2).mean())\n"
     ]
    },
    {
     "name": "stdout",
     "output_type": "stream",
     "text": [
      "002316.SZ\n",
      "002317.SZ\n",
      "002318.SZ\n"
     ]
    },
    {
     "name": "stderr",
     "output_type": "stream",
     "text": [
      "<ipython-input-240-1ac76a73e39a>:11: RuntimeWarning: invalid value encountered in double_scalars\n",
      "  coskew = (res_i*np.power(res_m,2)).mean() / ( np.sqrt( np.power(res_i,2).mean() ) *  np.power(res_m,2).mean())\n",
      "<ipython-input-240-1ac76a73e39a>:11: RuntimeWarning: invalid value encountered in double_scalars\n",
      "  coskew = (res_i*np.power(res_m,2)).mean() / ( np.sqrt( np.power(res_i,2).mean() ) *  np.power(res_m,2).mean())\n"
     ]
    },
    {
     "name": "stdout",
     "output_type": "stream",
     "text": [
      "002319.SZ\n",
      "002320.SZ\n",
      "002321.SZ\n",
      "002322.SZ\n",
      "002323.SZ\n",
      "002324.SZ\n",
      "002325.SZ\n",
      "002326.SZ\n"
     ]
    },
    {
     "name": "stderr",
     "output_type": "stream",
     "text": [
      "<ipython-input-240-1ac76a73e39a>:11: RuntimeWarning: invalid value encountered in double_scalars\n",
      "  coskew = (res_i*np.power(res_m,2)).mean() / ( np.sqrt( np.power(res_i,2).mean() ) *  np.power(res_m,2).mean())\n"
     ]
    },
    {
     "name": "stdout",
     "output_type": "stream",
     "text": [
      "002327.SZ\n"
     ]
    },
    {
     "name": "stderr",
     "output_type": "stream",
     "text": [
      "<ipython-input-240-1ac76a73e39a>:11: RuntimeWarning: invalid value encountered in double_scalars\n",
      "  coskew = (res_i*np.power(res_m,2)).mean() / ( np.sqrt( np.power(res_i,2).mean() ) *  np.power(res_m,2).mean())\n"
     ]
    },
    {
     "name": "stdout",
     "output_type": "stream",
     "text": [
      "002328.SZ\n"
     ]
    },
    {
     "name": "stderr",
     "output_type": "stream",
     "text": [
      "<ipython-input-240-1ac76a73e39a>:11: RuntimeWarning: invalid value encountered in double_scalars\n",
      "  coskew = (res_i*np.power(res_m,2)).mean() / ( np.sqrt( np.power(res_i,2).mean() ) *  np.power(res_m,2).mean())\n",
      "<ipython-input-240-1ac76a73e39a>:11: RuntimeWarning: invalid value encountered in double_scalars\n",
      "  coskew = (res_i*np.power(res_m,2)).mean() / ( np.sqrt( np.power(res_i,2).mean() ) *  np.power(res_m,2).mean())\n"
     ]
    },
    {
     "name": "stdout",
     "output_type": "stream",
     "text": [
      "002329.SZ\n",
      "002330.SZ\n"
     ]
    },
    {
     "name": "stderr",
     "output_type": "stream",
     "text": [
      "<ipython-input-240-1ac76a73e39a>:11: RuntimeWarning: invalid value encountered in double_scalars\n",
      "  coskew = (res_i*np.power(res_m,2)).mean() / ( np.sqrt( np.power(res_i,2).mean() ) *  np.power(res_m,2).mean())\n"
     ]
    },
    {
     "name": "stdout",
     "output_type": "stream",
     "text": [
      "002331.SZ\n",
      "002332.SZ\n",
      "002333.SZ\n",
      "002334.SZ\n"
     ]
    },
    {
     "name": "stderr",
     "output_type": "stream",
     "text": [
      "<ipython-input-240-1ac76a73e39a>:11: RuntimeWarning: invalid value encountered in double_scalars\n",
      "  coskew = (res_i*np.power(res_m,2)).mean() / ( np.sqrt( np.power(res_i,2).mean() ) *  np.power(res_m,2).mean())\n"
     ]
    },
    {
     "name": "stdout",
     "output_type": "stream",
     "text": [
      "002335.SZ\n",
      "002336.SZ\n",
      "002337.SZ\n",
      "002338.SZ\n",
      "002339.SZ\n",
      "002340.SZ\n",
      "002341.SZ\n",
      "002342.SZ\n",
      "002343.SZ\n"
     ]
    },
    {
     "name": "stderr",
     "output_type": "stream",
     "text": [
      "<ipython-input-240-1ac76a73e39a>:11: RuntimeWarning: invalid value encountered in double_scalars\n",
      "  coskew = (res_i*np.power(res_m,2)).mean() / ( np.sqrt( np.power(res_i,2).mean() ) *  np.power(res_m,2).mean())\n",
      "<ipython-input-240-1ac76a73e39a>:11: RuntimeWarning: invalid value encountered in double_scalars\n",
      "  coskew = (res_i*np.power(res_m,2)).mean() / ( np.sqrt( np.power(res_i,2).mean() ) *  np.power(res_m,2).mean())\n"
     ]
    },
    {
     "name": "stdout",
     "output_type": "stream",
     "text": [
      "002344.SZ\n",
      "002345.SZ\n"
     ]
    },
    {
     "name": "stderr",
     "output_type": "stream",
     "text": [
      "<ipython-input-240-1ac76a73e39a>:11: RuntimeWarning: invalid value encountered in double_scalars\n",
      "  coskew = (res_i*np.power(res_m,2)).mean() / ( np.sqrt( np.power(res_i,2).mean() ) *  np.power(res_m,2).mean())\n"
     ]
    },
    {
     "name": "stdout",
     "output_type": "stream",
     "text": [
      "002346.SZ\n"
     ]
    },
    {
     "name": "stderr",
     "output_type": "stream",
     "text": [
      "<ipython-input-240-1ac76a73e39a>:11: RuntimeWarning: invalid value encountered in double_scalars\n",
      "  coskew = (res_i*np.power(res_m,2)).mean() / ( np.sqrt( np.power(res_i,2).mean() ) *  np.power(res_m,2).mean())\n",
      "<ipython-input-240-1ac76a73e39a>:11: RuntimeWarning: invalid value encountered in double_scalars\n",
      "  coskew = (res_i*np.power(res_m,2)).mean() / ( np.sqrt( np.power(res_i,2).mean() ) *  np.power(res_m,2).mean())\n",
      "<ipython-input-240-1ac76a73e39a>:11: RuntimeWarning: invalid value encountered in double_scalars\n",
      "  coskew = (res_i*np.power(res_m,2)).mean() / ( np.sqrt( np.power(res_i,2).mean() ) *  np.power(res_m,2).mean())\n"
     ]
    },
    {
     "name": "stdout",
     "output_type": "stream",
     "text": [
      "002347.SZ\n",
      "002348.SZ\n",
      "002349.SZ\n",
      "002350.SZ\n",
      "002351.SZ\n"
     ]
    },
    {
     "name": "stderr",
     "output_type": "stream",
     "text": [
      "<ipython-input-240-1ac76a73e39a>:11: RuntimeWarning: invalid value encountered in double_scalars\n",
      "  coskew = (res_i*np.power(res_m,2)).mean() / ( np.sqrt( np.power(res_i,2).mean() ) *  np.power(res_m,2).mean())\n",
      "<ipython-input-240-1ac76a73e39a>:11: RuntimeWarning: invalid value encountered in double_scalars\n",
      "  coskew = (res_i*np.power(res_m,2)).mean() / ( np.sqrt( np.power(res_i,2).mean() ) *  np.power(res_m,2).mean())\n"
     ]
    },
    {
     "name": "stdout",
     "output_type": "stream",
     "text": [
      "002352.SZ\n"
     ]
    },
    {
     "name": "stderr",
     "output_type": "stream",
     "text": [
      "<ipython-input-240-1ac76a73e39a>:11: RuntimeWarning: invalid value encountered in double_scalars\n",
      "  coskew = (res_i*np.power(res_m,2)).mean() / ( np.sqrt( np.power(res_i,2).mean() ) *  np.power(res_m,2).mean())\n"
     ]
    },
    {
     "name": "stdout",
     "output_type": "stream",
     "text": [
      "002353.SZ\n",
      "002354.SZ\n",
      "002355.SZ\n",
      "002356.SZ\n",
      "002357.SZ\n",
      "002358.SZ\n",
      "002359.SZ\n",
      "002360.SZ\n",
      "002361.SZ\n",
      "002362.SZ\n",
      "002363.SZ\n",
      "002364.SZ\n",
      "002365.SZ\n",
      "002366.SZ\n"
     ]
    },
    {
     "name": "stderr",
     "output_type": "stream",
     "text": [
      "<ipython-input-240-1ac76a73e39a>:11: RuntimeWarning: invalid value encountered in double_scalars\n",
      "  coskew = (res_i*np.power(res_m,2)).mean() / ( np.sqrt( np.power(res_i,2).mean() ) *  np.power(res_m,2).mean())\n"
     ]
    },
    {
     "name": "stdout",
     "output_type": "stream",
     "text": [
      "002367.SZ\n"
     ]
    },
    {
     "name": "stderr",
     "output_type": "stream",
     "text": [
      "<ipython-input-240-1ac76a73e39a>:11: RuntimeWarning: invalid value encountered in double_scalars\n",
      "  coskew = (res_i*np.power(res_m,2)).mean() / ( np.sqrt( np.power(res_i,2).mean() ) *  np.power(res_m,2).mean())\n"
     ]
    },
    {
     "name": "stdout",
     "output_type": "stream",
     "text": [
      "002368.SZ\n",
      "002369.SZ\n",
      "002370.SZ\n",
      "002371.SZ\n",
      "002372.SZ\n",
      "002373.SZ\n"
     ]
    },
    {
     "name": "stderr",
     "output_type": "stream",
     "text": [
      "<ipython-input-240-1ac76a73e39a>:11: RuntimeWarning: invalid value encountered in double_scalars\n",
      "  coskew = (res_i*np.power(res_m,2)).mean() / ( np.sqrt( np.power(res_i,2).mean() ) *  np.power(res_m,2).mean())\n"
     ]
    },
    {
     "name": "stdout",
     "output_type": "stream",
     "text": [
      "002374.SZ\n",
      "002375.SZ\n"
     ]
    },
    {
     "name": "stderr",
     "output_type": "stream",
     "text": [
      "<ipython-input-240-1ac76a73e39a>:11: RuntimeWarning: invalid value encountered in double_scalars\n",
      "  coskew = (res_i*np.power(res_m,2)).mean() / ( np.sqrt( np.power(res_i,2).mean() ) *  np.power(res_m,2).mean())\n"
     ]
    },
    {
     "name": "stdout",
     "output_type": "stream",
     "text": [
      "002376.SZ\n",
      "002377.SZ\n",
      "002378.SZ\n",
      "002379.SZ\n",
      "002380.SZ\n",
      "002381.SZ\n"
     ]
    },
    {
     "name": "stderr",
     "output_type": "stream",
     "text": [
      "<ipython-input-240-1ac76a73e39a>:11: RuntimeWarning: invalid value encountered in double_scalars\n",
      "  coskew = (res_i*np.power(res_m,2)).mean() / ( np.sqrt( np.power(res_i,2).mean() ) *  np.power(res_m,2).mean())\n"
     ]
    },
    {
     "name": "stdout",
     "output_type": "stream",
     "text": [
      "002382.SZ\n",
      "002383.SZ\n"
     ]
    },
    {
     "name": "stderr",
     "output_type": "stream",
     "text": [
      "<ipython-input-240-1ac76a73e39a>:11: RuntimeWarning: invalid value encountered in double_scalars\n",
      "  coskew = (res_i*np.power(res_m,2)).mean() / ( np.sqrt( np.power(res_i,2).mean() ) *  np.power(res_m,2).mean())\n"
     ]
    },
    {
     "name": "stdout",
     "output_type": "stream",
     "text": [
      "002384.SZ\n",
      "002385.SZ\n",
      "002386.SZ\n",
      "002387.SZ\n",
      "002388.SZ\n",
      "002389.SZ\n",
      "002390.SZ\n",
      "002391.SZ\n",
      "002392.SZ\n",
      "002393.SZ\n",
      "002394.SZ\n"
     ]
    },
    {
     "name": "stderr",
     "output_type": "stream",
     "text": [
      "<ipython-input-240-1ac76a73e39a>:11: RuntimeWarning: invalid value encountered in double_scalars\n",
      "  coskew = (res_i*np.power(res_m,2)).mean() / ( np.sqrt( np.power(res_i,2).mean() ) *  np.power(res_m,2).mean())\n"
     ]
    },
    {
     "name": "stdout",
     "output_type": "stream",
     "text": [
      "002395.SZ\n",
      "002396.SZ\n"
     ]
    },
    {
     "name": "stderr",
     "output_type": "stream",
     "text": [
      "<ipython-input-240-1ac76a73e39a>:11: RuntimeWarning: invalid value encountered in double_scalars\n",
      "  coskew = (res_i*np.power(res_m,2)).mean() / ( np.sqrt( np.power(res_i,2).mean() ) *  np.power(res_m,2).mean())\n"
     ]
    },
    {
     "name": "stdout",
     "output_type": "stream",
     "text": [
      "002397.SZ\n",
      "002398.SZ\n",
      "002399.SZ\n",
      "002400.SZ\n",
      "002401.SZ\n"
     ]
    },
    {
     "name": "stderr",
     "output_type": "stream",
     "text": [
      "<ipython-input-240-1ac76a73e39a>:11: RuntimeWarning: invalid value encountered in double_scalars\n",
      "  coskew = (res_i*np.power(res_m,2)).mean() / ( np.sqrt( np.power(res_i,2).mean() ) *  np.power(res_m,2).mean())\n"
     ]
    },
    {
     "name": "stdout",
     "output_type": "stream",
     "text": [
      "002402.SZ\n"
     ]
    },
    {
     "name": "stderr",
     "output_type": "stream",
     "text": [
      "<ipython-input-240-1ac76a73e39a>:11: RuntimeWarning: invalid value encountered in double_scalars\n",
      "  coskew = (res_i*np.power(res_m,2)).mean() / ( np.sqrt( np.power(res_i,2).mean() ) *  np.power(res_m,2).mean())\n"
     ]
    },
    {
     "name": "stdout",
     "output_type": "stream",
     "text": [
      "002403.SZ\n",
      "002404.SZ\n",
      "002405.SZ\n",
      "002406.SZ\n",
      "002407.SZ\n",
      "002408.SZ\n"
     ]
    },
    {
     "name": "stderr",
     "output_type": "stream",
     "text": [
      "<ipython-input-240-1ac76a73e39a>:11: RuntimeWarning: invalid value encountered in double_scalars\n",
      "  coskew = (res_i*np.power(res_m,2)).mean() / ( np.sqrt( np.power(res_i,2).mean() ) *  np.power(res_m,2).mean())\n"
     ]
    },
    {
     "name": "stdout",
     "output_type": "stream",
     "text": [
      "002409.SZ\n",
      "002410.SZ\n",
      "002411.SZ\n"
     ]
    },
    {
     "name": "stderr",
     "output_type": "stream",
     "text": [
      "<ipython-input-240-1ac76a73e39a>:11: RuntimeWarning: invalid value encountered in double_scalars\n",
      "  coskew = (res_i*np.power(res_m,2)).mean() / ( np.sqrt( np.power(res_i,2).mean() ) *  np.power(res_m,2).mean())\n"
     ]
    },
    {
     "name": "stdout",
     "output_type": "stream",
     "text": [
      "002412.SZ\n"
     ]
    },
    {
     "name": "stderr",
     "output_type": "stream",
     "text": [
      "<ipython-input-240-1ac76a73e39a>:11: RuntimeWarning: invalid value encountered in double_scalars\n",
      "  coskew = (res_i*np.power(res_m,2)).mean() / ( np.sqrt( np.power(res_i,2).mean() ) *  np.power(res_m,2).mean())\n",
      "<ipython-input-240-1ac76a73e39a>:11: RuntimeWarning: invalid value encountered in double_scalars\n",
      "  coskew = (res_i*np.power(res_m,2)).mean() / ( np.sqrt( np.power(res_i,2).mean() ) *  np.power(res_m,2).mean())\n",
      "<ipython-input-240-1ac76a73e39a>:11: RuntimeWarning: invalid value encountered in double_scalars\n",
      "  coskew = (res_i*np.power(res_m,2)).mean() / ( np.sqrt( np.power(res_i,2).mean() ) *  np.power(res_m,2).mean())\n"
     ]
    },
    {
     "name": "stdout",
     "output_type": "stream",
     "text": [
      "002413.SZ\n",
      "002414.SZ\n"
     ]
    },
    {
     "name": "stderr",
     "output_type": "stream",
     "text": [
      "<ipython-input-240-1ac76a73e39a>:11: RuntimeWarning: invalid value encountered in double_scalars\n",
      "  coskew = (res_i*np.power(res_m,2)).mean() / ( np.sqrt( np.power(res_i,2).mean() ) *  np.power(res_m,2).mean())\n"
     ]
    },
    {
     "name": "stdout",
     "output_type": "stream",
     "text": [
      "002415.SZ\n"
     ]
    },
    {
     "name": "stderr",
     "output_type": "stream",
     "text": [
      "<ipython-input-240-1ac76a73e39a>:11: RuntimeWarning: invalid value encountered in double_scalars\n",
      "  coskew = (res_i*np.power(res_m,2)).mean() / ( np.sqrt( np.power(res_i,2).mean() ) *  np.power(res_m,2).mean())\n"
     ]
    },
    {
     "name": "stdout",
     "output_type": "stream",
     "text": [
      "002416.SZ\n",
      "002417.SZ\n",
      "002418.SZ\n",
      "002419.SZ\n",
      "002420.SZ\n",
      "002421.SZ\n",
      "002422.SZ\n",
      "002423.SZ\n",
      "002424.SZ\n",
      "002425.SZ\n"
     ]
    },
    {
     "name": "stderr",
     "output_type": "stream",
     "text": [
      "<ipython-input-240-1ac76a73e39a>:11: RuntimeWarning: invalid value encountered in double_scalars\n",
      "  coskew = (res_i*np.power(res_m,2)).mean() / ( np.sqrt( np.power(res_i,2).mean() ) *  np.power(res_m,2).mean())\n",
      "<ipython-input-240-1ac76a73e39a>:11: RuntimeWarning: invalid value encountered in double_scalars\n",
      "  coskew = (res_i*np.power(res_m,2)).mean() / ( np.sqrt( np.power(res_i,2).mean() ) *  np.power(res_m,2).mean())\n"
     ]
    },
    {
     "name": "stdout",
     "output_type": "stream",
     "text": [
      "002426.SZ\n",
      "002427.SZ\n",
      "002428.SZ\n",
      "002429.SZ\n",
      "002430.SZ\n",
      "002431.SZ\n",
      "002432.SZ\n",
      "002433.SZ\n",
      "002434.SZ\n",
      "002435.SZ\n",
      "002436.SZ\n",
      "002437.SZ\n",
      "002438.SZ\n",
      "002439.SZ\n",
      "002440.SZ\n",
      "002441.SZ\n",
      "002442.SZ\n",
      "002443.SZ\n",
      "002444.SZ\n"
     ]
    },
    {
     "name": "stderr",
     "output_type": "stream",
     "text": [
      "<ipython-input-240-1ac76a73e39a>:11: RuntimeWarning: invalid value encountered in double_scalars\n",
      "  coskew = (res_i*np.power(res_m,2)).mean() / ( np.sqrt( np.power(res_i,2).mean() ) *  np.power(res_m,2).mean())\n"
     ]
    },
    {
     "name": "stdout",
     "output_type": "stream",
     "text": [
      "002445.SZ\n"
     ]
    },
    {
     "name": "stderr",
     "output_type": "stream",
     "text": [
      "<ipython-input-240-1ac76a73e39a>:11: RuntimeWarning: invalid value encountered in double_scalars\n",
      "  coskew = (res_i*np.power(res_m,2)).mean() / ( np.sqrt( np.power(res_i,2).mean() ) *  np.power(res_m,2).mean())\n"
     ]
    },
    {
     "name": "stdout",
     "output_type": "stream",
     "text": [
      "002446.SZ\n",
      "002447.SZ\n",
      "002448.SZ\n"
     ]
    },
    {
     "name": "stderr",
     "output_type": "stream",
     "text": [
      "<ipython-input-240-1ac76a73e39a>:11: RuntimeWarning: invalid value encountered in double_scalars\n",
      "  coskew = (res_i*np.power(res_m,2)).mean() / ( np.sqrt( np.power(res_i,2).mean() ) *  np.power(res_m,2).mean())\n"
     ]
    },
    {
     "name": "stdout",
     "output_type": "stream",
     "text": [
      "002449.SZ\n"
     ]
    },
    {
     "name": "stderr",
     "output_type": "stream",
     "text": [
      "<ipython-input-240-1ac76a73e39a>:11: RuntimeWarning: invalid value encountered in double_scalars\n",
      "  coskew = (res_i*np.power(res_m,2)).mean() / ( np.sqrt( np.power(res_i,2).mean() ) *  np.power(res_m,2).mean())\n",
      "<ipython-input-240-1ac76a73e39a>:11: RuntimeWarning: invalid value encountered in double_scalars\n",
      "  coskew = (res_i*np.power(res_m,2)).mean() / ( np.sqrt( np.power(res_i,2).mean() ) *  np.power(res_m,2).mean())\n"
     ]
    },
    {
     "name": "stdout",
     "output_type": "stream",
     "text": [
      "002450.SZ\n",
      "002451.SZ\n",
      "002452.SZ\n"
     ]
    },
    {
     "name": "stderr",
     "output_type": "stream",
     "text": [
      "<ipython-input-240-1ac76a73e39a>:11: RuntimeWarning: invalid value encountered in double_scalars\n",
      "  coskew = (res_i*np.power(res_m,2)).mean() / ( np.sqrt( np.power(res_i,2).mean() ) *  np.power(res_m,2).mean())\n"
     ]
    },
    {
     "name": "stdout",
     "output_type": "stream",
     "text": [
      "002453.SZ\n",
      "002454.SZ\n",
      "002455.SZ\n",
      "002456.SZ\n",
      "002457.SZ\n",
      "002458.SZ\n",
      "002459.SZ\n",
      "002460.SZ\n",
      "002461.SZ\n",
      "002462.SZ\n",
      "002463.SZ\n"
     ]
    },
    {
     "name": "stderr",
     "output_type": "stream",
     "text": [
      "<ipython-input-240-1ac76a73e39a>:11: RuntimeWarning: invalid value encountered in double_scalars\n",
      "  coskew = (res_i*np.power(res_m,2)).mean() / ( np.sqrt( np.power(res_i,2).mean() ) *  np.power(res_m,2).mean())\n",
      "<ipython-input-240-1ac76a73e39a>:11: RuntimeWarning: invalid value encountered in double_scalars\n",
      "  coskew = (res_i*np.power(res_m,2)).mean() / ( np.sqrt( np.power(res_i,2).mean() ) *  np.power(res_m,2).mean())\n"
     ]
    },
    {
     "name": "stdout",
     "output_type": "stream",
     "text": [
      "002464.SZ\n",
      "002465.SZ\n",
      "002466.SZ\n"
     ]
    },
    {
     "name": "stderr",
     "output_type": "stream",
     "text": [
      "<ipython-input-240-1ac76a73e39a>:11: RuntimeWarning: invalid value encountered in double_scalars\n",
      "  coskew = (res_i*np.power(res_m,2)).mean() / ( np.sqrt( np.power(res_i,2).mean() ) *  np.power(res_m,2).mean())\n"
     ]
    },
    {
     "name": "stdout",
     "output_type": "stream",
     "text": [
      "002467.SZ\n",
      "002468.SZ\n",
      "002469.SZ\n",
      "002470.SZ\n",
      "002471.SZ\n",
      "002472.SZ\n",
      "002473.SZ\n",
      "002474.SZ\n",
      "002475.SZ\n"
     ]
    },
    {
     "name": "stderr",
     "output_type": "stream",
     "text": [
      "<ipython-input-240-1ac76a73e39a>:11: RuntimeWarning: invalid value encountered in double_scalars\n",
      "  coskew = (res_i*np.power(res_m,2)).mean() / ( np.sqrt( np.power(res_i,2).mean() ) *  np.power(res_m,2).mean())\n"
     ]
    },
    {
     "name": "stdout",
     "output_type": "stream",
     "text": [
      "002476.SZ\n",
      "002477.SZ\n",
      "002478.SZ\n",
      "002479.SZ\n",
      "002480.SZ\n",
      "002481.SZ\n"
     ]
    },
    {
     "name": "stderr",
     "output_type": "stream",
     "text": [
      "<ipython-input-240-1ac76a73e39a>:11: RuntimeWarning: invalid value encountered in double_scalars\n",
      "  coskew = (res_i*np.power(res_m,2)).mean() / ( np.sqrt( np.power(res_i,2).mean() ) *  np.power(res_m,2).mean())\n"
     ]
    },
    {
     "name": "stdout",
     "output_type": "stream",
     "text": [
      "002482.SZ\n"
     ]
    },
    {
     "name": "stderr",
     "output_type": "stream",
     "text": [
      "<ipython-input-240-1ac76a73e39a>:11: RuntimeWarning: invalid value encountered in double_scalars\n",
      "  coskew = (res_i*np.power(res_m,2)).mean() / ( np.sqrt( np.power(res_i,2).mean() ) *  np.power(res_m,2).mean())\n"
     ]
    },
    {
     "name": "stdout",
     "output_type": "stream",
     "text": [
      "002483.SZ\n"
     ]
    },
    {
     "name": "stderr",
     "output_type": "stream",
     "text": [
      "<ipython-input-240-1ac76a73e39a>:11: RuntimeWarning: invalid value encountered in double_scalars\n",
      "  coskew = (res_i*np.power(res_m,2)).mean() / ( np.sqrt( np.power(res_i,2).mean() ) *  np.power(res_m,2).mean())\n"
     ]
    },
    {
     "name": "stdout",
     "output_type": "stream",
     "text": [
      "002484.SZ\n",
      "002485.SZ\n"
     ]
    },
    {
     "name": "stderr",
     "output_type": "stream",
     "text": [
      "<ipython-input-240-1ac76a73e39a>:11: RuntimeWarning: invalid value encountered in double_scalars\n",
      "  coskew = (res_i*np.power(res_m,2)).mean() / ( np.sqrt( np.power(res_i,2).mean() ) *  np.power(res_m,2).mean())\n"
     ]
    },
    {
     "name": "stdout",
     "output_type": "stream",
     "text": [
      "002486.SZ\n",
      "002487.SZ\n",
      "002488.SZ\n",
      "002489.SZ\n",
      "002490.SZ\n",
      "002491.SZ\n",
      "002492.SZ\n",
      "002493.SZ\n",
      "002494.SZ\n",
      "002495.SZ\n",
      "002496.SZ\n",
      "002497.SZ\n",
      "002498.SZ\n",
      "002499.SZ\n",
      "002500.SZ\n",
      "002501.SZ\n",
      "002502.SZ\n"
     ]
    },
    {
     "name": "stderr",
     "output_type": "stream",
     "text": [
      "<ipython-input-240-1ac76a73e39a>:11: RuntimeWarning: invalid value encountered in double_scalars\n",
      "  coskew = (res_i*np.power(res_m,2)).mean() / ( np.sqrt( np.power(res_i,2).mean() ) *  np.power(res_m,2).mean())\n",
      "<ipython-input-240-1ac76a73e39a>:11: RuntimeWarning: invalid value encountered in double_scalars\n",
      "  coskew = (res_i*np.power(res_m,2)).mean() / ( np.sqrt( np.power(res_i,2).mean() ) *  np.power(res_m,2).mean())\n"
     ]
    },
    {
     "name": "stdout",
     "output_type": "stream",
     "text": [
      "002503.SZ\n",
      "002504.SZ\n",
      "002505.SZ\n",
      "002506.SZ\n"
     ]
    },
    {
     "name": "stderr",
     "output_type": "stream",
     "text": [
      "<ipython-input-240-1ac76a73e39a>:11: RuntimeWarning: invalid value encountered in double_scalars\n",
      "  coskew = (res_i*np.power(res_m,2)).mean() / ( np.sqrt( np.power(res_i,2).mean() ) *  np.power(res_m,2).mean())\n"
     ]
    },
    {
     "name": "stdout",
     "output_type": "stream",
     "text": [
      "002507.SZ\n",
      "002508.SZ\n"
     ]
    },
    {
     "name": "stderr",
     "output_type": "stream",
     "text": [
      "<ipython-input-240-1ac76a73e39a>:11: RuntimeWarning: invalid value encountered in double_scalars\n",
      "  coskew = (res_i*np.power(res_m,2)).mean() / ( np.sqrt( np.power(res_i,2).mean() ) *  np.power(res_m,2).mean())\n"
     ]
    },
    {
     "name": "stdout",
     "output_type": "stream",
     "text": [
      "002509.SZ\n",
      "002510.SZ\n",
      "002511.SZ\n",
      "002512.SZ\n",
      "002513.SZ\n"
     ]
    },
    {
     "name": "stderr",
     "output_type": "stream",
     "text": [
      "<ipython-input-240-1ac76a73e39a>:11: RuntimeWarning: invalid value encountered in double_scalars\n",
      "  coskew = (res_i*np.power(res_m,2)).mean() / ( np.sqrt( np.power(res_i,2).mean() ) *  np.power(res_m,2).mean())\n"
     ]
    },
    {
     "name": "stdout",
     "output_type": "stream",
     "text": [
      "002514.SZ\n",
      "002515.SZ\n",
      "002516.SZ\n",
      "002517.SZ\n",
      "002518.SZ\n"
     ]
    },
    {
     "name": "stderr",
     "output_type": "stream",
     "text": [
      "<ipython-input-240-1ac76a73e39a>:11: RuntimeWarning: invalid value encountered in double_scalars\n",
      "  coskew = (res_i*np.power(res_m,2)).mean() / ( np.sqrt( np.power(res_i,2).mean() ) *  np.power(res_m,2).mean())\n"
     ]
    },
    {
     "name": "stdout",
     "output_type": "stream",
     "text": [
      "002519.SZ\n",
      "002520.SZ\n",
      "002521.SZ\n",
      "002522.SZ\n"
     ]
    },
    {
     "name": "stderr",
     "output_type": "stream",
     "text": [
      "<ipython-input-240-1ac76a73e39a>:11: RuntimeWarning: invalid value encountered in double_scalars\n",
      "  coskew = (res_i*np.power(res_m,2)).mean() / ( np.sqrt( np.power(res_i,2).mean() ) *  np.power(res_m,2).mean())\n"
     ]
    },
    {
     "name": "stdout",
     "output_type": "stream",
     "text": [
      "002523.SZ\n"
     ]
    },
    {
     "name": "stderr",
     "output_type": "stream",
     "text": [
      "<ipython-input-240-1ac76a73e39a>:11: RuntimeWarning: invalid value encountered in double_scalars\n",
      "  coskew = (res_i*np.power(res_m,2)).mean() / ( np.sqrt( np.power(res_i,2).mean() ) *  np.power(res_m,2).mean())\n"
     ]
    },
    {
     "name": "stdout",
     "output_type": "stream",
     "text": [
      "002524.SZ\n"
     ]
    },
    {
     "name": "stderr",
     "output_type": "stream",
     "text": [
      "<ipython-input-240-1ac76a73e39a>:11: RuntimeWarning: invalid value encountered in double_scalars\n",
      "  coskew = (res_i*np.power(res_m,2)).mean() / ( np.sqrt( np.power(res_i,2).mean() ) *  np.power(res_m,2).mean())\n"
     ]
    },
    {
     "name": "stdout",
     "output_type": "stream",
     "text": [
      "002526.SZ\n",
      "002527.SZ\n",
      "002528.SZ\n",
      "002529.SZ\n",
      "002530.SZ\n",
      "002531.SZ\n",
      "002532.SZ\n",
      "002533.SZ\n",
      "002534.SZ\n",
      "002535.SZ\n",
      "002536.SZ\n",
      "002537.SZ\n",
      "002538.SZ\n",
      "002539.SZ\n",
      "002540.SZ\n",
      "002541.SZ\n"
     ]
    },
    {
     "name": "stderr",
     "output_type": "stream",
     "text": [
      "<ipython-input-240-1ac76a73e39a>:11: RuntimeWarning: invalid value encountered in double_scalars\n",
      "  coskew = (res_i*np.power(res_m,2)).mean() / ( np.sqrt( np.power(res_i,2).mean() ) *  np.power(res_m,2).mean())\n"
     ]
    },
    {
     "name": "stdout",
     "output_type": "stream",
     "text": [
      "002542.SZ\n"
     ]
    },
    {
     "name": "stderr",
     "output_type": "stream",
     "text": [
      "<ipython-input-240-1ac76a73e39a>:11: RuntimeWarning: invalid value encountered in double_scalars\n",
      "  coskew = (res_i*np.power(res_m,2)).mean() / ( np.sqrt( np.power(res_i,2).mean() ) *  np.power(res_m,2).mean())\n"
     ]
    },
    {
     "name": "stdout",
     "output_type": "stream",
     "text": [
      "002543.SZ\n"
     ]
    },
    {
     "name": "stderr",
     "output_type": "stream",
     "text": [
      "<ipython-input-240-1ac76a73e39a>:11: RuntimeWarning: invalid value encountered in double_scalars\n",
      "  coskew = (res_i*np.power(res_m,2)).mean() / ( np.sqrt( np.power(res_i,2).mean() ) *  np.power(res_m,2).mean())\n"
     ]
    },
    {
     "name": "stdout",
     "output_type": "stream",
     "text": [
      "002544.SZ\n"
     ]
    },
    {
     "name": "stderr",
     "output_type": "stream",
     "text": [
      "<ipython-input-240-1ac76a73e39a>:11: RuntimeWarning: invalid value encountered in double_scalars\n",
      "  coskew = (res_i*np.power(res_m,2)).mean() / ( np.sqrt( np.power(res_i,2).mean() ) *  np.power(res_m,2).mean())\n"
     ]
    },
    {
     "name": "stdout",
     "output_type": "stream",
     "text": [
      "002545.SZ\n",
      "002546.SZ\n",
      "002547.SZ\n"
     ]
    },
    {
     "name": "stderr",
     "output_type": "stream",
     "text": [
      "<ipython-input-240-1ac76a73e39a>:11: RuntimeWarning: invalid value encountered in double_scalars\n",
      "  coskew = (res_i*np.power(res_m,2)).mean() / ( np.sqrt( np.power(res_i,2).mean() ) *  np.power(res_m,2).mean())\n"
     ]
    },
    {
     "name": "stdout",
     "output_type": "stream",
     "text": [
      "002548.SZ\n"
     ]
    },
    {
     "name": "stderr",
     "output_type": "stream",
     "text": [
      "<ipython-input-240-1ac76a73e39a>:11: RuntimeWarning: invalid value encountered in double_scalars\n",
      "  coskew = (res_i*np.power(res_m,2)).mean() / ( np.sqrt( np.power(res_i,2).mean() ) *  np.power(res_m,2).mean())\n"
     ]
    },
    {
     "name": "stdout",
     "output_type": "stream",
     "text": [
      "002549.SZ\n",
      "002550.SZ\n"
     ]
    },
    {
     "name": "stderr",
     "output_type": "stream",
     "text": [
      "<ipython-input-240-1ac76a73e39a>:11: RuntimeWarning: invalid value encountered in double_scalars\n",
      "  coskew = (res_i*np.power(res_m,2)).mean() / ( np.sqrt( np.power(res_i,2).mean() ) *  np.power(res_m,2).mean())\n"
     ]
    },
    {
     "name": "stdout",
     "output_type": "stream",
     "text": [
      "002551.SZ\n"
     ]
    },
    {
     "name": "stderr",
     "output_type": "stream",
     "text": [
      "<ipython-input-240-1ac76a73e39a>:11: RuntimeWarning: invalid value encountered in double_scalars\n",
      "  coskew = (res_i*np.power(res_m,2)).mean() / ( np.sqrt( np.power(res_i,2).mean() ) *  np.power(res_m,2).mean())\n"
     ]
    },
    {
     "name": "stdout",
     "output_type": "stream",
     "text": [
      "002552.SZ\n"
     ]
    },
    {
     "name": "stderr",
     "output_type": "stream",
     "text": [
      "<ipython-input-240-1ac76a73e39a>:11: RuntimeWarning: invalid value encountered in double_scalars\n",
      "  coskew = (res_i*np.power(res_m,2)).mean() / ( np.sqrt( np.power(res_i,2).mean() ) *  np.power(res_m,2).mean())\n"
     ]
    },
    {
     "name": "stdout",
     "output_type": "stream",
     "text": [
      "002553.SZ\n"
     ]
    },
    {
     "name": "stderr",
     "output_type": "stream",
     "text": [
      "<ipython-input-240-1ac76a73e39a>:11: RuntimeWarning: invalid value encountered in double_scalars\n",
      "  coskew = (res_i*np.power(res_m,2)).mean() / ( np.sqrt( np.power(res_i,2).mean() ) *  np.power(res_m,2).mean())\n"
     ]
    },
    {
     "name": "stdout",
     "output_type": "stream",
     "text": [
      "002554.SZ\n",
      "002555.SZ\n",
      "002556.SZ\n",
      "002557.SZ\n",
      "002558.SZ\n",
      "002559.SZ\n",
      "002560.SZ\n",
      "002561.SZ\n",
      "002562.SZ\n",
      "002563.SZ\n",
      "002564.SZ\n",
      "002565.SZ\n",
      "002566.SZ\n"
     ]
    },
    {
     "name": "stderr",
     "output_type": "stream",
     "text": [
      "<ipython-input-240-1ac76a73e39a>:11: RuntimeWarning: invalid value encountered in double_scalars\n",
      "  coskew = (res_i*np.power(res_m,2)).mean() / ( np.sqrt( np.power(res_i,2).mean() ) *  np.power(res_m,2).mean())\n"
     ]
    },
    {
     "name": "stdout",
     "output_type": "stream",
     "text": [
      "002567.SZ\n",
      "002568.SZ\n"
     ]
    },
    {
     "name": "stderr",
     "output_type": "stream",
     "text": [
      "<ipython-input-240-1ac76a73e39a>:11: RuntimeWarning: invalid value encountered in double_scalars\n",
      "  coskew = (res_i*np.power(res_m,2)).mean() / ( np.sqrt( np.power(res_i,2).mean() ) *  np.power(res_m,2).mean())\n"
     ]
    },
    {
     "name": "stdout",
     "output_type": "stream",
     "text": [
      "002569.SZ\n",
      "002570.SZ\n"
     ]
    },
    {
     "name": "stderr",
     "output_type": "stream",
     "text": [
      "<ipython-input-240-1ac76a73e39a>:11: RuntimeWarning: invalid value encountered in double_scalars\n",
      "  coskew = (res_i*np.power(res_m,2)).mean() / ( np.sqrt( np.power(res_i,2).mean() ) *  np.power(res_m,2).mean())\n",
      "<ipython-input-240-1ac76a73e39a>:11: RuntimeWarning: invalid value encountered in double_scalars\n",
      "  coskew = (res_i*np.power(res_m,2)).mean() / ( np.sqrt( np.power(res_i,2).mean() ) *  np.power(res_m,2).mean())\n"
     ]
    },
    {
     "name": "stdout",
     "output_type": "stream",
     "text": [
      "002571.SZ\n",
      "002572.SZ\n",
      "002573.SZ\n",
      "002574.SZ\n",
      "002575.SZ\n"
     ]
    },
    {
     "name": "stderr",
     "output_type": "stream",
     "text": [
      "<ipython-input-240-1ac76a73e39a>:11: RuntimeWarning: invalid value encountered in double_scalars\n",
      "  coskew = (res_i*np.power(res_m,2)).mean() / ( np.sqrt( np.power(res_i,2).mean() ) *  np.power(res_m,2).mean())\n"
     ]
    },
    {
     "name": "stdout",
     "output_type": "stream",
     "text": [
      "002576.SZ\n"
     ]
    },
    {
     "name": "stderr",
     "output_type": "stream",
     "text": [
      "<ipython-input-240-1ac76a73e39a>:11: RuntimeWarning: invalid value encountered in double_scalars\n",
      "  coskew = (res_i*np.power(res_m,2)).mean() / ( np.sqrt( np.power(res_i,2).mean() ) *  np.power(res_m,2).mean())\n",
      "<ipython-input-240-1ac76a73e39a>:11: RuntimeWarning: invalid value encountered in double_scalars\n",
      "  coskew = (res_i*np.power(res_m,2)).mean() / ( np.sqrt( np.power(res_i,2).mean() ) *  np.power(res_m,2).mean())\n"
     ]
    },
    {
     "name": "stdout",
     "output_type": "stream",
     "text": [
      "002577.SZ\n"
     ]
    },
    {
     "name": "stderr",
     "output_type": "stream",
     "text": [
      "<ipython-input-240-1ac76a73e39a>:11: RuntimeWarning: invalid value encountered in double_scalars\n",
      "  coskew = (res_i*np.power(res_m,2)).mean() / ( np.sqrt( np.power(res_i,2).mean() ) *  np.power(res_m,2).mean())\n"
     ]
    },
    {
     "name": "stdout",
     "output_type": "stream",
     "text": [
      "002578.SZ\n"
     ]
    },
    {
     "name": "stderr",
     "output_type": "stream",
     "text": [
      "<ipython-input-240-1ac76a73e39a>:11: RuntimeWarning: invalid value encountered in double_scalars\n",
      "  coskew = (res_i*np.power(res_m,2)).mean() / ( np.sqrt( np.power(res_i,2).mean() ) *  np.power(res_m,2).mean())\n"
     ]
    },
    {
     "name": "stdout",
     "output_type": "stream",
     "text": [
      "002579.SZ\n",
      "002580.SZ\n",
      "002581.SZ\n",
      "002582.SZ\n",
      "002583.SZ\n",
      "002584.SZ\n",
      "002585.SZ\n",
      "002586.SZ\n",
      "002587.SZ\n",
      "002588.SZ\n",
      "002589.SZ\n",
      "002590.SZ\n",
      "002591.SZ\n",
      "002592.SZ\n",
      "002593.SZ\n",
      "002594.SZ\n",
      "002595.SZ\n",
      "002596.SZ\n"
     ]
    },
    {
     "name": "stderr",
     "output_type": "stream",
     "text": [
      "<ipython-input-240-1ac76a73e39a>:11: RuntimeWarning: invalid value encountered in double_scalars\n",
      "  coskew = (res_i*np.power(res_m,2)).mean() / ( np.sqrt( np.power(res_i,2).mean() ) *  np.power(res_m,2).mean())\n"
     ]
    },
    {
     "name": "stdout",
     "output_type": "stream",
     "text": [
      "002597.SZ\n",
      "002598.SZ\n",
      "002599.SZ\n"
     ]
    },
    {
     "name": "stderr",
     "output_type": "stream",
     "text": [
      "<ipython-input-240-1ac76a73e39a>:11: RuntimeWarning: invalid value encountered in double_scalars\n",
      "  coskew = (res_i*np.power(res_m,2)).mean() / ( np.sqrt( np.power(res_i,2).mean() ) *  np.power(res_m,2).mean())\n"
     ]
    },
    {
     "name": "stdout",
     "output_type": "stream",
     "text": [
      "002600.SZ\n",
      "002601.SZ\n"
     ]
    },
    {
     "name": "stderr",
     "output_type": "stream",
     "text": [
      "<ipython-input-240-1ac76a73e39a>:11: RuntimeWarning: invalid value encountered in double_scalars\n",
      "  coskew = (res_i*np.power(res_m,2)).mean() / ( np.sqrt( np.power(res_i,2).mean() ) *  np.power(res_m,2).mean())\n"
     ]
    },
    {
     "name": "stdout",
     "output_type": "stream",
     "text": [
      "002602.SZ\n"
     ]
    },
    {
     "name": "stderr",
     "output_type": "stream",
     "text": [
      "<ipython-input-240-1ac76a73e39a>:11: RuntimeWarning: invalid value encountered in double_scalars\n",
      "  coskew = (res_i*np.power(res_m,2)).mean() / ( np.sqrt( np.power(res_i,2).mean() ) *  np.power(res_m,2).mean())\n"
     ]
    },
    {
     "name": "stdout",
     "output_type": "stream",
     "text": [
      "002603.SZ\n"
     ]
    },
    {
     "name": "stderr",
     "output_type": "stream",
     "text": [
      "<ipython-input-240-1ac76a73e39a>:11: RuntimeWarning: invalid value encountered in double_scalars\n",
      "  coskew = (res_i*np.power(res_m,2)).mean() / ( np.sqrt( np.power(res_i,2).mean() ) *  np.power(res_m,2).mean())\n"
     ]
    },
    {
     "name": "stdout",
     "output_type": "stream",
     "text": [
      "002604.SZ\n",
      "002605.SZ\n"
     ]
    },
    {
     "name": "stderr",
     "output_type": "stream",
     "text": [
      "<ipython-input-240-1ac76a73e39a>:11: RuntimeWarning: invalid value encountered in double_scalars\n",
      "  coskew = (res_i*np.power(res_m,2)).mean() / ( np.sqrt( np.power(res_i,2).mean() ) *  np.power(res_m,2).mean())\n"
     ]
    },
    {
     "name": "stdout",
     "output_type": "stream",
     "text": [
      "002606.SZ\n",
      "002607.SZ\n",
      "002608.SZ\n",
      "002609.SZ\n",
      "002610.SZ\n"
     ]
    },
    {
     "name": "stderr",
     "output_type": "stream",
     "text": [
      "<ipython-input-240-1ac76a73e39a>:11: RuntimeWarning: invalid value encountered in double_scalars\n",
      "  coskew = (res_i*np.power(res_m,2)).mean() / ( np.sqrt( np.power(res_i,2).mean() ) *  np.power(res_m,2).mean())\n"
     ]
    },
    {
     "name": "stdout",
     "output_type": "stream",
     "text": [
      "002611.SZ\n"
     ]
    },
    {
     "name": "stderr",
     "output_type": "stream",
     "text": [
      "<ipython-input-240-1ac76a73e39a>:11: RuntimeWarning: invalid value encountered in double_scalars\n",
      "  coskew = (res_i*np.power(res_m,2)).mean() / ( np.sqrt( np.power(res_i,2).mean() ) *  np.power(res_m,2).mean())\n",
      "<ipython-input-240-1ac76a73e39a>:11: RuntimeWarning: invalid value encountered in double_scalars\n",
      "  coskew = (res_i*np.power(res_m,2)).mean() / ( np.sqrt( np.power(res_i,2).mean() ) *  np.power(res_m,2).mean())\n"
     ]
    },
    {
     "name": "stdout",
     "output_type": "stream",
     "text": [
      "002612.SZ\n"
     ]
    },
    {
     "name": "stderr",
     "output_type": "stream",
     "text": [
      "<ipython-input-240-1ac76a73e39a>:11: RuntimeWarning: invalid value encountered in double_scalars\n",
      "  coskew = (res_i*np.power(res_m,2)).mean() / ( np.sqrt( np.power(res_i,2).mean() ) *  np.power(res_m,2).mean())\n"
     ]
    },
    {
     "name": "stdout",
     "output_type": "stream",
     "text": [
      "002613.SZ\n",
      "002614.SZ\n",
      "002615.SZ\n",
      "002616.SZ\n",
      "002617.SZ\n",
      "002618.SZ\n"
     ]
    },
    {
     "name": "stderr",
     "output_type": "stream",
     "text": [
      "<ipython-input-240-1ac76a73e39a>:11: RuntimeWarning: invalid value encountered in double_scalars\n",
      "  coskew = (res_i*np.power(res_m,2)).mean() / ( np.sqrt( np.power(res_i,2).mean() ) *  np.power(res_m,2).mean())\n"
     ]
    },
    {
     "name": "stdout",
     "output_type": "stream",
     "text": [
      "002619.SZ\n"
     ]
    },
    {
     "name": "stderr",
     "output_type": "stream",
     "text": [
      "<ipython-input-240-1ac76a73e39a>:11: RuntimeWarning: invalid value encountered in double_scalars\n",
      "  coskew = (res_i*np.power(res_m,2)).mean() / ( np.sqrt( np.power(res_i,2).mean() ) *  np.power(res_m,2).mean())\n"
     ]
    },
    {
     "name": "stdout",
     "output_type": "stream",
     "text": [
      "002620.SZ\n"
     ]
    },
    {
     "name": "stderr",
     "output_type": "stream",
     "text": [
      "<ipython-input-240-1ac76a73e39a>:11: RuntimeWarning: invalid value encountered in double_scalars\n",
      "  coskew = (res_i*np.power(res_m,2)).mean() / ( np.sqrt( np.power(res_i,2).mean() ) *  np.power(res_m,2).mean())\n"
     ]
    },
    {
     "name": "stdout",
     "output_type": "stream",
     "text": [
      "002621.SZ\n"
     ]
    },
    {
     "name": "stderr",
     "output_type": "stream",
     "text": [
      "<ipython-input-240-1ac76a73e39a>:11: RuntimeWarning: invalid value encountered in double_scalars\n",
      "  coskew = (res_i*np.power(res_m,2)).mean() / ( np.sqrt( np.power(res_i,2).mean() ) *  np.power(res_m,2).mean())\n",
      "<ipython-input-240-1ac76a73e39a>:11: RuntimeWarning: invalid value encountered in double_scalars\n",
      "  coskew = (res_i*np.power(res_m,2)).mean() / ( np.sqrt( np.power(res_i,2).mean() ) *  np.power(res_m,2).mean())\n"
     ]
    },
    {
     "name": "stdout",
     "output_type": "stream",
     "text": [
      "002622.SZ\n",
      "002623.SZ\n"
     ]
    },
    {
     "name": "stderr",
     "output_type": "stream",
     "text": [
      "<ipython-input-240-1ac76a73e39a>:11: RuntimeWarning: invalid value encountered in double_scalars\n",
      "  coskew = (res_i*np.power(res_m,2)).mean() / ( np.sqrt( np.power(res_i,2).mean() ) *  np.power(res_m,2).mean())\n"
     ]
    },
    {
     "name": "stdout",
     "output_type": "stream",
     "text": [
      "002624.SZ\n",
      "002625.SZ\n"
     ]
    },
    {
     "name": "stderr",
     "output_type": "stream",
     "text": [
      "<ipython-input-240-1ac76a73e39a>:11: RuntimeWarning: invalid value encountered in double_scalars\n",
      "  coskew = (res_i*np.power(res_m,2)).mean() / ( np.sqrt( np.power(res_i,2).mean() ) *  np.power(res_m,2).mean())\n",
      "<ipython-input-240-1ac76a73e39a>:11: RuntimeWarning: invalid value encountered in double_scalars\n",
      "  coskew = (res_i*np.power(res_m,2)).mean() / ( np.sqrt( np.power(res_i,2).mean() ) *  np.power(res_m,2).mean())\n",
      "<ipython-input-240-1ac76a73e39a>:11: RuntimeWarning: invalid value encountered in double_scalars\n",
      "  coskew = (res_i*np.power(res_m,2)).mean() / ( np.sqrt( np.power(res_i,2).mean() ) *  np.power(res_m,2).mean())\n"
     ]
    },
    {
     "name": "stdout",
     "output_type": "stream",
     "text": [
      "002626.SZ\n",
      "002627.SZ\n",
      "002628.SZ\n",
      "002629.SZ\n",
      "002630.SZ\n",
      "002631.SZ\n",
      "002632.SZ\n",
      "002633.SZ\n",
      "002634.SZ\n",
      "002635.SZ\n",
      "002636.SZ\n",
      "002637.SZ\n"
     ]
    },
    {
     "name": "stderr",
     "output_type": "stream",
     "text": [
      "<ipython-input-240-1ac76a73e39a>:11: RuntimeWarning: invalid value encountered in double_scalars\n",
      "  coskew = (res_i*np.power(res_m,2)).mean() / ( np.sqrt( np.power(res_i,2).mean() ) *  np.power(res_m,2).mean())\n",
      "<ipython-input-240-1ac76a73e39a>:11: RuntimeWarning: invalid value encountered in double_scalars\n",
      "  coskew = (res_i*np.power(res_m,2)).mean() / ( np.sqrt( np.power(res_i,2).mean() ) *  np.power(res_m,2).mean())\n",
      "<ipython-input-240-1ac76a73e39a>:11: RuntimeWarning: invalid value encountered in double_scalars\n",
      "  coskew = (res_i*np.power(res_m,2)).mean() / ( np.sqrt( np.power(res_i,2).mean() ) *  np.power(res_m,2).mean())\n"
     ]
    },
    {
     "name": "stdout",
     "output_type": "stream",
     "text": [
      "002638.SZ\n",
      "002639.SZ\n",
      "002640.SZ\n",
      "002641.SZ\n",
      "002642.SZ\n",
      "002643.SZ\n",
      "002644.SZ\n",
      "002645.SZ\n",
      "002646.SZ\n",
      "002647.SZ\n",
      "002648.SZ\n",
      "002649.SZ\n",
      "002650.SZ\n",
      "002651.SZ\n",
      "002652.SZ\n",
      "002653.SZ\n",
      "002654.SZ\n",
      "002655.SZ\n"
     ]
    },
    {
     "name": "stderr",
     "output_type": "stream",
     "text": [
      "<ipython-input-240-1ac76a73e39a>:11: RuntimeWarning: invalid value encountered in double_scalars\n",
      "  coskew = (res_i*np.power(res_m,2)).mean() / ( np.sqrt( np.power(res_i,2).mean() ) *  np.power(res_m,2).mean())\n",
      "<ipython-input-240-1ac76a73e39a>:11: RuntimeWarning: invalid value encountered in double_scalars\n",
      "  coskew = (res_i*np.power(res_m,2)).mean() / ( np.sqrt( np.power(res_i,2).mean() ) *  np.power(res_m,2).mean())\n",
      "<ipython-input-240-1ac76a73e39a>:11: RuntimeWarning: invalid value encountered in double_scalars\n",
      "  coskew = (res_i*np.power(res_m,2)).mean() / ( np.sqrt( np.power(res_i,2).mean() ) *  np.power(res_m,2).mean())\n",
      "<ipython-input-240-1ac76a73e39a>:11: RuntimeWarning: invalid value encountered in double_scalars\n",
      "  coskew = (res_i*np.power(res_m,2)).mean() / ( np.sqrt( np.power(res_i,2).mean() ) *  np.power(res_m,2).mean())\n",
      "<ipython-input-240-1ac76a73e39a>:11: RuntimeWarning: invalid value encountered in double_scalars\n",
      "  coskew = (res_i*np.power(res_m,2)).mean() / ( np.sqrt( np.power(res_i,2).mean() ) *  np.power(res_m,2).mean())\n"
     ]
    },
    {
     "name": "stdout",
     "output_type": "stream",
     "text": [
      "002656.SZ\n",
      "002657.SZ\n",
      "002658.SZ\n",
      "002659.SZ\n",
      "002660.SZ\n"
     ]
    },
    {
     "name": "stderr",
     "output_type": "stream",
     "text": [
      "<ipython-input-240-1ac76a73e39a>:11: RuntimeWarning: invalid value encountered in double_scalars\n",
      "  coskew = (res_i*np.power(res_m,2)).mean() / ( np.sqrt( np.power(res_i,2).mean() ) *  np.power(res_m,2).mean())\n"
     ]
    },
    {
     "name": "stdout",
     "output_type": "stream",
     "text": [
      "002661.SZ\n",
      "002662.SZ\n",
      "002663.SZ\n"
     ]
    },
    {
     "name": "stderr",
     "output_type": "stream",
     "text": [
      "<ipython-input-240-1ac76a73e39a>:11: RuntimeWarning: invalid value encountered in double_scalars\n",
      "  coskew = (res_i*np.power(res_m,2)).mean() / ( np.sqrt( np.power(res_i,2).mean() ) *  np.power(res_m,2).mean())\n"
     ]
    },
    {
     "name": "stdout",
     "output_type": "stream",
     "text": [
      "002664.SZ\n",
      "002665.SZ\n",
      "002666.SZ\n"
     ]
    },
    {
     "name": "stderr",
     "output_type": "stream",
     "text": [
      "<ipython-input-240-1ac76a73e39a>:11: RuntimeWarning: invalid value encountered in double_scalars\n",
      "  coskew = (res_i*np.power(res_m,2)).mean() / ( np.sqrt( np.power(res_i,2).mean() ) *  np.power(res_m,2).mean())\n"
     ]
    },
    {
     "name": "stdout",
     "output_type": "stream",
     "text": [
      "002667.SZ\n"
     ]
    },
    {
     "name": "stderr",
     "output_type": "stream",
     "text": [
      "<ipython-input-240-1ac76a73e39a>:11: RuntimeWarning: invalid value encountered in double_scalars\n",
      "  coskew = (res_i*np.power(res_m,2)).mean() / ( np.sqrt( np.power(res_i,2).mean() ) *  np.power(res_m,2).mean())\n"
     ]
    },
    {
     "name": "stdout",
     "output_type": "stream",
     "text": [
      "002668.SZ\n",
      "002669.SZ\n"
     ]
    },
    {
     "name": "stderr",
     "output_type": "stream",
     "text": [
      "<ipython-input-240-1ac76a73e39a>:11: RuntimeWarning: invalid value encountered in double_scalars\n",
      "  coskew = (res_i*np.power(res_m,2)).mean() / ( np.sqrt( np.power(res_i,2).mean() ) *  np.power(res_m,2).mean())\n",
      "<ipython-input-240-1ac76a73e39a>:11: RuntimeWarning: invalid value encountered in double_scalars\n",
      "  coskew = (res_i*np.power(res_m,2)).mean() / ( np.sqrt( np.power(res_i,2).mean() ) *  np.power(res_m,2).mean())\n"
     ]
    },
    {
     "name": "stdout",
     "output_type": "stream",
     "text": [
      "002670.SZ\n",
      "002671.SZ\n"
     ]
    },
    {
     "name": "stderr",
     "output_type": "stream",
     "text": [
      "<ipython-input-240-1ac76a73e39a>:11: RuntimeWarning: invalid value encountered in double_scalars\n",
      "  coskew = (res_i*np.power(res_m,2)).mean() / ( np.sqrt( np.power(res_i,2).mean() ) *  np.power(res_m,2).mean())\n"
     ]
    },
    {
     "name": "stdout",
     "output_type": "stream",
     "text": [
      "002672.SZ\n",
      "002673.SZ\n",
      "002674.SZ\n",
      "002675.SZ\n",
      "002676.SZ\n",
      "002677.SZ\n"
     ]
    },
    {
     "name": "stderr",
     "output_type": "stream",
     "text": [
      "<ipython-input-240-1ac76a73e39a>:11: RuntimeWarning: invalid value encountered in double_scalars\n",
      "  coskew = (res_i*np.power(res_m,2)).mean() / ( np.sqrt( np.power(res_i,2).mean() ) *  np.power(res_m,2).mean())\n"
     ]
    },
    {
     "name": "stdout",
     "output_type": "stream",
     "text": [
      "002678.SZ\n",
      "002679.SZ\n",
      "002680.SZ\n",
      "002681.SZ\n",
      "002682.SZ\n",
      "002683.SZ\n"
     ]
    },
    {
     "name": "stderr",
     "output_type": "stream",
     "text": [
      "<ipython-input-240-1ac76a73e39a>:11: RuntimeWarning: invalid value encountered in double_scalars\n",
      "  coskew = (res_i*np.power(res_m,2)).mean() / ( np.sqrt( np.power(res_i,2).mean() ) *  np.power(res_m,2).mean())\n"
     ]
    },
    {
     "name": "stdout",
     "output_type": "stream",
     "text": [
      "002684.SZ\n",
      "002685.SZ\n",
      "002686.SZ\n",
      "002687.SZ\n"
     ]
    },
    {
     "name": "stderr",
     "output_type": "stream",
     "text": [
      "<ipython-input-240-1ac76a73e39a>:11: RuntimeWarning: invalid value encountered in double_scalars\n",
      "  coskew = (res_i*np.power(res_m,2)).mean() / ( np.sqrt( np.power(res_i,2).mean() ) *  np.power(res_m,2).mean())\n"
     ]
    },
    {
     "name": "stdout",
     "output_type": "stream",
     "text": [
      "002688.SZ\n",
      "002689.SZ\n",
      "002690.SZ\n",
      "002691.SZ\n",
      "002692.SZ\n",
      "002693.SZ\n",
      "002694.SZ\n",
      "002695.SZ\n"
     ]
    },
    {
     "name": "stderr",
     "output_type": "stream",
     "text": [
      "<ipython-input-240-1ac76a73e39a>:11: RuntimeWarning: invalid value encountered in double_scalars\n",
      "  coskew = (res_i*np.power(res_m,2)).mean() / ( np.sqrt( np.power(res_i,2).mean() ) *  np.power(res_m,2).mean())\n"
     ]
    },
    {
     "name": "stdout",
     "output_type": "stream",
     "text": [
      "002696.SZ\n",
      "002697.SZ\n",
      "002698.SZ\n",
      "002699.SZ\n",
      "002700.SZ\n",
      "002701.SZ\n",
      "002702.SZ\n",
      "002703.SZ\n",
      "002705.SZ\n",
      "002706.SZ\n"
     ]
    },
    {
     "name": "stderr",
     "output_type": "stream",
     "text": [
      "<ipython-input-240-1ac76a73e39a>:11: RuntimeWarning: invalid value encountered in double_scalars\n",
      "  coskew = (res_i*np.power(res_m,2)).mean() / ( np.sqrt( np.power(res_i,2).mean() ) *  np.power(res_m,2).mean())\n"
     ]
    },
    {
     "name": "stdout",
     "output_type": "stream",
     "text": [
      "002707.SZ\n",
      "002708.SZ\n",
      "002709.SZ\n",
      "002711.SZ\n"
     ]
    },
    {
     "name": "stderr",
     "output_type": "stream",
     "text": [
      "<ipython-input-240-1ac76a73e39a>:11: RuntimeWarning: invalid value encountered in double_scalars\n",
      "  coskew = (res_i*np.power(res_m,2)).mean() / ( np.sqrt( np.power(res_i,2).mean() ) *  np.power(res_m,2).mean())\n"
     ]
    },
    {
     "name": "stdout",
     "output_type": "stream",
     "text": [
      "002712.SZ\n",
      "002713.SZ\n",
      "002714.SZ\n",
      "002715.SZ\n"
     ]
    },
    {
     "name": "stderr",
     "output_type": "stream",
     "text": [
      "<ipython-input-240-1ac76a73e39a>:11: RuntimeWarning: invalid value encountered in double_scalars\n",
      "  coskew = (res_i*np.power(res_m,2)).mean() / ( np.sqrt( np.power(res_i,2).mean() ) *  np.power(res_m,2).mean())\n",
      "<ipython-input-240-1ac76a73e39a>:11: RuntimeWarning: invalid value encountered in double_scalars\n",
      "  coskew = (res_i*np.power(res_m,2)).mean() / ( np.sqrt( np.power(res_i,2).mean() ) *  np.power(res_m,2).mean())\n"
     ]
    },
    {
     "name": "stdout",
     "output_type": "stream",
     "text": [
      "002716.SZ\n",
      "002717.SZ\n",
      "002718.SZ\n",
      "002719.SZ\n",
      "002721.SZ\n",
      "002722.SZ\n"
     ]
    },
    {
     "name": "stderr",
     "output_type": "stream",
     "text": [
      "<ipython-input-240-1ac76a73e39a>:11: RuntimeWarning: invalid value encountered in double_scalars\n",
      "  coskew = (res_i*np.power(res_m,2)).mean() / ( np.sqrt( np.power(res_i,2).mean() ) *  np.power(res_m,2).mean())\n"
     ]
    },
    {
     "name": "stdout",
     "output_type": "stream",
     "text": [
      "002723.SZ\n",
      "002724.SZ\n"
     ]
    },
    {
     "name": "stderr",
     "output_type": "stream",
     "text": [
      "<ipython-input-240-1ac76a73e39a>:11: RuntimeWarning: invalid value encountered in double_scalars\n",
      "  coskew = (res_i*np.power(res_m,2)).mean() / ( np.sqrt( np.power(res_i,2).mean() ) *  np.power(res_m,2).mean())\n"
     ]
    },
    {
     "name": "stdout",
     "output_type": "stream",
     "text": [
      "002725.SZ\n",
      "002726.SZ\n",
      "002727.SZ\n",
      "002728.SZ\n",
      "002729.SZ\n",
      "002730.SZ\n",
      "002731.SZ\n",
      "002732.SZ\n",
      "002733.SZ\n",
      "002734.SZ\n"
     ]
    },
    {
     "name": "stderr",
     "output_type": "stream",
     "text": [
      "<ipython-input-240-1ac76a73e39a>:11: RuntimeWarning: invalid value encountered in double_scalars\n",
      "  coskew = (res_i*np.power(res_m,2)).mean() / ( np.sqrt( np.power(res_i,2).mean() ) *  np.power(res_m,2).mean())\n"
     ]
    },
    {
     "name": "stdout",
     "output_type": "stream",
     "text": [
      "002735.SZ\n",
      "002736.SZ\n"
     ]
    },
    {
     "name": "stderr",
     "output_type": "stream",
     "text": [
      "<ipython-input-240-1ac76a73e39a>:11: RuntimeWarning: invalid value encountered in double_scalars\n",
      "  coskew = (res_i*np.power(res_m,2)).mean() / ( np.sqrt( np.power(res_i,2).mean() ) *  np.power(res_m,2).mean())\n"
     ]
    },
    {
     "name": "stdout",
     "output_type": "stream",
     "text": [
      "002737.SZ\n"
     ]
    },
    {
     "name": "stderr",
     "output_type": "stream",
     "text": [
      "<ipython-input-240-1ac76a73e39a>:11: RuntimeWarning: invalid value encountered in double_scalars\n",
      "  coskew = (res_i*np.power(res_m,2)).mean() / ( np.sqrt( np.power(res_i,2).mean() ) *  np.power(res_m,2).mean())\n"
     ]
    },
    {
     "name": "stdout",
     "output_type": "stream",
     "text": [
      "002738.SZ\n",
      "002739.SZ\n"
     ]
    },
    {
     "name": "stderr",
     "output_type": "stream",
     "text": [
      "<ipython-input-240-1ac76a73e39a>:11: RuntimeWarning: invalid value encountered in double_scalars\n",
      "  coskew = (res_i*np.power(res_m,2)).mean() / ( np.sqrt( np.power(res_i,2).mean() ) *  np.power(res_m,2).mean())\n",
      "<ipython-input-240-1ac76a73e39a>:11: RuntimeWarning: invalid value encountered in double_scalars\n",
      "  coskew = (res_i*np.power(res_m,2)).mean() / ( np.sqrt( np.power(res_i,2).mean() ) *  np.power(res_m,2).mean())\n",
      "<ipython-input-240-1ac76a73e39a>:11: RuntimeWarning: invalid value encountered in double_scalars\n",
      "  coskew = (res_i*np.power(res_m,2)).mean() / ( np.sqrt( np.power(res_i,2).mean() ) *  np.power(res_m,2).mean())\n"
     ]
    },
    {
     "name": "stdout",
     "output_type": "stream",
     "text": [
      "002740.SZ\n"
     ]
    },
    {
     "name": "stderr",
     "output_type": "stream",
     "text": [
      "<ipython-input-240-1ac76a73e39a>:11: RuntimeWarning: invalid value encountered in double_scalars\n",
      "  coskew = (res_i*np.power(res_m,2)).mean() / ( np.sqrt( np.power(res_i,2).mean() ) *  np.power(res_m,2).mean())\n"
     ]
    },
    {
     "name": "stdout",
     "output_type": "stream",
     "text": [
      "002741.SZ\n"
     ]
    },
    {
     "name": "stderr",
     "output_type": "stream",
     "text": [
      "<ipython-input-240-1ac76a73e39a>:11: RuntimeWarning: invalid value encountered in double_scalars\n",
      "  coskew = (res_i*np.power(res_m,2)).mean() / ( np.sqrt( np.power(res_i,2).mean() ) *  np.power(res_m,2).mean())\n",
      "<ipython-input-240-1ac76a73e39a>:11: RuntimeWarning: invalid value encountered in double_scalars\n",
      "  coskew = (res_i*np.power(res_m,2)).mean() / ( np.sqrt( np.power(res_i,2).mean() ) *  np.power(res_m,2).mean())\n"
     ]
    },
    {
     "name": "stdout",
     "output_type": "stream",
     "text": [
      "002742.SZ\n",
      "002743.SZ\n",
      "002745.SZ\n",
      "002746.SZ\n",
      "002747.SZ\n",
      "002748.SZ\n",
      "002749.SZ\n",
      "002750.SZ\n",
      "002751.SZ\n"
     ]
    },
    {
     "name": "stderr",
     "output_type": "stream",
     "text": [
      "<ipython-input-240-1ac76a73e39a>:11: RuntimeWarning: invalid value encountered in double_scalars\n",
      "  coskew = (res_i*np.power(res_m,2)).mean() / ( np.sqrt( np.power(res_i,2).mean() ) *  np.power(res_m,2).mean())\n"
     ]
    },
    {
     "name": "stdout",
     "output_type": "stream",
     "text": [
      "002752.SZ\n",
      "002753.SZ\n",
      "002755.SZ\n",
      "002756.SZ\n",
      "002757.SZ\n",
      "002758.SZ\n"
     ]
    },
    {
     "name": "stderr",
     "output_type": "stream",
     "text": [
      "<ipython-input-240-1ac76a73e39a>:11: RuntimeWarning: invalid value encountered in double_scalars\n",
      "  coskew = (res_i*np.power(res_m,2)).mean() / ( np.sqrt( np.power(res_i,2).mean() ) *  np.power(res_m,2).mean())\n",
      "<ipython-input-240-1ac76a73e39a>:11: RuntimeWarning: invalid value encountered in double_scalars\n",
      "  coskew = (res_i*np.power(res_m,2)).mean() / ( np.sqrt( np.power(res_i,2).mean() ) *  np.power(res_m,2).mean())\n"
     ]
    },
    {
     "name": "stdout",
     "output_type": "stream",
     "text": [
      "002759.SZ\n",
      "002760.SZ\n",
      "002761.SZ\n",
      "002762.SZ\n",
      "002763.SZ\n",
      "002765.SZ\n",
      "002766.SZ\n",
      "002767.SZ\n",
      "002768.SZ\n"
     ]
    },
    {
     "name": "stderr",
     "output_type": "stream",
     "text": [
      "<ipython-input-240-1ac76a73e39a>:11: RuntimeWarning: invalid value encountered in double_scalars\n",
      "  coskew = (res_i*np.power(res_m,2)).mean() / ( np.sqrt( np.power(res_i,2).mean() ) *  np.power(res_m,2).mean())\n"
     ]
    },
    {
     "name": "stdout",
     "output_type": "stream",
     "text": [
      "002769.SZ\n"
     ]
    },
    {
     "name": "stderr",
     "output_type": "stream",
     "text": [
      "<ipython-input-240-1ac76a73e39a>:11: RuntimeWarning: invalid value encountered in double_scalars\n",
      "  coskew = (res_i*np.power(res_m,2)).mean() / ( np.sqrt( np.power(res_i,2).mean() ) *  np.power(res_m,2).mean())\n"
     ]
    },
    {
     "name": "stdout",
     "output_type": "stream",
     "text": [
      "002770.SZ\n"
     ]
    },
    {
     "name": "stderr",
     "output_type": "stream",
     "text": [
      "<ipython-input-240-1ac76a73e39a>:11: RuntimeWarning: invalid value encountered in double_scalars\n",
      "  coskew = (res_i*np.power(res_m,2)).mean() / ( np.sqrt( np.power(res_i,2).mean() ) *  np.power(res_m,2).mean())\n"
     ]
    },
    {
     "name": "stdout",
     "output_type": "stream",
     "text": [
      "002771.SZ\n",
      "002772.SZ\n",
      "002773.SZ\n",
      "002774.SZ\n"
     ]
    },
    {
     "name": "stderr",
     "output_type": "stream",
     "text": [
      "<ipython-input-240-1ac76a73e39a>:11: RuntimeWarning: invalid value encountered in double_scalars\n",
      "  coskew = (res_i*np.power(res_m,2)).mean() / ( np.sqrt( np.power(res_i,2).mean() ) *  np.power(res_m,2).mean())\n"
     ]
    },
    {
     "name": "stdout",
     "output_type": "stream",
     "text": [
      "002775.SZ\n",
      "002776.SZ\n",
      "002777.SZ\n",
      "002778.SZ\n"
     ]
    },
    {
     "name": "stderr",
     "output_type": "stream",
     "text": [
      "<ipython-input-240-1ac76a73e39a>:11: RuntimeWarning: invalid value encountered in double_scalars\n",
      "  coskew = (res_i*np.power(res_m,2)).mean() / ( np.sqrt( np.power(res_i,2).mean() ) *  np.power(res_m,2).mean())\n"
     ]
    },
    {
     "name": "stdout",
     "output_type": "stream",
     "text": [
      "002779.SZ\n",
      "002780.SZ\n",
      "002781.SZ\n",
      "002782.SZ\n",
      "002783.SZ\n",
      "002785.SZ\n",
      "002786.SZ\n",
      "002787.SZ\n",
      "002788.SZ\n",
      "002789.SZ\n",
      "002790.SZ\n",
      "002791.SZ\n",
      "002792.SZ\n",
      "002793.SZ\n",
      "002795.SZ\n"
     ]
    },
    {
     "name": "stderr",
     "output_type": "stream",
     "text": [
      "<ipython-input-240-1ac76a73e39a>:11: RuntimeWarning: invalid value encountered in double_scalars\n",
      "  coskew = (res_i*np.power(res_m,2)).mean() / ( np.sqrt( np.power(res_i,2).mean() ) *  np.power(res_m,2).mean())\n",
      "<ipython-input-240-1ac76a73e39a>:11: RuntimeWarning: invalid value encountered in double_scalars\n",
      "  coskew = (res_i*np.power(res_m,2)).mean() / ( np.sqrt( np.power(res_i,2).mean() ) *  np.power(res_m,2).mean())\n"
     ]
    },
    {
     "name": "stdout",
     "output_type": "stream",
     "text": [
      "002796.SZ\n",
      "002797.SZ\n"
     ]
    },
    {
     "name": "stderr",
     "output_type": "stream",
     "text": [
      "<ipython-input-240-1ac76a73e39a>:11: RuntimeWarning: invalid value encountered in double_scalars\n",
      "  coskew = (res_i*np.power(res_m,2)).mean() / ( np.sqrt( np.power(res_i,2).mean() ) *  np.power(res_m,2).mean())\n"
     ]
    },
    {
     "name": "stdout",
     "output_type": "stream",
     "text": [
      "002798.SZ\n",
      "002799.SZ\n"
     ]
    },
    {
     "name": "stderr",
     "output_type": "stream",
     "text": [
      "<ipython-input-240-1ac76a73e39a>:11: RuntimeWarning: invalid value encountered in double_scalars\n",
      "  coskew = (res_i*np.power(res_m,2)).mean() / ( np.sqrt( np.power(res_i,2).mean() ) *  np.power(res_m,2).mean())\n"
     ]
    },
    {
     "name": "stdout",
     "output_type": "stream",
     "text": [
      "002800.SZ\n",
      "002801.SZ\n"
     ]
    },
    {
     "name": "stderr",
     "output_type": "stream",
     "text": [
      "<ipython-input-240-1ac76a73e39a>:11: RuntimeWarning: invalid value encountered in double_scalars\n",
      "  coskew = (res_i*np.power(res_m,2)).mean() / ( np.sqrt( np.power(res_i,2).mean() ) *  np.power(res_m,2).mean())\n"
     ]
    },
    {
     "name": "stdout",
     "output_type": "stream",
     "text": [
      "002802.SZ\n",
      "002803.SZ\n",
      "002805.SZ\n",
      "002806.SZ\n",
      "002807.SZ\n",
      "002808.SZ\n",
      "002809.SZ\n",
      "002810.SZ\n",
      "002811.SZ\n",
      "002812.SZ\n"
     ]
    },
    {
     "name": "stderr",
     "output_type": "stream",
     "text": [
      "<ipython-input-240-1ac76a73e39a>:11: RuntimeWarning: invalid value encountered in double_scalars\n",
      "  coskew = (res_i*np.power(res_m,2)).mean() / ( np.sqrt( np.power(res_i,2).mean() ) *  np.power(res_m,2).mean())\n"
     ]
    },
    {
     "name": "stdout",
     "output_type": "stream",
     "text": [
      "002813.SZ\n",
      "002815.SZ\n",
      "002816.SZ\n",
      "002817.SZ\n",
      "002818.SZ\n",
      "002819.SZ\n",
      "002820.SZ\n",
      "002821.SZ\n"
     ]
    },
    {
     "name": "stderr",
     "output_type": "stream",
     "text": [
      "<ipython-input-240-1ac76a73e39a>:11: RuntimeWarning: invalid value encountered in double_scalars\n",
      "  coskew = (res_i*np.power(res_m,2)).mean() / ( np.sqrt( np.power(res_i,2).mean() ) *  np.power(res_m,2).mean())\n"
     ]
    },
    {
     "name": "stdout",
     "output_type": "stream",
     "text": [
      "002822.SZ\n",
      "002823.SZ\n",
      "002824.SZ\n",
      "002825.SZ\n"
     ]
    },
    {
     "name": "stderr",
     "output_type": "stream",
     "text": [
      "<ipython-input-240-1ac76a73e39a>:11: RuntimeWarning: invalid value encountered in double_scalars\n",
      "  coskew = (res_i*np.power(res_m,2)).mean() / ( np.sqrt( np.power(res_i,2).mean() ) *  np.power(res_m,2).mean())\n"
     ]
    },
    {
     "name": "stdout",
     "output_type": "stream",
     "text": [
      "002826.SZ\n",
      "002827.SZ\n",
      "002828.SZ\n",
      "002829.SZ\n",
      "002830.SZ\n",
      "002831.SZ\n",
      "002832.SZ\n",
      "002833.SZ\n",
      "002835.SZ\n",
      "002836.SZ\n"
     ]
    },
    {
     "name": "stderr",
     "output_type": "stream",
     "text": [
      "<ipython-input-240-1ac76a73e39a>:11: RuntimeWarning: invalid value encountered in double_scalars\n",
      "  coskew = (res_i*np.power(res_m,2)).mean() / ( np.sqrt( np.power(res_i,2).mean() ) *  np.power(res_m,2).mean())\n",
      "<ipython-input-240-1ac76a73e39a>:11: RuntimeWarning: invalid value encountered in double_scalars\n",
      "  coskew = (res_i*np.power(res_m,2)).mean() / ( np.sqrt( np.power(res_i,2).mean() ) *  np.power(res_m,2).mean())\n"
     ]
    },
    {
     "name": "stdout",
     "output_type": "stream",
     "text": [
      "002837.SZ\n",
      "002838.SZ\n",
      "002839.SZ\n",
      "002840.SZ\n",
      "002841.SZ\n",
      "002842.SZ\n",
      "002843.SZ\n",
      "002845.SZ\n"
     ]
    },
    {
     "name": "stderr",
     "output_type": "stream",
     "text": [
      "<ipython-input-240-1ac76a73e39a>:11: RuntimeWarning: invalid value encountered in double_scalars\n",
      "  coskew = (res_i*np.power(res_m,2)).mean() / ( np.sqrt( np.power(res_i,2).mean() ) *  np.power(res_m,2).mean())\n"
     ]
    },
    {
     "name": "stdout",
     "output_type": "stream",
     "text": [
      "002846.SZ\n",
      "002847.SZ\n",
      "002848.SZ\n",
      "002849.SZ\n",
      "002850.SZ\n",
      "002851.SZ\n",
      "002852.SZ\n",
      "002853.SZ\n",
      "002855.SZ\n",
      "002856.SZ\n",
      "002857.SZ\n",
      "002858.SZ\n",
      "002859.SZ\n",
      "002860.SZ\n",
      "002861.SZ\n",
      "002862.SZ\n",
      "002863.SZ\n",
      "002864.SZ\n",
      "002865.SZ\n",
      "002866.SZ\n"
     ]
    },
    {
     "name": "stderr",
     "output_type": "stream",
     "text": [
      "<ipython-input-240-1ac76a73e39a>:11: RuntimeWarning: invalid value encountered in double_scalars\n",
      "  coskew = (res_i*np.power(res_m,2)).mean() / ( np.sqrt( np.power(res_i,2).mean() ) *  np.power(res_m,2).mean())\n"
     ]
    },
    {
     "name": "stdout",
     "output_type": "stream",
     "text": [
      "002867.SZ\n",
      "002868.SZ\n",
      "002869.SZ\n",
      "002870.SZ\n",
      "002871.SZ\n",
      "002872.SZ\n"
     ]
    },
    {
     "name": "stderr",
     "output_type": "stream",
     "text": [
      "<ipython-input-240-1ac76a73e39a>:11: RuntimeWarning: invalid value encountered in double_scalars\n",
      "  coskew = (res_i*np.power(res_m,2)).mean() / ( np.sqrt( np.power(res_i,2).mean() ) *  np.power(res_m,2).mean())\n"
     ]
    },
    {
     "name": "stdout",
     "output_type": "stream",
     "text": [
      "002873.SZ\n",
      "002875.SZ\n",
      "002876.SZ\n",
      "002877.SZ\n",
      "002878.SZ\n",
      "002879.SZ\n",
      "002880.SZ\n",
      "002881.SZ\n",
      "002882.SZ\n",
      "002883.SZ\n",
      "002884.SZ\n",
      "002885.SZ\n",
      "002886.SZ\n",
      "002887.SZ\n",
      "002888.SZ\n",
      "002889.SZ\n",
      "002890.SZ\n",
      "002891.SZ\n",
      "002892.SZ\n",
      "002893.SZ\n",
      "002895.SZ\n",
      "002896.SZ\n",
      "002897.SZ\n",
      "002898.SZ\n",
      "002899.SZ\n",
      "002900.SZ\n",
      "002901.SZ\n",
      "002902.SZ\n",
      "002903.SZ\n",
      "002905.SZ\n",
      "002906.SZ\n",
      "002907.SZ\n",
      "002908.SZ\n",
      "002909.SZ\n",
      "002910.SZ\n",
      "002911.SZ\n",
      "002912.SZ\n",
      "002913.SZ\n",
      "002915.SZ\n",
      "002916.SZ\n",
      "002917.SZ\n",
      "002918.SZ\n",
      "002919.SZ\n",
      "002920.SZ\n",
      "002921.SZ\n",
      "002922.SZ\n",
      "002923.SZ\n",
      "002925.SZ\n",
      "002926.SZ\n",
      "002927.SZ\n",
      "002928.SZ\n",
      "002929.SZ\n",
      "002930.SZ\n",
      "002931.SZ\n",
      "002932.SZ\n",
      "002933.SZ\n",
      "002935.SZ\n",
      "002936.SZ\n",
      "002937.SZ\n",
      "002938.SZ\n",
      "002939.SZ\n",
      "002940.SZ\n",
      "002941.SZ\n",
      "002942.SZ\n"
     ]
    },
    {
     "name": "stderr",
     "output_type": "stream",
     "text": [
      "<ipython-input-240-1ac76a73e39a>:11: RuntimeWarning: invalid value encountered in double_scalars\n",
      "  coskew = (res_i*np.power(res_m,2)).mean() / ( np.sqrt( np.power(res_i,2).mean() ) *  np.power(res_m,2).mean())\n"
     ]
    },
    {
     "name": "stdout",
     "output_type": "stream",
     "text": [
      "002943.SZ\n",
      "002945.SZ\n",
      "002946.SZ\n",
      "002947.SZ\n",
      "002948.SZ\n",
      "002949.SZ\n",
      "002950.SZ\n",
      "002951.SZ\n",
      "002952.SZ\n",
      "002953.SZ\n",
      "002955.SZ\n"
     ]
    },
    {
     "name": "stderr",
     "output_type": "stream",
     "text": [
      "<ipython-input-240-1ac76a73e39a>:11: RuntimeWarning: invalid value encountered in double_scalars\n",
      "  coskew = (res_i*np.power(res_m,2)).mean() / ( np.sqrt( np.power(res_i,2).mean() ) *  np.power(res_m,2).mean())\n"
     ]
    },
    {
     "name": "stdout",
     "output_type": "stream",
     "text": [
      "002956.SZ\n",
      "002957.SZ\n",
      "002958.SZ\n",
      "002959.SZ\n",
      "002960.SZ\n",
      "002961.SZ\n",
      "002962.SZ\n",
      "002963.SZ\n",
      "002965.SZ\n",
      "002966.SZ\n",
      "002967.SZ\n",
      "002968.SZ\n",
      "002969.SZ\n",
      "002970.SZ\n",
      "002971.SZ\n",
      "002972.SZ\n",
      "002973.SZ\n",
      "002975.SZ\n",
      "002976.SZ\n",
      "002977.SZ\n",
      "002978.SZ\n",
      "002979.SZ\n",
      "002980.SZ\n",
      "002981.SZ\n",
      "002982.SZ\n",
      "002983.SZ\n",
      "002985.SZ\n",
      "002986.SZ\n",
      "002987.SZ\n",
      "002988.SZ"
     ]
    },
    {
     "name": "stderr",
     "output_type": "stream",
     "text": [
      "<ipython-input-240-1ac76a73e39a>:11: RuntimeWarning: invalid value encountered in double_scalars\n",
      "  coskew = (res_i*np.power(res_m,2)).mean() / ( np.sqrt( np.power(res_i,2).mean() ) *  np.power(res_m,2).mean())\n",
      "<ipython-input-240-1ac76a73e39a>:11: RuntimeWarning: invalid value encountered in double_scalars\n",
      "  coskew = (res_i*np.power(res_m,2)).mean() / ( np.sqrt( np.power(res_i,2).mean() ) *  np.power(res_m,2).mean())\n"
     ]
    },
    {
     "name": "stdout",
     "output_type": "stream",
     "text": [
      "\n",
      "002989.SZ\n",
      "002990.SZ\n",
      "002991.SZ\n",
      "002992.SZ\n",
      "002993.SZ\n",
      "002995.SZ\n",
      "002996.SZ\n",
      "003816.SZ\n",
      "300001.SZ\n",
      "300002.SZ\n",
      "300003.SZ\n"
     ]
    },
    {
     "name": "stderr",
     "output_type": "stream",
     "text": [
      "<ipython-input-240-1ac76a73e39a>:11: RuntimeWarning: invalid value encountered in double_scalars\n",
      "  coskew = (res_i*np.power(res_m,2)).mean() / ( np.sqrt( np.power(res_i,2).mean() ) *  np.power(res_m,2).mean())\n"
     ]
    },
    {
     "name": "stdout",
     "output_type": "stream",
     "text": [
      "300004.SZ\n",
      "300005.SZ\n"
     ]
    },
    {
     "name": "stderr",
     "output_type": "stream",
     "text": [
      "<ipython-input-240-1ac76a73e39a>:11: RuntimeWarning: invalid value encountered in double_scalars\n",
      "  coskew = (res_i*np.power(res_m,2)).mean() / ( np.sqrt( np.power(res_i,2).mean() ) *  np.power(res_m,2).mean())\n"
     ]
    },
    {
     "name": "stdout",
     "output_type": "stream",
     "text": [
      "300006.SZ\n",
      "300007.SZ\n"
     ]
    },
    {
     "name": "stderr",
     "output_type": "stream",
     "text": [
      "<ipython-input-240-1ac76a73e39a>:11: RuntimeWarning: invalid value encountered in double_scalars\n",
      "  coskew = (res_i*np.power(res_m,2)).mean() / ( np.sqrt( np.power(res_i,2).mean() ) *  np.power(res_m,2).mean())\n"
     ]
    },
    {
     "name": "stdout",
     "output_type": "stream",
     "text": [
      "300008.SZ\n",
      "300009.SZ\n"
     ]
    },
    {
     "name": "stderr",
     "output_type": "stream",
     "text": [
      "<ipython-input-240-1ac76a73e39a>:11: RuntimeWarning: invalid value encountered in double_scalars\n",
      "  coskew = (res_i*np.power(res_m,2)).mean() / ( np.sqrt( np.power(res_i,2).mean() ) *  np.power(res_m,2).mean())\n"
     ]
    },
    {
     "name": "stdout",
     "output_type": "stream",
     "text": [
      "300010.SZ\n",
      "300011.SZ\n",
      "300012.SZ\n",
      "300013.SZ\n",
      "300014.SZ\n",
      "300015.SZ\n",
      "300016.SZ\n",
      "300017.SZ\n",
      "300018.SZ\n",
      "300019.SZ\n",
      "300020.SZ\n",
      "300021.SZ\n",
      "300022.SZ\n",
      "300023.SZ\n",
      "300024.SZ\n",
      "300025.SZ\n"
     ]
    },
    {
     "name": "stderr",
     "output_type": "stream",
     "text": [
      "<ipython-input-240-1ac76a73e39a>:11: RuntimeWarning: invalid value encountered in double_scalars\n",
      "  coskew = (res_i*np.power(res_m,2)).mean() / ( np.sqrt( np.power(res_i,2).mean() ) *  np.power(res_m,2).mean())\n"
     ]
    },
    {
     "name": "stdout",
     "output_type": "stream",
     "text": [
      "300026.SZ\n",
      "300027.SZ\n",
      "300028.SZ\n",
      "300029.SZ\n"
     ]
    },
    {
     "name": "stderr",
     "output_type": "stream",
     "text": [
      "<ipython-input-240-1ac76a73e39a>:11: RuntimeWarning: invalid value encountered in double_scalars\n",
      "  coskew = (res_i*np.power(res_m,2)).mean() / ( np.sqrt( np.power(res_i,2).mean() ) *  np.power(res_m,2).mean())\n"
     ]
    },
    {
     "name": "stdout",
     "output_type": "stream",
     "text": [
      "300030.SZ\n",
      "300031.SZ\n",
      "300032.SZ\n",
      "300033.SZ\n",
      "300034.SZ\n",
      "300035.SZ\n",
      "300036.SZ\n",
      "300037.SZ\n",
      "300038.SZ\n",
      "300039.SZ\n",
      "300040.SZ\n"
     ]
    },
    {
     "name": "stderr",
     "output_type": "stream",
     "text": [
      "<ipython-input-240-1ac76a73e39a>:11: RuntimeWarning: invalid value encountered in double_scalars\n",
      "  coskew = (res_i*np.power(res_m,2)).mean() / ( np.sqrt( np.power(res_i,2).mean() ) *  np.power(res_m,2).mean())\n"
     ]
    },
    {
     "name": "stdout",
     "output_type": "stream",
     "text": [
      "300041.SZ\n",
      "300042.SZ\n",
      "300043.SZ\n",
      "300044.SZ\n",
      "300045.SZ\n",
      "300046.SZ\n",
      "300047.SZ\n",
      "300048.SZ\n"
     ]
    },
    {
     "name": "stderr",
     "output_type": "stream",
     "text": [
      "<ipython-input-240-1ac76a73e39a>:11: RuntimeWarning: invalid value encountered in double_scalars\n",
      "  coskew = (res_i*np.power(res_m,2)).mean() / ( np.sqrt( np.power(res_i,2).mean() ) *  np.power(res_m,2).mean())\n"
     ]
    },
    {
     "name": "stdout",
     "output_type": "stream",
     "text": [
      "300049.SZ\n",
      "300050.SZ\n"
     ]
    },
    {
     "name": "stderr",
     "output_type": "stream",
     "text": [
      "<ipython-input-240-1ac76a73e39a>:11: RuntimeWarning: invalid value encountered in double_scalars\n",
      "  coskew = (res_i*np.power(res_m,2)).mean() / ( np.sqrt( np.power(res_i,2).mean() ) *  np.power(res_m,2).mean())\n",
      "<ipython-input-240-1ac76a73e39a>:11: RuntimeWarning: invalid value encountered in double_scalars\n",
      "  coskew = (res_i*np.power(res_m,2)).mean() / ( np.sqrt( np.power(res_i,2).mean() ) *  np.power(res_m,2).mean())\n"
     ]
    },
    {
     "name": "stdout",
     "output_type": "stream",
     "text": [
      "300051.SZ\n",
      "300052.SZ\n",
      "300053.SZ\n"
     ]
    },
    {
     "name": "stderr",
     "output_type": "stream",
     "text": [
      "<ipython-input-240-1ac76a73e39a>:11: RuntimeWarning: invalid value encountered in double_scalars\n",
      "  coskew = (res_i*np.power(res_m,2)).mean() / ( np.sqrt( np.power(res_i,2).mean() ) *  np.power(res_m,2).mean())\n"
     ]
    },
    {
     "name": "stdout",
     "output_type": "stream",
     "text": [
      "300054.SZ\n",
      "300055.SZ\n",
      "300056.SZ\n",
      "300057.SZ\n"
     ]
    },
    {
     "name": "stderr",
     "output_type": "stream",
     "text": [
      "<ipython-input-240-1ac76a73e39a>:11: RuntimeWarning: invalid value encountered in double_scalars\n",
      "  coskew = (res_i*np.power(res_m,2)).mean() / ( np.sqrt( np.power(res_i,2).mean() ) *  np.power(res_m,2).mean())\n"
     ]
    },
    {
     "name": "stdout",
     "output_type": "stream",
     "text": [
      "300058.SZ\n",
      "300059.SZ\n"
     ]
    },
    {
     "name": "stderr",
     "output_type": "stream",
     "text": [
      "<ipython-input-240-1ac76a73e39a>:11: RuntimeWarning: invalid value encountered in double_scalars\n",
      "  coskew = (res_i*np.power(res_m,2)).mean() / ( np.sqrt( np.power(res_i,2).mean() ) *  np.power(res_m,2).mean())\n"
     ]
    },
    {
     "name": "stdout",
     "output_type": "stream",
     "text": [
      "300061.SZ\n",
      "300062.SZ\n"
     ]
    },
    {
     "name": "stderr",
     "output_type": "stream",
     "text": [
      "<ipython-input-240-1ac76a73e39a>:11: RuntimeWarning: invalid value encountered in double_scalars\n",
      "  coskew = (res_i*np.power(res_m,2)).mean() / ( np.sqrt( np.power(res_i,2).mean() ) *  np.power(res_m,2).mean())\n",
      "<ipython-input-240-1ac76a73e39a>:11: RuntimeWarning: invalid value encountered in double_scalars\n",
      "  coskew = (res_i*np.power(res_m,2)).mean() / ( np.sqrt( np.power(res_i,2).mean() ) *  np.power(res_m,2).mean())\n"
     ]
    },
    {
     "name": "stdout",
     "output_type": "stream",
     "text": [
      "300063.SZ\n",
      "300064.SZ\n",
      "300065.SZ\n",
      "300066.SZ\n",
      "300067.SZ\n",
      "300068.SZ\n",
      "300069.SZ\n",
      "300070.SZ\n"
     ]
    },
    {
     "name": "stderr",
     "output_type": "stream",
     "text": [
      "<ipython-input-240-1ac76a73e39a>:11: RuntimeWarning: invalid value encountered in double_scalars\n",
      "  coskew = (res_i*np.power(res_m,2)).mean() / ( np.sqrt( np.power(res_i,2).mean() ) *  np.power(res_m,2).mean())\n"
     ]
    },
    {
     "name": "stdout",
     "output_type": "stream",
     "text": [
      "300071.SZ\n",
      "300072.SZ\n",
      "300073.SZ\n",
      "300074.SZ\n",
      "300075.SZ\n"
     ]
    },
    {
     "name": "stderr",
     "output_type": "stream",
     "text": [
      "<ipython-input-240-1ac76a73e39a>:11: RuntimeWarning: invalid value encountered in double_scalars\n",
      "  coskew = (res_i*np.power(res_m,2)).mean() / ( np.sqrt( np.power(res_i,2).mean() ) *  np.power(res_m,2).mean())\n"
     ]
    },
    {
     "name": "stdout",
     "output_type": "stream",
     "text": [
      "300076.SZ\n",
      "300077.SZ\n",
      "300078.SZ\n",
      "300079.SZ\n",
      "300080.SZ\n",
      "300081.SZ\n",
      "300082.SZ\n",
      "300083.SZ\n",
      "300084.SZ\n"
     ]
    },
    {
     "name": "stderr",
     "output_type": "stream",
     "text": [
      "<ipython-input-240-1ac76a73e39a>:11: RuntimeWarning: invalid value encountered in double_scalars\n",
      "  coskew = (res_i*np.power(res_m,2)).mean() / ( np.sqrt( np.power(res_i,2).mean() ) *  np.power(res_m,2).mean())\n"
     ]
    },
    {
     "name": "stdout",
     "output_type": "stream",
     "text": [
      "300085.SZ\n",
      "300086.SZ\n",
      "300087.SZ\n"
     ]
    },
    {
     "name": "stderr",
     "output_type": "stream",
     "text": [
      "<ipython-input-240-1ac76a73e39a>:11: RuntimeWarning: invalid value encountered in double_scalars\n",
      "  coskew = (res_i*np.power(res_m,2)).mean() / ( np.sqrt( np.power(res_i,2).mean() ) *  np.power(res_m,2).mean())\n"
     ]
    },
    {
     "name": "stdout",
     "output_type": "stream",
     "text": [
      "300088.SZ\n"
     ]
    },
    {
     "name": "stderr",
     "output_type": "stream",
     "text": [
      "<ipython-input-240-1ac76a73e39a>:11: RuntimeWarning: invalid value encountered in double_scalars\n",
      "  coskew = (res_i*np.power(res_m,2)).mean() / ( np.sqrt( np.power(res_i,2).mean() ) *  np.power(res_m,2).mean())\n"
     ]
    },
    {
     "name": "stdout",
     "output_type": "stream",
     "text": [
      "300089.SZ\n"
     ]
    },
    {
     "name": "stderr",
     "output_type": "stream",
     "text": [
      "<ipython-input-240-1ac76a73e39a>:11: RuntimeWarning: invalid value encountered in double_scalars\n",
      "  coskew = (res_i*np.power(res_m,2)).mean() / ( np.sqrt( np.power(res_i,2).mean() ) *  np.power(res_m,2).mean())\n",
      "<ipython-input-240-1ac76a73e39a>:11: RuntimeWarning: invalid value encountered in double_scalars\n",
      "  coskew = (res_i*np.power(res_m,2)).mean() / ( np.sqrt( np.power(res_i,2).mean() ) *  np.power(res_m,2).mean())\n"
     ]
    },
    {
     "name": "stdout",
     "output_type": "stream",
     "text": [
      "300090.SZ\n",
      "300091.SZ\n",
      "300092.SZ\n",
      "300093.SZ\n",
      "300094.SZ\n",
      "300095.SZ\n",
      "300096.SZ\n",
      "300097.SZ\n",
      "300098.SZ\n",
      "300099.SZ\n",
      "300100.SZ\n",
      "300101.SZ\n",
      "300102.SZ\n"
     ]
    },
    {
     "name": "stderr",
     "output_type": "stream",
     "text": [
      "<ipython-input-240-1ac76a73e39a>:11: RuntimeWarning: invalid value encountered in double_scalars\n",
      "  coskew = (res_i*np.power(res_m,2)).mean() / ( np.sqrt( np.power(res_i,2).mean() ) *  np.power(res_m,2).mean())\n"
     ]
    },
    {
     "name": "stdout",
     "output_type": "stream",
     "text": [
      "300103.SZ\n",
      "300104.SZ\n",
      "300105.SZ\n",
      "300106.SZ\n",
      "300107.SZ\n",
      "300108.SZ\n"
     ]
    },
    {
     "name": "stderr",
     "output_type": "stream",
     "text": [
      "<ipython-input-240-1ac76a73e39a>:11: RuntimeWarning: invalid value encountered in double_scalars\n",
      "  coskew = (res_i*np.power(res_m,2)).mean() / ( np.sqrt( np.power(res_i,2).mean() ) *  np.power(res_m,2).mean())\n"
     ]
    },
    {
     "name": "stdout",
     "output_type": "stream",
     "text": [
      "300109.SZ\n",
      "300110.SZ\n"
     ]
    },
    {
     "name": "stderr",
     "output_type": "stream",
     "text": [
      "<ipython-input-240-1ac76a73e39a>:11: RuntimeWarning: invalid value encountered in double_scalars\n",
      "  coskew = (res_i*np.power(res_m,2)).mean() / ( np.sqrt( np.power(res_i,2).mean() ) *  np.power(res_m,2).mean())\n"
     ]
    },
    {
     "name": "stdout",
     "output_type": "stream",
     "text": [
      "300111.SZ\n",
      "300112.SZ\n"
     ]
    },
    {
     "name": "stderr",
     "output_type": "stream",
     "text": [
      "<ipython-input-240-1ac76a73e39a>:11: RuntimeWarning: invalid value encountered in double_scalars\n",
      "  coskew = (res_i*np.power(res_m,2)).mean() / ( np.sqrt( np.power(res_i,2).mean() ) *  np.power(res_m,2).mean())\n",
      "<ipython-input-240-1ac76a73e39a>:11: RuntimeWarning: invalid value encountered in double_scalars\n",
      "  coskew = (res_i*np.power(res_m,2)).mean() / ( np.sqrt( np.power(res_i,2).mean() ) *  np.power(res_m,2).mean())\n"
     ]
    },
    {
     "name": "stdout",
     "output_type": "stream",
     "text": [
      "300113.SZ\n"
     ]
    },
    {
     "name": "stderr",
     "output_type": "stream",
     "text": [
      "<ipython-input-240-1ac76a73e39a>:11: RuntimeWarning: invalid value encountered in double_scalars\n",
      "  coskew = (res_i*np.power(res_m,2)).mean() / ( np.sqrt( np.power(res_i,2).mean() ) *  np.power(res_m,2).mean())\n"
     ]
    },
    {
     "name": "stdout",
     "output_type": "stream",
     "text": [
      "300114.SZ\n",
      "300115.SZ\n"
     ]
    },
    {
     "name": "stderr",
     "output_type": "stream",
     "text": [
      "<ipython-input-240-1ac76a73e39a>:11: RuntimeWarning: invalid value encountered in double_scalars\n",
      "  coskew = (res_i*np.power(res_m,2)).mean() / ( np.sqrt( np.power(res_i,2).mean() ) *  np.power(res_m,2).mean())\n"
     ]
    },
    {
     "name": "stdout",
     "output_type": "stream",
     "text": [
      "300116.SZ\n",
      "300117.SZ\n",
      "300118.SZ\n"
     ]
    },
    {
     "name": "stderr",
     "output_type": "stream",
     "text": [
      "<ipython-input-240-1ac76a73e39a>:11: RuntimeWarning: invalid value encountered in double_scalars\n",
      "  coskew = (res_i*np.power(res_m,2)).mean() / ( np.sqrt( np.power(res_i,2).mean() ) *  np.power(res_m,2).mean())\n"
     ]
    },
    {
     "name": "stdout",
     "output_type": "stream",
     "text": [
      "300119.SZ\n",
      "300120.SZ\n",
      "300121.SZ\n",
      "300122.SZ\n",
      "300123.SZ\n",
      "300124.SZ\n",
      "300125.SZ\n",
      "300126.SZ\n",
      "300127.SZ\n",
      "300128.SZ\n",
      "300129.SZ\n",
      "300130.SZ\n"
     ]
    },
    {
     "name": "stderr",
     "output_type": "stream",
     "text": [
      "<ipython-input-240-1ac76a73e39a>:11: RuntimeWarning: invalid value encountered in double_scalars\n",
      "  coskew = (res_i*np.power(res_m,2)).mean() / ( np.sqrt( np.power(res_i,2).mean() ) *  np.power(res_m,2).mean())\n"
     ]
    },
    {
     "name": "stdout",
     "output_type": "stream",
     "text": [
      "300131.SZ\n",
      "300132.SZ\n",
      "300133.SZ\n",
      "300134.SZ\n",
      "300135.SZ\n",
      "300136.SZ\n",
      "300137.SZ\n",
      "300138.SZ\n",
      "300139.SZ\n",
      "300140.SZ\n",
      "300141.SZ\n",
      "300142.SZ\n"
     ]
    },
    {
     "name": "stderr",
     "output_type": "stream",
     "text": [
      "<ipython-input-240-1ac76a73e39a>:11: RuntimeWarning: invalid value encountered in double_scalars\n",
      "  coskew = (res_i*np.power(res_m,2)).mean() / ( np.sqrt( np.power(res_i,2).mean() ) *  np.power(res_m,2).mean())\n"
     ]
    },
    {
     "name": "stdout",
     "output_type": "stream",
     "text": [
      "300143.SZ\n",
      "300144.SZ\n"
     ]
    },
    {
     "name": "stderr",
     "output_type": "stream",
     "text": [
      "<ipython-input-240-1ac76a73e39a>:11: RuntimeWarning: invalid value encountered in double_scalars\n",
      "  coskew = (res_i*np.power(res_m,2)).mean() / ( np.sqrt( np.power(res_i,2).mean() ) *  np.power(res_m,2).mean())\n"
     ]
    },
    {
     "name": "stdout",
     "output_type": "stream",
     "text": [
      "300145.SZ\n"
     ]
    },
    {
     "name": "stderr",
     "output_type": "stream",
     "text": [
      "<ipython-input-240-1ac76a73e39a>:11: RuntimeWarning: invalid value encountered in double_scalars\n",
      "  coskew = (res_i*np.power(res_m,2)).mean() / ( np.sqrt( np.power(res_i,2).mean() ) *  np.power(res_m,2).mean())\n"
     ]
    },
    {
     "name": "stdout",
     "output_type": "stream",
     "text": [
      "300146.SZ\n",
      "300147.SZ\n"
     ]
    },
    {
     "name": "stderr",
     "output_type": "stream",
     "text": [
      "<ipython-input-240-1ac76a73e39a>:11: RuntimeWarning: invalid value encountered in double_scalars\n",
      "  coskew = (res_i*np.power(res_m,2)).mean() / ( np.sqrt( np.power(res_i,2).mean() ) *  np.power(res_m,2).mean())\n",
      "<ipython-input-240-1ac76a73e39a>:11: RuntimeWarning: invalid value encountered in double_scalars\n",
      "  coskew = (res_i*np.power(res_m,2)).mean() / ( np.sqrt( np.power(res_i,2).mean() ) *  np.power(res_m,2).mean())\n"
     ]
    },
    {
     "name": "stdout",
     "output_type": "stream",
     "text": [
      "300148.SZ\n",
      "300149.SZ\n",
      "300150.SZ\n",
      "300151.SZ\n",
      "300152.SZ\n"
     ]
    },
    {
     "name": "stderr",
     "output_type": "stream",
     "text": [
      "<ipython-input-240-1ac76a73e39a>:11: RuntimeWarning: invalid value encountered in double_scalars\n",
      "  coskew = (res_i*np.power(res_m,2)).mean() / ( np.sqrt( np.power(res_i,2).mean() ) *  np.power(res_m,2).mean())\n"
     ]
    },
    {
     "name": "stdout",
     "output_type": "stream",
     "text": [
      "300153.SZ\n",
      "300154.SZ\n",
      "300155.SZ\n"
     ]
    },
    {
     "name": "stderr",
     "output_type": "stream",
     "text": [
      "<ipython-input-240-1ac76a73e39a>:11: RuntimeWarning: invalid value encountered in double_scalars\n",
      "  coskew = (res_i*np.power(res_m,2)).mean() / ( np.sqrt( np.power(res_i,2).mean() ) *  np.power(res_m,2).mean())\n",
      "<ipython-input-240-1ac76a73e39a>:11: RuntimeWarning: invalid value encountered in double_scalars\n",
      "  coskew = (res_i*np.power(res_m,2)).mean() / ( np.sqrt( np.power(res_i,2).mean() ) *  np.power(res_m,2).mean())\n"
     ]
    },
    {
     "name": "stdout",
     "output_type": "stream",
     "text": [
      "300156.SZ\n",
      "300157.SZ\n",
      "300158.SZ\n",
      "300159.SZ\n",
      "300160.SZ\n",
      "300161.SZ\n"
     ]
    },
    {
     "name": "stderr",
     "output_type": "stream",
     "text": [
      "<ipython-input-240-1ac76a73e39a>:11: RuntimeWarning: invalid value encountered in double_scalars\n",
      "  coskew = (res_i*np.power(res_m,2)).mean() / ( np.sqrt( np.power(res_i,2).mean() ) *  np.power(res_m,2).mean())\n"
     ]
    },
    {
     "name": "stdout",
     "output_type": "stream",
     "text": [
      "300162.SZ\n",
      "300163.SZ\n"
     ]
    },
    {
     "name": "stderr",
     "output_type": "stream",
     "text": [
      "<ipython-input-240-1ac76a73e39a>:11: RuntimeWarning: invalid value encountered in double_scalars\n",
      "  coskew = (res_i*np.power(res_m,2)).mean() / ( np.sqrt( np.power(res_i,2).mean() ) *  np.power(res_m,2).mean())\n"
     ]
    },
    {
     "name": "stdout",
     "output_type": "stream",
     "text": [
      "300164.SZ\n"
     ]
    },
    {
     "name": "stderr",
     "output_type": "stream",
     "text": [
      "<ipython-input-240-1ac76a73e39a>:11: RuntimeWarning: invalid value encountered in double_scalars\n",
      "  coskew = (res_i*np.power(res_m,2)).mean() / ( np.sqrt( np.power(res_i,2).mean() ) *  np.power(res_m,2).mean())\n"
     ]
    },
    {
     "name": "stdout",
     "output_type": "stream",
     "text": [
      "300165.SZ\n",
      "300166.SZ\n",
      "300167.SZ\n",
      "300168.SZ\n",
      "300169.SZ\n",
      "300170.SZ\n",
      "300171.SZ\n",
      "300172.SZ\n"
     ]
    },
    {
     "name": "stderr",
     "output_type": "stream",
     "text": [
      "<ipython-input-240-1ac76a73e39a>:11: RuntimeWarning: invalid value encountered in double_scalars\n",
      "  coskew = (res_i*np.power(res_m,2)).mean() / ( np.sqrt( np.power(res_i,2).mean() ) *  np.power(res_m,2).mean())\n"
     ]
    },
    {
     "name": "stdout",
     "output_type": "stream",
     "text": [
      "300173.SZ\n",
      "300174.SZ\n",
      "300175.SZ\n",
      "300176.SZ\n",
      "300177.SZ\n",
      "300178.SZ\n",
      "300179.SZ\n",
      "300180.SZ\n",
      "300181.SZ\n",
      "300182.SZ\n",
      "300183.SZ\n"
     ]
    },
    {
     "name": "stderr",
     "output_type": "stream",
     "text": [
      "<ipython-input-240-1ac76a73e39a>:11: RuntimeWarning: invalid value encountered in double_scalars\n",
      "  coskew = (res_i*np.power(res_m,2)).mean() / ( np.sqrt( np.power(res_i,2).mean() ) *  np.power(res_m,2).mean())\n"
     ]
    },
    {
     "name": "stdout",
     "output_type": "stream",
     "text": [
      "300184.SZ\n",
      "300185.SZ\n",
      "300186.SZ\n",
      "300187.SZ\n",
      "300188.SZ\n"
     ]
    },
    {
     "name": "stderr",
     "output_type": "stream",
     "text": [
      "<ipython-input-240-1ac76a73e39a>:11: RuntimeWarning: invalid value encountered in double_scalars\n",
      "  coskew = (res_i*np.power(res_m,2)).mean() / ( np.sqrt( np.power(res_i,2).mean() ) *  np.power(res_m,2).mean())\n"
     ]
    },
    {
     "name": "stdout",
     "output_type": "stream",
     "text": [
      "300189.SZ\n",
      "300190.SZ\n"
     ]
    },
    {
     "name": "stderr",
     "output_type": "stream",
     "text": [
      "<ipython-input-240-1ac76a73e39a>:11: RuntimeWarning: invalid value encountered in double_scalars\n",
      "  coskew = (res_i*np.power(res_m,2)).mean() / ( np.sqrt( np.power(res_i,2).mean() ) *  np.power(res_m,2).mean())\n"
     ]
    },
    {
     "name": "stdout",
     "output_type": "stream",
     "text": [
      "300191.SZ\n",
      "300192.SZ\n",
      "300193.SZ\n"
     ]
    },
    {
     "name": "stderr",
     "output_type": "stream",
     "text": [
      "<ipython-input-240-1ac76a73e39a>:11: RuntimeWarning: invalid value encountered in double_scalars\n",
      "  coskew = (res_i*np.power(res_m,2)).mean() / ( np.sqrt( np.power(res_i,2).mean() ) *  np.power(res_m,2).mean())\n"
     ]
    },
    {
     "name": "stdout",
     "output_type": "stream",
     "text": [
      "300194.SZ\n",
      "300195.SZ\n",
      "300196.SZ\n"
     ]
    },
    {
     "name": "stderr",
     "output_type": "stream",
     "text": [
      "<ipython-input-240-1ac76a73e39a>:11: RuntimeWarning: invalid value encountered in double_scalars\n",
      "  coskew = (res_i*np.power(res_m,2)).mean() / ( np.sqrt( np.power(res_i,2).mean() ) *  np.power(res_m,2).mean())\n"
     ]
    },
    {
     "name": "stdout",
     "output_type": "stream",
     "text": [
      "300197.SZ\n"
     ]
    },
    {
     "name": "stderr",
     "output_type": "stream",
     "text": [
      "<ipython-input-240-1ac76a73e39a>:11: RuntimeWarning: invalid value encountered in double_scalars\n",
      "  coskew = (res_i*np.power(res_m,2)).mean() / ( np.sqrt( np.power(res_i,2).mean() ) *  np.power(res_m,2).mean())\n",
      "<ipython-input-240-1ac76a73e39a>:11: RuntimeWarning: invalid value encountered in double_scalars\n",
      "  coskew = (res_i*np.power(res_m,2)).mean() / ( np.sqrt( np.power(res_i,2).mean() ) *  np.power(res_m,2).mean())\n"
     ]
    },
    {
     "name": "stdout",
     "output_type": "stream",
     "text": [
      "300198.SZ\n",
      "300199.SZ\n",
      "300200.SZ\n"
     ]
    },
    {
     "name": "stderr",
     "output_type": "stream",
     "text": [
      "<ipython-input-240-1ac76a73e39a>:11: RuntimeWarning: invalid value encountered in double_scalars\n",
      "  coskew = (res_i*np.power(res_m,2)).mean() / ( np.sqrt( np.power(res_i,2).mean() ) *  np.power(res_m,2).mean())\n"
     ]
    },
    {
     "name": "stdout",
     "output_type": "stream",
     "text": [
      "300201.SZ\n",
      "300202.SZ\n",
      "300203.SZ\n",
      "300204.SZ\n",
      "300205.SZ\n",
      "300206.SZ\n",
      "300207.SZ\n",
      "300208.SZ\n"
     ]
    },
    {
     "name": "stderr",
     "output_type": "stream",
     "text": [
      "<ipython-input-240-1ac76a73e39a>:11: RuntimeWarning: invalid value encountered in double_scalars\n",
      "  coskew = (res_i*np.power(res_m,2)).mean() / ( np.sqrt( np.power(res_i,2).mean() ) *  np.power(res_m,2).mean())\n"
     ]
    },
    {
     "name": "stdout",
     "output_type": "stream",
     "text": [
      "300209.SZ\n",
      "300210.SZ\n",
      "300211.SZ\n"
     ]
    },
    {
     "name": "stderr",
     "output_type": "stream",
     "text": [
      "<ipython-input-240-1ac76a73e39a>:11: RuntimeWarning: invalid value encountered in double_scalars\n",
      "  coskew = (res_i*np.power(res_m,2)).mean() / ( np.sqrt( np.power(res_i,2).mean() ) *  np.power(res_m,2).mean())\n"
     ]
    },
    {
     "name": "stdout",
     "output_type": "stream",
     "text": [
      "300212.SZ\n",
      "300213.SZ\n",
      "300214.SZ\n",
      "300215.SZ\n"
     ]
    },
    {
     "name": "stderr",
     "output_type": "stream",
     "text": [
      "<ipython-input-240-1ac76a73e39a>:11: RuntimeWarning: invalid value encountered in double_scalars\n",
      "  coskew = (res_i*np.power(res_m,2)).mean() / ( np.sqrt( np.power(res_i,2).mean() ) *  np.power(res_m,2).mean())\n"
     ]
    },
    {
     "name": "stdout",
     "output_type": "stream",
     "text": [
      "300216.SZ\n",
      "300217.SZ\n",
      "300218.SZ\n",
      "300219.SZ\n"
     ]
    },
    {
     "name": "stderr",
     "output_type": "stream",
     "text": [
      "<ipython-input-240-1ac76a73e39a>:11: RuntimeWarning: invalid value encountered in double_scalars\n",
      "  coskew = (res_i*np.power(res_m,2)).mean() / ( np.sqrt( np.power(res_i,2).mean() ) *  np.power(res_m,2).mean())\n"
     ]
    },
    {
     "name": "stdout",
     "output_type": "stream",
     "text": [
      "300220.SZ\n",
      "300221.SZ\n",
      "300222.SZ\n"
     ]
    },
    {
     "name": "stderr",
     "output_type": "stream",
     "text": [
      "<ipython-input-240-1ac76a73e39a>:11: RuntimeWarning: invalid value encountered in double_scalars\n",
      "  coskew = (res_i*np.power(res_m,2)).mean() / ( np.sqrt( np.power(res_i,2).mean() ) *  np.power(res_m,2).mean())\n"
     ]
    },
    {
     "name": "stdout",
     "output_type": "stream",
     "text": [
      "300223.SZ\n",
      "300224.SZ\n",
      "300225.SZ\n"
     ]
    },
    {
     "name": "stderr",
     "output_type": "stream",
     "text": [
      "<ipython-input-240-1ac76a73e39a>:11: RuntimeWarning: invalid value encountered in double_scalars\n",
      "  coskew = (res_i*np.power(res_m,2)).mean() / ( np.sqrt( np.power(res_i,2).mean() ) *  np.power(res_m,2).mean())\n"
     ]
    },
    {
     "name": "stdout",
     "output_type": "stream",
     "text": [
      "300226.SZ\n",
      "300227.SZ\n",
      "300228.SZ\n"
     ]
    },
    {
     "name": "stderr",
     "output_type": "stream",
     "text": [
      "<ipython-input-240-1ac76a73e39a>:11: RuntimeWarning: invalid value encountered in double_scalars\n",
      "  coskew = (res_i*np.power(res_m,2)).mean() / ( np.sqrt( np.power(res_i,2).mean() ) *  np.power(res_m,2).mean())\n"
     ]
    },
    {
     "name": "stdout",
     "output_type": "stream",
     "text": [
      "300229.SZ\n",
      "300230.SZ\n",
      "300231.SZ\n",
      "300232.SZ\n",
      "300233.SZ\n",
      "300234.SZ\n"
     ]
    },
    {
     "name": "stderr",
     "output_type": "stream",
     "text": [
      "<ipython-input-240-1ac76a73e39a>:11: RuntimeWarning: invalid value encountered in double_scalars\n",
      "  coskew = (res_i*np.power(res_m,2)).mean() / ( np.sqrt( np.power(res_i,2).mean() ) *  np.power(res_m,2).mean())\n"
     ]
    },
    {
     "name": "stdout",
     "output_type": "stream",
     "text": [
      "300235.SZ\n"
     ]
    },
    {
     "name": "stderr",
     "output_type": "stream",
     "text": [
      "<ipython-input-240-1ac76a73e39a>:11: RuntimeWarning: invalid value encountered in double_scalars\n",
      "  coskew = (res_i*np.power(res_m,2)).mean() / ( np.sqrt( np.power(res_i,2).mean() ) *  np.power(res_m,2).mean())\n",
      "<ipython-input-240-1ac76a73e39a>:11: RuntimeWarning: invalid value encountered in double_scalars\n",
      "  coskew = (res_i*np.power(res_m,2)).mean() / ( np.sqrt( np.power(res_i,2).mean() ) *  np.power(res_m,2).mean())\n"
     ]
    },
    {
     "name": "stdout",
     "output_type": "stream",
     "text": [
      "300236.SZ\n"
     ]
    },
    {
     "name": "stderr",
     "output_type": "stream",
     "text": [
      "<ipython-input-240-1ac76a73e39a>:11: RuntimeWarning: invalid value encountered in double_scalars\n",
      "  coskew = (res_i*np.power(res_m,2)).mean() / ( np.sqrt( np.power(res_i,2).mean() ) *  np.power(res_m,2).mean())\n",
      "<ipython-input-240-1ac76a73e39a>:11: RuntimeWarning: invalid value encountered in double_scalars\n",
      "  coskew = (res_i*np.power(res_m,2)).mean() / ( np.sqrt( np.power(res_i,2).mean() ) *  np.power(res_m,2).mean())\n"
     ]
    },
    {
     "name": "stdout",
     "output_type": "stream",
     "text": [
      "300237.SZ\n"
     ]
    },
    {
     "name": "stderr",
     "output_type": "stream",
     "text": [
      "<ipython-input-240-1ac76a73e39a>:11: RuntimeWarning: invalid value encountered in double_scalars\n",
      "  coskew = (res_i*np.power(res_m,2)).mean() / ( np.sqrt( np.power(res_i,2).mean() ) *  np.power(res_m,2).mean())\n"
     ]
    },
    {
     "name": "stdout",
     "output_type": "stream",
     "text": [
      "300238.SZ\n",
      "300239.SZ\n",
      "300240.SZ\n",
      "300241.SZ\n",
      "300242.SZ\n",
      "300243.SZ\n"
     ]
    },
    {
     "name": "stderr",
     "output_type": "stream",
     "text": [
      "<ipython-input-240-1ac76a73e39a>:11: RuntimeWarning: invalid value encountered in double_scalars\n",
      "  coskew = (res_i*np.power(res_m,2)).mean() / ( np.sqrt( np.power(res_i,2).mean() ) *  np.power(res_m,2).mean())\n"
     ]
    },
    {
     "name": "stdout",
     "output_type": "stream",
     "text": [
      "300244.SZ\n",
      "300245.SZ\n",
      "300246.SZ\n",
      "300247.SZ\n",
      "300248.SZ\n",
      "300249.SZ\n"
     ]
    },
    {
     "name": "stderr",
     "output_type": "stream",
     "text": [
      "<ipython-input-240-1ac76a73e39a>:11: RuntimeWarning: invalid value encountered in double_scalars\n",
      "  coskew = (res_i*np.power(res_m,2)).mean() / ( np.sqrt( np.power(res_i,2).mean() ) *  np.power(res_m,2).mean())\n"
     ]
    },
    {
     "name": "stdout",
     "output_type": "stream",
     "text": [
      "300250.SZ\n",
      "300251.SZ\n",
      "300252.SZ\n",
      "300253.SZ\n",
      "300254.SZ\n",
      "300255.SZ\n",
      "300256.SZ\n",
      "300257.SZ\n",
      "300258.SZ\n",
      "300259.SZ\n",
      "300260.SZ\n",
      "300261.SZ\n",
      "300262.SZ\n"
     ]
    },
    {
     "name": "stderr",
     "output_type": "stream",
     "text": [
      "<ipython-input-240-1ac76a73e39a>:11: RuntimeWarning: invalid value encountered in double_scalars\n",
      "  coskew = (res_i*np.power(res_m,2)).mean() / ( np.sqrt( np.power(res_i,2).mean() ) *  np.power(res_m,2).mean())\n"
     ]
    },
    {
     "name": "stdout",
     "output_type": "stream",
     "text": [
      "300263.SZ\n",
      "300264.SZ\n",
      "300265.SZ\n",
      "300266.SZ\n",
      "300267.SZ\n",
      "300268.SZ\n",
      "300269.SZ\n",
      "300270.SZ\n",
      "300271.SZ\n",
      "300272.SZ\n",
      "300273.SZ\n",
      "300274.SZ\n",
      "300275.SZ\n",
      "300276.SZ\n",
      "300277.SZ\n"
     ]
    },
    {
     "name": "stderr",
     "output_type": "stream",
     "text": [
      "<ipython-input-240-1ac76a73e39a>:11: RuntimeWarning: invalid value encountered in double_scalars\n",
      "  coskew = (res_i*np.power(res_m,2)).mean() / ( np.sqrt( np.power(res_i,2).mean() ) *  np.power(res_m,2).mean())\n",
      "<ipython-input-240-1ac76a73e39a>:11: RuntimeWarning: invalid value encountered in double_scalars\n",
      "  coskew = (res_i*np.power(res_m,2)).mean() / ( np.sqrt( np.power(res_i,2).mean() ) *  np.power(res_m,2).mean())\n"
     ]
    },
    {
     "name": "stdout",
     "output_type": "stream",
     "text": [
      "300278.SZ\n",
      "300279.SZ\n"
     ]
    },
    {
     "name": "stderr",
     "output_type": "stream",
     "text": [
      "<ipython-input-240-1ac76a73e39a>:11: RuntimeWarning: invalid value encountered in double_scalars\n",
      "  coskew = (res_i*np.power(res_m,2)).mean() / ( np.sqrt( np.power(res_i,2).mean() ) *  np.power(res_m,2).mean())\n"
     ]
    },
    {
     "name": "stdout",
     "output_type": "stream",
     "text": [
      "300280.SZ\n"
     ]
    },
    {
     "name": "stderr",
     "output_type": "stream",
     "text": [
      "<ipython-input-240-1ac76a73e39a>:11: RuntimeWarning: invalid value encountered in double_scalars\n",
      "  coskew = (res_i*np.power(res_m,2)).mean() / ( np.sqrt( np.power(res_i,2).mean() ) *  np.power(res_m,2).mean())\n"
     ]
    },
    {
     "name": "stdout",
     "output_type": "stream",
     "text": [
      "300281.SZ\n"
     ]
    },
    {
     "name": "stderr",
     "output_type": "stream",
     "text": [
      "<ipython-input-240-1ac76a73e39a>:11: RuntimeWarning: invalid value encountered in double_scalars\n",
      "  coskew = (res_i*np.power(res_m,2)).mean() / ( np.sqrt( np.power(res_i,2).mean() ) *  np.power(res_m,2).mean())\n"
     ]
    },
    {
     "name": "stdout",
     "output_type": "stream",
     "text": [
      "300282.SZ\n",
      "300283.SZ\n"
     ]
    },
    {
     "name": "stderr",
     "output_type": "stream",
     "text": [
      "<ipython-input-240-1ac76a73e39a>:11: RuntimeWarning: invalid value encountered in double_scalars\n",
      "  coskew = (res_i*np.power(res_m,2)).mean() / ( np.sqrt( np.power(res_i,2).mean() ) *  np.power(res_m,2).mean())\n"
     ]
    },
    {
     "name": "stdout",
     "output_type": "stream",
     "text": [
      "300284.SZ\n",
      "300285.SZ\n",
      "300286.SZ\n"
     ]
    },
    {
     "name": "stderr",
     "output_type": "stream",
     "text": [
      "<ipython-input-240-1ac76a73e39a>:11: RuntimeWarning: invalid value encountered in double_scalars\n",
      "  coskew = (res_i*np.power(res_m,2)).mean() / ( np.sqrt( np.power(res_i,2).mean() ) *  np.power(res_m,2).mean())\n"
     ]
    },
    {
     "name": "stdout",
     "output_type": "stream",
     "text": [
      "300287.SZ\n",
      "300288.SZ\n",
      "300289.SZ\n",
      "300290.SZ\n"
     ]
    },
    {
     "name": "stderr",
     "output_type": "stream",
     "text": [
      "<ipython-input-240-1ac76a73e39a>:11: RuntimeWarning: invalid value encountered in double_scalars\n",
      "  coskew = (res_i*np.power(res_m,2)).mean() / ( np.sqrt( np.power(res_i,2).mean() ) *  np.power(res_m,2).mean())\n"
     ]
    },
    {
     "name": "stdout",
     "output_type": "stream",
     "text": [
      "300291.SZ\n"
     ]
    },
    {
     "name": "stderr",
     "output_type": "stream",
     "text": [
      "<ipython-input-240-1ac76a73e39a>:11: RuntimeWarning: invalid value encountered in double_scalars\n",
      "  coskew = (res_i*np.power(res_m,2)).mean() / ( np.sqrt( np.power(res_i,2).mean() ) *  np.power(res_m,2).mean())\n"
     ]
    },
    {
     "name": "stdout",
     "output_type": "stream",
     "text": [
      "300292.SZ\n",
      "300293.SZ\n"
     ]
    },
    {
     "name": "stderr",
     "output_type": "stream",
     "text": [
      "<ipython-input-240-1ac76a73e39a>:11: RuntimeWarning: invalid value encountered in double_scalars\n",
      "  coskew = (res_i*np.power(res_m,2)).mean() / ( np.sqrt( np.power(res_i,2).mean() ) *  np.power(res_m,2).mean())\n",
      "<ipython-input-240-1ac76a73e39a>:11: RuntimeWarning: invalid value encountered in double_scalars\n",
      "  coskew = (res_i*np.power(res_m,2)).mean() / ( np.sqrt( np.power(res_i,2).mean() ) *  np.power(res_m,2).mean())\n"
     ]
    },
    {
     "name": "stdout",
     "output_type": "stream",
     "text": [
      "300294.SZ\n",
      "300295.SZ\n",
      "300296.SZ\n",
      "300297.SZ\n",
      "300298.SZ\n"
     ]
    },
    {
     "name": "stderr",
     "output_type": "stream",
     "text": [
      "<ipython-input-240-1ac76a73e39a>:11: RuntimeWarning: invalid value encountered in double_scalars\n",
      "  coskew = (res_i*np.power(res_m,2)).mean() / ( np.sqrt( np.power(res_i,2).mean() ) *  np.power(res_m,2).mean())\n"
     ]
    },
    {
     "name": "stdout",
     "output_type": "stream",
     "text": [
      "300299.SZ\n",
      "300300.SZ\n",
      "300301.SZ\n",
      "300302.SZ\n",
      "300303.SZ\n",
      "300304.SZ\n"
     ]
    },
    {
     "name": "stderr",
     "output_type": "stream",
     "text": [
      "<ipython-input-240-1ac76a73e39a>:11: RuntimeWarning: invalid value encountered in double_scalars\n",
      "  coskew = (res_i*np.power(res_m,2)).mean() / ( np.sqrt( np.power(res_i,2).mean() ) *  np.power(res_m,2).mean())\n"
     ]
    },
    {
     "name": "stdout",
     "output_type": "stream",
     "text": [
      "300305.SZ\n"
     ]
    },
    {
     "name": "stderr",
     "output_type": "stream",
     "text": [
      "<ipython-input-240-1ac76a73e39a>:11: RuntimeWarning: invalid value encountered in double_scalars\n",
      "  coskew = (res_i*np.power(res_m,2)).mean() / ( np.sqrt( np.power(res_i,2).mean() ) *  np.power(res_m,2).mean())\n",
      "<ipython-input-240-1ac76a73e39a>:11: RuntimeWarning: invalid value encountered in double_scalars\n",
      "  coskew = (res_i*np.power(res_m,2)).mean() / ( np.sqrt( np.power(res_i,2).mean() ) *  np.power(res_m,2).mean())\n"
     ]
    },
    {
     "name": "stdout",
     "output_type": "stream",
     "text": [
      "300306.SZ\n"
     ]
    },
    {
     "name": "stderr",
     "output_type": "stream",
     "text": [
      "<ipython-input-240-1ac76a73e39a>:11: RuntimeWarning: invalid value encountered in double_scalars\n",
      "  coskew = (res_i*np.power(res_m,2)).mean() / ( np.sqrt( np.power(res_i,2).mean() ) *  np.power(res_m,2).mean())\n"
     ]
    },
    {
     "name": "stdout",
     "output_type": "stream",
     "text": [
      "300307.SZ\n"
     ]
    },
    {
     "name": "stderr",
     "output_type": "stream",
     "text": [
      "<ipython-input-240-1ac76a73e39a>:11: RuntimeWarning: invalid value encountered in double_scalars\n",
      "  coskew = (res_i*np.power(res_m,2)).mean() / ( np.sqrt( np.power(res_i,2).mean() ) *  np.power(res_m,2).mean())\n"
     ]
    },
    {
     "name": "stdout",
     "output_type": "stream",
     "text": [
      "300308.SZ\n",
      "300309.SZ\n",
      "300310.SZ\n",
      "300311.SZ\n"
     ]
    },
    {
     "name": "stderr",
     "output_type": "stream",
     "text": [
      "<ipython-input-240-1ac76a73e39a>:11: RuntimeWarning: invalid value encountered in double_scalars\n",
      "  coskew = (res_i*np.power(res_m,2)).mean() / ( np.sqrt( np.power(res_i,2).mean() ) *  np.power(res_m,2).mean())\n",
      "<ipython-input-240-1ac76a73e39a>:11: RuntimeWarning: invalid value encountered in double_scalars\n",
      "  coskew = (res_i*np.power(res_m,2)).mean() / ( np.sqrt( np.power(res_i,2).mean() ) *  np.power(res_m,2).mean())\n"
     ]
    },
    {
     "name": "stdout",
     "output_type": "stream",
     "text": [
      "300312.SZ\n"
     ]
    },
    {
     "name": "stderr",
     "output_type": "stream",
     "text": [
      "<ipython-input-240-1ac76a73e39a>:11: RuntimeWarning: invalid value encountered in double_scalars\n",
      "  coskew = (res_i*np.power(res_m,2)).mean() / ( np.sqrt( np.power(res_i,2).mean() ) *  np.power(res_m,2).mean())\n"
     ]
    },
    {
     "name": "stdout",
     "output_type": "stream",
     "text": [
      "300313.SZ\n",
      "300314.SZ\n"
     ]
    },
    {
     "name": "stderr",
     "output_type": "stream",
     "text": [
      "<ipython-input-240-1ac76a73e39a>:11: RuntimeWarning: invalid value encountered in double_scalars\n",
      "  coskew = (res_i*np.power(res_m,2)).mean() / ( np.sqrt( np.power(res_i,2).mean() ) *  np.power(res_m,2).mean())\n"
     ]
    },
    {
     "name": "stdout",
     "output_type": "stream",
     "text": [
      "300315.SZ\n",
      "300316.SZ\n",
      "300317.SZ\n",
      "300318.SZ\n",
      "300319.SZ\n"
     ]
    },
    {
     "name": "stderr",
     "output_type": "stream",
     "text": [
      "<ipython-input-240-1ac76a73e39a>:11: RuntimeWarning: invalid value encountered in double_scalars\n",
      "  coskew = (res_i*np.power(res_m,2)).mean() / ( np.sqrt( np.power(res_i,2).mean() ) *  np.power(res_m,2).mean())\n"
     ]
    },
    {
     "name": "stdout",
     "output_type": "stream",
     "text": [
      "300320.SZ\n",
      "300321.SZ\n"
     ]
    },
    {
     "name": "stderr",
     "output_type": "stream",
     "text": [
      "<ipython-input-240-1ac76a73e39a>:11: RuntimeWarning: invalid value encountered in double_scalars\n",
      "  coskew = (res_i*np.power(res_m,2)).mean() / ( np.sqrt( np.power(res_i,2).mean() ) *  np.power(res_m,2).mean())\n"
     ]
    },
    {
     "name": "stdout",
     "output_type": "stream",
     "text": [
      "300322.SZ\n",
      "300323.SZ\n",
      "300324.SZ\n",
      "300325.SZ\n"
     ]
    },
    {
     "name": "stderr",
     "output_type": "stream",
     "text": [
      "<ipython-input-240-1ac76a73e39a>:11: RuntimeWarning: invalid value encountered in double_scalars\n",
      "  coskew = (res_i*np.power(res_m,2)).mean() / ( np.sqrt( np.power(res_i,2).mean() ) *  np.power(res_m,2).mean())\n"
     ]
    },
    {
     "name": "stdout",
     "output_type": "stream",
     "text": [
      "300326.SZ\n",
      "300327.SZ\n",
      "300328.SZ\n",
      "300329.SZ\n",
      "300330.SZ\n"
     ]
    },
    {
     "name": "stderr",
     "output_type": "stream",
     "text": [
      "<ipython-input-240-1ac76a73e39a>:11: RuntimeWarning: invalid value encountered in double_scalars\n",
      "  coskew = (res_i*np.power(res_m,2)).mean() / ( np.sqrt( np.power(res_i,2).mean() ) *  np.power(res_m,2).mean())\n",
      "<ipython-input-240-1ac76a73e39a>:11: RuntimeWarning: invalid value encountered in double_scalars\n",
      "  coskew = (res_i*np.power(res_m,2)).mean() / ( np.sqrt( np.power(res_i,2).mean() ) *  np.power(res_m,2).mean())\n"
     ]
    },
    {
     "name": "stdout",
     "output_type": "stream",
     "text": [
      "300331.SZ\n"
     ]
    },
    {
     "name": "stderr",
     "output_type": "stream",
     "text": [
      "<ipython-input-240-1ac76a73e39a>:11: RuntimeWarning: invalid value encountered in double_scalars\n",
      "  coskew = (res_i*np.power(res_m,2)).mean() / ( np.sqrt( np.power(res_i,2).mean() ) *  np.power(res_m,2).mean())\n",
      "<ipython-input-240-1ac76a73e39a>:11: RuntimeWarning: invalid value encountered in double_scalars\n",
      "  coskew = (res_i*np.power(res_m,2)).mean() / ( np.sqrt( np.power(res_i,2).mean() ) *  np.power(res_m,2).mean())\n"
     ]
    },
    {
     "name": "stdout",
     "output_type": "stream",
     "text": [
      "300332.SZ\n"
     ]
    },
    {
     "name": "stderr",
     "output_type": "stream",
     "text": [
      "<ipython-input-240-1ac76a73e39a>:11: RuntimeWarning: invalid value encountered in double_scalars\n",
      "  coskew = (res_i*np.power(res_m,2)).mean() / ( np.sqrt( np.power(res_i,2).mean() ) *  np.power(res_m,2).mean())\n"
     ]
    },
    {
     "name": "stdout",
     "output_type": "stream",
     "text": [
      "300333.SZ\n"
     ]
    },
    {
     "name": "stderr",
     "output_type": "stream",
     "text": [
      "<ipython-input-240-1ac76a73e39a>:11: RuntimeWarning: invalid value encountered in double_scalars\n",
      "  coskew = (res_i*np.power(res_m,2)).mean() / ( np.sqrt( np.power(res_i,2).mean() ) *  np.power(res_m,2).mean())\n"
     ]
    },
    {
     "name": "stdout",
     "output_type": "stream",
     "text": [
      "300334.SZ\n"
     ]
    },
    {
     "name": "stderr",
     "output_type": "stream",
     "text": [
      "<ipython-input-240-1ac76a73e39a>:11: RuntimeWarning: invalid value encountered in double_scalars\n",
      "  coskew = (res_i*np.power(res_m,2)).mean() / ( np.sqrt( np.power(res_i,2).mean() ) *  np.power(res_m,2).mean())\n"
     ]
    },
    {
     "name": "stdout",
     "output_type": "stream",
     "text": [
      "300335.SZ\n"
     ]
    },
    {
     "name": "stderr",
     "output_type": "stream",
     "text": [
      "<ipython-input-240-1ac76a73e39a>:11: RuntimeWarning: invalid value encountered in double_scalars\n",
      "  coskew = (res_i*np.power(res_m,2)).mean() / ( np.sqrt( np.power(res_i,2).mean() ) *  np.power(res_m,2).mean())\n"
     ]
    },
    {
     "name": "stdout",
     "output_type": "stream",
     "text": [
      "300336.SZ\n"
     ]
    },
    {
     "name": "stderr",
     "output_type": "stream",
     "text": [
      "<ipython-input-240-1ac76a73e39a>:11: RuntimeWarning: invalid value encountered in double_scalars\n",
      "  coskew = (res_i*np.power(res_m,2)).mean() / ( np.sqrt( np.power(res_i,2).mean() ) *  np.power(res_m,2).mean())\n"
     ]
    },
    {
     "name": "stdout",
     "output_type": "stream",
     "text": [
      "300337.SZ\n",
      "300338.SZ\n",
      "300339.SZ\n",
      "300340.SZ\n"
     ]
    },
    {
     "name": "stderr",
     "output_type": "stream",
     "text": [
      "<ipython-input-240-1ac76a73e39a>:11: RuntimeWarning: invalid value encountered in double_scalars\n",
      "  coskew = (res_i*np.power(res_m,2)).mean() / ( np.sqrt( np.power(res_i,2).mean() ) *  np.power(res_m,2).mean())\n"
     ]
    },
    {
     "name": "stdout",
     "output_type": "stream",
     "text": [
      "300341.SZ\n",
      "300342.SZ\n",
      "300343.SZ\n",
      "300344.SZ\n",
      "300345.SZ\n",
      "300346.SZ\n",
      "300347.SZ\n"
     ]
    },
    {
     "name": "stderr",
     "output_type": "stream",
     "text": [
      "<ipython-input-240-1ac76a73e39a>:11: RuntimeWarning: invalid value encountered in double_scalars\n",
      "  coskew = (res_i*np.power(res_m,2)).mean() / ( np.sqrt( np.power(res_i,2).mean() ) *  np.power(res_m,2).mean())\n"
     ]
    },
    {
     "name": "stdout",
     "output_type": "stream",
     "text": [
      "300348.SZ\n",
      "300349.SZ\n",
      "300350.SZ\n",
      "300351.SZ\n",
      "300352.SZ\n"
     ]
    },
    {
     "name": "stderr",
     "output_type": "stream",
     "text": [
      "<ipython-input-240-1ac76a73e39a>:11: RuntimeWarning: invalid value encountered in double_scalars\n",
      "  coskew = (res_i*np.power(res_m,2)).mean() / ( np.sqrt( np.power(res_i,2).mean() ) *  np.power(res_m,2).mean())\n"
     ]
    },
    {
     "name": "stdout",
     "output_type": "stream",
     "text": [
      "300353.SZ\n",
      "300354.SZ\n"
     ]
    },
    {
     "name": "stderr",
     "output_type": "stream",
     "text": [
      "<ipython-input-240-1ac76a73e39a>:11: RuntimeWarning: invalid value encountered in double_scalars\n",
      "  coskew = (res_i*np.power(res_m,2)).mean() / ( np.sqrt( np.power(res_i,2).mean() ) *  np.power(res_m,2).mean())\n"
     ]
    },
    {
     "name": "stdout",
     "output_type": "stream",
     "text": [
      "300355.SZ\n",
      "300356.SZ\n",
      "300357.SZ\n",
      "300358.SZ\n",
      "300359.SZ\n",
      "300360.SZ\n",
      "300362.SZ\n"
     ]
    },
    {
     "name": "stderr",
     "output_type": "stream",
     "text": [
      "<ipython-input-240-1ac76a73e39a>:11: RuntimeWarning: invalid value encountered in double_scalars\n",
      "  coskew = (res_i*np.power(res_m,2)).mean() / ( np.sqrt( np.power(res_i,2).mean() ) *  np.power(res_m,2).mean())\n"
     ]
    },
    {
     "name": "stdout",
     "output_type": "stream",
     "text": [
      "300363.SZ\n",
      "300364.SZ\n",
      "300365.SZ\n"
     ]
    },
    {
     "name": "stderr",
     "output_type": "stream",
     "text": [
      "<ipython-input-240-1ac76a73e39a>:11: RuntimeWarning: invalid value encountered in double_scalars\n",
      "  coskew = (res_i*np.power(res_m,2)).mean() / ( np.sqrt( np.power(res_i,2).mean() ) *  np.power(res_m,2).mean())\n",
      "<ipython-input-240-1ac76a73e39a>:11: RuntimeWarning: invalid value encountered in double_scalars\n",
      "  coskew = (res_i*np.power(res_m,2)).mean() / ( np.sqrt( np.power(res_i,2).mean() ) *  np.power(res_m,2).mean())\n"
     ]
    },
    {
     "name": "stdout",
     "output_type": "stream",
     "text": [
      "300366.SZ\n",
      "300367.SZ\n",
      "300368.SZ\n"
     ]
    },
    {
     "name": "stderr",
     "output_type": "stream",
     "text": [
      "<ipython-input-240-1ac76a73e39a>:11: RuntimeWarning: invalid value encountered in double_scalars\n",
      "  coskew = (res_i*np.power(res_m,2)).mean() / ( np.sqrt( np.power(res_i,2).mean() ) *  np.power(res_m,2).mean())\n",
      "<ipython-input-240-1ac76a73e39a>:11: RuntimeWarning: invalid value encountered in double_scalars\n",
      "  coskew = (res_i*np.power(res_m,2)).mean() / ( np.sqrt( np.power(res_i,2).mean() ) *  np.power(res_m,2).mean())\n"
     ]
    },
    {
     "name": "stdout",
     "output_type": "stream",
     "text": [
      "300369.SZ\n",
      "300370.SZ\n",
      "300371.SZ\n",
      "300372.SZ\n",
      "300373.SZ\n",
      "300374.SZ\n",
      "300375.SZ\n",
      "300376.SZ\n",
      "300377.SZ\n",
      "300378.SZ\n",
      "300379.SZ\n",
      "300380.SZ\n",
      "300381.SZ\n"
     ]
    },
    {
     "name": "stderr",
     "output_type": "stream",
     "text": [
      "<ipython-input-240-1ac76a73e39a>:11: RuntimeWarning: invalid value encountered in double_scalars\n",
      "  coskew = (res_i*np.power(res_m,2)).mean() / ( np.sqrt( np.power(res_i,2).mean() ) *  np.power(res_m,2).mean())\n"
     ]
    },
    {
     "name": "stdout",
     "output_type": "stream",
     "text": [
      "300382.SZ\n"
     ]
    },
    {
     "name": "stderr",
     "output_type": "stream",
     "text": [
      "<ipython-input-240-1ac76a73e39a>:11: RuntimeWarning: invalid value encountered in double_scalars\n",
      "  coskew = (res_i*np.power(res_m,2)).mean() / ( np.sqrt( np.power(res_i,2).mean() ) *  np.power(res_m,2).mean())\n"
     ]
    },
    {
     "name": "stdout",
     "output_type": "stream",
     "text": [
      "300383.SZ\n"
     ]
    },
    {
     "name": "stderr",
     "output_type": "stream",
     "text": [
      "<ipython-input-240-1ac76a73e39a>:11: RuntimeWarning: invalid value encountered in double_scalars\n",
      "  coskew = (res_i*np.power(res_m,2)).mean() / ( np.sqrt( np.power(res_i,2).mean() ) *  np.power(res_m,2).mean())\n"
     ]
    },
    {
     "name": "stdout",
     "output_type": "stream",
     "text": [
      "300384.SZ\n",
      "300385.SZ\n",
      "300386.SZ\n",
      "300387.SZ\n"
     ]
    },
    {
     "name": "stderr",
     "output_type": "stream",
     "text": [
      "<ipython-input-240-1ac76a73e39a>:11: RuntimeWarning: invalid value encountered in double_scalars\n",
      "  coskew = (res_i*np.power(res_m,2)).mean() / ( np.sqrt( np.power(res_i,2).mean() ) *  np.power(res_m,2).mean())\n"
     ]
    },
    {
     "name": "stdout",
     "output_type": "stream",
     "text": [
      "300388.SZ\n",
      "300389.SZ\n",
      "300390.SZ\n",
      "300391.SZ\n",
      "300392.SZ\n",
      "300393.SZ\n",
      "300394.SZ\n",
      "300395.SZ\n",
      "300396.SZ\n",
      "300397.SZ\n",
      "300398.SZ\n",
      "300399.SZ\n",
      "300400.SZ\n",
      "300401.SZ\n",
      "300402.SZ\n"
     ]
    },
    {
     "name": "stderr",
     "output_type": "stream",
     "text": [
      "<ipython-input-240-1ac76a73e39a>:11: RuntimeWarning: invalid value encountered in double_scalars\n",
      "  coskew = (res_i*np.power(res_m,2)).mean() / ( np.sqrt( np.power(res_i,2).mean() ) *  np.power(res_m,2).mean())\n"
     ]
    },
    {
     "name": "stdout",
     "output_type": "stream",
     "text": [
      "300403.SZ\n",
      "300404.SZ\n"
     ]
    },
    {
     "name": "stderr",
     "output_type": "stream",
     "text": [
      "<ipython-input-240-1ac76a73e39a>:11: RuntimeWarning: invalid value encountered in double_scalars\n",
      "  coskew = (res_i*np.power(res_m,2)).mean() / ( np.sqrt( np.power(res_i,2).mean() ) *  np.power(res_m,2).mean())\n"
     ]
    },
    {
     "name": "stdout",
     "output_type": "stream",
     "text": [
      "300405.SZ\n"
     ]
    },
    {
     "name": "stderr",
     "output_type": "stream",
     "text": [
      "<ipython-input-240-1ac76a73e39a>:11: RuntimeWarning: invalid value encountered in double_scalars\n",
      "  coskew = (res_i*np.power(res_m,2)).mean() / ( np.sqrt( np.power(res_i,2).mean() ) *  np.power(res_m,2).mean())\n"
     ]
    },
    {
     "name": "stdout",
     "output_type": "stream",
     "text": [
      "300406.SZ\n",
      "300407.SZ\n",
      "300408.SZ\n",
      "300409.SZ\n",
      "300410.SZ\n",
      "300411.SZ\n",
      "300412.SZ\n",
      "300413.SZ\n",
      "300414.SZ\n",
      "300415.SZ\n",
      "300416.SZ\n",
      "300417.SZ\n"
     ]
    },
    {
     "name": "stderr",
     "output_type": "stream",
     "text": [
      "<ipython-input-240-1ac76a73e39a>:11: RuntimeWarning: invalid value encountered in double_scalars\n",
      "  coskew = (res_i*np.power(res_m,2)).mean() / ( np.sqrt( np.power(res_i,2).mean() ) *  np.power(res_m,2).mean())\n"
     ]
    },
    {
     "name": "stdout",
     "output_type": "stream",
     "text": [
      "300418.SZ\n",
      "300419.SZ\n",
      "300420.SZ\n",
      "300421.SZ\n",
      "300422.SZ\n"
     ]
    },
    {
     "name": "stderr",
     "output_type": "stream",
     "text": [
      "<ipython-input-240-1ac76a73e39a>:11: RuntimeWarning: invalid value encountered in double_scalars\n",
      "  coskew = (res_i*np.power(res_m,2)).mean() / ( np.sqrt( np.power(res_i,2).mean() ) *  np.power(res_m,2).mean())\n",
      "<ipython-input-240-1ac76a73e39a>:11: RuntimeWarning: invalid value encountered in double_scalars\n",
      "  coskew = (res_i*np.power(res_m,2)).mean() / ( np.sqrt( np.power(res_i,2).mean() ) *  np.power(res_m,2).mean())\n"
     ]
    },
    {
     "name": "stdout",
     "output_type": "stream",
     "text": [
      "300423.SZ\n",
      "300424.SZ\n",
      "300425.SZ\n",
      "300426.SZ\n",
      "300427.SZ\n",
      "300428.SZ\n"
     ]
    },
    {
     "name": "stderr",
     "output_type": "stream",
     "text": [
      "<ipython-input-240-1ac76a73e39a>:11: RuntimeWarning: invalid value encountered in double_scalars\n",
      "  coskew = (res_i*np.power(res_m,2)).mean() / ( np.sqrt( np.power(res_i,2).mean() ) *  np.power(res_m,2).mean())\n"
     ]
    },
    {
     "name": "stdout",
     "output_type": "stream",
     "text": [
      "300429.SZ\n",
      "300430.SZ\n",
      "300431.SZ\n",
      "300432.SZ\n",
      "300433.SZ\n",
      "300434.SZ\n",
      "300435.SZ\n",
      "300436.SZ\n",
      "300437.SZ\n",
      "300438.SZ\n",
      "300439.SZ\n",
      "300440.SZ\n",
      "300441.SZ\n",
      "300442.SZ\n",
      "300443.SZ\n",
      "300444.SZ\n",
      "300445.SZ\n",
      "300446.SZ\n",
      "300447.SZ\n",
      "300448.SZ\n",
      "300449.SZ\n",
      "300450.SZ\n",
      "300451.SZ\n",
      "300452.SZ\n",
      "300453.SZ\n",
      "300454.SZ\n",
      "300455.SZ\n",
      "300456.SZ\n",
      "300457.SZ\n",
      "300458.SZ\n",
      "300459.SZ\n",
      "300460.SZ\n",
      "300461.SZ\n",
      "300462.SZ\n",
      "300463.SZ\n"
     ]
    },
    {
     "name": "stderr",
     "output_type": "stream",
     "text": [
      "<ipython-input-240-1ac76a73e39a>:11: RuntimeWarning: invalid value encountered in double_scalars\n",
      "  coskew = (res_i*np.power(res_m,2)).mean() / ( np.sqrt( np.power(res_i,2).mean() ) *  np.power(res_m,2).mean())\n",
      "<ipython-input-240-1ac76a73e39a>:11: RuntimeWarning: invalid value encountered in double_scalars\n",
      "  coskew = (res_i*np.power(res_m,2)).mean() / ( np.sqrt( np.power(res_i,2).mean() ) *  np.power(res_m,2).mean())\n"
     ]
    },
    {
     "name": "stdout",
     "output_type": "stream",
     "text": [
      "300464.SZ\n",
      "300465.SZ\n"
     ]
    },
    {
     "name": "stderr",
     "output_type": "stream",
     "text": [
      "<ipython-input-240-1ac76a73e39a>:11: RuntimeWarning: invalid value encountered in double_scalars\n",
      "  coskew = (res_i*np.power(res_m,2)).mean() / ( np.sqrt( np.power(res_i,2).mean() ) *  np.power(res_m,2).mean())\n",
      "<ipython-input-240-1ac76a73e39a>:11: RuntimeWarning: invalid value encountered in double_scalars\n",
      "  coskew = (res_i*np.power(res_m,2)).mean() / ( np.sqrt( np.power(res_i,2).mean() ) *  np.power(res_m,2).mean())\n",
      "<ipython-input-240-1ac76a73e39a>:11: RuntimeWarning: invalid value encountered in double_scalars\n",
      "  coskew = (res_i*np.power(res_m,2)).mean() / ( np.sqrt( np.power(res_i,2).mean() ) *  np.power(res_m,2).mean())\n"
     ]
    },
    {
     "name": "stdout",
     "output_type": "stream",
     "text": [
      "300466.SZ\n",
      "300467.SZ\n",
      "300468.SZ\n",
      "300469.SZ\n",
      "300470.SZ\n",
      "300471.SZ\n",
      "300472.SZ\n",
      "300473.SZ\n",
      "300474.SZ\n",
      "300475.SZ\n",
      "300476.SZ\n"
     ]
    },
    {
     "name": "stderr",
     "output_type": "stream",
     "text": [
      "<ipython-input-240-1ac76a73e39a>:11: RuntimeWarning: invalid value encountered in double_scalars\n",
      "  coskew = (res_i*np.power(res_m,2)).mean() / ( np.sqrt( np.power(res_i,2).mean() ) *  np.power(res_m,2).mean())\n"
     ]
    },
    {
     "name": "stdout",
     "output_type": "stream",
     "text": [
      "300477.SZ\n",
      "300478.SZ\n",
      "300479.SZ\n",
      "300480.SZ\n",
      "300481.SZ\n",
      "300482.SZ\n",
      "300483.SZ\n"
     ]
    },
    {
     "name": "stderr",
     "output_type": "stream",
     "text": [
      "<ipython-input-240-1ac76a73e39a>:11: RuntimeWarning: invalid value encountered in double_scalars\n",
      "  coskew = (res_i*np.power(res_m,2)).mean() / ( np.sqrt( np.power(res_i,2).mean() ) *  np.power(res_m,2).mean())\n"
     ]
    },
    {
     "name": "stdout",
     "output_type": "stream",
     "text": [
      "300484.SZ\n",
      "300485.SZ\n",
      "300486.SZ\n",
      "300487.SZ\n",
      "300488.SZ\n",
      "300489.SZ\n",
      "300490.SZ\n",
      "300491.SZ\n",
      "300492.SZ\n",
      "300493.SZ\n",
      "300494.SZ\n"
     ]
    },
    {
     "name": "stderr",
     "output_type": "stream",
     "text": [
      "<ipython-input-240-1ac76a73e39a>:11: RuntimeWarning: invalid value encountered in double_scalars\n",
      "  coskew = (res_i*np.power(res_m,2)).mean() / ( np.sqrt( np.power(res_i,2).mean() ) *  np.power(res_m,2).mean())\n",
      "<ipython-input-240-1ac76a73e39a>:11: RuntimeWarning: invalid value encountered in double_scalars\n",
      "  coskew = (res_i*np.power(res_m,2)).mean() / ( np.sqrt( np.power(res_i,2).mean() ) *  np.power(res_m,2).mean())\n"
     ]
    },
    {
     "name": "stdout",
     "output_type": "stream",
     "text": [
      "300495.SZ\n",
      "300496.SZ\n",
      "300497.SZ\n",
      "300498.SZ\n",
      "300499.SZ\n",
      "300500.SZ\n",
      "300501.SZ\n",
      "300502.SZ\n",
      "300503.SZ\n",
      "300504.SZ\n",
      "300505.SZ\n",
      "300506.SZ\n",
      "300507.SZ\n",
      "300508.SZ\n",
      "300509.SZ\n",
      "300510.SZ\n",
      "300511.SZ\n",
      "300512.SZ\n"
     ]
    },
    {
     "name": "stderr",
     "output_type": "stream",
     "text": [
      "<ipython-input-240-1ac76a73e39a>:11: RuntimeWarning: invalid value encountered in double_scalars\n",
      "  coskew = (res_i*np.power(res_m,2)).mean() / ( np.sqrt( np.power(res_i,2).mean() ) *  np.power(res_m,2).mean())\n"
     ]
    },
    {
     "name": "stdout",
     "output_type": "stream",
     "text": [
      "300513.SZ\n",
      "300514.SZ\n",
      "300515.SZ\n",
      "300516.SZ\n",
      "300517.SZ\n",
      "300518.SZ\n",
      "300519.SZ\n",
      "300520.SZ\n",
      "300521.SZ\n",
      "300522.SZ\n",
      "300523.SZ\n",
      "300525.SZ\n",
      "300526.SZ\n",
      "300527.SZ\n",
      "300528.SZ\n",
      "300529.SZ\n",
      "300530.SZ\n",
      "300531.SZ\n",
      "300532.SZ\n",
      "300533.SZ\n",
      "300534.SZ\n"
     ]
    },
    {
     "name": "stderr",
     "output_type": "stream",
     "text": [
      "<ipython-input-240-1ac76a73e39a>:11: RuntimeWarning: invalid value encountered in double_scalars\n",
      "  coskew = (res_i*np.power(res_m,2)).mean() / ( np.sqrt( np.power(res_i,2).mean() ) *  np.power(res_m,2).mean())\n"
     ]
    },
    {
     "name": "stdout",
     "output_type": "stream",
     "text": [
      "300535.SZ\n",
      "300536.SZ\n"
     ]
    },
    {
     "name": "stderr",
     "output_type": "stream",
     "text": [
      "<ipython-input-240-1ac76a73e39a>:11: RuntimeWarning: invalid value encountered in double_scalars\n",
      "  coskew = (res_i*np.power(res_m,2)).mean() / ( np.sqrt( np.power(res_i,2).mean() ) *  np.power(res_m,2).mean())\n"
     ]
    },
    {
     "name": "stdout",
     "output_type": "stream",
     "text": [
      "300537.SZ\n",
      "300538.SZ\n"
     ]
    },
    {
     "name": "stderr",
     "output_type": "stream",
     "text": [
      "<ipython-input-240-1ac76a73e39a>:11: RuntimeWarning: invalid value encountered in double_scalars\n",
      "  coskew = (res_i*np.power(res_m,2)).mean() / ( np.sqrt( np.power(res_i,2).mean() ) *  np.power(res_m,2).mean())\n"
     ]
    },
    {
     "name": "stdout",
     "output_type": "stream",
     "text": [
      "300539.SZ\n",
      "300540.SZ\n",
      "300541.SZ\n",
      "300542.SZ\n",
      "300543.SZ\n",
      "300545.SZ\n",
      "300546.SZ\n",
      "300547.SZ\n",
      "300548.SZ\n",
      "300549.SZ\n",
      "300550.SZ\n",
      "300551.SZ\n",
      "300552.SZ\n",
      "300553.SZ\n",
      "300554.SZ\n",
      "300555.SZ\n",
      "300556.SZ\n",
      "300557.SZ\n",
      "300558.SZ\n",
      "300559.SZ\n",
      "300560.SZ\n",
      "300561.SZ\n",
      "300562.SZ\n",
      "300563.SZ\n",
      "300564.SZ\n",
      "300565.SZ\n",
      "300566.SZ\n",
      "300567.SZ\n",
      "300568.SZ\n",
      "300569.SZ\n",
      "300570.SZ\n",
      "300571.SZ\n",
      "300572.SZ\n",
      "300573.SZ\n",
      "300575.SZ\n",
      "300576.SZ\n",
      "300577.SZ\n",
      "300578.SZ\n"
     ]
    },
    {
     "name": "stderr",
     "output_type": "stream",
     "text": [
      "<ipython-input-240-1ac76a73e39a>:11: RuntimeWarning: invalid value encountered in double_scalars\n",
      "  coskew = (res_i*np.power(res_m,2)).mean() / ( np.sqrt( np.power(res_i,2).mean() ) *  np.power(res_m,2).mean())\n"
     ]
    },
    {
     "name": "stdout",
     "output_type": "stream",
     "text": [
      "300579.SZ\n",
      "300580.SZ\n",
      "300581.SZ\n",
      "300582.SZ\n",
      "300583.SZ\n",
      "300584.SZ\n"
     ]
    },
    {
     "name": "stderr",
     "output_type": "stream",
     "text": [
      "<ipython-input-240-1ac76a73e39a>:11: RuntimeWarning: invalid value encountered in double_scalars\n",
      "  coskew = (res_i*np.power(res_m,2)).mean() / ( np.sqrt( np.power(res_i,2).mean() ) *  np.power(res_m,2).mean())\n"
     ]
    },
    {
     "name": "stdout",
     "output_type": "stream",
     "text": [
      "300585.SZ\n",
      "300586.SZ\n",
      "300587.SZ\n",
      "300588.SZ\n",
      "300589.SZ\n",
      "300590.SZ\n",
      "300591.SZ\n",
      "300592.SZ\n",
      "300593.SZ\n",
      "300594.SZ\n",
      "300595.SZ\n",
      "300596.SZ\n",
      "300597.SZ\n",
      "300598.SZ\n",
      "300599.SZ\n"
     ]
    },
    {
     "name": "stderr",
     "output_type": "stream",
     "text": [
      "<ipython-input-240-1ac76a73e39a>:11: RuntimeWarning: invalid value encountered in double_scalars\n",
      "  coskew = (res_i*np.power(res_m,2)).mean() / ( np.sqrt( np.power(res_i,2).mean() ) *  np.power(res_m,2).mean())\n"
     ]
    },
    {
     "name": "stdout",
     "output_type": "stream",
     "text": [
      "300600.SZ\n",
      "300601.SZ\n",
      "300602.SZ\n",
      "300603.SZ\n",
      "300604.SZ\n",
      "300605.SZ\n",
      "300606.SZ\n",
      "300607.SZ\n",
      "300608.SZ\n",
      "300609.SZ\n",
      "300610.SZ\n",
      "300611.SZ\n",
      "300612.SZ\n",
      "300613.SZ\n",
      "300615.SZ\n",
      "300616.SZ\n",
      "300617.SZ\n",
      "300618.SZ\n",
      "300619.SZ\n",
      "300620.SZ\n",
      "300621.SZ\n",
      "300622.SZ\n",
      "300623.SZ\n",
      "300624.SZ\n",
      "300625.SZ\n",
      "300626.SZ\n",
      "300627.SZ\n",
      "300628.SZ\n",
      "300629.SZ\n",
      "300630.SZ\n",
      "300631.SZ\n",
      "300632.SZ\n",
      "300633.SZ\n",
      "300634.SZ\n",
      "300635.SZ\n",
      "300636.SZ\n",
      "300637.SZ\n",
      "300638.SZ\n",
      "300639.SZ\n",
      "300640.SZ\n",
      "300641.SZ\n",
      "300642.SZ\n",
      "300643.SZ\n",
      "300644.SZ\n",
      "300645.SZ\n",
      "300647.SZ\n"
     ]
    },
    {
     "name": "stderr",
     "output_type": "stream",
     "text": [
      "<ipython-input-240-1ac76a73e39a>:11: RuntimeWarning: invalid value encountered in double_scalars\n",
      "  coskew = (res_i*np.power(res_m,2)).mean() / ( np.sqrt( np.power(res_i,2).mean() ) *  np.power(res_m,2).mean())\n"
     ]
    },
    {
     "name": "stdout",
     "output_type": "stream",
     "text": [
      "300648.SZ\n",
      "300649.SZ\n",
      "300650.SZ\n",
      "300651.SZ\n",
      "300652.SZ\n",
      "300653.SZ\n",
      "300654.SZ\n",
      "300655.SZ\n",
      "300656.SZ\n",
      "300657.SZ\n",
      "300658.SZ\n",
      "300659.SZ\n"
     ]
    },
    {
     "name": "stderr",
     "output_type": "stream",
     "text": [
      "<ipython-input-240-1ac76a73e39a>:11: RuntimeWarning: invalid value encountered in double_scalars\n",
      "  coskew = (res_i*np.power(res_m,2)).mean() / ( np.sqrt( np.power(res_i,2).mean() ) *  np.power(res_m,2).mean())\n"
     ]
    },
    {
     "name": "stdout",
     "output_type": "stream",
     "text": [
      "300660.SZ\n",
      "300661.SZ\n",
      "300662.SZ\n",
      "300663.SZ\n",
      "300664.SZ\n",
      "300665.SZ\n",
      "300666.SZ\n",
      "300667.SZ\n",
      "300668.SZ\n",
      "300669.SZ\n"
     ]
    },
    {
     "name": "stderr",
     "output_type": "stream",
     "text": [
      "<ipython-input-240-1ac76a73e39a>:11: RuntimeWarning: invalid value encountered in double_scalars\n",
      "  coskew = (res_i*np.power(res_m,2)).mean() / ( np.sqrt( np.power(res_i,2).mean() ) *  np.power(res_m,2).mean())\n"
     ]
    },
    {
     "name": "stdout",
     "output_type": "stream",
     "text": [
      "300670.SZ\n",
      "300671.SZ\n",
      "300672.SZ\n",
      "300673.SZ\n",
      "300674.SZ\n",
      "300675.SZ\n",
      "300676.SZ\n",
      "300677.SZ\n"
     ]
    },
    {
     "name": "stderr",
     "output_type": "stream",
     "text": [
      "<ipython-input-240-1ac76a73e39a>:11: RuntimeWarning: invalid value encountered in double_scalars\n",
      "  coskew = (res_i*np.power(res_m,2)).mean() / ( np.sqrt( np.power(res_i,2).mean() ) *  np.power(res_m,2).mean())\n"
     ]
    },
    {
     "name": "stdout",
     "output_type": "stream",
     "text": [
      "300678.SZ\n",
      "300679.SZ\n",
      "300680.SZ\n",
      "300681.SZ\n",
      "300682.SZ\n",
      "300683.SZ\n",
      "300684.SZ\n",
      "300685.SZ\n",
      "300686.SZ\n",
      "300687.SZ\n",
      "300688.SZ\n",
      "300689.SZ\n",
      "300690.SZ\n",
      "300691.SZ\n",
      "300692.SZ\n",
      "300693.SZ\n",
      "300694.SZ\n",
      "300695.SZ\n",
      "300696.SZ\n",
      "300697.SZ\n",
      "300698.SZ\n",
      "300699.SZ\n",
      "300700.SZ\n",
      "300701.SZ\n",
      "300702.SZ\n",
      "300703.SZ\n",
      "300705.SZ\n",
      "300706.SZ\n",
      "300707.SZ\n",
      "300708.SZ\n",
      "300709.SZ\n",
      "300710.SZ\n",
      "300711.SZ\n",
      "300712.SZ\n",
      "300713.SZ\n",
      "300715.SZ\n",
      "300716.SZ\n",
      "300717.SZ\n",
      "300718.SZ\n",
      "300719.SZ\n",
      "300720.SZ\n",
      "300721.SZ\n",
      "300722.SZ\n",
      "300723.SZ\n",
      "300724.SZ\n",
      "300725.SZ\n",
      "300726.SZ\n",
      "300727.SZ\n",
      "300729.SZ\n",
      "300730.SZ\n",
      "300731.SZ\n",
      "300732.SZ\n"
     ]
    },
    {
     "name": "stderr",
     "output_type": "stream",
     "text": [
      "<ipython-input-240-1ac76a73e39a>:11: RuntimeWarning: invalid value encountered in double_scalars\n",
      "  coskew = (res_i*np.power(res_m,2)).mean() / ( np.sqrt( np.power(res_i,2).mean() ) *  np.power(res_m,2).mean())\n"
     ]
    },
    {
     "name": "stdout",
     "output_type": "stream",
     "text": [
      "300733.SZ\n",
      "300735.SZ\n",
      "300736.SZ\n",
      "300737.SZ\n",
      "300738.SZ\n",
      "300739.SZ\n",
      "300740.SZ\n",
      "300741.SZ\n",
      "300742.SZ\n",
      "300743.SZ\n",
      "300745.SZ\n",
      "300746.SZ\n",
      "300747.SZ\n",
      "300748.SZ\n",
      "300749.SZ\n",
      "300750.SZ\n",
      "300751.SZ\n",
      "300752.SZ\n",
      "300753.SZ\n",
      "300755.SZ\n",
      "300756.SZ\n",
      "300757.SZ\n",
      "300758.SZ\n",
      "300759.SZ\n",
      "300760.SZ\n",
      "300761.SZ\n",
      "300762.SZ\n",
      "300763.SZ\n",
      "300765.SZ\n",
      "300766.SZ\n",
      "300767.SZ\n",
      "300768.SZ\n",
      "300769.SZ\n",
      "300770.SZ\n",
      "300771.SZ\n",
      "300772.SZ\n",
      "300773.SZ\n",
      "300775.SZ\n",
      "300776.SZ\n",
      "300777.SZ\n",
      "300778.SZ\n",
      "300779.SZ\n",
      "300780.SZ\n",
      "300781.SZ\n",
      "300782.SZ\n",
      "300783.SZ\n",
      "300785.SZ\n",
      "300786.SZ\n",
      "300787.SZ\n",
      "300788.SZ\n",
      "300789.SZ\n",
      "300790.SZ\n",
      "300791.SZ\n",
      "300792.SZ\n",
      "300793.SZ\n",
      "300795.SZ\n",
      "300796.SZ\n"
     ]
    },
    {
     "name": "stderr",
     "output_type": "stream",
     "text": [
      "<ipython-input-240-1ac76a73e39a>:11: RuntimeWarning: invalid value encountered in double_scalars\n",
      "  coskew = (res_i*np.power(res_m,2)).mean() / ( np.sqrt( np.power(res_i,2).mean() ) *  np.power(res_m,2).mean())\n"
     ]
    },
    {
     "name": "stdout",
     "output_type": "stream",
     "text": [
      "300797.SZ\n",
      "300798.SZ\n",
      "300799.SZ\n",
      "300800.SZ\n",
      "300801.SZ"
     ]
    },
    {
     "name": "stderr",
     "output_type": "stream",
     "text": [
      "<ipython-input-240-1ac76a73e39a>:11: RuntimeWarning: invalid value encountered in double_scalars\n",
      "  coskew = (res_i*np.power(res_m,2)).mean() / ( np.sqrt( np.power(res_i,2).mean() ) *  np.power(res_m,2).mean())\n"
     ]
    },
    {
     "name": "stdout",
     "output_type": "stream",
     "text": [
      "\n",
      "300802.SZ\n",
      "300803.SZ\n",
      "300805.SZ\n",
      "300806.SZ\n",
      "300807.SZ\n",
      "300808.SZ\n",
      "300809.SZ\n",
      "300810.SZ\n",
      "300811.SZ\n",
      "300812.SZ\n",
      "300813.SZ\n"
     ]
    },
    {
     "name": "stderr",
     "output_type": "stream",
     "text": [
      "<ipython-input-240-1ac76a73e39a>:11: RuntimeWarning: invalid value encountered in double_scalars\n",
      "  coskew = (res_i*np.power(res_m,2)).mean() / ( np.sqrt( np.power(res_i,2).mean() ) *  np.power(res_m,2).mean())\n"
     ]
    },
    {
     "name": "stdout",
     "output_type": "stream",
     "text": [
      "300815.SZ\n",
      "300816.SZ\n",
      "300817.SZ\n",
      "300818.SZ\n",
      "300819.SZ\n",
      "300820.SZ\n",
      "300821.SZ\n",
      "300822.SZ\n",
      "300823.SZ\n",
      "300824.SZ\n",
      "300825.SZ\n",
      "300826.SZ\n",
      "300827.SZ\n",
      "300828.SZ\n",
      "300829.SZ\n",
      "300830.SZ\n",
      "300831.SZ\n",
      "300832.SZ\n",
      "300833.SZ\n",
      "300835.SZ\n",
      "300836.SZ\n",
      "300837.SZ\n",
      "300838.SZ\n",
      "300839.SZ\n"
     ]
    },
    {
     "name": "stderr",
     "output_type": "stream",
     "text": [
      "<ipython-input-240-1ac76a73e39a>:11: RuntimeWarning: invalid value encountered in double_scalars\n",
      "  coskew = (res_i*np.power(res_m,2)).mean() / ( np.sqrt( np.power(res_i,2).mean() ) *  np.power(res_m,2).mean())\n"
     ]
    },
    {
     "name": "stdout",
     "output_type": "stream",
     "text": [
      "300840.SZ\n",
      "300841.SZ\n",
      "300842.SZ\n",
      "300843.SZ\n",
      "300845.SZ\n",
      "300846.SZ\n",
      "300847.SZ\n",
      "300848.SZ\n",
      "300849.SZ\n",
      "300850.SZ\n",
      "300851.SZ\n",
      "300852.SZ\n",
      "300853.SZ\n",
      "300855.SZ\n",
      "300856.SZ\n",
      "300857.SZ\n",
      "300858.SZ\n",
      "300859.SZ\n",
      "300860.SZ\n",
      "300861.SZ\n",
      "300862.SZ\n",
      "300863.SZ\n",
      "300864.SZ\n",
      "300865.SZ\n",
      "300866.SZ\n",
      "300867.SZ\n",
      "300868.SZ\n",
      "300869.SZ\n",
      "300870.SZ\n",
      "300871.SZ\n",
      "300872.SZ\n",
      "300873.SZ\n",
      "300875.SZ\n",
      "300876.SZ\n",
      "300877.SZ\n",
      "300878.SZ\n",
      "600000.SH\n",
      "600001.SH\n",
      "600002.SH\n",
      "600003.SH\n",
      "600004.SH\n",
      "600005.SH\n",
      "600006.SH\n"
     ]
    },
    {
     "name": "stderr",
     "output_type": "stream",
     "text": [
      "<ipython-input-240-1ac76a73e39a>:11: RuntimeWarning: invalid value encountered in double_scalars\n",
      "  coskew = (res_i*np.power(res_m,2)).mean() / ( np.sqrt( np.power(res_i,2).mean() ) *  np.power(res_m,2).mean())\n"
     ]
    },
    {
     "name": "stdout",
     "output_type": "stream",
     "text": [
      "600007.SH\n"
     ]
    },
    {
     "name": "stderr",
     "output_type": "stream",
     "text": [
      "<ipython-input-240-1ac76a73e39a>:11: RuntimeWarning: invalid value encountered in double_scalars\n",
      "  coskew = (res_i*np.power(res_m,2)).mean() / ( np.sqrt( np.power(res_i,2).mean() ) *  np.power(res_m,2).mean())\n"
     ]
    },
    {
     "name": "stdout",
     "output_type": "stream",
     "text": [
      "600008.SH\n",
      "600009.SH\n"
     ]
    },
    {
     "name": "stderr",
     "output_type": "stream",
     "text": [
      "<ipython-input-240-1ac76a73e39a>:11: RuntimeWarning: invalid value encountered in double_scalars\n",
      "  coskew = (res_i*np.power(res_m,2)).mean() / ( np.sqrt( np.power(res_i,2).mean() ) *  np.power(res_m,2).mean())\n"
     ]
    },
    {
     "name": "stdout",
     "output_type": "stream",
     "text": [
      "600010.SH\n",
      "600011.SH\n",
      "600012.SH\n",
      "600015.SH\n",
      "600016.SH\n",
      "600017.SH\n",
      "600018.SH\n",
      "600019.SH\n",
      "600020.SH\n",
      "600021.SH\n"
     ]
    },
    {
     "name": "stderr",
     "output_type": "stream",
     "text": [
      "<ipython-input-240-1ac76a73e39a>:11: RuntimeWarning: invalid value encountered in double_scalars\n",
      "  coskew = (res_i*np.power(res_m,2)).mean() / ( np.sqrt( np.power(res_i,2).mean() ) *  np.power(res_m,2).mean())\n"
     ]
    },
    {
     "name": "stdout",
     "output_type": "stream",
     "text": [
      "600022.SH\n",
      "600023.SH\n",
      "600025.SH\n"
     ]
    },
    {
     "name": "stderr",
     "output_type": "stream",
     "text": [
      "<ipython-input-240-1ac76a73e39a>:11: RuntimeWarning: invalid value encountered in double_scalars\n",
      "  coskew = (res_i*np.power(res_m,2)).mean() / ( np.sqrt( np.power(res_i,2).mean() ) *  np.power(res_m,2).mean())\n"
     ]
    },
    {
     "name": "stdout",
     "output_type": "stream",
     "text": [
      "600026.SH\n",
      "600027.SH\n",
      "600028.SH\n"
     ]
    },
    {
     "name": "stderr",
     "output_type": "stream",
     "text": [
      "<ipython-input-240-1ac76a73e39a>:11: RuntimeWarning: invalid value encountered in double_scalars\n",
      "  coskew = (res_i*np.power(res_m,2)).mean() / ( np.sqrt( np.power(res_i,2).mean() ) *  np.power(res_m,2).mean())\n"
     ]
    },
    {
     "name": "stdout",
     "output_type": "stream",
     "text": [
      "600029.SH\n",
      "600030.SH\n",
      "600031.SH\n",
      "600033.SH\n",
      "600035.SH\n",
      "600036.SH\n",
      "600037.SH\n"
     ]
    },
    {
     "name": "stderr",
     "output_type": "stream",
     "text": [
      "<ipython-input-240-1ac76a73e39a>:11: RuntimeWarning: invalid value encountered in double_scalars\n",
      "  coskew = (res_i*np.power(res_m,2)).mean() / ( np.sqrt( np.power(res_i,2).mean() ) *  np.power(res_m,2).mean())\n"
     ]
    },
    {
     "name": "stdout",
     "output_type": "stream",
     "text": [
      "600038.SH\n",
      "600039.SH\n",
      "600048.SH\n",
      "600050.SH\n",
      "600051.SH\n"
     ]
    },
    {
     "name": "stderr",
     "output_type": "stream",
     "text": [
      "<ipython-input-240-1ac76a73e39a>:11: RuntimeWarning: invalid value encountered in double_scalars\n",
      "  coskew = (res_i*np.power(res_m,2)).mean() / ( np.sqrt( np.power(res_i,2).mean() ) *  np.power(res_m,2).mean())\n"
     ]
    },
    {
     "name": "stdout",
     "output_type": "stream",
     "text": [
      "600052.SH\n",
      "600053.SH\n",
      "600054.SH\n",
      "600055.SH\n"
     ]
    },
    {
     "name": "stderr",
     "output_type": "stream",
     "text": [
      "<ipython-input-240-1ac76a73e39a>:11: RuntimeWarning: invalid value encountered in double_scalars\n",
      "  coskew = (res_i*np.power(res_m,2)).mean() / ( np.sqrt( np.power(res_i,2).mean() ) *  np.power(res_m,2).mean())\n"
     ]
    },
    {
     "name": "stdout",
     "output_type": "stream",
     "text": [
      "600056.SH\n",
      "600057.SH\n"
     ]
    },
    {
     "name": "stderr",
     "output_type": "stream",
     "text": [
      "<ipython-input-240-1ac76a73e39a>:11: RuntimeWarning: invalid value encountered in double_scalars\n",
      "  coskew = (res_i*np.power(res_m,2)).mean() / ( np.sqrt( np.power(res_i,2).mean() ) *  np.power(res_m,2).mean())\n"
     ]
    },
    {
     "name": "stdout",
     "output_type": "stream",
     "text": [
      "600058.SH\n",
      "600059.SH\n",
      "600060.SH\n"
     ]
    },
    {
     "name": "stderr",
     "output_type": "stream",
     "text": [
      "<ipython-input-240-1ac76a73e39a>:11: RuntimeWarning: invalid value encountered in double_scalars\n",
      "  coskew = (res_i*np.power(res_m,2)).mean() / ( np.sqrt( np.power(res_i,2).mean() ) *  np.power(res_m,2).mean())\n"
     ]
    },
    {
     "name": "stdout",
     "output_type": "stream",
     "text": [
      "600061.SH\n",
      "600062.SH\n",
      "600063.SH\n",
      "600064.SH\n",
      "600065.SH\n",
      "600066.SH\n",
      "600067.SH\n",
      "600068.SH\n"
     ]
    },
    {
     "name": "stderr",
     "output_type": "stream",
     "text": [
      "<ipython-input-240-1ac76a73e39a>:11: RuntimeWarning: invalid value encountered in double_scalars\n",
      "  coskew = (res_i*np.power(res_m,2)).mean() / ( np.sqrt( np.power(res_i,2).mean() ) *  np.power(res_m,2).mean())\n"
     ]
    },
    {
     "name": "stdout",
     "output_type": "stream",
     "text": [
      "600069.SH\n",
      "600070.SH\n",
      "600071.SH\n",
      "600072.SH\n",
      "600073.SH\n"
     ]
    },
    {
     "name": "stderr",
     "output_type": "stream",
     "text": [
      "<ipython-input-240-1ac76a73e39a>:11: RuntimeWarning: invalid value encountered in double_scalars\n",
      "  coskew = (res_i*np.power(res_m,2)).mean() / ( np.sqrt( np.power(res_i,2).mean() ) *  np.power(res_m,2).mean())\n"
     ]
    },
    {
     "name": "stdout",
     "output_type": "stream",
     "text": [
      "600074.SH\n",
      "600075.SH\n",
      "600076.SH\n",
      "600077.SH\n",
      "600078.SH\n",
      "600079.SH\n",
      "600080.SH\n",
      "600081.SH\n",
      "600082.SH\n"
     ]
    },
    {
     "name": "stderr",
     "output_type": "stream",
     "text": [
      "<ipython-input-240-1ac76a73e39a>:11: RuntimeWarning: invalid value encountered in double_scalars\n",
      "  coskew = (res_i*np.power(res_m,2)).mean() / ( np.sqrt( np.power(res_i,2).mean() ) *  np.power(res_m,2).mean())\n"
     ]
    },
    {
     "name": "stdout",
     "output_type": "stream",
     "text": [
      "600083.SH\n",
      "600084.SH\n",
      "600085.SH\n",
      "600086.SH\n",
      "600087.SH\n",
      "600088.SH\n",
      "600089.SH\n",
      "600090.SH\n",
      "600091.SH\n",
      "600092.SH\n",
      "600093.SH\n",
      "600094.SH\n",
      "600095.SH\n",
      "600096.SH\n",
      "600097.SH\n",
      "600098.SH\n"
     ]
    },
    {
     "name": "stderr",
     "output_type": "stream",
     "text": [
      "<ipython-input-240-1ac76a73e39a>:11: RuntimeWarning: invalid value encountered in double_scalars\n",
      "  coskew = (res_i*np.power(res_m,2)).mean() / ( np.sqrt( np.power(res_i,2).mean() ) *  np.power(res_m,2).mean())\n"
     ]
    },
    {
     "name": "stdout",
     "output_type": "stream",
     "text": [
      "600099.SH\n",
      "600100.SH\n",
      "600101.SH\n",
      "600102.SH\n",
      "600103.SH\n"
     ]
    },
    {
     "name": "stderr",
     "output_type": "stream",
     "text": [
      "<ipython-input-240-1ac76a73e39a>:11: RuntimeWarning: invalid value encountered in double_scalars\n",
      "  coskew = (res_i*np.power(res_m,2)).mean() / ( np.sqrt( np.power(res_i,2).mean() ) *  np.power(res_m,2).mean())\n"
     ]
    },
    {
     "name": "stdout",
     "output_type": "stream",
     "text": [
      "600104.SH\n",
      "600105.SH\n",
      "600106.SH\n",
      "600107.SH\n",
      "600108.SH\n",
      "600109.SH\n"
     ]
    },
    {
     "name": "stderr",
     "output_type": "stream",
     "text": [
      "<ipython-input-240-1ac76a73e39a>:11: RuntimeWarning: invalid value encountered in double_scalars\n",
      "  coskew = (res_i*np.power(res_m,2)).mean() / ( np.sqrt( np.power(res_i,2).mean() ) *  np.power(res_m,2).mean())\n"
     ]
    },
    {
     "name": "stdout",
     "output_type": "stream",
     "text": [
      "600110.SH\n",
      "600111.SH\n",
      "600112.SH\n",
      "600113.SH\n",
      "600114.SH\n",
      "600115.SH\n",
      "600116.SH\n",
      "600117.SH\n",
      "600118.SH\n",
      "600119.SH\n"
     ]
    },
    {
     "name": "stderr",
     "output_type": "stream",
     "text": [
      "<ipython-input-240-1ac76a73e39a>:11: RuntimeWarning: invalid value encountered in double_scalars\n",
      "  coskew = (res_i*np.power(res_m,2)).mean() / ( np.sqrt( np.power(res_i,2).mean() ) *  np.power(res_m,2).mean())\n"
     ]
    },
    {
     "name": "stdout",
     "output_type": "stream",
     "text": [
      "600120.SH\n",
      "600121.SH\n",
      "600122.SH\n"
     ]
    },
    {
     "name": "stderr",
     "output_type": "stream",
     "text": [
      "<ipython-input-240-1ac76a73e39a>:11: RuntimeWarning: invalid value encountered in double_scalars\n",
      "  coskew = (res_i*np.power(res_m,2)).mean() / ( np.sqrt( np.power(res_i,2).mean() ) *  np.power(res_m,2).mean())\n"
     ]
    },
    {
     "name": "stdout",
     "output_type": "stream",
     "text": [
      "600123.SH\n",
      "600125.SH\n"
     ]
    },
    {
     "name": "stderr",
     "output_type": "stream",
     "text": [
      "<ipython-input-240-1ac76a73e39a>:11: RuntimeWarning: invalid value encountered in double_scalars\n",
      "  coskew = (res_i*np.power(res_m,2)).mean() / ( np.sqrt( np.power(res_i,2).mean() ) *  np.power(res_m,2).mean())\n"
     ]
    },
    {
     "name": "stdout",
     "output_type": "stream",
     "text": [
      "600126.SH\n",
      "600127.SH\n",
      "600128.SH\n",
      "600129.SH\n",
      "600130.SH\n",
      "600131.SH\n",
      "600132.SH\n"
     ]
    },
    {
     "name": "stderr",
     "output_type": "stream",
     "text": [
      "<ipython-input-240-1ac76a73e39a>:11: RuntimeWarning: invalid value encountered in double_scalars\n",
      "  coskew = (res_i*np.power(res_m,2)).mean() / ( np.sqrt( np.power(res_i,2).mean() ) *  np.power(res_m,2).mean())\n"
     ]
    },
    {
     "name": "stdout",
     "output_type": "stream",
     "text": [
      "600133.SH\n",
      "600135.SH\n"
     ]
    },
    {
     "name": "stderr",
     "output_type": "stream",
     "text": [
      "<ipython-input-240-1ac76a73e39a>:11: RuntimeWarning: invalid value encountered in double_scalars\n",
      "  coskew = (res_i*np.power(res_m,2)).mean() / ( np.sqrt( np.power(res_i,2).mean() ) *  np.power(res_m,2).mean())\n"
     ]
    },
    {
     "name": "stdout",
     "output_type": "stream",
     "text": [
      "600136.SH\n",
      "600137.SH\n",
      "600138.SH\n",
      "600139.SH\n",
      "600141.SH\n",
      "600143.SH\n"
     ]
    },
    {
     "name": "stderr",
     "output_type": "stream",
     "text": [
      "<ipython-input-240-1ac76a73e39a>:11: RuntimeWarning: invalid value encountered in double_scalars\n",
      "  coskew = (res_i*np.power(res_m,2)).mean() / ( np.sqrt( np.power(res_i,2).mean() ) *  np.power(res_m,2).mean())\n",
      "<ipython-input-240-1ac76a73e39a>:11: RuntimeWarning: invalid value encountered in double_scalars\n",
      "  coskew = (res_i*np.power(res_m,2)).mean() / ( np.sqrt( np.power(res_i,2).mean() ) *  np.power(res_m,2).mean())\n",
      "<ipython-input-240-1ac76a73e39a>:11: RuntimeWarning: invalid value encountered in double_scalars\n",
      "  coskew = (res_i*np.power(res_m,2)).mean() / ( np.sqrt( np.power(res_i,2).mean() ) *  np.power(res_m,2).mean())\n"
     ]
    },
    {
     "name": "stdout",
     "output_type": "stream",
     "text": [
      "600145.SH\n",
      "600146.SH\n"
     ]
    },
    {
     "name": "stderr",
     "output_type": "stream",
     "text": [
      "<ipython-input-240-1ac76a73e39a>:11: RuntimeWarning: invalid value encountered in double_scalars\n",
      "  coskew = (res_i*np.power(res_m,2)).mean() / ( np.sqrt( np.power(res_i,2).mean() ) *  np.power(res_m,2).mean())\n"
     ]
    },
    {
     "name": "stdout",
     "output_type": "stream",
     "text": [
      "600148.SH\n",
      "600149.SH\n",
      "600150.SH\n",
      "600151.SH\n",
      "600152.SH\n",
      "600153.SH\n",
      "600155.SH\n",
      "600156.SH\n",
      "600157.SH\n",
      "600158.SH\n",
      "600159.SH\n",
      "600160.SH\n"
     ]
    },
    {
     "name": "stderr",
     "output_type": "stream",
     "text": [
      "<ipython-input-240-1ac76a73e39a>:11: RuntimeWarning: invalid value encountered in double_scalars\n",
      "  coskew = (res_i*np.power(res_m,2)).mean() / ( np.sqrt( np.power(res_i,2).mean() ) *  np.power(res_m,2).mean())\n"
     ]
    },
    {
     "name": "stdout",
     "output_type": "stream",
     "text": [
      "600161.SH\n",
      "600162.SH\n",
      "600163.SH\n",
      "600165.SH\n"
     ]
    },
    {
     "name": "stderr",
     "output_type": "stream",
     "text": [
      "<ipython-input-240-1ac76a73e39a>:11: RuntimeWarning: invalid value encountered in double_scalars\n",
      "  coskew = (res_i*np.power(res_m,2)).mean() / ( np.sqrt( np.power(res_i,2).mean() ) *  np.power(res_m,2).mean())\n"
     ]
    },
    {
     "name": "stdout",
     "output_type": "stream",
     "text": [
      "600166.SH\n",
      "600167.SH\n",
      "600168.SH\n",
      "600169.SH\n"
     ]
    },
    {
     "name": "stderr",
     "output_type": "stream",
     "text": [
      "<ipython-input-240-1ac76a73e39a>:11: RuntimeWarning: invalid value encountered in double_scalars\n",
      "  coskew = (res_i*np.power(res_m,2)).mean() / ( np.sqrt( np.power(res_i,2).mean() ) *  np.power(res_m,2).mean())\n"
     ]
    },
    {
     "name": "stdout",
     "output_type": "stream",
     "text": [
      "600170.SH\n",
      "600171.SH\n",
      "600172.SH\n"
     ]
    },
    {
     "name": "stderr",
     "output_type": "stream",
     "text": [
      "<ipython-input-240-1ac76a73e39a>:11: RuntimeWarning: invalid value encountered in double_scalars\n",
      "  coskew = (res_i*np.power(res_m,2)).mean() / ( np.sqrt( np.power(res_i,2).mean() ) *  np.power(res_m,2).mean())\n",
      "<ipython-input-240-1ac76a73e39a>:11: RuntimeWarning: invalid value encountered in double_scalars\n",
      "  coskew = (res_i*np.power(res_m,2)).mean() / ( np.sqrt( np.power(res_i,2).mean() ) *  np.power(res_m,2).mean())\n"
     ]
    },
    {
     "name": "stdout",
     "output_type": "stream",
     "text": [
      "600173.SH\n",
      "600175.SH\n",
      "600176.SH\n",
      "600177.SH\n",
      "600178.SH\n"
     ]
    },
    {
     "name": "stderr",
     "output_type": "stream",
     "text": [
      "<ipython-input-240-1ac76a73e39a>:11: RuntimeWarning: invalid value encountered in double_scalars\n",
      "  coskew = (res_i*np.power(res_m,2)).mean() / ( np.sqrt( np.power(res_i,2).mean() ) *  np.power(res_m,2).mean())\n",
      "<ipython-input-240-1ac76a73e39a>:11: RuntimeWarning: invalid value encountered in double_scalars\n",
      "  coskew = (res_i*np.power(res_m,2)).mean() / ( np.sqrt( np.power(res_i,2).mean() ) *  np.power(res_m,2).mean())\n"
     ]
    },
    {
     "name": "stdout",
     "output_type": "stream",
     "text": [
      "600179.SH\n",
      "600180.SH\n",
      "600181.SH\n"
     ]
    },
    {
     "name": "stderr",
     "output_type": "stream",
     "text": [
      "<ipython-input-240-1ac76a73e39a>:11: RuntimeWarning: invalid value encountered in double_scalars\n",
      "  coskew = (res_i*np.power(res_m,2)).mean() / ( np.sqrt( np.power(res_i,2).mean() ) *  np.power(res_m,2).mean())\n",
      "<ipython-input-240-1ac76a73e39a>:11: RuntimeWarning: invalid value encountered in double_scalars\n",
      "  coskew = (res_i*np.power(res_m,2)).mean() / ( np.sqrt( np.power(res_i,2).mean() ) *  np.power(res_m,2).mean())\n"
     ]
    },
    {
     "name": "stdout",
     "output_type": "stream",
     "text": [
      "600182.SH\n",
      "600183.SH\n",
      "600184.SH\n",
      "600185.SH\n",
      "600186.SH\n",
      "600187.SH\n",
      "600188.SH\n",
      "600189.SH\n",
      "600190.SH\n",
      "600191.SH\n",
      "600192.SH\n",
      "600193.SH\n"
     ]
    },
    {
     "name": "stderr",
     "output_type": "stream",
     "text": [
      "<ipython-input-240-1ac76a73e39a>:11: RuntimeWarning: invalid value encountered in double_scalars\n",
      "  coskew = (res_i*np.power(res_m,2)).mean() / ( np.sqrt( np.power(res_i,2).mean() ) *  np.power(res_m,2).mean())\n"
     ]
    },
    {
     "name": "stdout",
     "output_type": "stream",
     "text": [
      "600195.SH\n",
      "600196.SH\n",
      "600197.SH\n",
      "600198.SH\n",
      "600199.SH\n",
      "600200.SH\n",
      "600201.SH\n",
      "600202.SH\n",
      "600203.SH\n",
      "600205.SH\n",
      "600206.SH\n",
      "600207.SH\n",
      "600208.SH\n"
     ]
    },
    {
     "name": "stderr",
     "output_type": "stream",
     "text": [
      "<ipython-input-240-1ac76a73e39a>:11: RuntimeWarning: invalid value encountered in double_scalars\n",
      "  coskew = (res_i*np.power(res_m,2)).mean() / ( np.sqrt( np.power(res_i,2).mean() ) *  np.power(res_m,2).mean())\n"
     ]
    },
    {
     "name": "stdout",
     "output_type": "stream",
     "text": [
      "600209.SH\n",
      "600210.SH\n",
      "600211.SH\n",
      "600212.SH\n",
      "600213.SH\n",
      "600215.SH\n",
      "600216.SH\n"
     ]
    },
    {
     "name": "stderr",
     "output_type": "stream",
     "text": [
      "<ipython-input-240-1ac76a73e39a>:11: RuntimeWarning: invalid value encountered in double_scalars\n",
      "  coskew = (res_i*np.power(res_m,2)).mean() / ( np.sqrt( np.power(res_i,2).mean() ) *  np.power(res_m,2).mean())\n"
     ]
    },
    {
     "name": "stdout",
     "output_type": "stream",
     "text": [
      "600217.SH\n"
     ]
    },
    {
     "name": "stderr",
     "output_type": "stream",
     "text": [
      "<ipython-input-240-1ac76a73e39a>:11: RuntimeWarning: invalid value encountered in double_scalars\n",
      "  coskew = (res_i*np.power(res_m,2)).mean() / ( np.sqrt( np.power(res_i,2).mean() ) *  np.power(res_m,2).mean())\n"
     ]
    },
    {
     "name": "stdout",
     "output_type": "stream",
     "text": [
      "600218.SH\n",
      "600219.SH\n",
      "600220.SH\n"
     ]
    },
    {
     "name": "stderr",
     "output_type": "stream",
     "text": [
      "<ipython-input-240-1ac76a73e39a>:11: RuntimeWarning: invalid value encountered in double_scalars\n",
      "  coskew = (res_i*np.power(res_m,2)).mean() / ( np.sqrt( np.power(res_i,2).mean() ) *  np.power(res_m,2).mean())\n"
     ]
    },
    {
     "name": "stdout",
     "output_type": "stream",
     "text": [
      "600221.SH\n",
      "600222.SH\n",
      "600223.SH\n"
     ]
    },
    {
     "name": "stderr",
     "output_type": "stream",
     "text": [
      "<ipython-input-240-1ac76a73e39a>:11: RuntimeWarning: invalid value encountered in double_scalars\n",
      "  coskew = (res_i*np.power(res_m,2)).mean() / ( np.sqrt( np.power(res_i,2).mean() ) *  np.power(res_m,2).mean())\n"
     ]
    },
    {
     "name": "stdout",
     "output_type": "stream",
     "text": [
      "600225.SH\n"
     ]
    },
    {
     "name": "stderr",
     "output_type": "stream",
     "text": [
      "<ipython-input-240-1ac76a73e39a>:11: RuntimeWarning: invalid value encountered in double_scalars\n",
      "  coskew = (res_i*np.power(res_m,2)).mean() / ( np.sqrt( np.power(res_i,2).mean() ) *  np.power(res_m,2).mean())\n"
     ]
    },
    {
     "name": "stdout",
     "output_type": "stream",
     "text": [
      "600226.SH\n",
      "600227.SH\n",
      "600228.SH\n",
      "600229.SH\n",
      "600230.SH\n",
      "600231.SH\n",
      "600232.SH\n",
      "600233.SH\n",
      "600234.SH\n",
      "600235.SH\n"
     ]
    },
    {
     "name": "stderr",
     "output_type": "stream",
     "text": [
      "<ipython-input-240-1ac76a73e39a>:11: RuntimeWarning: invalid value encountered in double_scalars\n",
      "  coskew = (res_i*np.power(res_m,2)).mean() / ( np.sqrt( np.power(res_i,2).mean() ) *  np.power(res_m,2).mean())\n"
     ]
    },
    {
     "name": "stdout",
     "output_type": "stream",
     "text": [
      "600236.SH\n",
      "600237.SH\n",
      "600238.SH\n"
     ]
    },
    {
     "name": "stderr",
     "output_type": "stream",
     "text": [
      "<ipython-input-240-1ac76a73e39a>:11: RuntimeWarning: invalid value encountered in double_scalars\n",
      "  coskew = (res_i*np.power(res_m,2)).mean() / ( np.sqrt( np.power(res_i,2).mean() ) *  np.power(res_m,2).mean())\n"
     ]
    },
    {
     "name": "stdout",
     "output_type": "stream",
     "text": [
      "600239.SH\n",
      "600240.SH\n",
      "600241.SH\n"
     ]
    },
    {
     "name": "stderr",
     "output_type": "stream",
     "text": [
      "<ipython-input-240-1ac76a73e39a>:11: RuntimeWarning: invalid value encountered in double_scalars\n",
      "  coskew = (res_i*np.power(res_m,2)).mean() / ( np.sqrt( np.power(res_i,2).mean() ) *  np.power(res_m,2).mean())\n",
      "<ipython-input-240-1ac76a73e39a>:11: RuntimeWarning: invalid value encountered in double_scalars\n",
      "  coskew = (res_i*np.power(res_m,2)).mean() / ( np.sqrt( np.power(res_i,2).mean() ) *  np.power(res_m,2).mean())\n"
     ]
    },
    {
     "name": "stdout",
     "output_type": "stream",
     "text": [
      "600242.SH\n",
      "600243.SH\n"
     ]
    },
    {
     "name": "stderr",
     "output_type": "stream",
     "text": [
      "<ipython-input-240-1ac76a73e39a>:11: RuntimeWarning: invalid value encountered in double_scalars\n",
      "  coskew = (res_i*np.power(res_m,2)).mean() / ( np.sqrt( np.power(res_i,2).mean() ) *  np.power(res_m,2).mean())\n",
      "<ipython-input-240-1ac76a73e39a>:11: RuntimeWarning: invalid value encountered in double_scalars\n",
      "  coskew = (res_i*np.power(res_m,2)).mean() / ( np.sqrt( np.power(res_i,2).mean() ) *  np.power(res_m,2).mean())\n"
     ]
    },
    {
     "name": "stdout",
     "output_type": "stream",
     "text": [
      "600246.SH\n",
      "600247.SH\n",
      "600248.SH\n",
      "600249.SH\n",
      "600250.SH\n",
      "600251.SH\n",
      "600252.SH\n",
      "600253.SH\n"
     ]
    },
    {
     "name": "stderr",
     "output_type": "stream",
     "text": [
      "<ipython-input-240-1ac76a73e39a>:11: RuntimeWarning: invalid value encountered in double_scalars\n",
      "  coskew = (res_i*np.power(res_m,2)).mean() / ( np.sqrt( np.power(res_i,2).mean() ) *  np.power(res_m,2).mean())\n"
     ]
    },
    {
     "name": "stdout",
     "output_type": "stream",
     "text": [
      "600255.SH\n",
      "600256.SH\n",
      "600257.SH\n"
     ]
    },
    {
     "name": "stderr",
     "output_type": "stream",
     "text": [
      "<ipython-input-240-1ac76a73e39a>:11: RuntimeWarning: invalid value encountered in double_scalars\n",
      "  coskew = (res_i*np.power(res_m,2)).mean() / ( np.sqrt( np.power(res_i,2).mean() ) *  np.power(res_m,2).mean())\n"
     ]
    },
    {
     "name": "stdout",
     "output_type": "stream",
     "text": [
      "600258.SH\n"
     ]
    },
    {
     "name": "stderr",
     "output_type": "stream",
     "text": [
      "<ipython-input-240-1ac76a73e39a>:11: RuntimeWarning: invalid value encountered in double_scalars\n",
      "  coskew = (res_i*np.power(res_m,2)).mean() / ( np.sqrt( np.power(res_i,2).mean() ) *  np.power(res_m,2).mean())\n"
     ]
    },
    {
     "name": "stdout",
     "output_type": "stream",
     "text": [
      "600259.SH\n",
      "600260.SH\n",
      "600261.SH\n",
      "600262.SH\n"
     ]
    },
    {
     "name": "stderr",
     "output_type": "stream",
     "text": [
      "<ipython-input-240-1ac76a73e39a>:11: RuntimeWarning: invalid value encountered in double_scalars\n",
      "  coskew = (res_i*np.power(res_m,2)).mean() / ( np.sqrt( np.power(res_i,2).mean() ) *  np.power(res_m,2).mean())\n"
     ]
    },
    {
     "name": "stdout",
     "output_type": "stream",
     "text": [
      "600263.SH\n",
      "600265.SH\n",
      "600266.SH\n",
      "600267.SH\n",
      "600268.SH\n",
      "600269.SH\n"
     ]
    },
    {
     "name": "stderr",
     "output_type": "stream",
     "text": [
      "<ipython-input-240-1ac76a73e39a>:11: RuntimeWarning: invalid value encountered in double_scalars\n",
      "  coskew = (res_i*np.power(res_m,2)).mean() / ( np.sqrt( np.power(res_i,2).mean() ) *  np.power(res_m,2).mean())\n"
     ]
    },
    {
     "name": "stdout",
     "output_type": "stream",
     "text": [
      "600270.SH\n",
      "600271.SH\n",
      "600272.SH\n"
     ]
    },
    {
     "name": "stderr",
     "output_type": "stream",
     "text": [
      "<ipython-input-240-1ac76a73e39a>:11: RuntimeWarning: invalid value encountered in double_scalars\n",
      "  coskew = (res_i*np.power(res_m,2)).mean() / ( np.sqrt( np.power(res_i,2).mean() ) *  np.power(res_m,2).mean())\n"
     ]
    },
    {
     "name": "stdout",
     "output_type": "stream",
     "text": [
      "600273.SH\n"
     ]
    },
    {
     "name": "stderr",
     "output_type": "stream",
     "text": [
      "<ipython-input-240-1ac76a73e39a>:11: RuntimeWarning: invalid value encountered in double_scalars\n",
      "  coskew = (res_i*np.power(res_m,2)).mean() / ( np.sqrt( np.power(res_i,2).mean() ) *  np.power(res_m,2).mean())\n",
      "<ipython-input-240-1ac76a73e39a>:11: RuntimeWarning: invalid value encountered in double_scalars\n",
      "  coskew = (res_i*np.power(res_m,2)).mean() / ( np.sqrt( np.power(res_i,2).mean() ) *  np.power(res_m,2).mean())\n"
     ]
    },
    {
     "name": "stdout",
     "output_type": "stream",
     "text": [
      "600275.SH\n",
      "600276.SH\n"
     ]
    },
    {
     "name": "stderr",
     "output_type": "stream",
     "text": [
      "<ipython-input-240-1ac76a73e39a>:11: RuntimeWarning: invalid value encountered in double_scalars\n",
      "  coskew = (res_i*np.power(res_m,2)).mean() / ( np.sqrt( np.power(res_i,2).mean() ) *  np.power(res_m,2).mean())\n"
     ]
    },
    {
     "name": "stdout",
     "output_type": "stream",
     "text": [
      "600277.SH\n"
     ]
    },
    {
     "name": "stderr",
     "output_type": "stream",
     "text": [
      "<ipython-input-240-1ac76a73e39a>:11: RuntimeWarning: invalid value encountered in double_scalars\n",
      "  coskew = (res_i*np.power(res_m,2)).mean() / ( np.sqrt( np.power(res_i,2).mean() ) *  np.power(res_m,2).mean())\n"
     ]
    },
    {
     "name": "stdout",
     "output_type": "stream",
     "text": [
      "600278.SH\n",
      "600279.SH\n",
      "600280.SH\n",
      "600281.SH\n",
      "600282.SH\n",
      "600283.SH\n",
      "600284.SH\n",
      "600285.SH\n",
      "600286.SH\n",
      "600287.SH\n"
     ]
    },
    {
     "name": "stderr",
     "output_type": "stream",
     "text": [
      "<ipython-input-240-1ac76a73e39a>:11: RuntimeWarning: invalid value encountered in double_scalars\n",
      "  coskew = (res_i*np.power(res_m,2)).mean() / ( np.sqrt( np.power(res_i,2).mean() ) *  np.power(res_m,2).mean())\n"
     ]
    },
    {
     "name": "stdout",
     "output_type": "stream",
     "text": [
      "600288.SH\n",
      "600289.SH\n"
     ]
    },
    {
     "name": "stderr",
     "output_type": "stream",
     "text": [
      "<ipython-input-240-1ac76a73e39a>:11: RuntimeWarning: invalid value encountered in double_scalars\n",
      "  coskew = (res_i*np.power(res_m,2)).mean() / ( np.sqrt( np.power(res_i,2).mean() ) *  np.power(res_m,2).mean())\n"
     ]
    },
    {
     "name": "stdout",
     "output_type": "stream",
     "text": [
      "600290.SH\n"
     ]
    },
    {
     "name": "stderr",
     "output_type": "stream",
     "text": [
      "<ipython-input-240-1ac76a73e39a>:11: RuntimeWarning: invalid value encountered in double_scalars\n",
      "  coskew = (res_i*np.power(res_m,2)).mean() / ( np.sqrt( np.power(res_i,2).mean() ) *  np.power(res_m,2).mean())\n"
     ]
    },
    {
     "name": "stdout",
     "output_type": "stream",
     "text": [
      "600291.SH\n",
      "600292.SH\n",
      "600293.SH\n"
     ]
    },
    {
     "name": "stderr",
     "output_type": "stream",
     "text": [
      "<ipython-input-240-1ac76a73e39a>:11: RuntimeWarning: invalid value encountered in double_scalars\n",
      "  coskew = (res_i*np.power(res_m,2)).mean() / ( np.sqrt( np.power(res_i,2).mean() ) *  np.power(res_m,2).mean())\n"
     ]
    },
    {
     "name": "stdout",
     "output_type": "stream",
     "text": [
      "600295.SH\n",
      "600296.SH\n",
      "600297.SH\n",
      "600298.SH\n"
     ]
    },
    {
     "name": "stderr",
     "output_type": "stream",
     "text": [
      "<ipython-input-240-1ac76a73e39a>:11: RuntimeWarning: invalid value encountered in double_scalars\n",
      "  coskew = (res_i*np.power(res_m,2)).mean() / ( np.sqrt( np.power(res_i,2).mean() ) *  np.power(res_m,2).mean())\n"
     ]
    },
    {
     "name": "stdout",
     "output_type": "stream",
     "text": [
      "600299.SH\n",
      "600300.SH\n"
     ]
    },
    {
     "name": "stderr",
     "output_type": "stream",
     "text": [
      "<ipython-input-240-1ac76a73e39a>:11: RuntimeWarning: invalid value encountered in double_scalars\n",
      "  coskew = (res_i*np.power(res_m,2)).mean() / ( np.sqrt( np.power(res_i,2).mean() ) *  np.power(res_m,2).mean())\n"
     ]
    },
    {
     "name": "stdout",
     "output_type": "stream",
     "text": [
      "600301.SH\n",
      "600302.SH\n",
      "600303.SH\n",
      "600305.SH\n"
     ]
    },
    {
     "name": "stderr",
     "output_type": "stream",
     "text": [
      "<ipython-input-240-1ac76a73e39a>:11: RuntimeWarning: invalid value encountered in double_scalars\n",
      "  coskew = (res_i*np.power(res_m,2)).mean() / ( np.sqrt( np.power(res_i,2).mean() ) *  np.power(res_m,2).mean())\n",
      "<ipython-input-240-1ac76a73e39a>:11: RuntimeWarning: invalid value encountered in double_scalars\n",
      "  coskew = (res_i*np.power(res_m,2)).mean() / ( np.sqrt( np.power(res_i,2).mean() ) *  np.power(res_m,2).mean())\n"
     ]
    },
    {
     "name": "stdout",
     "output_type": "stream",
     "text": [
      "600306.SH\n",
      "600307.SH\n"
     ]
    },
    {
     "name": "stderr",
     "output_type": "stream",
     "text": [
      "<ipython-input-240-1ac76a73e39a>:11: RuntimeWarning: invalid value encountered in double_scalars\n",
      "  coskew = (res_i*np.power(res_m,2)).mean() / ( np.sqrt( np.power(res_i,2).mean() ) *  np.power(res_m,2).mean())\n"
     ]
    },
    {
     "name": "stdout",
     "output_type": "stream",
     "text": [
      "600308.SH\n",
      "600309.SH\n",
      "600310.SH\n",
      "600311.SH\n",
      "600312.SH\n",
      "600313.SH\n",
      "600315.SH\n"
     ]
    },
    {
     "name": "stderr",
     "output_type": "stream",
     "text": [
      "<ipython-input-240-1ac76a73e39a>:11: RuntimeWarning: invalid value encountered in double_scalars\n",
      "  coskew = (res_i*np.power(res_m,2)).mean() / ( np.sqrt( np.power(res_i,2).mean() ) *  np.power(res_m,2).mean())\n"
     ]
    },
    {
     "name": "stdout",
     "output_type": "stream",
     "text": [
      "600316.SH\n",
      "600317.SH\n"
     ]
    },
    {
     "name": "stderr",
     "output_type": "stream",
     "text": [
      "<ipython-input-240-1ac76a73e39a>:11: RuntimeWarning: invalid value encountered in double_scalars\n",
      "  coskew = (res_i*np.power(res_m,2)).mean() / ( np.sqrt( np.power(res_i,2).mean() ) *  np.power(res_m,2).mean())\n"
     ]
    },
    {
     "name": "stdout",
     "output_type": "stream",
     "text": [
      "600318.SH\n",
      "600319.SH\n",
      "600320.SH\n",
      "600321.SH\n",
      "600322.SH\n",
      "600323.SH\n",
      "600325.SH\n",
      "600326.SH\n",
      "600327.SH\n"
     ]
    },
    {
     "name": "stderr",
     "output_type": "stream",
     "text": [
      "<ipython-input-240-1ac76a73e39a>:11: RuntimeWarning: invalid value encountered in double_scalars\n",
      "  coskew = (res_i*np.power(res_m,2)).mean() / ( np.sqrt( np.power(res_i,2).mean() ) *  np.power(res_m,2).mean())\n",
      "<ipython-input-240-1ac76a73e39a>:11: RuntimeWarning: invalid value encountered in double_scalars\n",
      "  coskew = (res_i*np.power(res_m,2)).mean() / ( np.sqrt( np.power(res_i,2).mean() ) *  np.power(res_m,2).mean())\n"
     ]
    },
    {
     "name": "stdout",
     "output_type": "stream",
     "text": [
      "600328.SH\n",
      "600329.SH\n"
     ]
    },
    {
     "name": "stderr",
     "output_type": "stream",
     "text": [
      "<ipython-input-240-1ac76a73e39a>:11: RuntimeWarning: invalid value encountered in double_scalars\n",
      "  coskew = (res_i*np.power(res_m,2)).mean() / ( np.sqrt( np.power(res_i,2).mean() ) *  np.power(res_m,2).mean())\n"
     ]
    },
    {
     "name": "stdout",
     "output_type": "stream",
     "text": [
      "600330.SH\n"
     ]
    },
    {
     "name": "stderr",
     "output_type": "stream",
     "text": [
      "<ipython-input-240-1ac76a73e39a>:11: RuntimeWarning: invalid value encountered in double_scalars\n",
      "  coskew = (res_i*np.power(res_m,2)).mean() / ( np.sqrt( np.power(res_i,2).mean() ) *  np.power(res_m,2).mean())\n"
     ]
    },
    {
     "name": "stdout",
     "output_type": "stream",
     "text": [
      "600331.SH\n",
      "600332.SH\n",
      "600333.SH\n"
     ]
    },
    {
     "name": "stderr",
     "output_type": "stream",
     "text": [
      "<ipython-input-240-1ac76a73e39a>:11: RuntimeWarning: invalid value encountered in double_scalars\n",
      "  coskew = (res_i*np.power(res_m,2)).mean() / ( np.sqrt( np.power(res_i,2).mean() ) *  np.power(res_m,2).mean())\n"
     ]
    },
    {
     "name": "stdout",
     "output_type": "stream",
     "text": [
      "600335.SH\n",
      "600336.SH\n",
      "600337.SH\n"
     ]
    },
    {
     "name": "stderr",
     "output_type": "stream",
     "text": [
      "<ipython-input-240-1ac76a73e39a>:11: RuntimeWarning: invalid value encountered in double_scalars\n",
      "  coskew = (res_i*np.power(res_m,2)).mean() / ( np.sqrt( np.power(res_i,2).mean() ) *  np.power(res_m,2).mean())\n",
      "<ipython-input-240-1ac76a73e39a>:11: RuntimeWarning: invalid value encountered in double_scalars\n",
      "  coskew = (res_i*np.power(res_m,2)).mean() / ( np.sqrt( np.power(res_i,2).mean() ) *  np.power(res_m,2).mean())\n"
     ]
    },
    {
     "name": "stdout",
     "output_type": "stream",
     "text": [
      "600338.SH\n",
      "600339.SH\n"
     ]
    },
    {
     "name": "stderr",
     "output_type": "stream",
     "text": [
      "<ipython-input-240-1ac76a73e39a>:11: RuntimeWarning: invalid value encountered in double_scalars\n",
      "  coskew = (res_i*np.power(res_m,2)).mean() / ( np.sqrt( np.power(res_i,2).mean() ) *  np.power(res_m,2).mean())\n"
     ]
    },
    {
     "name": "stdout",
     "output_type": "stream",
     "text": [
      "600340.SH\n",
      "600343.SH\n"
     ]
    },
    {
     "name": "stderr",
     "output_type": "stream",
     "text": [
      "<ipython-input-240-1ac76a73e39a>:11: RuntimeWarning: invalid value encountered in double_scalars\n",
      "  coskew = (res_i*np.power(res_m,2)).mean() / ( np.sqrt( np.power(res_i,2).mean() ) *  np.power(res_m,2).mean())\n"
     ]
    },
    {
     "name": "stdout",
     "output_type": "stream",
     "text": [
      "600345.SH\n"
     ]
    },
    {
     "name": "stderr",
     "output_type": "stream",
     "text": [
      "<ipython-input-240-1ac76a73e39a>:11: RuntimeWarning: invalid value encountered in double_scalars\n",
      "  coskew = (res_i*np.power(res_m,2)).mean() / ( np.sqrt( np.power(res_i,2).mean() ) *  np.power(res_m,2).mean())\n",
      "<ipython-input-240-1ac76a73e39a>:11: RuntimeWarning: invalid value encountered in double_scalars\n",
      "  coskew = (res_i*np.power(res_m,2)).mean() / ( np.sqrt( np.power(res_i,2).mean() ) *  np.power(res_m,2).mean())\n"
     ]
    },
    {
     "name": "stdout",
     "output_type": "stream",
     "text": [
      "600346.SH\n",
      "600348.SH\n"
     ]
    },
    {
     "name": "stderr",
     "output_type": "stream",
     "text": [
      "<ipython-input-240-1ac76a73e39a>:11: RuntimeWarning: invalid value encountered in double_scalars\n",
      "  coskew = (res_i*np.power(res_m,2)).mean() / ( np.sqrt( np.power(res_i,2).mean() ) *  np.power(res_m,2).mean())\n"
     ]
    },
    {
     "name": "stdout",
     "output_type": "stream",
     "text": [
      "600350.SH\n"
     ]
    },
    {
     "name": "stderr",
     "output_type": "stream",
     "text": [
      "<ipython-input-240-1ac76a73e39a>:11: RuntimeWarning: invalid value encountered in double_scalars\n",
      "  coskew = (res_i*np.power(res_m,2)).mean() / ( np.sqrt( np.power(res_i,2).mean() ) *  np.power(res_m,2).mean())\n"
     ]
    },
    {
     "name": "stdout",
     "output_type": "stream",
     "text": [
      "600351.SH\n",
      "600352.SH\n"
     ]
    },
    {
     "name": "stderr",
     "output_type": "stream",
     "text": [
      "<ipython-input-240-1ac76a73e39a>:11: RuntimeWarning: invalid value encountered in double_scalars\n",
      "  coskew = (res_i*np.power(res_m,2)).mean() / ( np.sqrt( np.power(res_i,2).mean() ) *  np.power(res_m,2).mean())\n"
     ]
    },
    {
     "name": "stdout",
     "output_type": "stream",
     "text": [
      "600353.SH\n",
      "600354.SH\n",
      "600355.SH\n",
      "600356.SH\n",
      "600357.SH\n"
     ]
    },
    {
     "name": "stderr",
     "output_type": "stream",
     "text": [
      "<ipython-input-240-1ac76a73e39a>:11: RuntimeWarning: invalid value encountered in double_scalars\n",
      "  coskew = (res_i*np.power(res_m,2)).mean() / ( np.sqrt( np.power(res_i,2).mean() ) *  np.power(res_m,2).mean())\n"
     ]
    },
    {
     "name": "stdout",
     "output_type": "stream",
     "text": [
      "600358.SH\n",
      "600359.SH\n",
      "600360.SH\n"
     ]
    },
    {
     "name": "stderr",
     "output_type": "stream",
     "text": [
      "<ipython-input-240-1ac76a73e39a>:11: RuntimeWarning: invalid value encountered in double_scalars\n",
      "  coskew = (res_i*np.power(res_m,2)).mean() / ( np.sqrt( np.power(res_i,2).mean() ) *  np.power(res_m,2).mean())\n"
     ]
    },
    {
     "name": "stdout",
     "output_type": "stream",
     "text": [
      "600361.SH\n",
      "600362.SH\n"
     ]
    },
    {
     "name": "stderr",
     "output_type": "stream",
     "text": [
      "<ipython-input-240-1ac76a73e39a>:11: RuntimeWarning: invalid value encountered in double_scalars\n",
      "  coskew = (res_i*np.power(res_m,2)).mean() / ( np.sqrt( np.power(res_i,2).mean() ) *  np.power(res_m,2).mean())\n",
      "<ipython-input-240-1ac76a73e39a>:11: RuntimeWarning: invalid value encountered in double_scalars\n",
      "  coskew = (res_i*np.power(res_m,2)).mean() / ( np.sqrt( np.power(res_i,2).mean() ) *  np.power(res_m,2).mean())\n"
     ]
    },
    {
     "name": "stdout",
     "output_type": "stream",
     "text": [
      "600363.SH\n"
     ]
    },
    {
     "name": "stderr",
     "output_type": "stream",
     "text": [
      "<ipython-input-240-1ac76a73e39a>:11: RuntimeWarning: invalid value encountered in double_scalars\n",
      "  coskew = (res_i*np.power(res_m,2)).mean() / ( np.sqrt( np.power(res_i,2).mean() ) *  np.power(res_m,2).mean())\n"
     ]
    },
    {
     "name": "stdout",
     "output_type": "stream",
     "text": [
      "600365.SH\n"
     ]
    },
    {
     "name": "stderr",
     "output_type": "stream",
     "text": [
      "<ipython-input-240-1ac76a73e39a>:11: RuntimeWarning: invalid value encountered in double_scalars\n",
      "  coskew = (res_i*np.power(res_m,2)).mean() / ( np.sqrt( np.power(res_i,2).mean() ) *  np.power(res_m,2).mean())\n"
     ]
    },
    {
     "name": "stdout",
     "output_type": "stream",
     "text": [
      "600366.SH\n",
      "600367.SH\n",
      "600368.SH\n",
      "600369.SH\n",
      "600370.SH\n",
      "600371.SH\n",
      "600372.SH\n",
      "600373.SH\n"
     ]
    },
    {
     "name": "stderr",
     "output_type": "stream",
     "text": [
      "<ipython-input-240-1ac76a73e39a>:11: RuntimeWarning: invalid value encountered in double_scalars\n",
      "  coskew = (res_i*np.power(res_m,2)).mean() / ( np.sqrt( np.power(res_i,2).mean() ) *  np.power(res_m,2).mean())\n",
      "<ipython-input-240-1ac76a73e39a>:11: RuntimeWarning: invalid value encountered in double_scalars\n",
      "  coskew = (res_i*np.power(res_m,2)).mean() / ( np.sqrt( np.power(res_i,2).mean() ) *  np.power(res_m,2).mean())\n"
     ]
    },
    {
     "name": "stdout",
     "output_type": "stream",
     "text": [
      "600375.SH\n",
      "600376.SH\n",
      "600377.SH\n",
      "600378.SH\n"
     ]
    },
    {
     "name": "stderr",
     "output_type": "stream",
     "text": [
      "<ipython-input-240-1ac76a73e39a>:11: RuntimeWarning: invalid value encountered in double_scalars\n",
      "  coskew = (res_i*np.power(res_m,2)).mean() / ( np.sqrt( np.power(res_i,2).mean() ) *  np.power(res_m,2).mean())\n"
     ]
    },
    {
     "name": "stdout",
     "output_type": "stream",
     "text": [
      "600379.SH\n",
      "600380.SH\n"
     ]
    },
    {
     "name": "stderr",
     "output_type": "stream",
     "text": [
      "<ipython-input-240-1ac76a73e39a>:11: RuntimeWarning: invalid value encountered in double_scalars\n",
      "  coskew = (res_i*np.power(res_m,2)).mean() / ( np.sqrt( np.power(res_i,2).mean() ) *  np.power(res_m,2).mean())\n",
      "<ipython-input-240-1ac76a73e39a>:11: RuntimeWarning: invalid value encountered in double_scalars\n",
      "  coskew = (res_i*np.power(res_m,2)).mean() / ( np.sqrt( np.power(res_i,2).mean() ) *  np.power(res_m,2).mean())\n",
      "<ipython-input-240-1ac76a73e39a>:11: RuntimeWarning: invalid value encountered in double_scalars\n",
      "  coskew = (res_i*np.power(res_m,2)).mean() / ( np.sqrt( np.power(res_i,2).mean() ) *  np.power(res_m,2).mean())\n",
      "<ipython-input-240-1ac76a73e39a>:11: RuntimeWarning: invalid value encountered in double_scalars\n",
      "  coskew = (res_i*np.power(res_m,2)).mean() / ( np.sqrt( np.power(res_i,2).mean() ) *  np.power(res_m,2).mean())\n"
     ]
    },
    {
     "name": "stdout",
     "output_type": "stream",
     "text": [
      "600381.SH\n",
      "600382.SH\n",
      "600383.SH\n",
      "600385.SH\n",
      "600386.SH\n",
      "600387.SH\n",
      "600388.SH\n",
      "600389.SH\n",
      "600390.SH\n",
      "600391.SH\n"
     ]
    },
    {
     "name": "stderr",
     "output_type": "stream",
     "text": [
      "<ipython-input-240-1ac76a73e39a>:11: RuntimeWarning: invalid value encountered in double_scalars\n",
      "  coskew = (res_i*np.power(res_m,2)).mean() / ( np.sqrt( np.power(res_i,2).mean() ) *  np.power(res_m,2).mean())\n"
     ]
    },
    {
     "name": "stdout",
     "output_type": "stream",
     "text": [
      "600392.SH\n",
      "600393.SH\n",
      "600395.SH\n",
      "600396.SH\n"
     ]
    },
    {
     "name": "stderr",
     "output_type": "stream",
     "text": [
      "<ipython-input-240-1ac76a73e39a>:11: RuntimeWarning: invalid value encountered in double_scalars\n",
      "  coskew = (res_i*np.power(res_m,2)).mean() / ( np.sqrt( np.power(res_i,2).mean() ) *  np.power(res_m,2).mean())\n",
      "<ipython-input-240-1ac76a73e39a>:11: RuntimeWarning: invalid value encountered in double_scalars\n",
      "  coskew = (res_i*np.power(res_m,2)).mean() / ( np.sqrt( np.power(res_i,2).mean() ) *  np.power(res_m,2).mean())\n",
      "<ipython-input-240-1ac76a73e39a>:11: RuntimeWarning: invalid value encountered in double_scalars\n",
      "  coskew = (res_i*np.power(res_m,2)).mean() / ( np.sqrt( np.power(res_i,2).mean() ) *  np.power(res_m,2).mean())\n"
     ]
    },
    {
     "name": "stdout",
     "output_type": "stream",
     "text": [
      "600397.SH\n",
      "600398.SH\n"
     ]
    },
    {
     "name": "stderr",
     "output_type": "stream",
     "text": [
      "<ipython-input-240-1ac76a73e39a>:11: RuntimeWarning: invalid value encountered in double_scalars\n",
      "  coskew = (res_i*np.power(res_m,2)).mean() / ( np.sqrt( np.power(res_i,2).mean() ) *  np.power(res_m,2).mean())\n"
     ]
    },
    {
     "name": "stdout",
     "output_type": "stream",
     "text": [
      "600399.SH\n",
      "600400.SH\n",
      "600401.SH\n",
      "600403.SH\n",
      "600405.SH\n",
      "600406.SH\n",
      "600408.SH\n"
     ]
    },
    {
     "name": "stderr",
     "output_type": "stream",
     "text": [
      "<ipython-input-240-1ac76a73e39a>:11: RuntimeWarning: invalid value encountered in double_scalars\n",
      "  coskew = (res_i*np.power(res_m,2)).mean() / ( np.sqrt( np.power(res_i,2).mean() ) *  np.power(res_m,2).mean())\n"
     ]
    },
    {
     "name": "stdout",
     "output_type": "stream",
     "text": [
      "600409.SH\n",
      "600410.SH\n",
      "600415.SH\n",
      "600416.SH\n",
      "600418.SH\n"
     ]
    },
    {
     "name": "stderr",
     "output_type": "stream",
     "text": [
      "<ipython-input-240-1ac76a73e39a>:11: RuntimeWarning: invalid value encountered in double_scalars\n",
      "  coskew = (res_i*np.power(res_m,2)).mean() / ( np.sqrt( np.power(res_i,2).mean() ) *  np.power(res_m,2).mean())\n",
      "<ipython-input-240-1ac76a73e39a>:11: RuntimeWarning: invalid value encountered in double_scalars\n",
      "  coskew = (res_i*np.power(res_m,2)).mean() / ( np.sqrt( np.power(res_i,2).mean() ) *  np.power(res_m,2).mean())\n"
     ]
    },
    {
     "name": "stdout",
     "output_type": "stream",
     "text": [
      "600419.SH\n",
      "600420.SH\n",
      "600421.SH\n",
      "600422.SH\n",
      "600423.SH\n",
      "600425.SH\n",
      "600426.SH\n",
      "600428.SH\n"
     ]
    },
    {
     "name": "stderr",
     "output_type": "stream",
     "text": [
      "<ipython-input-240-1ac76a73e39a>:11: RuntimeWarning: invalid value encountered in double_scalars\n",
      "  coskew = (res_i*np.power(res_m,2)).mean() / ( np.sqrt( np.power(res_i,2).mean() ) *  np.power(res_m,2).mean())\n"
     ]
    },
    {
     "name": "stdout",
     "output_type": "stream",
     "text": [
      "600429.SH\n",
      "600432.SH\n",
      "600433.SH\n"
     ]
    },
    {
     "name": "stderr",
     "output_type": "stream",
     "text": [
      "<ipython-input-240-1ac76a73e39a>:11: RuntimeWarning: invalid value encountered in double_scalars\n",
      "  coskew = (res_i*np.power(res_m,2)).mean() / ( np.sqrt( np.power(res_i,2).mean() ) *  np.power(res_m,2).mean())\n"
     ]
    },
    {
     "name": "stdout",
     "output_type": "stream",
     "text": [
      "600435.SH\n",
      "600436.SH\n",
      "600438.SH\n",
      "600439.SH\n",
      "600444.SH\n",
      "600446.SH\n",
      "600448.SH\n",
      "600449.SH\n",
      "600452.SH\n",
      "600455.SH\n",
      "600456.SH\n",
      "600458.SH\n",
      "600459.SH\n",
      "600460.SH\n",
      "600461.SH\n",
      "600462.SH\n",
      "600463.SH\n"
     ]
    },
    {
     "name": "stderr",
     "output_type": "stream",
     "text": [
      "<ipython-input-240-1ac76a73e39a>:11: RuntimeWarning: invalid value encountered in double_scalars\n",
      "  coskew = (res_i*np.power(res_m,2)).mean() / ( np.sqrt( np.power(res_i,2).mean() ) *  np.power(res_m,2).mean())\n"
     ]
    },
    {
     "name": "stdout",
     "output_type": "stream",
     "text": [
      "600466.SH\n",
      "600467.SH\n"
     ]
    },
    {
     "name": "stderr",
     "output_type": "stream",
     "text": [
      "<ipython-input-240-1ac76a73e39a>:11: RuntimeWarning: invalid value encountered in double_scalars\n",
      "  coskew = (res_i*np.power(res_m,2)).mean() / ( np.sqrt( np.power(res_i,2).mean() ) *  np.power(res_m,2).mean())\n"
     ]
    },
    {
     "name": "stdout",
     "output_type": "stream",
     "text": [
      "600468.SH\n",
      "600469.SH\n",
      "600470.SH\n",
      "600472.SH\n",
      "600475.SH\n",
      "600476.SH\n",
      "600477.SH\n"
     ]
    },
    {
     "name": "stderr",
     "output_type": "stream",
     "text": [
      "<ipython-input-240-1ac76a73e39a>:11: RuntimeWarning: invalid value encountered in double_scalars\n",
      "  coskew = (res_i*np.power(res_m,2)).mean() / ( np.sqrt( np.power(res_i,2).mean() ) *  np.power(res_m,2).mean())\n"
     ]
    },
    {
     "name": "stdout",
     "output_type": "stream",
     "text": [
      "600478.SH\n",
      "600479.SH\n",
      "600480.SH\n",
      "600481.SH\n",
      "600482.SH\n"
     ]
    },
    {
     "name": "stderr",
     "output_type": "stream",
     "text": [
      "<ipython-input-240-1ac76a73e39a>:11: RuntimeWarning: invalid value encountered in double_scalars\n",
      "  coskew = (res_i*np.power(res_m,2)).mean() / ( np.sqrt( np.power(res_i,2).mean() ) *  np.power(res_m,2).mean())\n"
     ]
    },
    {
     "name": "stdout",
     "output_type": "stream",
     "text": [
      "600483.SH\n",
      "600485.SH\n",
      "600486.SH\n",
      "600487.SH\n",
      "600488.SH\n",
      "600489.SH\n",
      "600490.SH\n",
      "600491.SH\n",
      "600493.SH\n",
      "600495.SH\n",
      "600496.SH\n"
     ]
    },
    {
     "name": "stderr",
     "output_type": "stream",
     "text": [
      "<ipython-input-240-1ac76a73e39a>:11: RuntimeWarning: invalid value encountered in double_scalars\n",
      "  coskew = (res_i*np.power(res_m,2)).mean() / ( np.sqrt( np.power(res_i,2).mean() ) *  np.power(res_m,2).mean())\n"
     ]
    },
    {
     "name": "stdout",
     "output_type": "stream",
     "text": [
      "600497.SH\n"
     ]
    },
    {
     "name": "stderr",
     "output_type": "stream",
     "text": [
      "<ipython-input-240-1ac76a73e39a>:11: RuntimeWarning: invalid value encountered in double_scalars\n",
      "  coskew = (res_i*np.power(res_m,2)).mean() / ( np.sqrt( np.power(res_i,2).mean() ) *  np.power(res_m,2).mean())\n"
     ]
    },
    {
     "name": "stdout",
     "output_type": "stream",
     "text": [
      "600498.SH\n"
     ]
    },
    {
     "name": "stderr",
     "output_type": "stream",
     "text": [
      "<ipython-input-240-1ac76a73e39a>:11: RuntimeWarning: invalid value encountered in double_scalars\n",
      "  coskew = (res_i*np.power(res_m,2)).mean() / ( np.sqrt( np.power(res_i,2).mean() ) *  np.power(res_m,2).mean())\n"
     ]
    },
    {
     "name": "stdout",
     "output_type": "stream",
     "text": [
      "600499.SH\n",
      "600500.SH\n",
      "600501.SH\n",
      "600502.SH\n",
      "600503.SH\n"
     ]
    },
    {
     "name": "stderr",
     "output_type": "stream",
     "text": [
      "<ipython-input-240-1ac76a73e39a>:11: RuntimeWarning: invalid value encountered in double_scalars\n",
      "  coskew = (res_i*np.power(res_m,2)).mean() / ( np.sqrt( np.power(res_i,2).mean() ) *  np.power(res_m,2).mean())\n"
     ]
    },
    {
     "name": "stdout",
     "output_type": "stream",
     "text": [
      "600505.SH\n",
      "600506.SH\n",
      "600507.SH\n",
      "600508.SH\n",
      "600509.SH\n",
      "600510.SH\n",
      "600511.SH\n",
      "600512.SH\n",
      "600513.SH\n"
     ]
    },
    {
     "name": "stderr",
     "output_type": "stream",
     "text": [
      "<ipython-input-240-1ac76a73e39a>:11: RuntimeWarning: invalid value encountered in double_scalars\n",
      "  coskew = (res_i*np.power(res_m,2)).mean() / ( np.sqrt( np.power(res_i,2).mean() ) *  np.power(res_m,2).mean())\n"
     ]
    },
    {
     "name": "stdout",
     "output_type": "stream",
     "text": [
      "600515.SH\n",
      "600516.SH\n",
      "600517.SH\n",
      "600518.SH\n",
      "600519.SH\n",
      "600520.SH\n",
      "600521.SH\n",
      "600522.SH\n"
     ]
    },
    {
     "name": "stderr",
     "output_type": "stream",
     "text": [
      "<ipython-input-240-1ac76a73e39a>:11: RuntimeWarning: invalid value encountered in double_scalars\n",
      "  coskew = (res_i*np.power(res_m,2)).mean() / ( np.sqrt( np.power(res_i,2).mean() ) *  np.power(res_m,2).mean())\n"
     ]
    },
    {
     "name": "stdout",
     "output_type": "stream",
     "text": [
      "600523.SH\n",
      "600525.SH\n",
      "600526.SH\n"
     ]
    },
    {
     "name": "stderr",
     "output_type": "stream",
     "text": [
      "<ipython-input-240-1ac76a73e39a>:11: RuntimeWarning: invalid value encountered in double_scalars\n",
      "  coskew = (res_i*np.power(res_m,2)).mean() / ( np.sqrt( np.power(res_i,2).mean() ) *  np.power(res_m,2).mean())\n"
     ]
    },
    {
     "name": "stdout",
     "output_type": "stream",
     "text": [
      "600527.SH\n",
      "600528.SH\n",
      "600529.SH\n"
     ]
    },
    {
     "name": "stderr",
     "output_type": "stream",
     "text": [
      "<ipython-input-240-1ac76a73e39a>:11: RuntimeWarning: invalid value encountered in double_scalars\n",
      "  coskew = (res_i*np.power(res_m,2)).mean() / ( np.sqrt( np.power(res_i,2).mean() ) *  np.power(res_m,2).mean())\n"
     ]
    },
    {
     "name": "stdout",
     "output_type": "stream",
     "text": [
      "600530.SH\n"
     ]
    },
    {
     "name": "stderr",
     "output_type": "stream",
     "text": [
      "<ipython-input-240-1ac76a73e39a>:11: RuntimeWarning: invalid value encountered in double_scalars\n",
      "  coskew = (res_i*np.power(res_m,2)).mean() / ( np.sqrt( np.power(res_i,2).mean() ) *  np.power(res_m,2).mean())\n"
     ]
    },
    {
     "name": "stdout",
     "output_type": "stream",
     "text": [
      "600531.SH\n"
     ]
    },
    {
     "name": "stderr",
     "output_type": "stream",
     "text": [
      "<ipython-input-240-1ac76a73e39a>:11: RuntimeWarning: invalid value encountered in double_scalars\n",
      "  coskew = (res_i*np.power(res_m,2)).mean() / ( np.sqrt( np.power(res_i,2).mean() ) *  np.power(res_m,2).mean())\n"
     ]
    },
    {
     "name": "stdout",
     "output_type": "stream",
     "text": [
      "600532.SH\n"
     ]
    },
    {
     "name": "stderr",
     "output_type": "stream",
     "text": [
      "<ipython-input-240-1ac76a73e39a>:11: RuntimeWarning: invalid value encountered in double_scalars\n",
      "  coskew = (res_i*np.power(res_m,2)).mean() / ( np.sqrt( np.power(res_i,2).mean() ) *  np.power(res_m,2).mean())\n"
     ]
    },
    {
     "name": "stdout",
     "output_type": "stream",
     "text": [
      "600533.SH\n",
      "600535.SH\n",
      "600536.SH\n",
      "600537.SH\n"
     ]
    },
    {
     "name": "stderr",
     "output_type": "stream",
     "text": [
      "<ipython-input-240-1ac76a73e39a>:11: RuntimeWarning: invalid value encountered in double_scalars\n",
      "  coskew = (res_i*np.power(res_m,2)).mean() / ( np.sqrt( np.power(res_i,2).mean() ) *  np.power(res_m,2).mean())\n"
     ]
    },
    {
     "name": "stdout",
     "output_type": "stream",
     "text": [
      "600538.SH\n",
      "600539.SH\n",
      "600540.SH\n",
      "600543.SH\n",
      "600545.SH\n",
      "600546.SH\n"
     ]
    },
    {
     "name": "stderr",
     "output_type": "stream",
     "text": [
      "<ipython-input-240-1ac76a73e39a>:11: RuntimeWarning: invalid value encountered in double_scalars\n",
      "  coskew = (res_i*np.power(res_m,2)).mean() / ( np.sqrt( np.power(res_i,2).mean() ) *  np.power(res_m,2).mean())\n",
      "<ipython-input-240-1ac76a73e39a>:11: RuntimeWarning: invalid value encountered in double_scalars\n",
      "  coskew = (res_i*np.power(res_m,2)).mean() / ( np.sqrt( np.power(res_i,2).mean() ) *  np.power(res_m,2).mean())\n",
      "<ipython-input-240-1ac76a73e39a>:11: RuntimeWarning: invalid value encountered in double_scalars\n",
      "  coskew = (res_i*np.power(res_m,2)).mean() / ( np.sqrt( np.power(res_i,2).mean() ) *  np.power(res_m,2).mean())\n"
     ]
    },
    {
     "name": "stdout",
     "output_type": "stream",
     "text": [
      "600547.SH\n"
     ]
    },
    {
     "name": "stderr",
     "output_type": "stream",
     "text": [
      "<ipython-input-240-1ac76a73e39a>:11: RuntimeWarning: invalid value encountered in double_scalars\n",
      "  coskew = (res_i*np.power(res_m,2)).mean() / ( np.sqrt( np.power(res_i,2).mean() ) *  np.power(res_m,2).mean())\n"
     ]
    },
    {
     "name": "stdout",
     "output_type": "stream",
     "text": [
      "600548.SH\n",
      "600549.SH\n",
      "600550.SH\n",
      "600551.SH\n",
      "600552.SH\n"
     ]
    },
    {
     "name": "stderr",
     "output_type": "stream",
     "text": [
      "<ipython-input-240-1ac76a73e39a>:11: RuntimeWarning: invalid value encountered in double_scalars\n",
      "  coskew = (res_i*np.power(res_m,2)).mean() / ( np.sqrt( np.power(res_i,2).mean() ) *  np.power(res_m,2).mean())\n",
      "<ipython-input-240-1ac76a73e39a>:11: RuntimeWarning: invalid value encountered in double_scalars\n",
      "  coskew = (res_i*np.power(res_m,2)).mean() / ( np.sqrt( np.power(res_i,2).mean() ) *  np.power(res_m,2).mean())\n"
     ]
    },
    {
     "name": "stdout",
     "output_type": "stream",
     "text": [
      "600553.SH\n"
     ]
    },
    {
     "name": "stderr",
     "output_type": "stream",
     "text": [
      "<ipython-input-240-1ac76a73e39a>:11: RuntimeWarning: invalid value encountered in double_scalars\n",
      "  coskew = (res_i*np.power(res_m,2)).mean() / ( np.sqrt( np.power(res_i,2).mean() ) *  np.power(res_m,2).mean())\n"
     ]
    },
    {
     "name": "stdout",
     "output_type": "stream",
     "text": [
      "600555.SH\n",
      "600556.SH\n",
      "600557.SH\n"
     ]
    },
    {
     "name": "stderr",
     "output_type": "stream",
     "text": [
      "<ipython-input-240-1ac76a73e39a>:11: RuntimeWarning: invalid value encountered in double_scalars\n",
      "  coskew = (res_i*np.power(res_m,2)).mean() / ( np.sqrt( np.power(res_i,2).mean() ) *  np.power(res_m,2).mean())\n"
     ]
    },
    {
     "name": "stdout",
     "output_type": "stream",
     "text": [
      "600558.SH\n",
      "600559.SH\n",
      "600560.SH\n",
      "600561.SH\n"
     ]
    },
    {
     "name": "stderr",
     "output_type": "stream",
     "text": [
      "<ipython-input-240-1ac76a73e39a>:11: RuntimeWarning: invalid value encountered in double_scalars\n",
      "  coskew = (res_i*np.power(res_m,2)).mean() / ( np.sqrt( np.power(res_i,2).mean() ) *  np.power(res_m,2).mean())\n"
     ]
    },
    {
     "name": "stdout",
     "output_type": "stream",
     "text": [
      "600562.SH\n",
      "600563.SH\n",
      "600565.SH\n",
      "600566.SH\n",
      "600567.SH\n",
      "600568.SH\n",
      "600569.SH\n"
     ]
    },
    {
     "name": "stderr",
     "output_type": "stream",
     "text": [
      "<ipython-input-240-1ac76a73e39a>:11: RuntimeWarning: invalid value encountered in double_scalars\n",
      "  coskew = (res_i*np.power(res_m,2)).mean() / ( np.sqrt( np.power(res_i,2).mean() ) *  np.power(res_m,2).mean())\n"
     ]
    },
    {
     "name": "stdout",
     "output_type": "stream",
     "text": [
      "600570.SH\n",
      "600571.SH\n",
      "600572.SH\n",
      "600573.SH\n"
     ]
    },
    {
     "name": "stderr",
     "output_type": "stream",
     "text": [
      "<ipython-input-240-1ac76a73e39a>:11: RuntimeWarning: invalid value encountered in double_scalars\n",
      "  coskew = (res_i*np.power(res_m,2)).mean() / ( np.sqrt( np.power(res_i,2).mean() ) *  np.power(res_m,2).mean())\n"
     ]
    },
    {
     "name": "stdout",
     "output_type": "stream",
     "text": [
      "600575.SH\n"
     ]
    },
    {
     "name": "stderr",
     "output_type": "stream",
     "text": [
      "<ipython-input-240-1ac76a73e39a>:11: RuntimeWarning: invalid value encountered in double_scalars\n",
      "  coskew = (res_i*np.power(res_m,2)).mean() / ( np.sqrt( np.power(res_i,2).mean() ) *  np.power(res_m,2).mean())\n",
      "<ipython-input-240-1ac76a73e39a>:11: RuntimeWarning: invalid value encountered in double_scalars\n",
      "  coskew = (res_i*np.power(res_m,2)).mean() / ( np.sqrt( np.power(res_i,2).mean() ) *  np.power(res_m,2).mean())\n"
     ]
    },
    {
     "name": "stdout",
     "output_type": "stream",
     "text": [
      "600576.SH\n",
      "600577.SH\n",
      "600578.SH\n",
      "600579.SH\n",
      "600580.SH\n",
      "600581.SH\n",
      "600582.SH\n",
      "600583.SH\n",
      "600584.SH\n",
      "600585.SH\n"
     ]
    },
    {
     "name": "stderr",
     "output_type": "stream",
     "text": [
      "<ipython-input-240-1ac76a73e39a>:11: RuntimeWarning: invalid value encountered in double_scalars\n",
      "  coskew = (res_i*np.power(res_m,2)).mean() / ( np.sqrt( np.power(res_i,2).mean() ) *  np.power(res_m,2).mean())\n"
     ]
    },
    {
     "name": "stdout",
     "output_type": "stream",
     "text": [
      "600586.SH\n"
     ]
    },
    {
     "name": "stderr",
     "output_type": "stream",
     "text": [
      "<ipython-input-240-1ac76a73e39a>:11: RuntimeWarning: invalid value encountered in double_scalars\n",
      "  coskew = (res_i*np.power(res_m,2)).mean() / ( np.sqrt( np.power(res_i,2).mean() ) *  np.power(res_m,2).mean())\n"
     ]
    },
    {
     "name": "stdout",
     "output_type": "stream",
     "text": [
      "600587.SH\n",
      "600588.SH\n",
      "600589.SH\n",
      "600590.SH\n",
      "600591.SH\n",
      "600592.SH\n"
     ]
    },
    {
     "name": "stderr",
     "output_type": "stream",
     "text": [
      "<ipython-input-240-1ac76a73e39a>:11: RuntimeWarning: invalid value encountered in double_scalars\n",
      "  coskew = (res_i*np.power(res_m,2)).mean() / ( np.sqrt( np.power(res_i,2).mean() ) *  np.power(res_m,2).mean())\n"
     ]
    },
    {
     "name": "stdout",
     "output_type": "stream",
     "text": [
      "600593.SH\n",
      "600594.SH\n",
      "600595.SH\n",
      "600596.SH\n",
      "600597.SH\n",
      "600598.SH\n",
      "600599.SH\n",
      "600600.SH\n",
      "600601.SH\n"
     ]
    },
    {
     "name": "stderr",
     "output_type": "stream",
     "text": [
      "<ipython-input-240-1ac76a73e39a>:11: RuntimeWarning: invalid value encountered in double_scalars\n",
      "  coskew = (res_i*np.power(res_m,2)).mean() / ( np.sqrt( np.power(res_i,2).mean() ) *  np.power(res_m,2).mean())\n"
     ]
    },
    {
     "name": "stdout",
     "output_type": "stream",
     "text": [
      "600602.SH\n"
     ]
    },
    {
     "name": "stderr",
     "output_type": "stream",
     "text": [
      "<ipython-input-240-1ac76a73e39a>:11: RuntimeWarning: invalid value encountered in double_scalars\n",
      "  coskew = (res_i*np.power(res_m,2)).mean() / ( np.sqrt( np.power(res_i,2).mean() ) *  np.power(res_m,2).mean())\n"
     ]
    },
    {
     "name": "stdout",
     "output_type": "stream",
     "text": [
      "600603.SH\n",
      "600604.SH\n",
      "600605.SH\n",
      "600606.SH\n",
      "600607.SH\n",
      "600608.SH\n",
      "600609.SH\n",
      "600610.SH\n",
      "600611.SH\n",
      "600612.SH\n",
      "600613.SH\n",
      "600614.SH\n",
      "600615.SH\n",
      "600616.SH\n",
      "600617.SH\n",
      "600618.SH\n",
      "600619.SH\n",
      "600620.SH\n",
      "600621.SH\n",
      "600622.SH\n",
      "600623.SH\n",
      "600624.SH\n",
      "600625.SH\n",
      "600626.SH\n",
      "600627.SH\n",
      "600628.SH\n"
     ]
    },
    {
     "name": "stderr",
     "output_type": "stream",
     "text": [
      "<ipython-input-240-1ac76a73e39a>:11: RuntimeWarning: invalid value encountered in double_scalars\n",
      "  coskew = (res_i*np.power(res_m,2)).mean() / ( np.sqrt( np.power(res_i,2).mean() ) *  np.power(res_m,2).mean())\n"
     ]
    },
    {
     "name": "stdout",
     "output_type": "stream",
     "text": [
      "600629.SH\n",
      "600630.SH\n",
      "600631.SH\n",
      "600632.SH\n"
     ]
    },
    {
     "name": "stderr",
     "output_type": "stream",
     "text": [
      "<ipython-input-240-1ac76a73e39a>:11: RuntimeWarning: invalid value encountered in double_scalars\n",
      "  coskew = (res_i*np.power(res_m,2)).mean() / ( np.sqrt( np.power(res_i,2).mean() ) *  np.power(res_m,2).mean())\n"
     ]
    },
    {
     "name": "stdout",
     "output_type": "stream",
     "text": [
      "600633.SH\n"
     ]
    },
    {
     "name": "stderr",
     "output_type": "stream",
     "text": [
      "<ipython-input-240-1ac76a73e39a>:11: RuntimeWarning: invalid value encountered in double_scalars\n",
      "  coskew = (res_i*np.power(res_m,2)).mean() / ( np.sqrt( np.power(res_i,2).mean() ) *  np.power(res_m,2).mean())\n"
     ]
    },
    {
     "name": "stdout",
     "output_type": "stream",
     "text": [
      "600634.SH\n"
     ]
    },
    {
     "name": "stderr",
     "output_type": "stream",
     "text": [
      "<ipython-input-240-1ac76a73e39a>:11: RuntimeWarning: invalid value encountered in double_scalars\n",
      "  coskew = (res_i*np.power(res_m,2)).mean() / ( np.sqrt( np.power(res_i,2).mean() ) *  np.power(res_m,2).mean())\n"
     ]
    },
    {
     "name": "stdout",
     "output_type": "stream",
     "text": [
      "600635.SH\n",
      "600636.SH\n"
     ]
    },
    {
     "name": "stderr",
     "output_type": "stream",
     "text": [
      "<ipython-input-240-1ac76a73e39a>:11: RuntimeWarning: invalid value encountered in double_scalars\n",
      "  coskew = (res_i*np.power(res_m,2)).mean() / ( np.sqrt( np.power(res_i,2).mean() ) *  np.power(res_m,2).mean())\n"
     ]
    },
    {
     "name": "stdout",
     "output_type": "stream",
     "text": [
      "600637.SH\n",
      "600638.SH\n",
      "600639.SH\n",
      "600640.SH\n",
      "600641.SH\n",
      "600642.SH\n",
      "600643.SH\n"
     ]
    },
    {
     "name": "stderr",
     "output_type": "stream",
     "text": [
      "<ipython-input-240-1ac76a73e39a>:11: RuntimeWarning: invalid value encountered in double_scalars\n",
      "  coskew = (res_i*np.power(res_m,2)).mean() / ( np.sqrt( np.power(res_i,2).mean() ) *  np.power(res_m,2).mean())\n"
     ]
    },
    {
     "name": "stdout",
     "output_type": "stream",
     "text": [
      "600644.SH\n",
      "600645.SH\n",
      "600646.SH\n",
      "600647.SH\n"
     ]
    },
    {
     "name": "stderr",
     "output_type": "stream",
     "text": [
      "<ipython-input-240-1ac76a73e39a>:11: RuntimeWarning: invalid value encountered in double_scalars\n",
      "  coskew = (res_i*np.power(res_m,2)).mean() / ( np.sqrt( np.power(res_i,2).mean() ) *  np.power(res_m,2).mean())\n"
     ]
    },
    {
     "name": "stdout",
     "output_type": "stream",
     "text": [
      "600648.SH\n"
     ]
    },
    {
     "name": "stderr",
     "output_type": "stream",
     "text": [
      "<ipython-input-240-1ac76a73e39a>:11: RuntimeWarning: invalid value encountered in double_scalars\n",
      "  coskew = (res_i*np.power(res_m,2)).mean() / ( np.sqrt( np.power(res_i,2).mean() ) *  np.power(res_m,2).mean())\n",
      "<ipython-input-240-1ac76a73e39a>:11: RuntimeWarning: invalid value encountered in double_scalars\n",
      "  coskew = (res_i*np.power(res_m,2)).mean() / ( np.sqrt( np.power(res_i,2).mean() ) *  np.power(res_m,2).mean())\n"
     ]
    },
    {
     "name": "stdout",
     "output_type": "stream",
     "text": [
      "600649.SH\n",
      "600650.SH\n",
      "600651.SH\n",
      "600652.SH\n",
      "600653.SH\n"
     ]
    },
    {
     "name": "stderr",
     "output_type": "stream",
     "text": [
      "<ipython-input-240-1ac76a73e39a>:11: RuntimeWarning: invalid value encountered in double_scalars\n",
      "  coskew = (res_i*np.power(res_m,2)).mean() / ( np.sqrt( np.power(res_i,2).mean() ) *  np.power(res_m,2).mean())\n"
     ]
    },
    {
     "name": "stdout",
     "output_type": "stream",
     "text": [
      "600654.SH\n"
     ]
    },
    {
     "name": "stderr",
     "output_type": "stream",
     "text": [
      "<ipython-input-240-1ac76a73e39a>:11: RuntimeWarning: invalid value encountered in double_scalars\n",
      "  coskew = (res_i*np.power(res_m,2)).mean() / ( np.sqrt( np.power(res_i,2).mean() ) *  np.power(res_m,2).mean())\n"
     ]
    },
    {
     "name": "stdout",
     "output_type": "stream",
     "text": [
      "600655.SH\n"
     ]
    },
    {
     "name": "stderr",
     "output_type": "stream",
     "text": [
      "<ipython-input-240-1ac76a73e39a>:11: RuntimeWarning: invalid value encountered in double_scalars\n",
      "  coskew = (res_i*np.power(res_m,2)).mean() / ( np.sqrt( np.power(res_i,2).mean() ) *  np.power(res_m,2).mean())\n"
     ]
    },
    {
     "name": "stdout",
     "output_type": "stream",
     "text": [
      "600656.SH\n",
      "600657.SH\n",
      "600658.SH\n",
      "600659.SH\n",
      "600660.SH\n",
      "600661.SH\n",
      "600662.SH\n"
     ]
    },
    {
     "name": "stderr",
     "output_type": "stream",
     "text": [
      "<ipython-input-240-1ac76a73e39a>:11: RuntimeWarning: invalid value encountered in double_scalars\n",
      "  coskew = (res_i*np.power(res_m,2)).mean() / ( np.sqrt( np.power(res_i,2).mean() ) *  np.power(res_m,2).mean())\n"
     ]
    },
    {
     "name": "stdout",
     "output_type": "stream",
     "text": [
      "600663.SH\n"
     ]
    },
    {
     "name": "stderr",
     "output_type": "stream",
     "text": [
      "<ipython-input-240-1ac76a73e39a>:11: RuntimeWarning: invalid value encountered in double_scalars\n",
      "  coskew = (res_i*np.power(res_m,2)).mean() / ( np.sqrt( np.power(res_i,2).mean() ) *  np.power(res_m,2).mean())\n"
     ]
    },
    {
     "name": "stdout",
     "output_type": "stream",
     "text": [
      "600664.SH\n"
     ]
    },
    {
     "name": "stderr",
     "output_type": "stream",
     "text": [
      "<ipython-input-240-1ac76a73e39a>:11: RuntimeWarning: invalid value encountered in double_scalars\n",
      "  coskew = (res_i*np.power(res_m,2)).mean() / ( np.sqrt( np.power(res_i,2).mean() ) *  np.power(res_m,2).mean())\n"
     ]
    },
    {
     "name": "stdout",
     "output_type": "stream",
     "text": [
      "600665.SH\n",
      "600666.SH\n"
     ]
    },
    {
     "name": "stderr",
     "output_type": "stream",
     "text": [
      "<ipython-input-240-1ac76a73e39a>:11: RuntimeWarning: invalid value encountered in double_scalars\n",
      "  coskew = (res_i*np.power(res_m,2)).mean() / ( np.sqrt( np.power(res_i,2).mean() ) *  np.power(res_m,2).mean())\n"
     ]
    },
    {
     "name": "stdout",
     "output_type": "stream",
     "text": [
      "600667.SH\n",
      "600668.SH\n",
      "600669.SH\n",
      "600670.SH\n",
      "600671.SH\n",
      "600672.SH\n",
      "600673.SH\n",
      "600674.SH\n"
     ]
    },
    {
     "name": "stderr",
     "output_type": "stream",
     "text": [
      "<ipython-input-240-1ac76a73e39a>:11: RuntimeWarning: invalid value encountered in double_scalars\n",
      "  coskew = (res_i*np.power(res_m,2)).mean() / ( np.sqrt( np.power(res_i,2).mean() ) *  np.power(res_m,2).mean())\n"
     ]
    },
    {
     "name": "stdout",
     "output_type": "stream",
     "text": [
      "600675.SH\n"
     ]
    },
    {
     "name": "stderr",
     "output_type": "stream",
     "text": [
      "<ipython-input-240-1ac76a73e39a>:11: RuntimeWarning: invalid value encountered in double_scalars\n",
      "  coskew = (res_i*np.power(res_m,2)).mean() / ( np.sqrt( np.power(res_i,2).mean() ) *  np.power(res_m,2).mean())\n"
     ]
    },
    {
     "name": "stdout",
     "output_type": "stream",
     "text": [
      "600676.SH\n",
      "600677.SH\n",
      "600678.SH\n",
      "600679.SH\n"
     ]
    },
    {
     "name": "stderr",
     "output_type": "stream",
     "text": [
      "<ipython-input-240-1ac76a73e39a>:11: RuntimeWarning: invalid value encountered in double_scalars\n",
      "  coskew = (res_i*np.power(res_m,2)).mean() / ( np.sqrt( np.power(res_i,2).mean() ) *  np.power(res_m,2).mean())\n"
     ]
    },
    {
     "name": "stdout",
     "output_type": "stream",
     "text": [
      "600680.SH\n",
      "600681.SH\n"
     ]
    },
    {
     "name": "stderr",
     "output_type": "stream",
     "text": [
      "<ipython-input-240-1ac76a73e39a>:11: RuntimeWarning: invalid value encountered in double_scalars\n",
      "  coskew = (res_i*np.power(res_m,2)).mean() / ( np.sqrt( np.power(res_i,2).mean() ) *  np.power(res_m,2).mean())\n"
     ]
    },
    {
     "name": "stdout",
     "output_type": "stream",
     "text": [
      "600682.SH\n",
      "600683.SH\n",
      "600684.SH\n",
      "600685.SH\n",
      "600686.SH\n",
      "600687.SH\n",
      "600688.SH\n",
      "600689.SH\n",
      "600690.SH\n"
     ]
    },
    {
     "name": "stderr",
     "output_type": "stream",
     "text": [
      "<ipython-input-240-1ac76a73e39a>:11: RuntimeWarning: invalid value encountered in double_scalars\n",
      "  coskew = (res_i*np.power(res_m,2)).mean() / ( np.sqrt( np.power(res_i,2).mean() ) *  np.power(res_m,2).mean())\n"
     ]
    },
    {
     "name": "stdout",
     "output_type": "stream",
     "text": [
      "600691.SH\n"
     ]
    },
    {
     "name": "stderr",
     "output_type": "stream",
     "text": [
      "<ipython-input-240-1ac76a73e39a>:11: RuntimeWarning: invalid value encountered in double_scalars\n",
      "  coskew = (res_i*np.power(res_m,2)).mean() / ( np.sqrt( np.power(res_i,2).mean() ) *  np.power(res_m,2).mean())\n"
     ]
    },
    {
     "name": "stdout",
     "output_type": "stream",
     "text": [
      "600692.SH\n",
      "600693.SH\n",
      "600694.SH\n",
      "600695.SH\n",
      "600696.SH\n",
      "600697.SH\n",
      "600698.SH\n"
     ]
    },
    {
     "name": "stderr",
     "output_type": "stream",
     "text": [
      "<ipython-input-240-1ac76a73e39a>:11: RuntimeWarning: invalid value encountered in double_scalars\n",
      "  coskew = (res_i*np.power(res_m,2)).mean() / ( np.sqrt( np.power(res_i,2).mean() ) *  np.power(res_m,2).mean())\n",
      "<ipython-input-240-1ac76a73e39a>:11: RuntimeWarning: invalid value encountered in double_scalars\n",
      "  coskew = (res_i*np.power(res_m,2)).mean() / ( np.sqrt( np.power(res_i,2).mean() ) *  np.power(res_m,2).mean())\n"
     ]
    },
    {
     "name": "stdout",
     "output_type": "stream",
     "text": [
      "600699.SH\n",
      "600700.SH\n",
      "600701.SH\n",
      "600702.SH\n",
      "600703.SH\n",
      "600704.SH\n",
      "600705.SH\n",
      "600706.SH\n",
      "600707.SH\n",
      "600708.SH\n",
      "600709.SH\n"
     ]
    },
    {
     "name": "stderr",
     "output_type": "stream",
     "text": [
      "<ipython-input-240-1ac76a73e39a>:11: RuntimeWarning: invalid value encountered in double_scalars\n",
      "  coskew = (res_i*np.power(res_m,2)).mean() / ( np.sqrt( np.power(res_i,2).mean() ) *  np.power(res_m,2).mean())\n"
     ]
    },
    {
     "name": "stdout",
     "output_type": "stream",
     "text": [
      "600710.SH\n"
     ]
    },
    {
     "name": "stderr",
     "output_type": "stream",
     "text": [
      "<ipython-input-240-1ac76a73e39a>:11: RuntimeWarning: invalid value encountered in double_scalars\n",
      "  coskew = (res_i*np.power(res_m,2)).mean() / ( np.sqrt( np.power(res_i,2).mean() ) *  np.power(res_m,2).mean())\n"
     ]
    },
    {
     "name": "stdout",
     "output_type": "stream",
     "text": [
      "600711.SH\n",
      "600712.SH\n",
      "600713.SH\n"
     ]
    },
    {
     "name": "stderr",
     "output_type": "stream",
     "text": [
      "<ipython-input-240-1ac76a73e39a>:11: RuntimeWarning: invalid value encountered in double_scalars\n",
      "  coskew = (res_i*np.power(res_m,2)).mean() / ( np.sqrt( np.power(res_i,2).mean() ) *  np.power(res_m,2).mean())\n"
     ]
    },
    {
     "name": "stdout",
     "output_type": "stream",
     "text": [
      "600714.SH\n",
      "600715.SH\n",
      "600716.SH\n",
      "600717.SH\n",
      "600718.SH\n",
      "600719.SH\n",
      "600720.SH\n"
     ]
    },
    {
     "name": "stderr",
     "output_type": "stream",
     "text": [
      "<ipython-input-240-1ac76a73e39a>:11: RuntimeWarning: invalid value encountered in double_scalars\n",
      "  coskew = (res_i*np.power(res_m,2)).mean() / ( np.sqrt( np.power(res_i,2).mean() ) *  np.power(res_m,2).mean())\n"
     ]
    },
    {
     "name": "stdout",
     "output_type": "stream",
     "text": [
      "600721.SH\n"
     ]
    },
    {
     "name": "stderr",
     "output_type": "stream",
     "text": [
      "<ipython-input-240-1ac76a73e39a>:11: RuntimeWarning: invalid value encountered in double_scalars\n",
      "  coskew = (res_i*np.power(res_m,2)).mean() / ( np.sqrt( np.power(res_i,2).mean() ) *  np.power(res_m,2).mean())\n"
     ]
    },
    {
     "name": "stdout",
     "output_type": "stream",
     "text": [
      "600722.SH\n",
      "600723.SH\n"
     ]
    },
    {
     "name": "stderr",
     "output_type": "stream",
     "text": [
      "<ipython-input-240-1ac76a73e39a>:11: RuntimeWarning: invalid value encountered in double_scalars\n",
      "  coskew = (res_i*np.power(res_m,2)).mean() / ( np.sqrt( np.power(res_i,2).mean() ) *  np.power(res_m,2).mean())\n"
     ]
    },
    {
     "name": "stdout",
     "output_type": "stream",
     "text": [
      "600724.SH\n",
      "600725.SH\n",
      "600726.SH\n"
     ]
    },
    {
     "name": "stderr",
     "output_type": "stream",
     "text": [
      "<ipython-input-240-1ac76a73e39a>:11: RuntimeWarning: invalid value encountered in double_scalars\n",
      "  coskew = (res_i*np.power(res_m,2)).mean() / ( np.sqrt( np.power(res_i,2).mean() ) *  np.power(res_m,2).mean())\n"
     ]
    },
    {
     "name": "stdout",
     "output_type": "stream",
     "text": [
      "600727.SH\n",
      "600728.SH\n"
     ]
    },
    {
     "name": "stderr",
     "output_type": "stream",
     "text": [
      "<ipython-input-240-1ac76a73e39a>:11: RuntimeWarning: invalid value encountered in double_scalars\n",
      "  coskew = (res_i*np.power(res_m,2)).mean() / ( np.sqrt( np.power(res_i,2).mean() ) *  np.power(res_m,2).mean())\n",
      "<ipython-input-240-1ac76a73e39a>:11: RuntimeWarning: invalid value encountered in double_scalars\n",
      "  coskew = (res_i*np.power(res_m,2)).mean() / ( np.sqrt( np.power(res_i,2).mean() ) *  np.power(res_m,2).mean())\n"
     ]
    },
    {
     "name": "stdout",
     "output_type": "stream",
     "text": [
      "600729.SH\n",
      "600730.SH\n",
      "600731.SH\n",
      "600732.SH\n"
     ]
    },
    {
     "name": "stderr",
     "output_type": "stream",
     "text": [
      "<ipython-input-240-1ac76a73e39a>:11: RuntimeWarning: invalid value encountered in double_scalars\n",
      "  coskew = (res_i*np.power(res_m,2)).mean() / ( np.sqrt( np.power(res_i,2).mean() ) *  np.power(res_m,2).mean())\n"
     ]
    },
    {
     "name": "stdout",
     "output_type": "stream",
     "text": [
      "600733.SH\n"
     ]
    },
    {
     "name": "stderr",
     "output_type": "stream",
     "text": [
      "<ipython-input-240-1ac76a73e39a>:11: RuntimeWarning: invalid value encountered in double_scalars\n",
      "  coskew = (res_i*np.power(res_m,2)).mean() / ( np.sqrt( np.power(res_i,2).mean() ) *  np.power(res_m,2).mean())\n"
     ]
    },
    {
     "name": "stdout",
     "output_type": "stream",
     "text": [
      "600734.SH\n"
     ]
    },
    {
     "name": "stderr",
     "output_type": "stream",
     "text": [
      "<ipython-input-240-1ac76a73e39a>:11: RuntimeWarning: invalid value encountered in double_scalars\n",
      "  coskew = (res_i*np.power(res_m,2)).mean() / ( np.sqrt( np.power(res_i,2).mean() ) *  np.power(res_m,2).mean())\n"
     ]
    },
    {
     "name": "stdout",
     "output_type": "stream",
     "text": [
      "600735.SH\n",
      "600736.SH\n",
      "600737.SH\n",
      "600738.SH\n",
      "600739.SH\n",
      "600740.SH\n",
      "600741.SH\n",
      "600742.SH\n",
      "600743.SH\n",
      "600744.SH\n"
     ]
    },
    {
     "name": "stderr",
     "output_type": "stream",
     "text": [
      "<ipython-input-240-1ac76a73e39a>:11: RuntimeWarning: invalid value encountered in double_scalars\n",
      "  coskew = (res_i*np.power(res_m,2)).mean() / ( np.sqrt( np.power(res_i,2).mean() ) *  np.power(res_m,2).mean())\n"
     ]
    },
    {
     "name": "stdout",
     "output_type": "stream",
     "text": [
      "600745.SH\n",
      "600746.SH\n"
     ]
    },
    {
     "name": "stderr",
     "output_type": "stream",
     "text": [
      "<ipython-input-240-1ac76a73e39a>:11: RuntimeWarning: invalid value encountered in double_scalars\n",
      "  coskew = (res_i*np.power(res_m,2)).mean() / ( np.sqrt( np.power(res_i,2).mean() ) *  np.power(res_m,2).mean())\n"
     ]
    },
    {
     "name": "stdout",
     "output_type": "stream",
     "text": [
      "600747.SH\n",
      "600748.SH\n",
      "600749.SH\n",
      "600750.SH\n"
     ]
    },
    {
     "name": "stderr",
     "output_type": "stream",
     "text": [
      "<ipython-input-240-1ac76a73e39a>:11: RuntimeWarning: invalid value encountered in double_scalars\n",
      "  coskew = (res_i*np.power(res_m,2)).mean() / ( np.sqrt( np.power(res_i,2).mean() ) *  np.power(res_m,2).mean())\n",
      "<ipython-input-240-1ac76a73e39a>:11: RuntimeWarning: invalid value encountered in double_scalars\n",
      "  coskew = (res_i*np.power(res_m,2)).mean() / ( np.sqrt( np.power(res_i,2).mean() ) *  np.power(res_m,2).mean())\n"
     ]
    },
    {
     "name": "stdout",
     "output_type": "stream",
     "text": [
      "600751.SH\n",
      "600752.SH\n"
     ]
    },
    {
     "name": "stderr",
     "output_type": "stream",
     "text": [
      "<ipython-input-240-1ac76a73e39a>:11: RuntimeWarning: invalid value encountered in double_scalars\n",
      "  coskew = (res_i*np.power(res_m,2)).mean() / ( np.sqrt( np.power(res_i,2).mean() ) *  np.power(res_m,2).mean())\n"
     ]
    },
    {
     "name": "stdout",
     "output_type": "stream",
     "text": [
      "600753.SH\n",
      "600754.SH\n",
      "600755.SH\n",
      "600756.SH\n"
     ]
    },
    {
     "name": "stderr",
     "output_type": "stream",
     "text": [
      "<ipython-input-240-1ac76a73e39a>:11: RuntimeWarning: invalid value encountered in double_scalars\n",
      "  coskew = (res_i*np.power(res_m,2)).mean() / ( np.sqrt( np.power(res_i,2).mean() ) *  np.power(res_m,2).mean())\n"
     ]
    },
    {
     "name": "stdout",
     "output_type": "stream",
     "text": [
      "600757.SH\n",
      "600758.SH\n",
      "600759.SH\n"
     ]
    },
    {
     "name": "stderr",
     "output_type": "stream",
     "text": [
      "<ipython-input-240-1ac76a73e39a>:11: RuntimeWarning: invalid value encountered in double_scalars\n",
      "  coskew = (res_i*np.power(res_m,2)).mean() / ( np.sqrt( np.power(res_i,2).mean() ) *  np.power(res_m,2).mean())\n"
     ]
    },
    {
     "name": "stdout",
     "output_type": "stream",
     "text": [
      "600760.SH\n",
      "600761.SH\n",
      "600762.SH\n"
     ]
    },
    {
     "name": "stderr",
     "output_type": "stream",
     "text": [
      "<ipython-input-240-1ac76a73e39a>:11: RuntimeWarning: invalid value encountered in double_scalars\n",
      "  coskew = (res_i*np.power(res_m,2)).mean() / ( np.sqrt( np.power(res_i,2).mean() ) *  np.power(res_m,2).mean())\n"
     ]
    },
    {
     "name": "stdout",
     "output_type": "stream",
     "text": [
      "600763.SH\n"
     ]
    },
    {
     "name": "stderr",
     "output_type": "stream",
     "text": [
      "<ipython-input-240-1ac76a73e39a>:11: RuntimeWarning: invalid value encountered in double_scalars\n",
      "  coskew = (res_i*np.power(res_m,2)).mean() / ( np.sqrt( np.power(res_i,2).mean() ) *  np.power(res_m,2).mean())\n"
     ]
    },
    {
     "name": "stdout",
     "output_type": "stream",
     "text": [
      "600764.SH\n"
     ]
    },
    {
     "name": "stderr",
     "output_type": "stream",
     "text": [
      "<ipython-input-240-1ac76a73e39a>:11: RuntimeWarning: invalid value encountered in double_scalars\n",
      "  coskew = (res_i*np.power(res_m,2)).mean() / ( np.sqrt( np.power(res_i,2).mean() ) *  np.power(res_m,2).mean())\n",
      "<ipython-input-240-1ac76a73e39a>:11: RuntimeWarning: invalid value encountered in double_scalars\n",
      "  coskew = (res_i*np.power(res_m,2)).mean() / ( np.sqrt( np.power(res_i,2).mean() ) *  np.power(res_m,2).mean())\n"
     ]
    },
    {
     "name": "stdout",
     "output_type": "stream",
     "text": [
      "600765.SH\n",
      "600766.SH\n",
      "600767.SH\n",
      "600768.SH\n"
     ]
    },
    {
     "name": "stderr",
     "output_type": "stream",
     "text": [
      "<ipython-input-240-1ac76a73e39a>:11: RuntimeWarning: invalid value encountered in double_scalars\n",
      "  coskew = (res_i*np.power(res_m,2)).mean() / ( np.sqrt( np.power(res_i,2).mean() ) *  np.power(res_m,2).mean())\n"
     ]
    },
    {
     "name": "stdout",
     "output_type": "stream",
     "text": [
      "600769.SH\n",
      "600770.SH\n",
      "600771.SH\n",
      "600772.SH\n",
      "600773.SH\n",
      "600774.SH\n",
      "600775.SH\n",
      "600776.SH\n",
      "600777.SH\n"
     ]
    },
    {
     "name": "stderr",
     "output_type": "stream",
     "text": [
      "<ipython-input-240-1ac76a73e39a>:11: RuntimeWarning: invalid value encountered in double_scalars\n",
      "  coskew = (res_i*np.power(res_m,2)).mean() / ( np.sqrt( np.power(res_i,2).mean() ) *  np.power(res_m,2).mean())\n"
     ]
    },
    {
     "name": "stdout",
     "output_type": "stream",
     "text": [
      "600778.SH\n",
      "600779.SH\n",
      "600780.SH\n",
      "600781.SH\n"
     ]
    },
    {
     "name": "stderr",
     "output_type": "stream",
     "text": [
      "<ipython-input-240-1ac76a73e39a>:11: RuntimeWarning: invalid value encountered in double_scalars\n",
      "  coskew = (res_i*np.power(res_m,2)).mean() / ( np.sqrt( np.power(res_i,2).mean() ) *  np.power(res_m,2).mean())\n"
     ]
    },
    {
     "name": "stdout",
     "output_type": "stream",
     "text": [
      "600782.SH\n",
      "600783.SH\n",
      "600784.SH\n",
      "600785.SH\n",
      "600786.SH\n",
      "600787.SH\n",
      "600788.SH\n"
     ]
    },
    {
     "name": "stderr",
     "output_type": "stream",
     "text": [
      "<ipython-input-240-1ac76a73e39a>:11: RuntimeWarning: invalid value encountered in double_scalars\n",
      "  coskew = (res_i*np.power(res_m,2)).mean() / ( np.sqrt( np.power(res_i,2).mean() ) *  np.power(res_m,2).mean())\n"
     ]
    },
    {
     "name": "stdout",
     "output_type": "stream",
     "text": [
      "600789.SH\n"
     ]
    },
    {
     "name": "stderr",
     "output_type": "stream",
     "text": [
      "<ipython-input-240-1ac76a73e39a>:11: RuntimeWarning: invalid value encountered in double_scalars\n",
      "  coskew = (res_i*np.power(res_m,2)).mean() / ( np.sqrt( np.power(res_i,2).mean() ) *  np.power(res_m,2).mean())\n"
     ]
    },
    {
     "name": "stdout",
     "output_type": "stream",
     "text": [
      "600790.SH\n",
      "600791.SH\n"
     ]
    },
    {
     "name": "stderr",
     "output_type": "stream",
     "text": [
      "<ipython-input-240-1ac76a73e39a>:11: RuntimeWarning: invalid value encountered in double_scalars\n",
      "  coskew = (res_i*np.power(res_m,2)).mean() / ( np.sqrt( np.power(res_i,2).mean() ) *  np.power(res_m,2).mean())\n"
     ]
    },
    {
     "name": "stdout",
     "output_type": "stream",
     "text": [
      "600792.SH\n",
      "600793.SH\n",
      "600794.SH\n",
      "600795.SH\n"
     ]
    },
    {
     "name": "stderr",
     "output_type": "stream",
     "text": [
      "<ipython-input-240-1ac76a73e39a>:11: RuntimeWarning: invalid value encountered in double_scalars\n",
      "  coskew = (res_i*np.power(res_m,2)).mean() / ( np.sqrt( np.power(res_i,2).mean() ) *  np.power(res_m,2).mean())\n"
     ]
    },
    {
     "name": "stdout",
     "output_type": "stream",
     "text": [
      "600796.SH\n",
      "600797.SH\n",
      "600798.SH\n",
      "600799.SH\n",
      "600800.SH\n",
      "600801.SH\n",
      "600802.SH\n",
      "600803.SH\n",
      "600804.SH\n",
      "600805.SH\n"
     ]
    },
    {
     "name": "stderr",
     "output_type": "stream",
     "text": [
      "<ipython-input-240-1ac76a73e39a>:11: RuntimeWarning: invalid value encountered in double_scalars\n",
      "  coskew = (res_i*np.power(res_m,2)).mean() / ( np.sqrt( np.power(res_i,2).mean() ) *  np.power(res_m,2).mean())\n"
     ]
    },
    {
     "name": "stdout",
     "output_type": "stream",
     "text": [
      "600806.SH\n"
     ]
    },
    {
     "name": "stderr",
     "output_type": "stream",
     "text": [
      "<ipython-input-240-1ac76a73e39a>:11: RuntimeWarning: invalid value encountered in double_scalars\n",
      "  coskew = (res_i*np.power(res_m,2)).mean() / ( np.sqrt( np.power(res_i,2).mean() ) *  np.power(res_m,2).mean())\n"
     ]
    },
    {
     "name": "stdout",
     "output_type": "stream",
     "text": [
      "600807.SH\n"
     ]
    },
    {
     "name": "stderr",
     "output_type": "stream",
     "text": [
      "<ipython-input-240-1ac76a73e39a>:11: RuntimeWarning: invalid value encountered in double_scalars\n",
      "  coskew = (res_i*np.power(res_m,2)).mean() / ( np.sqrt( np.power(res_i,2).mean() ) *  np.power(res_m,2).mean())\n"
     ]
    },
    {
     "name": "stdout",
     "output_type": "stream",
     "text": [
      "600808.SH\n",
      "600809.SH\n",
      "600810.SH\n",
      "600811.SH\n",
      "600812.SH\n",
      "600813.SH\n",
      "600814.SH\n",
      "600815.SH\n"
     ]
    },
    {
     "name": "stderr",
     "output_type": "stream",
     "text": [
      "<ipython-input-240-1ac76a73e39a>:11: RuntimeWarning: invalid value encountered in double_scalars\n",
      "  coskew = (res_i*np.power(res_m,2)).mean() / ( np.sqrt( np.power(res_i,2).mean() ) *  np.power(res_m,2).mean())\n",
      "<ipython-input-240-1ac76a73e39a>:11: RuntimeWarning: invalid value encountered in double_scalars\n",
      "  coskew = (res_i*np.power(res_m,2)).mean() / ( np.sqrt( np.power(res_i,2).mean() ) *  np.power(res_m,2).mean())\n"
     ]
    },
    {
     "name": "stdout",
     "output_type": "stream",
     "text": [
      "600816.SH\n",
      "600817.SH\n"
     ]
    },
    {
     "name": "stderr",
     "output_type": "stream",
     "text": [
      "<ipython-input-240-1ac76a73e39a>:11: RuntimeWarning: invalid value encountered in double_scalars\n",
      "  coskew = (res_i*np.power(res_m,2)).mean() / ( np.sqrt( np.power(res_i,2).mean() ) *  np.power(res_m,2).mean())\n"
     ]
    },
    {
     "name": "stdout",
     "output_type": "stream",
     "text": [
      "600818.SH\n",
      "600819.SH\n",
      "600820.SH\n",
      "600821.SH\n",
      "600822.SH\n",
      "600823.SH\n",
      "600824.SH\n"
     ]
    },
    {
     "name": "stderr",
     "output_type": "stream",
     "text": [
      "<ipython-input-240-1ac76a73e39a>:11: RuntimeWarning: invalid value encountered in double_scalars\n",
      "  coskew = (res_i*np.power(res_m,2)).mean() / ( np.sqrt( np.power(res_i,2).mean() ) *  np.power(res_m,2).mean())\n"
     ]
    },
    {
     "name": "stdout",
     "output_type": "stream",
     "text": [
      "600825.SH\n",
      "600826.SH\n",
      "600827.SH\n",
      "600828.SH\n",
      "600829.SH\n",
      "600830.SH\n",
      "600831.SH\n",
      "600832.SH\n",
      "600833.SH\n",
      "600834.SH\n",
      "600835.SH\n",
      "600836.SH\n",
      "600837.SH\n",
      "600838.SH\n",
      "600839.SH\n",
      "600840.SH\n",
      "600841.SH\n",
      "600842.SH\n",
      "600843.SH\n",
      "600844.SH\n",
      "600845.SH\n",
      "600846.SH\n"
     ]
    },
    {
     "name": "stderr",
     "output_type": "stream",
     "text": [
      "<ipython-input-240-1ac76a73e39a>:11: RuntimeWarning: invalid value encountered in double_scalars\n",
      "  coskew = (res_i*np.power(res_m,2)).mean() / ( np.sqrt( np.power(res_i,2).mean() ) *  np.power(res_m,2).mean())\n"
     ]
    },
    {
     "name": "stdout",
     "output_type": "stream",
     "text": [
      "600847.SH\n",
      "600848.SH\n",
      "600850.SH\n",
      "600851.SH\n",
      "600852.SH\n"
     ]
    },
    {
     "name": "stderr",
     "output_type": "stream",
     "text": [
      "<ipython-input-240-1ac76a73e39a>:11: RuntimeWarning: invalid value encountered in double_scalars\n",
      "  coskew = (res_i*np.power(res_m,2)).mean() / ( np.sqrt( np.power(res_i,2).mean() ) *  np.power(res_m,2).mean())\n"
     ]
    },
    {
     "name": "stdout",
     "output_type": "stream",
     "text": [
      "600853.SH\n",
      "600854.SH\n"
     ]
    },
    {
     "name": "stderr",
     "output_type": "stream",
     "text": [
      "<ipython-input-240-1ac76a73e39a>:11: RuntimeWarning: invalid value encountered in double_scalars\n",
      "  coskew = (res_i*np.power(res_m,2)).mean() / ( np.sqrt( np.power(res_i,2).mean() ) *  np.power(res_m,2).mean())\n",
      "<ipython-input-240-1ac76a73e39a>:11: RuntimeWarning: invalid value encountered in double_scalars\n",
      "  coskew = (res_i*np.power(res_m,2)).mean() / ( np.sqrt( np.power(res_i,2).mean() ) *  np.power(res_m,2).mean())\n"
     ]
    },
    {
     "name": "stdout",
     "output_type": "stream",
     "text": [
      "600855.SH\n",
      "600856.SH\n",
      "600857.SH\n",
      "600858.SH\n",
      "600859.SH\n",
      "600860.SH\n",
      "600861.SH\n",
      "600862.SH\n",
      "600863.SH\n"
     ]
    },
    {
     "name": "stderr",
     "output_type": "stream",
     "text": [
      "<ipython-input-240-1ac76a73e39a>:11: RuntimeWarning: invalid value encountered in double_scalars\n",
      "  coskew = (res_i*np.power(res_m,2)).mean() / ( np.sqrt( np.power(res_i,2).mean() ) *  np.power(res_m,2).mean())\n"
     ]
    },
    {
     "name": "stdout",
     "output_type": "stream",
     "text": [
      "600864.SH\n",
      "600865.SH\n",
      "600866.SH\n",
      "600867.SH\n",
      "600868.SH\n"
     ]
    },
    {
     "name": "stderr",
     "output_type": "stream",
     "text": [
      "<ipython-input-240-1ac76a73e39a>:11: RuntimeWarning: invalid value encountered in double_scalars\n",
      "  coskew = (res_i*np.power(res_m,2)).mean() / ( np.sqrt( np.power(res_i,2).mean() ) *  np.power(res_m,2).mean())\n"
     ]
    },
    {
     "name": "stdout",
     "output_type": "stream",
     "text": [
      "600869.SH\n",
      "600870.SH\n",
      "600871.SH\n",
      "600872.SH\n",
      "600873.SH\n",
      "600874.SH\n",
      "600875.SH\n",
      "600876.SH\n",
      "600877.SH\n",
      "600878.SH\n",
      "600879.SH\n"
     ]
    },
    {
     "name": "stderr",
     "output_type": "stream",
     "text": [
      "<ipython-input-240-1ac76a73e39a>:11: RuntimeWarning: invalid value encountered in double_scalars\n",
      "  coskew = (res_i*np.power(res_m,2)).mean() / ( np.sqrt( np.power(res_i,2).mean() ) *  np.power(res_m,2).mean())\n"
     ]
    },
    {
     "name": "stdout",
     "output_type": "stream",
     "text": [
      "600880.SH\n",
      "600881.SH\n"
     ]
    },
    {
     "name": "stderr",
     "output_type": "stream",
     "text": [
      "<ipython-input-240-1ac76a73e39a>:11: RuntimeWarning: invalid value encountered in double_scalars\n",
      "  coskew = (res_i*np.power(res_m,2)).mean() / ( np.sqrt( np.power(res_i,2).mean() ) *  np.power(res_m,2).mean())\n",
      "<ipython-input-240-1ac76a73e39a>:11: RuntimeWarning: invalid value encountered in double_scalars\n",
      "  coskew = (res_i*np.power(res_m,2)).mean() / ( np.sqrt( np.power(res_i,2).mean() ) *  np.power(res_m,2).mean())\n"
     ]
    },
    {
     "name": "stdout",
     "output_type": "stream",
     "text": [
      "600882.SH\n",
      "600883.SH\n",
      "600884.SH\n",
      "600885.SH\n",
      "600886.SH\n",
      "600887.SH\n",
      "600888.SH\n",
      "600889.SH\n"
     ]
    },
    {
     "name": "stderr",
     "output_type": "stream",
     "text": [
      "<ipython-input-240-1ac76a73e39a>:11: RuntimeWarning: invalid value encountered in double_scalars\n",
      "  coskew = (res_i*np.power(res_m,2)).mean() / ( np.sqrt( np.power(res_i,2).mean() ) *  np.power(res_m,2).mean())\n",
      "<ipython-input-240-1ac76a73e39a>:11: RuntimeWarning: invalid value encountered in double_scalars\n",
      "  coskew = (res_i*np.power(res_m,2)).mean() / ( np.sqrt( np.power(res_i,2).mean() ) *  np.power(res_m,2).mean())\n",
      "<ipython-input-240-1ac76a73e39a>:11: RuntimeWarning: invalid value encountered in double_scalars\n",
      "  coskew = (res_i*np.power(res_m,2)).mean() / ( np.sqrt( np.power(res_i,2).mean() ) *  np.power(res_m,2).mean())\n"
     ]
    },
    {
     "name": "stdout",
     "output_type": "stream",
     "text": [
      "600890.SH\n"
     ]
    },
    {
     "name": "stderr",
     "output_type": "stream",
     "text": [
      "<ipython-input-240-1ac76a73e39a>:11: RuntimeWarning: invalid value encountered in double_scalars\n",
      "  coskew = (res_i*np.power(res_m,2)).mean() / ( np.sqrt( np.power(res_i,2).mean() ) *  np.power(res_m,2).mean())\n"
     ]
    },
    {
     "name": "stdout",
     "output_type": "stream",
     "text": [
      "600891.SH\n"
     ]
    },
    {
     "name": "stderr",
     "output_type": "stream",
     "text": [
      "<ipython-input-240-1ac76a73e39a>:11: RuntimeWarning: invalid value encountered in double_scalars\n",
      "  coskew = (res_i*np.power(res_m,2)).mean() / ( np.sqrt( np.power(res_i,2).mean() ) *  np.power(res_m,2).mean())\n"
     ]
    },
    {
     "name": "stdout",
     "output_type": "stream",
     "text": [
      "600892.SH\n"
     ]
    },
    {
     "name": "stderr",
     "output_type": "stream",
     "text": [
      "<ipython-input-240-1ac76a73e39a>:11: RuntimeWarning: invalid value encountered in double_scalars\n",
      "  coskew = (res_i*np.power(res_m,2)).mean() / ( np.sqrt( np.power(res_i,2).mean() ) *  np.power(res_m,2).mean())\n",
      "<ipython-input-240-1ac76a73e39a>:11: RuntimeWarning: invalid value encountered in double_scalars\n",
      "  coskew = (res_i*np.power(res_m,2)).mean() / ( np.sqrt( np.power(res_i,2).mean() ) *  np.power(res_m,2).mean())\n"
     ]
    },
    {
     "name": "stdout",
     "output_type": "stream",
     "text": [
      "600893.SH\n",
      "600894.SH\n",
      "600895.SH\n",
      "600896.SH\n",
      "600897.SH\n",
      "600898.SH\n",
      "600899.SH\n",
      "600900.SH\n",
      "600901.SH\n",
      "600903.SH\n",
      "600908.SH\n",
      "600909.SH\n",
      "600917.SH\n",
      "600918.SH\n",
      "600919.SH\n",
      "600926.SH\n",
      "600928.SH\n",
      "600929.SH\n",
      "600933.SH\n",
      "600936.SH\n",
      "600939.SH\n",
      "600956.SH\n"
     ]
    },
    {
     "name": "stderr",
     "output_type": "stream",
     "text": [
      "<ipython-input-240-1ac76a73e39a>:11: RuntimeWarning: invalid value encountered in double_scalars\n",
      "  coskew = (res_i*np.power(res_m,2)).mean() / ( np.sqrt( np.power(res_i,2).mean() ) *  np.power(res_m,2).mean())\n"
     ]
    },
    {
     "name": "stdout",
     "output_type": "stream",
     "text": [
      "600958.SH\n",
      "600959.SH\n",
      "600960.SH\n"
     ]
    },
    {
     "name": "stderr",
     "output_type": "stream",
     "text": [
      "<ipython-input-240-1ac76a73e39a>:11: RuntimeWarning: invalid value encountered in double_scalars\n",
      "  coskew = (res_i*np.power(res_m,2)).mean() / ( np.sqrt( np.power(res_i,2).mean() ) *  np.power(res_m,2).mean())\n"
     ]
    },
    {
     "name": "stdout",
     "output_type": "stream",
     "text": [
      "600961.SH\n",
      "600962.SH\n",
      "600963.SH\n",
      "600965.SH\n"
     ]
    },
    {
     "name": "stderr",
     "output_type": "stream",
     "text": [
      "<ipython-input-240-1ac76a73e39a>:11: RuntimeWarning: invalid value encountered in double_scalars\n",
      "  coskew = (res_i*np.power(res_m,2)).mean() / ( np.sqrt( np.power(res_i,2).mean() ) *  np.power(res_m,2).mean())\n"
     ]
    },
    {
     "name": "stdout",
     "output_type": "stream",
     "text": [
      "600966.SH\n",
      "600967.SH\n",
      "600968.SH\n",
      "600969.SH\n",
      "600970.SH\n",
      "600971.SH\n"
     ]
    },
    {
     "name": "stderr",
     "output_type": "stream",
     "text": [
      "<ipython-input-240-1ac76a73e39a>:11: RuntimeWarning: invalid value encountered in double_scalars\n",
      "  coskew = (res_i*np.power(res_m,2)).mean() / ( np.sqrt( np.power(res_i,2).mean() ) *  np.power(res_m,2).mean())\n"
     ]
    },
    {
     "name": "stdout",
     "output_type": "stream",
     "text": [
      "600973.SH\n",
      "600975.SH\n",
      "600976.SH\n",
      "600977.SH\n",
      "600978.SH\n",
      "600979.SH\n",
      "600980.SH\n",
      "600981.SH\n",
      "600982.SH\n",
      "600983.SH\n"
     ]
    },
    {
     "name": "stderr",
     "output_type": "stream",
     "text": [
      "<ipython-input-240-1ac76a73e39a>:11: RuntimeWarning: invalid value encountered in double_scalars\n",
      "  coskew = (res_i*np.power(res_m,2)).mean() / ( np.sqrt( np.power(res_i,2).mean() ) *  np.power(res_m,2).mean())\n"
     ]
    },
    {
     "name": "stdout",
     "output_type": "stream",
     "text": [
      "600984.SH\n",
      "600985.SH\n",
      "600986.SH\n",
      "600987.SH\n"
     ]
    },
    {
     "name": "stderr",
     "output_type": "stream",
     "text": [
      "<ipython-input-240-1ac76a73e39a>:11: RuntimeWarning: invalid value encountered in double_scalars\n",
      "  coskew = (res_i*np.power(res_m,2)).mean() / ( np.sqrt( np.power(res_i,2).mean() ) *  np.power(res_m,2).mean())\n",
      "<ipython-input-240-1ac76a73e39a>:11: RuntimeWarning: invalid value encountered in double_scalars\n",
      "  coskew = (res_i*np.power(res_m,2)).mean() / ( np.sqrt( np.power(res_i,2).mean() ) *  np.power(res_m,2).mean())\n"
     ]
    },
    {
     "name": "stdout",
     "output_type": "stream",
     "text": [
      "600988.SH\n",
      "600989.SH\n",
      "600990.SH\n",
      "600991.SH\n",
      "600992.SH\n",
      "600993.SH\n",
      "600995.SH\n",
      "600996.SH\n",
      "600997.SH\n",
      "600998.SH\n",
      "600999.SH\n",
      "601000.SH\n",
      "601001.SH\n",
      "601002.SH\n"
     ]
    },
    {
     "name": "stderr",
     "output_type": "stream",
     "text": [
      "<ipython-input-240-1ac76a73e39a>:11: RuntimeWarning: invalid value encountered in double_scalars\n",
      "  coskew = (res_i*np.power(res_m,2)).mean() / ( np.sqrt( np.power(res_i,2).mean() ) *  np.power(res_m,2).mean())\n"
     ]
    },
    {
     "name": "stdout",
     "output_type": "stream",
     "text": [
      "601003.SH\n"
     ]
    },
    {
     "name": "stderr",
     "output_type": "stream",
     "text": [
      "<ipython-input-240-1ac76a73e39a>:11: RuntimeWarning: invalid value encountered in double_scalars\n",
      "  coskew = (res_i*np.power(res_m,2)).mean() / ( np.sqrt( np.power(res_i,2).mean() ) *  np.power(res_m,2).mean())\n",
      "<ipython-input-240-1ac76a73e39a>:11: RuntimeWarning: invalid value encountered in double_scalars\n",
      "  coskew = (res_i*np.power(res_m,2)).mean() / ( np.sqrt( np.power(res_i,2).mean() ) *  np.power(res_m,2).mean())\n"
     ]
    },
    {
     "name": "stdout",
     "output_type": "stream",
     "text": [
      "601005.SH\n",
      "601006.SH\n",
      "601007.SH\n",
      "601008.SH\n",
      "601009.SH\n",
      "601010.SH\n",
      "601011.SH\n",
      "601012.SH\n",
      "601015.SH\n"
     ]
    },
    {
     "name": "stderr",
     "output_type": "stream",
     "text": [
      "<ipython-input-240-1ac76a73e39a>:11: RuntimeWarning: invalid value encountered in double_scalars\n",
      "  coskew = (res_i*np.power(res_m,2)).mean() / ( np.sqrt( np.power(res_i,2).mean() ) *  np.power(res_m,2).mean())\n"
     ]
    },
    {
     "name": "stdout",
     "output_type": "stream",
     "text": [
      "601016.SH\n"
     ]
    },
    {
     "name": "stderr",
     "output_type": "stream",
     "text": [
      "<ipython-input-240-1ac76a73e39a>:11: RuntimeWarning: invalid value encountered in double_scalars\n",
      "  coskew = (res_i*np.power(res_m,2)).mean() / ( np.sqrt( np.power(res_i,2).mean() ) *  np.power(res_m,2).mean())\n"
     ]
    },
    {
     "name": "stdout",
     "output_type": "stream",
     "text": [
      "601018.SH\n",
      "601019.SH\n",
      "601020.SH\n",
      "601021.SH\n",
      "601028.SH\n",
      "601038.SH\n",
      "601058.SH\n",
      "601066.SH\n",
      "601068.SH\n",
      "601069.SH\n",
      "601077.SH\n",
      "601086.SH\n",
      "601088.SH\n"
     ]
    },
    {
     "name": "stderr",
     "output_type": "stream",
     "text": [
      "<ipython-input-240-1ac76a73e39a>:11: RuntimeWarning: invalid value encountered in double_scalars\n",
      "  coskew = (res_i*np.power(res_m,2)).mean() / ( np.sqrt( np.power(res_i,2).mean() ) *  np.power(res_m,2).mean())\n"
     ]
    },
    {
     "name": "stdout",
     "output_type": "stream",
     "text": [
      "601098.SH\n",
      "601099.SH\n"
     ]
    },
    {
     "name": "stderr",
     "output_type": "stream",
     "text": [
      "<ipython-input-240-1ac76a73e39a>:11: RuntimeWarning: invalid value encountered in double_scalars\n",
      "  coskew = (res_i*np.power(res_m,2)).mean() / ( np.sqrt( np.power(res_i,2).mean() ) *  np.power(res_m,2).mean())\n"
     ]
    },
    {
     "name": "stdout",
     "output_type": "stream",
     "text": [
      "601100.SH\n",
      "601101.SH\n",
      "601106.SH\n",
      "601107.SH\n",
      "601108.SH\n",
      "601111.SH\n",
      "601113.SH\n",
      "601116.SH\n",
      "601117.SH\n",
      "601118.SH\n",
      "601126.SH\n",
      "601127.SH\n",
      "601128.SH\n"
     ]
    },
    {
     "name": "stderr",
     "output_type": "stream",
     "text": [
      "<ipython-input-240-1ac76a73e39a>:11: RuntimeWarning: invalid value encountered in double_scalars\n",
      "  coskew = (res_i*np.power(res_m,2)).mean() / ( np.sqrt( np.power(res_i,2).mean() ) *  np.power(res_m,2).mean())\n"
     ]
    },
    {
     "name": "stdout",
     "output_type": "stream",
     "text": [
      "601137.SH\n",
      "601138.SH\n",
      "601139.SH\n",
      "601155.SH\n",
      "601158.SH\n",
      "601162.SH\n",
      "601163.SH\n",
      "601166.SH\n",
      "601168.SH\n"
     ]
    },
    {
     "name": "stderr",
     "output_type": "stream",
     "text": [
      "<ipython-input-240-1ac76a73e39a>:11: RuntimeWarning: invalid value encountered in double_scalars\n",
      "  coskew = (res_i*np.power(res_m,2)).mean() / ( np.sqrt( np.power(res_i,2).mean() ) *  np.power(res_m,2).mean())\n"
     ]
    },
    {
     "name": "stdout",
     "output_type": "stream",
     "text": [
      "601169.SH\n",
      "601177.SH\n"
     ]
    },
    {
     "name": "stderr",
     "output_type": "stream",
     "text": [
      "<ipython-input-240-1ac76a73e39a>:11: RuntimeWarning: invalid value encountered in double_scalars\n",
      "  coskew = (res_i*np.power(res_m,2)).mean() / ( np.sqrt( np.power(res_i,2).mean() ) *  np.power(res_m,2).mean())\n"
     ]
    },
    {
     "name": "stdout",
     "output_type": "stream",
     "text": [
      "601179.SH\n",
      "601186.SH\n",
      "601188.SH\n"
     ]
    },
    {
     "name": "stderr",
     "output_type": "stream",
     "text": [
      "<ipython-input-240-1ac76a73e39a>:11: RuntimeWarning: invalid value encountered in double_scalars\n",
      "  coskew = (res_i*np.power(res_m,2)).mean() / ( np.sqrt( np.power(res_i,2).mean() ) *  np.power(res_m,2).mean())\n"
     ]
    },
    {
     "name": "stdout",
     "output_type": "stream",
     "text": [
      "601198.SH\n",
      "601199.SH\n",
      "601200.SH\n",
      "601208.SH\n",
      "601211.SH\n",
      "601212.SH\n",
      "601216.SH\n",
      "601218.SH\n",
      "601222.SH\n",
      "601225.SH\n",
      "601226.SH\n",
      "601228.SH\n",
      "601229.SH\n",
      "601231.SH\n",
      "601233.SH\n",
      "601236.SH\n"
     ]
    },
    {
     "name": "stderr",
     "output_type": "stream",
     "text": [
      "<ipython-input-240-1ac76a73e39a>:11: RuntimeWarning: invalid value encountered in double_scalars\n",
      "  coskew = (res_i*np.power(res_m,2)).mean() / ( np.sqrt( np.power(res_i,2).mean() ) *  np.power(res_m,2).mean())\n"
     ]
    },
    {
     "name": "stdout",
     "output_type": "stream",
     "text": [
      "601238.SH\n"
     ]
    },
    {
     "name": "stderr",
     "output_type": "stream",
     "text": [
      "<ipython-input-240-1ac76a73e39a>:11: RuntimeWarning: invalid value encountered in double_scalars\n",
      "  coskew = (res_i*np.power(res_m,2)).mean() / ( np.sqrt( np.power(res_i,2).mean() ) *  np.power(res_m,2).mean())\n"
     ]
    },
    {
     "name": "stdout",
     "output_type": "stream",
     "text": [
      "601258.SH\n",
      "601268.SH\n",
      "601288.SH\n",
      "601298.SH\n"
     ]
    },
    {
     "name": "stderr",
     "output_type": "stream",
     "text": [
      "<ipython-input-240-1ac76a73e39a>:11: RuntimeWarning: invalid value encountered in double_scalars\n",
      "  coskew = (res_i*np.power(res_m,2)).mean() / ( np.sqrt( np.power(res_i,2).mean() ) *  np.power(res_m,2).mean())\n"
     ]
    },
    {
     "name": "stdout",
     "output_type": "stream",
     "text": [
      "601299.SH\n",
      "601311.SH\n",
      "601318.SH\n",
      "601319.SH\n",
      "601326.SH\n",
      "601328.SH\n",
      "601330.SH\n",
      "601333.SH\n",
      "601336.SH\n",
      "601339.SH\n",
      "601360.SH\n",
      "601366.SH\n",
      "601368.SH\n",
      "601369.SH\n",
      "601375.SH\n",
      "601377.SH\n",
      "601388.SH\n",
      "601390.SH\n",
      "601398.SH\n",
      "601399.SH\n",
      "601456.SH\n",
      "601500.SH\n",
      "601512.SH\n",
      "601515.SH\n",
      "601518.SH\n"
     ]
    },
    {
     "name": "stderr",
     "output_type": "stream",
     "text": [
      "<ipython-input-240-1ac76a73e39a>:11: RuntimeWarning: invalid value encountered in double_scalars\n",
      "  coskew = (res_i*np.power(res_m,2)).mean() / ( np.sqrt( np.power(res_i,2).mean() ) *  np.power(res_m,2).mean())\n"
     ]
    },
    {
     "name": "stdout",
     "output_type": "stream",
     "text": [
      "601519.SH\n",
      "601555.SH\n",
      "601558.SH\n"
     ]
    },
    {
     "name": "stderr",
     "output_type": "stream",
     "text": [
      "<ipython-input-240-1ac76a73e39a>:11: RuntimeWarning: invalid value encountered in double_scalars\n",
      "  coskew = (res_i*np.power(res_m,2)).mean() / ( np.sqrt( np.power(res_i,2).mean() ) *  np.power(res_m,2).mean())\n"
     ]
    },
    {
     "name": "stdout",
     "output_type": "stream",
     "text": [
      "601566.SH\n"
     ]
    },
    {
     "name": "stderr",
     "output_type": "stream",
     "text": [
      "<ipython-input-240-1ac76a73e39a>:11: RuntimeWarning: invalid value encountered in double_scalars\n",
      "  coskew = (res_i*np.power(res_m,2)).mean() / ( np.sqrt( np.power(res_i,2).mean() ) *  np.power(res_m,2).mean())\n",
      "<ipython-input-240-1ac76a73e39a>:11: RuntimeWarning: invalid value encountered in double_scalars\n",
      "  coskew = (res_i*np.power(res_m,2)).mean() / ( np.sqrt( np.power(res_i,2).mean() ) *  np.power(res_m,2).mean())\n"
     ]
    },
    {
     "name": "stdout",
     "output_type": "stream",
     "text": [
      "601567.SH\n",
      "601577.SH\n",
      "601579.SH\n",
      "601588.SH\n",
      "601595.SH\n",
      "601598.SH\n",
      "601599.SH\n",
      "601600.SH\n",
      "601601.SH\n",
      "601606.SH\n",
      "601607.SH\n",
      "601608.SH\n",
      "601609.SH\n",
      "601611.SH\n",
      "601615.SH\n",
      "601616.SH\n",
      "601618.SH\n",
      "601619.SH\n",
      "601628.SH\n",
      "601633.SH\n",
      "601636.SH\n",
      "601658.SH\n",
      "601666.SH\n",
      "601668.SH\n"
     ]
    },
    {
     "name": "stderr",
     "output_type": "stream",
     "text": [
      "<ipython-input-240-1ac76a73e39a>:11: RuntimeWarning: invalid value encountered in double_scalars\n",
      "  coskew = (res_i*np.power(res_m,2)).mean() / ( np.sqrt( np.power(res_i,2).mean() ) *  np.power(res_m,2).mean())\n"
     ]
    },
    {
     "name": "stdout",
     "output_type": "stream",
     "text": [
      "601669.SH\n",
      "601677.SH\n",
      "601678.SH\n",
      "601688.SH\n",
      "601689.SH\n",
      "601696.SH\n",
      "601698.SH\n",
      "601699.SH\n",
      "601700.SH\n",
      "601717.SH\n",
      "601718.SH\n",
      "601727.SH\n"
     ]
    },
    {
     "name": "stderr",
     "output_type": "stream",
     "text": [
      "<ipython-input-240-1ac76a73e39a>:11: RuntimeWarning: invalid value encountered in double_scalars\n",
      "  coskew = (res_i*np.power(res_m,2)).mean() / ( np.sqrt( np.power(res_i,2).mean() ) *  np.power(res_m,2).mean())\n"
     ]
    },
    {
     "name": "stdout",
     "output_type": "stream",
     "text": [
      "601766.SH\n",
      "601777.SH\n",
      "601778.SH\n",
      "601788.SH\n",
      "601789.SH\n",
      "601798.SH\n",
      "601799.SH\n",
      "601800.SH\n",
      "601801.SH\n",
      "601808.SH\n",
      "601811.SH\n",
      "601816.SH\n",
      "601818.SH\n",
      "601827.SH\n",
      "601828.SH\n",
      "601838.SH\n",
      "601857.SH\n",
      "601858.SH\n",
      "601860.SH\n",
      "601865.SH\n",
      "601866.SH\n",
      "601869.SH\n",
      "601872.SH\n",
      "601877.SH\n",
      "601878.SH\n",
      "601880.SH\n",
      "601881.SH\n",
      "601882.SH\n",
      "601886.SH\n",
      "601888.SH\n",
      "601890.SH\n",
      "601898.SH\n",
      "601899.SH\n",
      "601900.SH\n",
      "601901.SH\n",
      "601908.SH\n",
      "601916.SH\n"
     ]
    },
    {
     "name": "stderr",
     "output_type": "stream",
     "text": [
      "<ipython-input-240-1ac76a73e39a>:11: RuntimeWarning: invalid value encountered in double_scalars\n",
      "  coskew = (res_i*np.power(res_m,2)).mean() / ( np.sqrt( np.power(res_i,2).mean() ) *  np.power(res_m,2).mean())\n"
     ]
    },
    {
     "name": "stdout",
     "output_type": "stream",
     "text": [
      "601918.SH\n",
      "601919.SH\n",
      "601928.SH\n",
      "601929.SH\n",
      "601933.SH\n",
      "601939.SH\n",
      "601949.SH\n",
      "601952.SH\n",
      "601958.SH\n",
      "601965.SH\n",
      "601966.SH\n",
      "601968.SH\n",
      "601969.SH\n",
      "601975.SH\n",
      "601985.SH\n",
      "601988.SH\n",
      "601989.SH\n",
      "601990.SH\n",
      "601991.SH\n",
      "601992.SH\n"
     ]
    },
    {
     "name": "stderr",
     "output_type": "stream",
     "text": [
      "<ipython-input-240-1ac76a73e39a>:11: RuntimeWarning: invalid value encountered in double_scalars\n",
      "  coskew = (res_i*np.power(res_m,2)).mean() / ( np.sqrt( np.power(res_i,2).mean() ) *  np.power(res_m,2).mean())\n"
     ]
    },
    {
     "name": "stdout",
     "output_type": "stream",
     "text": [
      "601996.SH\n",
      "601997.SH\n"
     ]
    },
    {
     "name": "stderr",
     "output_type": "stream",
     "text": [
      "<ipython-input-240-1ac76a73e39a>:11: RuntimeWarning: invalid value encountered in double_scalars\n",
      "  coskew = (res_i*np.power(res_m,2)).mean() / ( np.sqrt( np.power(res_i,2).mean() ) *  np.power(res_m,2).mean())\n"
     ]
    },
    {
     "name": "stdout",
     "output_type": "stream",
     "text": [
      "601998.SH\n",
      "601999.SH\n",
      "603000.SH\n"
     ]
    },
    {
     "name": "stderr",
     "output_type": "stream",
     "text": [
      "<ipython-input-240-1ac76a73e39a>:11: RuntimeWarning: invalid value encountered in double_scalars\n",
      "  coskew = (res_i*np.power(res_m,2)).mean() / ( np.sqrt( np.power(res_i,2).mean() ) *  np.power(res_m,2).mean())\n"
     ]
    },
    {
     "name": "stdout",
     "output_type": "stream",
     "text": [
      "603001.SH\n",
      "603002.SH\n",
      "603003.SH\n",
      "603005.SH\n"
     ]
    },
    {
     "name": "stderr",
     "output_type": "stream",
     "text": [
      "<ipython-input-240-1ac76a73e39a>:11: RuntimeWarning: invalid value encountered in double_scalars\n",
      "  coskew = (res_i*np.power(res_m,2)).mean() / ( np.sqrt( np.power(res_i,2).mean() ) *  np.power(res_m,2).mean())\n"
     ]
    },
    {
     "name": "stdout",
     "output_type": "stream",
     "text": [
      "603006.SH\n",
      "603007.SH\n",
      "603008.SH\n",
      "603009.SH\n",
      "603010.SH\n",
      "603011.SH\n",
      "603012.SH\n",
      "603013.SH\n",
      "603015.SH\n",
      "603016.SH\n",
      "603017.SH\n",
      "603018.SH\n",
      "603019.SH\n",
      "603020.SH\n",
      "603021.SH\n",
      "603022.SH\n",
      "603023.SH\n",
      "603025.SH\n",
      "603026.SH\n",
      "603027.SH\n",
      "603028.SH\n",
      "603029.SH\n",
      "603030.SH\n",
      "603031.SH\n"
     ]
    },
    {
     "name": "stderr",
     "output_type": "stream",
     "text": [
      "<ipython-input-240-1ac76a73e39a>:11: RuntimeWarning: invalid value encountered in double_scalars\n",
      "  coskew = (res_i*np.power(res_m,2)).mean() / ( np.sqrt( np.power(res_i,2).mean() ) *  np.power(res_m,2).mean())\n",
      "<ipython-input-240-1ac76a73e39a>:11: RuntimeWarning: invalid value encountered in double_scalars\n",
      "  coskew = (res_i*np.power(res_m,2)).mean() / ( np.sqrt( np.power(res_i,2).mean() ) *  np.power(res_m,2).mean())\n"
     ]
    },
    {
     "name": "stdout",
     "output_type": "stream",
     "text": [
      "603032.SH\n",
      "603033.SH\n",
      "603035.SH\n",
      "603036.SH\n",
      "603037.SH\n",
      "603038.SH\n",
      "603039.SH\n",
      "603040.SH\n"
     ]
    },
    {
     "name": "stderr",
     "output_type": "stream",
     "text": [
      "<ipython-input-240-1ac76a73e39a>:11: RuntimeWarning: invalid value encountered in double_scalars\n",
      "  coskew = (res_i*np.power(res_m,2)).mean() / ( np.sqrt( np.power(res_i,2).mean() ) *  np.power(res_m,2).mean())\n"
     ]
    },
    {
     "name": "stdout",
     "output_type": "stream",
     "text": [
      "603041.SH\n",
      "603042.SH\n",
      "603043.SH\n",
      "603045.SH\n",
      "603050.SH\n",
      "603053.SH\n",
      "603055.SH\n",
      "603056.SH\n",
      "603058.SH\n",
      "603059.SH\n",
      "603060.SH\n"
     ]
    },
    {
     "name": "stderr",
     "output_type": "stream",
     "text": [
      "<ipython-input-240-1ac76a73e39a>:11: RuntimeWarning: invalid value encountered in double_scalars\n",
      "  coskew = (res_i*np.power(res_m,2)).mean() / ( np.sqrt( np.power(res_i,2).mean() ) *  np.power(res_m,2).mean())\n"
     ]
    },
    {
     "name": "stdout",
     "output_type": "stream",
     "text": [
      "603063.SH\n",
      "603066.SH\n",
      "603067.SH\n",
      "603068.SH\n",
      "603069.SH\n",
      "603076.SH\n"
     ]
    },
    {
     "name": "stderr",
     "output_type": "stream",
     "text": [
      "<ipython-input-240-1ac76a73e39a>:11: RuntimeWarning: invalid value encountered in double_scalars\n",
      "  coskew = (res_i*np.power(res_m,2)).mean() / ( np.sqrt( np.power(res_i,2).mean() ) *  np.power(res_m,2).mean())\n"
     ]
    },
    {
     "name": "stdout",
     "output_type": "stream",
     "text": [
      "603077.SH\n",
      "603078.SH\n",
      "603079.SH\n",
      "603080.SH\n",
      "603081.SH\n",
      "603083.SH\n",
      "603085.SH\n",
      "603086.SH\n",
      "603087.SH\n"
     ]
    },
    {
     "name": "stderr",
     "output_type": "stream",
     "text": [
      "<ipython-input-240-1ac76a73e39a>:11: RuntimeWarning: invalid value encountered in double_scalars\n",
      "  coskew = (res_i*np.power(res_m,2)).mean() / ( np.sqrt( np.power(res_i,2).mean() ) *  np.power(res_m,2).mean())\n"
     ]
    },
    {
     "name": "stdout",
     "output_type": "stream",
     "text": [
      "603088.SH\n",
      "603089.SH\n",
      "603090.SH\n",
      "603093.SH\n",
      "603095.SH\n",
      "603096.SH\n",
      "603098.SH\n",
      "603099.SH\n",
      "603100.SH\n",
      "603101.SH\n",
      "603103.SH\n",
      "603105.SH\n",
      "603106.SH\n",
      "603108.SH\n",
      "603109.SH\n",
      "603110.SH\n",
      "603111.SH\n",
      "603113.SH\n",
      "603115.SH\n"
     ]
    },
    {
     "name": "stderr",
     "output_type": "stream",
     "text": [
      "<ipython-input-240-1ac76a73e39a>:11: RuntimeWarning: invalid value encountered in double_scalars\n",
      "  coskew = (res_i*np.power(res_m,2)).mean() / ( np.sqrt( np.power(res_i,2).mean() ) *  np.power(res_m,2).mean())\n"
     ]
    },
    {
     "name": "stdout",
     "output_type": "stream",
     "text": [
      "603116.SH\n"
     ]
    },
    {
     "name": "stderr",
     "output_type": "stream",
     "text": [
      "<ipython-input-240-1ac76a73e39a>:11: RuntimeWarning: invalid value encountered in double_scalars\n",
      "  coskew = (res_i*np.power(res_m,2)).mean() / ( np.sqrt( np.power(res_i,2).mean() ) *  np.power(res_m,2).mean())\n"
     ]
    },
    {
     "name": "stdout",
     "output_type": "stream",
     "text": [
      "603117.SH\n",
      "603118.SH\n",
      "603121.SH\n",
      "603123.SH\n",
      "603126.SH\n",
      "603127.SH\n",
      "603128.SH\n",
      "603129.SH\n",
      "603131.SH\n",
      "603133.SH\n",
      "603136.SH\n",
      "603138.SH\n",
      "603139.SH\n",
      "603156.SH\n",
      "603157.SH\n",
      "603158.SH\n",
      "603159.SH\n",
      "603160.SH\n",
      "603161.SH\n",
      "603165.SH\n"
     ]
    },
    {
     "name": "stderr",
     "output_type": "stream",
     "text": [
      "<ipython-input-240-1ac76a73e39a>:11: RuntimeWarning: invalid value encountered in double_scalars\n",
      "  coskew = (res_i*np.power(res_m,2)).mean() / ( np.sqrt( np.power(res_i,2).mean() ) *  np.power(res_m,2).mean())\n"
     ]
    },
    {
     "name": "stdout",
     "output_type": "stream",
     "text": [
      "603166.SH\n",
      "603167.SH\n",
      "603168.SH\n",
      "603169.SH\n",
      "603177.SH\n",
      "603178.SH\n",
      "603179.SH\n",
      "603180.SH\n",
      "603181.SH\n",
      "603183.SH\n",
      "603185.SH\n",
      "603186.SH\n",
      "603187.SH\n"
     ]
    },
    {
     "name": "stderr",
     "output_type": "stream",
     "text": [
      "<ipython-input-240-1ac76a73e39a>:11: RuntimeWarning: invalid value encountered in double_scalars\n",
      "  coskew = (res_i*np.power(res_m,2)).mean() / ( np.sqrt( np.power(res_i,2).mean() ) *  np.power(res_m,2).mean())\n",
      "<ipython-input-240-1ac76a73e39a>:11: RuntimeWarning: invalid value encountered in double_scalars\n",
      "  coskew = (res_i*np.power(res_m,2)).mean() / ( np.sqrt( np.power(res_i,2).mean() ) *  np.power(res_m,2).mean())\n"
     ]
    },
    {
     "name": "stdout",
     "output_type": "stream",
     "text": [
      "603188.SH\n",
      "603189.SH\n",
      "603192.SH\n",
      "603195.SH\n",
      "603196.SH\n",
      "603197.SH\n"
     ]
    },
    {
     "name": "stderr",
     "output_type": "stream",
     "text": [
      "<ipython-input-240-1ac76a73e39a>:11: RuntimeWarning: invalid value encountered in double_scalars\n",
      "  coskew = (res_i*np.power(res_m,2)).mean() / ( np.sqrt( np.power(res_i,2).mean() ) *  np.power(res_m,2).mean())\n"
     ]
    },
    {
     "name": "stdout",
     "output_type": "stream",
     "text": [
      "603198.SH\n",
      "603199.SH\n",
      "603200.SH\n",
      "603203.SH\n",
      "603208.SH\n",
      "603212.SH\n",
      "603214.SH\n",
      "603217.SH\n",
      "603218.SH\n",
      "603220.SH\n",
      "603221.SH\n",
      "603222.SH\n",
      "603223.SH\n",
      "603225.SH\n",
      "603226.SH\n",
      "603227.SH\n",
      "603228.SH\n",
      "603229.SH\n",
      "603232.SH\n",
      "603233.SH\n",
      "603236.SH\n",
      "603238.SH\n",
      "603239.SH\n",
      "603256.SH\n",
      "603258.SH\n",
      "603259.SH\n"
     ]
    },
    {
     "name": "stderr",
     "output_type": "stream",
     "text": [
      "<ipython-input-240-1ac76a73e39a>:11: RuntimeWarning: invalid value encountered in double_scalars\n",
      "  coskew = (res_i*np.power(res_m,2)).mean() / ( np.sqrt( np.power(res_i,2).mean() ) *  np.power(res_m,2).mean())\n"
     ]
    },
    {
     "name": "stdout",
     "output_type": "stream",
     "text": [
      "603260.SH\n",
      "603266.SH\n",
      "603267.SH\n"
     ]
    },
    {
     "name": "stderr",
     "output_type": "stream",
     "text": [
      "<ipython-input-240-1ac76a73e39a>:11: RuntimeWarning: invalid value encountered in double_scalars\n",
      "  coskew = (res_i*np.power(res_m,2)).mean() / ( np.sqrt( np.power(res_i,2).mean() ) *  np.power(res_m,2).mean())\n"
     ]
    },
    {
     "name": "stdout",
     "output_type": "stream",
     "text": [
      "603268.SH\n",
      "603269.SH\n",
      "603277.SH\n",
      "603278.SH\n",
      "603279.SH\n",
      "603283.SH\n",
      "603286.SH\n",
      "603288.SH\n",
      "603289.SH\n",
      "603290.SH\n",
      "603297.SH\n",
      "603298.SH\n",
      "603299.SH\n",
      "603300.SH\n",
      "603301.SH\n"
     ]
    },
    {
     "name": "stderr",
     "output_type": "stream",
     "text": [
      "<ipython-input-240-1ac76a73e39a>:11: RuntimeWarning: invalid value encountered in double_scalars\n",
      "  coskew = (res_i*np.power(res_m,2)).mean() / ( np.sqrt( np.power(res_i,2).mean() ) *  np.power(res_m,2).mean())\n"
     ]
    },
    {
     "name": "stdout",
     "output_type": "stream",
     "text": [
      "603303.SH\n",
      "603305.SH\n",
      "603306.SH\n",
      "603308.SH\n",
      "603309.SH\n",
      "603311.SH\n",
      "603313.SH\n",
      "603315.SH\n",
      "603316.SH\n",
      "603317.SH\n",
      "603318.SH\n",
      "603319.SH\n",
      "603320.SH\n",
      "603321.SH\n"
     ]
    },
    {
     "name": "stderr",
     "output_type": "stream",
     "text": [
      "<ipython-input-240-1ac76a73e39a>:11: RuntimeWarning: invalid value encountered in double_scalars\n",
      "  coskew = (res_i*np.power(res_m,2)).mean() / ( np.sqrt( np.power(res_i,2).mean() ) *  np.power(res_m,2).mean())\n",
      "<ipython-input-240-1ac76a73e39a>:11: RuntimeWarning: invalid value encountered in double_scalars\n",
      "  coskew = (res_i*np.power(res_m,2)).mean() / ( np.sqrt( np.power(res_i,2).mean() ) *  np.power(res_m,2).mean())\n"
     ]
    },
    {
     "name": "stdout",
     "output_type": "stream",
     "text": [
      "603322.SH\n",
      "603323.SH\n",
      "603326.SH\n",
      "603327.SH\n",
      "603328.SH\n",
      "603329.SH\n",
      "603330.SH\n",
      "603331.SH\n",
      "603332.SH\n",
      "603333.SH\n",
      "603335.SH\n",
      "603336.SH\n",
      "603337.SH\n",
      "603338.SH\n",
      "603339.SH\n",
      "603345.SH\n",
      "603348.SH\n",
      "603351.SH\n",
      "603353.SH"
     ]
    },
    {
     "name": "stderr",
     "output_type": "stream",
     "text": [
      "<ipython-input-240-1ac76a73e39a>:11: RuntimeWarning: invalid value encountered in double_scalars\n",
      "  coskew = (res_i*np.power(res_m,2)).mean() / ( np.sqrt( np.power(res_i,2).mean() ) *  np.power(res_m,2).mean())\n",
      "<ipython-input-240-1ac76a73e39a>:11: RuntimeWarning: invalid value encountered in double_scalars\n",
      "  coskew = (res_i*np.power(res_m,2)).mean() / ( np.sqrt( np.power(res_i,2).mean() ) *  np.power(res_m,2).mean())\n"
     ]
    },
    {
     "name": "stdout",
     "output_type": "stream",
     "text": [
      "\n",
      "603355.SH\n",
      "603356.SH\n",
      "603357.SH\n",
      "603358.SH\n"
     ]
    },
    {
     "name": "stderr",
     "output_type": "stream",
     "text": [
      "<ipython-input-240-1ac76a73e39a>:11: RuntimeWarning: invalid value encountered in double_scalars\n",
      "  coskew = (res_i*np.power(res_m,2)).mean() / ( np.sqrt( np.power(res_i,2).mean() ) *  np.power(res_m,2).mean())\n"
     ]
    },
    {
     "name": "stdout",
     "output_type": "stream",
     "text": [
      "603359.SH\n",
      "603360.SH\n",
      "603363.SH\n",
      "603365.SH\n",
      "603366.SH\n",
      "603367.SH\n",
      "603368.SH\n",
      "603369.SH\n",
      "603377.SH\n",
      "603378.SH\n"
     ]
    },
    {
     "name": "stderr",
     "output_type": "stream",
     "text": [
      "<ipython-input-240-1ac76a73e39a>:11: RuntimeWarning: invalid value encountered in double_scalars\n",
      "  coskew = (res_i*np.power(res_m,2)).mean() / ( np.sqrt( np.power(res_i,2).mean() ) *  np.power(res_m,2).mean())\n"
     ]
    },
    {
     "name": "stdout",
     "output_type": "stream",
     "text": [
      "603379.SH\n",
      "603380.SH\n",
      "603383.SH\n",
      "603385.SH\n",
      "603386.SH\n",
      "603387.SH\n",
      "603388.SH\n",
      "603389.SH\n",
      "603390.SH\n",
      "603392.SH\n"
     ]
    },
    {
     "name": "stderr",
     "output_type": "stream",
     "text": [
      "<ipython-input-240-1ac76a73e39a>:11: RuntimeWarning: invalid value encountered in double_scalars\n",
      "  coskew = (res_i*np.power(res_m,2)).mean() / ( np.sqrt( np.power(res_i,2).mean() ) *  np.power(res_m,2).mean())\n"
     ]
    },
    {
     "name": "stdout",
     "output_type": "stream",
     "text": [
      "603393.SH\n",
      "603396.SH\n",
      "603398.SH\n"
     ]
    },
    {
     "name": "stderr",
     "output_type": "stream",
     "text": [
      "<ipython-input-240-1ac76a73e39a>:11: RuntimeWarning: invalid value encountered in double_scalars\n",
      "  coskew = (res_i*np.power(res_m,2)).mean() / ( np.sqrt( np.power(res_i,2).mean() ) *  np.power(res_m,2).mean())\n",
      "<ipython-input-240-1ac76a73e39a>:11: RuntimeWarning: invalid value encountered in double_scalars\n",
      "  coskew = (res_i*np.power(res_m,2)).mean() / ( np.sqrt( np.power(res_i,2).mean() ) *  np.power(res_m,2).mean())\n"
     ]
    },
    {
     "name": "stdout",
     "output_type": "stream",
     "text": [
      "603399.SH\n",
      "603408.SH\n",
      "603416.SH\n",
      "603421.SH\n",
      "603429.SH\n",
      "603439.SH\n",
      "603444.SH\n",
      "603456.SH\n",
      "603458.SH\n",
      "603466.SH\n",
      "603477.SH\n",
      "603486.SH\n",
      "603488.SH\n",
      "603489.SH\n",
      "603496.SH\n",
      "603499.SH\n",
      "603500.SH\n",
      "603501.SH\n",
      "603505.SH\n",
      "603506.SH\n",
      "603507.SH\n",
      "603508.SH\n",
      "603515.SH\n",
      "603516.SH\n",
      "603517.SH\n",
      "603518.SH\n",
      "603519.SH\n",
      "603520.SH\n",
      "603527.SH\n",
      "603528.SH\n",
      "603530.SH\n",
      "603533.SH\n",
      "603535.SH\n",
      "603536.SH\n",
      "603538.SH\n",
      "603551.SH\n",
      "603555.SH\n",
      "603556.SH\n",
      "603557.SH\n",
      "603558.SH\n",
      "603559.SH\n",
      "603566.SH\n",
      "603567.SH\n"
     ]
    },
    {
     "name": "stderr",
     "output_type": "stream",
     "text": [
      "<ipython-input-240-1ac76a73e39a>:11: RuntimeWarning: invalid value encountered in double_scalars\n",
      "  coskew = (res_i*np.power(res_m,2)).mean() / ( np.sqrt( np.power(res_i,2).mean() ) *  np.power(res_m,2).mean())\n"
     ]
    },
    {
     "name": "stdout",
     "output_type": "stream",
     "text": [
      "603568.SH\n",
      "603569.SH\n",
      "603577.SH\n",
      "603578.SH\n",
      "603579.SH\n",
      "603580.SH\n",
      "603583.SH\n",
      "603585.SH\n",
      "603586.SH\n",
      "603587.SH\n",
      "603588.SH\n"
     ]
    },
    {
     "name": "stderr",
     "output_type": "stream",
     "text": [
      "<ipython-input-240-1ac76a73e39a>:11: RuntimeWarning: invalid value encountered in double_scalars\n",
      "  coskew = (res_i*np.power(res_m,2)).mean() / ( np.sqrt( np.power(res_i,2).mean() ) *  np.power(res_m,2).mean())\n"
     ]
    },
    {
     "name": "stdout",
     "output_type": "stream",
     "text": [
      "603589.SH\n",
      "603590.SH\n",
      "603595.SH\n",
      "603596.SH\n",
      "603598.SH\n",
      "603599.SH\n",
      "603600.SH\n",
      "603601.SH\n",
      "603602.SH\n",
      "603603.SH\n",
      "603605.SH\n",
      "603606.SH\n",
      "603607.SH\n",
      "603608.SH\n",
      "603609.SH\n",
      "603610.SH\n",
      "603611.SH\n",
      "603612.SH\n"
     ]
    },
    {
     "name": "stderr",
     "output_type": "stream",
     "text": [
      "<ipython-input-240-1ac76a73e39a>:11: RuntimeWarning: invalid value encountered in double_scalars\n",
      "  coskew = (res_i*np.power(res_m,2)).mean() / ( np.sqrt( np.power(res_i,2).mean() ) *  np.power(res_m,2).mean())\n"
     ]
    },
    {
     "name": "stdout",
     "output_type": "stream",
     "text": [
      "603613.SH\n",
      "603615.SH\n",
      "603616.SH\n",
      "603617.SH\n",
      "603618.SH\n",
      "603619.SH\n",
      "603626.SH\n",
      "603628.SH\n",
      "603629.SH\n",
      "603630.SH\n",
      "603633.SH\n"
     ]
    },
    {
     "name": "stderr",
     "output_type": "stream",
     "text": [
      "<ipython-input-240-1ac76a73e39a>:11: RuntimeWarning: invalid value encountered in double_scalars\n",
      "  coskew = (res_i*np.power(res_m,2)).mean() / ( np.sqrt( np.power(res_i,2).mean() ) *  np.power(res_m,2).mean())\n"
     ]
    },
    {
     "name": "stdout",
     "output_type": "stream",
     "text": [
      "603636.SH\n",
      "603637.SH\n",
      "603638.SH\n",
      "603639.SH\n",
      "603648.SH\n",
      "603650.SH\n",
      "603655.SH\n",
      "603656.SH\n",
      "603657.SH\n"
     ]
    },
    {
     "name": "stderr",
     "output_type": "stream",
     "text": [
      "<ipython-input-240-1ac76a73e39a>:11: RuntimeWarning: invalid value encountered in double_scalars\n",
      "  coskew = (res_i*np.power(res_m,2)).mean() / ( np.sqrt( np.power(res_i,2).mean() ) *  np.power(res_m,2).mean())\n"
     ]
    },
    {
     "name": "stdout",
     "output_type": "stream",
     "text": [
      "603658.SH\n",
      "603659.SH\n",
      "603660.SH\n",
      "603661.SH\n",
      "603662.SH\n",
      "603663.SH\n",
      "603665.SH\n",
      "603666.SH\n",
      "603667.SH\n",
      "603668.SH\n"
     ]
    },
    {
     "name": "stderr",
     "output_type": "stream",
     "text": [
      "<ipython-input-240-1ac76a73e39a>:11: RuntimeWarning: invalid value encountered in double_scalars\n",
      "  coskew = (res_i*np.power(res_m,2)).mean() / ( np.sqrt( np.power(res_i,2).mean() ) *  np.power(res_m,2).mean())\n"
     ]
    },
    {
     "name": "stdout",
     "output_type": "stream",
     "text": [
      "603669.SH\n",
      "603676.SH\n",
      "603677.SH\n",
      "603678.SH\n",
      "603679.SH\n"
     ]
    },
    {
     "name": "stderr",
     "output_type": "stream",
     "text": [
      "<ipython-input-240-1ac76a73e39a>:11: RuntimeWarning: invalid value encountered in double_scalars\n",
      "  coskew = (res_i*np.power(res_m,2)).mean() / ( np.sqrt( np.power(res_i,2).mean() ) *  np.power(res_m,2).mean())\n"
     ]
    },
    {
     "name": "stdout",
     "output_type": "stream",
     "text": [
      "603680.SH\n",
      "603681.SH\n",
      "603682.SH\n",
      "603683.SH\n",
      "603685.SH\n",
      "603686.SH\n",
      "603687.SH\n",
      "603688.SH\n",
      "603689.SH\n",
      "603690.SH\n",
      "603693.SH\n",
      "603696.SH\n",
      "603697.SH\n",
      "603698.SH\n",
      "603699.SH\n",
      "603700.SH\n",
      "603701.SH\n",
      "603703.SH\n",
      "603706.SH\n",
      "603707.SH\n",
      "603708.SH\n",
      "603709.SH\n",
      "603711.SH\n",
      "603712.SH\n",
      "603713.SH\n",
      "603716.SH\n",
      "603717.SH\n",
      "603718.SH\n",
      "603719.SH\n",
      "603721.SH\n",
      "603722.SH\n",
      "603725.SH\n",
      "603726.SH\n",
      "603727.SH\n",
      "603728.SH\n",
      "603729.SH\n",
      "603730.SH\n"
     ]
    },
    {
     "name": "stderr",
     "output_type": "stream",
     "text": [
      "<ipython-input-240-1ac76a73e39a>:11: RuntimeWarning: invalid value encountered in double_scalars\n",
      "  coskew = (res_i*np.power(res_m,2)).mean() / ( np.sqrt( np.power(res_i,2).mean() ) *  np.power(res_m,2).mean())\n",
      "<ipython-input-240-1ac76a73e39a>:11: RuntimeWarning: invalid value encountered in double_scalars\n",
      "  coskew = (res_i*np.power(res_m,2)).mean() / ( np.sqrt( np.power(res_i,2).mean() ) *  np.power(res_m,2).mean())\n"
     ]
    },
    {
     "name": "stdout",
     "output_type": "stream",
     "text": [
      "603733.SH\n",
      "603737.SH\n",
      "603738.SH\n",
      "603739.SH\n",
      "603755.SH\n",
      "603757.SH\n",
      "603758.SH\n",
      "603766.SH\n",
      "603767.SH\n",
      "603768.SH\n",
      "603773.SH\n",
      "603776.SH\n",
      "603777.SH\n",
      "603778.SH\n",
      "603779.SH\n",
      "603786.SH\n",
      "603787.SH\n"
     ]
    },
    {
     "name": "stderr",
     "output_type": "stream",
     "text": [
      "<ipython-input-240-1ac76a73e39a>:11: RuntimeWarning: invalid value encountered in double_scalars\n",
      "  coskew = (res_i*np.power(res_m,2)).mean() / ( np.sqrt( np.power(res_i,2).mean() ) *  np.power(res_m,2).mean())\n"
     ]
    },
    {
     "name": "stdout",
     "output_type": "stream",
     "text": [
      "603788.SH\n",
      "603789.SH\n",
      "603790.SH\n",
      "603797.SH\n",
      "603798.SH\n"
     ]
    },
    {
     "name": "stderr",
     "output_type": "stream",
     "text": [
      "<ipython-input-240-1ac76a73e39a>:11: RuntimeWarning: invalid value encountered in double_scalars\n",
      "  coskew = (res_i*np.power(res_m,2)).mean() / ( np.sqrt( np.power(res_i,2).mean() ) *  np.power(res_m,2).mean())\n"
     ]
    },
    {
     "name": "stdout",
     "output_type": "stream",
     "text": [
      "603799.SH\n",
      "603800.SH\n",
      "603801.SH\n",
      "603803.SH\n",
      "603806.SH\n",
      "603808.SH\n",
      "603809.SH\n",
      "603810.SH\n",
      "603811.SH\n",
      "603813.SH\n",
      "603815.SH\n",
      "603816.SH\n",
      "603817.SH\n",
      "603818.SH\n",
      "603819.SH\n"
     ]
    },
    {
     "name": "stderr",
     "output_type": "stream",
     "text": [
      "<ipython-input-240-1ac76a73e39a>:11: RuntimeWarning: invalid value encountered in double_scalars\n",
      "  coskew = (res_i*np.power(res_m,2)).mean() / ( np.sqrt( np.power(res_i,2).mean() ) *  np.power(res_m,2).mean())\n"
     ]
    },
    {
     "name": "stdout",
     "output_type": "stream",
     "text": [
      "603822.SH\n",
      "603823.SH\n",
      "603825.SH\n",
      "603826.SH\n"
     ]
    },
    {
     "name": "stderr",
     "output_type": "stream",
     "text": [
      "<ipython-input-240-1ac76a73e39a>:11: RuntimeWarning: invalid value encountered in double_scalars\n",
      "  coskew = (res_i*np.power(res_m,2)).mean() / ( np.sqrt( np.power(res_i,2).mean() ) *  np.power(res_m,2).mean())\n"
     ]
    },
    {
     "name": "stdout",
     "output_type": "stream",
     "text": [
      "603828.SH\n",
      "603829.SH\n",
      "603833.SH\n",
      "603838.SH\n",
      "603839.SH\n",
      "603843.SH\n",
      "603848.SH\n",
      "603855.SH\n",
      "603856.SH\n",
      "603858.SH\n",
      "603859.SH\n",
      "603860.SH\n",
      "603861.SH\n",
      "603863.SH\n",
      "603866.SH\n",
      "603867.SH\n"
     ]
    },
    {
     "name": "stderr",
     "output_type": "stream",
     "text": [
      "<ipython-input-240-1ac76a73e39a>:11: RuntimeWarning: invalid value encountered in double_scalars\n",
      "  coskew = (res_i*np.power(res_m,2)).mean() / ( np.sqrt( np.power(res_i,2).mean() ) *  np.power(res_m,2).mean())\n"
     ]
    },
    {
     "name": "stdout",
     "output_type": "stream",
     "text": [
      "603868.SH\n",
      "603869.SH\n",
      "603871.SH\n",
      "603876.SH\n",
      "603877.SH\n",
      "603878.SH\n",
      "603879.SH\n",
      "603880.SH\n",
      "603881.SH\n",
      "603882.SH\n",
      "603883.SH\n",
      "603885.SH\n",
      "603886.SH\n",
      "603887.SH\n",
      "603888.SH\n"
     ]
    },
    {
     "name": "stderr",
     "output_type": "stream",
     "text": [
      "<ipython-input-240-1ac76a73e39a>:11: RuntimeWarning: invalid value encountered in double_scalars\n",
      "  coskew = (res_i*np.power(res_m,2)).mean() / ( np.sqrt( np.power(res_i,2).mean() ) *  np.power(res_m,2).mean())\n"
     ]
    },
    {
     "name": "stdout",
     "output_type": "stream",
     "text": [
      "603889.SH\n",
      "603890.SH\n",
      "603893.SH\n",
      "603895.SH\n",
      "603896.SH\n",
      "603897.SH\n",
      "603898.SH\n",
      "603899.SH\n",
      "603900.SH\n",
      "603901.SH\n",
      "603903.SH\n",
      "603906.SH\n",
      "603908.SH\n",
      "603909.SH\n",
      "603912.SH\n",
      "603915.SH\n",
      "603916.SH\n",
      "603917.SH\n"
     ]
    },
    {
     "name": "stderr",
     "output_type": "stream",
     "text": [
      "<ipython-input-240-1ac76a73e39a>:11: RuntimeWarning: invalid value encountered in double_scalars\n",
      "  coskew = (res_i*np.power(res_m,2)).mean() / ( np.sqrt( np.power(res_i,2).mean() ) *  np.power(res_m,2).mean())\n"
     ]
    },
    {
     "name": "stdout",
     "output_type": "stream",
     "text": [
      "603918.SH\n",
      "603919.SH\n",
      "603920.SH\n",
      "603922.SH\n",
      "603926.SH\n",
      "603927.SH\n",
      "603928.SH\n",
      "603929.SH\n",
      "603931.SH\n",
      "603933.SH\n"
     ]
    },
    {
     "name": "stderr",
     "output_type": "stream",
     "text": [
      "<ipython-input-240-1ac76a73e39a>:11: RuntimeWarning: invalid value encountered in double_scalars\n",
      "  coskew = (res_i*np.power(res_m,2)).mean() / ( np.sqrt( np.power(res_i,2).mean() ) *  np.power(res_m,2).mean())\n"
     ]
    },
    {
     "name": "stdout",
     "output_type": "stream",
     "text": [
      "603936.SH\n",
      "603937.SH\n",
      "603938.SH\n",
      "603939.SH\n",
      "603948.SH\n",
      "603949.SH\n",
      "603950.SH\n",
      "603955.SH\n",
      "603956.SH\n"
     ]
    },
    {
     "name": "stderr",
     "output_type": "stream",
     "text": [
      "<ipython-input-240-1ac76a73e39a>:11: RuntimeWarning: invalid value encountered in double_scalars\n",
      "  coskew = (res_i*np.power(res_m,2)).mean() / ( np.sqrt( np.power(res_i,2).mean() ) *  np.power(res_m,2).mean())\n"
     ]
    },
    {
     "name": "stdout",
     "output_type": "stream",
     "text": [
      "603958.SH\n",
      "603959.SH\n",
      "603960.SH\n",
      "603963.SH\n",
      "603966.SH\n"
     ]
    },
    {
     "name": "stderr",
     "output_type": "stream",
     "text": [
      "<ipython-input-240-1ac76a73e39a>:11: RuntimeWarning: invalid value encountered in double_scalars\n",
      "  coskew = (res_i*np.power(res_m,2)).mean() / ( np.sqrt( np.power(res_i,2).mean() ) *  np.power(res_m,2).mean())\n",
      "<ipython-input-240-1ac76a73e39a>:11: RuntimeWarning: invalid value encountered in double_scalars\n",
      "  coskew = (res_i*np.power(res_m,2)).mean() / ( np.sqrt( np.power(res_i,2).mean() ) *  np.power(res_m,2).mean())\n"
     ]
    },
    {
     "name": "stdout",
     "output_type": "stream",
     "text": [
      "603967.SH\n",
      "603968.SH\n",
      "603969.SH\n",
      "603970.SH\n",
      "603976.SH\n",
      "603977.SH\n",
      "603978.SH\n",
      "603979.SH\n",
      "603980.SH\n",
      "603982.SH\n",
      "603983.SH\n",
      "603985.SH\n",
      "603986.SH\n",
      "603987.SH\n",
      "603988.SH\n",
      "603989.SH\n",
      "603990.SH\n",
      "603991.SH\n",
      "603992.SH\n",
      "603993.SH\n",
      "603995.SH\n",
      "603996.SH\n",
      "603997.SH\n",
      "603998.SH\n",
      "603999.SH\n",
      "605001.SH\n",
      "605008.SH\n",
      "605066.SH\n",
      "605088.SH\n",
      "605100.SH\n",
      "605108.SH\n",
      "605118.SH\n",
      "605123.SH\n",
      "605158.SH\n",
      "605166.SH\n",
      "605168.SH\n",
      "605178.SH\n",
      "605188.SH\n",
      "605199.SH\n",
      "605222.SH\n",
      "605255.SH\n",
      "605288.SH\n"
     ]
    },
    {
     "name": "stderr",
     "output_type": "stream",
     "text": [
      "<ipython-input-240-1ac76a73e39a>:11: RuntimeWarning: invalid value encountered in double_scalars\n",
      "  coskew = (res_i*np.power(res_m,2)).mean() / ( np.sqrt( np.power(res_i,2).mean() ) *  np.power(res_m,2).mean())\n",
      "<ipython-input-240-1ac76a73e39a>:11: RuntimeWarning: invalid value encountered in double_scalars\n",
      "  coskew = (res_i*np.power(res_m,2)).mean() / ( np.sqrt( np.power(res_i,2).mean() ) *  np.power(res_m,2).mean())\n"
     ]
    },
    {
     "name": "stdout",
     "output_type": "stream",
     "text": [
      "605318.SH\n",
      "605333.SH\n",
      "605366.SH\n",
      "605388.SH\n",
      "605399.SH\n",
      "688001.SH\n",
      "688002.SH\n",
      "688003.SH\n",
      "688004.SH\n",
      "688005.SH\n",
      "688006.SH\n",
      "688007.SH\n",
      "688008.SH\n",
      "688009.SH\n",
      "688010.SH\n",
      "688011.SH\n",
      "688012.SH\n",
      "688015.SH\n",
      "688016.SH\n",
      "688017.SH\n",
      "688018.SH"
     ]
    },
    {
     "name": "stderr",
     "output_type": "stream",
     "text": [
      "<ipython-input-240-1ac76a73e39a>:11: RuntimeWarning: invalid value encountered in double_scalars\n",
      "  coskew = (res_i*np.power(res_m,2)).mean() / ( np.sqrt( np.power(res_i,2).mean() ) *  np.power(res_m,2).mean())\n"
     ]
    },
    {
     "name": "stdout",
     "output_type": "stream",
     "text": [
      "\n",
      "688019.SH\n",
      "688020.SH\n",
      "688021.SH\n",
      "688022.SH\n",
      "688023.SH\n",
      "688025.SH\n",
      "688026.SH\n",
      "688027.SH\n",
      "688028.SH\n",
      "688029.SH"
     ]
    },
    {
     "name": "stderr",
     "output_type": "stream",
     "text": [
      "<ipython-input-240-1ac76a73e39a>:11: RuntimeWarning: invalid value encountered in double_scalars\n",
      "  coskew = (res_i*np.power(res_m,2)).mean() / ( np.sqrt( np.power(res_i,2).mean() ) *  np.power(res_m,2).mean())\n"
     ]
    },
    {
     "name": "stdout",
     "output_type": "stream",
     "text": [
      "\n",
      "688030.SH\n",
      "688033.SH\n",
      "688036.SH\n",
      "688037.SH\n",
      "688039.SH\n",
      "688050.SH\n",
      "688051.SH\n",
      "688055.SH\n",
      "688058.SH\n",
      "688060.SH\n",
      "688065.SH\n",
      "688066.SH\n",
      "688068.SH\n",
      "688069.SH\n",
      "688077.SH\n",
      "688078.SH\n",
      "688080.SH\n"
     ]
    },
    {
     "name": "stderr",
     "output_type": "stream",
     "text": [
      "<ipython-input-240-1ac76a73e39a>:11: RuntimeWarning: invalid value encountered in double_scalars\n",
      "  coskew = (res_i*np.power(res_m,2)).mean() / ( np.sqrt( np.power(res_i,2).mean() ) *  np.power(res_m,2).mean())\n"
     ]
    },
    {
     "name": "stdout",
     "output_type": "stream",
     "text": [
      "688081.SH\n",
      "688085.SH\n",
      "688086.SH\n",
      "688088.SH\n",
      "688089.SH\n",
      "688090.SH\n",
      "688096.SH\n",
      "688098.SH\n",
      "688099.SH\n",
      "688100.SH\n",
      "688101.SH\n",
      "688106.SH\n",
      "688108.SH\n",
      "688111.SH\n",
      "688116.SH\n",
      "688118.SH\n"
     ]
    },
    {
     "name": "stderr",
     "output_type": "stream",
     "text": [
      "<ipython-input-240-1ac76a73e39a>:11: RuntimeWarning: invalid value encountered in double_scalars\n",
      "  coskew = (res_i*np.power(res_m,2)).mean() / ( np.sqrt( np.power(res_i,2).mean() ) *  np.power(res_m,2).mean())\n"
     ]
    },
    {
     "name": "stdout",
     "output_type": "stream",
     "text": [
      "688122.SH\n",
      "688123.SH\n",
      "688126.SH\n",
      "688128.SH\n",
      "688138.SH\n",
      "688139.SH\n",
      "688155.SH\n",
      "688157.SH\n",
      "688158.SH\n",
      "688159.SH\n",
      "688165.SH\n",
      "688166.SH\n",
      "688168.SH\n",
      "688169.SH\n",
      "688177.SH\n",
      "688178.SH\n",
      "688180.SH\n",
      "688181.SH\n",
      "688185.SH\n",
      "688186.SH\n",
      "688188.SH\n",
      "688189.SH\n",
      "688196.SH\n",
      "688198.SH\n",
      "688199.SH\n",
      "688200.SH\n",
      "688202.SH\n",
      "688208.SH\n",
      "688215.SH\n",
      "688218.SH\n",
      "688222.SH\n"
     ]
    },
    {
     "name": "stderr",
     "output_type": "stream",
     "text": [
      "<ipython-input-240-1ac76a73e39a>:11: RuntimeWarning: invalid value encountered in double_scalars\n",
      "  coskew = (res_i*np.power(res_m,2)).mean() / ( np.sqrt( np.power(res_i,2).mean() ) *  np.power(res_m,2).mean())\n"
     ]
    },
    {
     "name": "stdout",
     "output_type": "stream",
     "text": [
      "688228.SH\n",
      "688229.SH\n",
      "688233.SH\n",
      "688256.SH\n",
      "688258.SH\n",
      "688266.SH\n",
      "688268.SH\n",
      "688277.SH\n",
      "688278.SH\n",
      "688286.SH\n",
      "688288.SH\n",
      "688289.SH\n",
      "688298.SH\n",
      "688299.SH\n",
      "688300.SH\n",
      "688309.SH\n",
      "688310.SH\n",
      "688311.SH\n",
      "688312.SH\n",
      "688313.SH\n"
     ]
    },
    {
     "name": "stderr",
     "output_type": "stream",
     "text": [
      "<ipython-input-240-1ac76a73e39a>:11: RuntimeWarning: invalid value encountered in double_scalars\n",
      "  coskew = (res_i*np.power(res_m,2)).mean() / ( np.sqrt( np.power(res_i,2).mean() ) *  np.power(res_m,2).mean())\n"
     ]
    },
    {
     "name": "stdout",
     "output_type": "stream",
     "text": [
      "688318.SH\n",
      "688321.SH\n",
      "688333.SH\n",
      "688335.SH\n",
      "688336.SH\n",
      "688338.SH\n",
      "688339.SH\n",
      "688356.SH\n",
      "688357.SH\n",
      "688358.SH\n",
      "688360.SH\n",
      "688363.SH\n",
      "688365.SH\n",
      "688366.SH\n",
      "688368.SH\n"
     ]
    },
    {
     "name": "stderr",
     "output_type": "stream",
     "text": [
      "<ipython-input-240-1ac76a73e39a>:11: RuntimeWarning: invalid value encountered in double_scalars\n",
      "  coskew = (res_i*np.power(res_m,2)).mean() / ( np.sqrt( np.power(res_i,2).mean() ) *  np.power(res_m,2).mean())\n",
      "<ipython-input-240-1ac76a73e39a>:11: RuntimeWarning: invalid value encountered in double_scalars\n",
      "  coskew = (res_i*np.power(res_m,2)).mean() / ( np.sqrt( np.power(res_i,2).mean() ) *  np.power(res_m,2).mean())\n"
     ]
    },
    {
     "name": "stdout",
     "output_type": "stream",
     "text": [
      "688369.SH\n",
      "688377.SH\n",
      "688379.SH\n",
      "688388.SH\n",
      "688389.SH\n",
      "688393.SH\n",
      "688396.SH\n",
      "688398.SH\n",
      "688399.SH"
     ]
    },
    {
     "name": "stderr",
     "output_type": "stream",
     "text": [
      "<ipython-input-240-1ac76a73e39a>:11: RuntimeWarning: invalid value encountered in double_scalars\n",
      "  coskew = (res_i*np.power(res_m,2)).mean() / ( np.sqrt( np.power(res_i,2).mean() ) *  np.power(res_m,2).mean())\n",
      "<ipython-input-240-1ac76a73e39a>:11: RuntimeWarning: invalid value encountered in double_scalars\n",
      "  coskew = (res_i*np.power(res_m,2)).mean() / ( np.sqrt( np.power(res_i,2).mean() ) *  np.power(res_m,2).mean())\n"
     ]
    },
    {
     "name": "stdout",
     "output_type": "stream",
     "text": [
      "\n",
      "688408.SH\n",
      "688418.SH\n",
      "688466.SH\n",
      "688488.SH\n",
      "688500.SH\n",
      "688505.SH\n",
      "688508.SH\n",
      "688516.SH\n",
      "688518.SH\n",
      "688519.SH\n",
      "688520.SH\n",
      "688521.SH\n",
      "688528.SH\n",
      "688555.SH\n",
      "688556.SH\n",
      "688558.SH\n",
      "688561.SH\n",
      "688566.SH\n",
      "688567.SH\n",
      "688568.SH\n",
      "688579.SH\n",
      "688580.SH\n",
      "688586.SH\n",
      "688588.SH\n",
      "688589.SH\n",
      "688596.SH\n",
      "688598.SH\n",
      "688599.SH\n",
      "688600.SH\n",
      "688981.SH\n"
     ]
    }
   ],
   "source": [
    "total = []\n",
    "for code,data_i in reg_data.groupby('ts_code'):\n",
    "    factor_list = []\n",
    "    for month,data_i_t in data_i.groupby('month'):\n",
    "        skew = cal_skew(data_i_t)\n",
    "        iskew = cal_iskew(data_i_t)\n",
    "        coskew = cal_coskew(data_i_t)\n",
    "        Max3d = cal_3d_MaxRet(data_i_t)\n",
    "        Max5d = cal_5d_MaxRet(data_i_t)\n",
    "        Max7d = cal_7d_MaxRet(data_i_t)\n",
    "        dic = {\n",
    "            'month':month,\n",
    "            'skew':skew,\n",
    "            'iskew':iskew,\n",
    "            'coskew':coskew,\n",
    "            'Max3d':Max3d,\n",
    "            'Max5d':Max5d,\n",
    "            'Max7d':Max7d\n",
    "        }\n",
    "        factor_list.append(dic)\n",
    "    factor_df = pd.DataFrame(factor_list)\n",
    "    factor_df['code'] = code\n",
    "    total.append(factor_df)\n",
    "    print(code)"
   ]
  },
  {
   "cell_type": "code",
   "execution_count": 243,
   "metadata": {
    "ExecuteTime": {
     "end_time": "2021-01-27T16:28:28.861988Z",
     "start_time": "2021-01-27T16:28:23.447355Z"
    }
   },
   "outputs": [],
   "source": [
    "df = pd.concat(total).reset_index(drop=True)\n",
    "df.to_csv('var_df.csv',index=False)"
   ]
  },
  {
   "cell_type": "markdown",
   "metadata": {},
   "source": [
    "# 因子组合分析 (single sort)"
   ]
  },
  {
   "cell_type": "markdown",
   "metadata": {},
   "source": [
    "## 导入个股月度收益率、协偏度和协峰度"
   ]
  },
  {
   "cell_type": "code",
   "execution_count": 4,
   "metadata": {
    "ExecuteTime": {
     "end_time": "2021-01-29T06:04:14.345708Z",
     "start_time": "2021-01-29T06:04:12.732385Z"
    }
   },
   "outputs": [],
   "source": [
    "# 个股月度收益序列来自tushare数据库\n",
    "stk_month = pd.read_csv('../stk_monthly.csv')\n",
    "stk_month['month'] = stk_month['trade_date'].apply(lambda x: int( str(x)[0:6] ))\n",
    "var = pd.read_csv('var_df.csv')\n",
    "var = var.rename(columns={'code':'ts_code'}).dropna().reset_index(drop=True)"
   ]
  },
  {
   "cell_type": "markdown",
   "metadata": {},
   "source": [
    "## 数据清洗"
   ]
  },
  {
   "cell_type": "code",
   "execution_count": 5,
   "metadata": {
    "ExecuteTime": {
     "end_time": "2021-01-29T06:05:01.919330Z",
     "start_time": "2021-01-29T06:04:55.280964Z"
    }
   },
   "outputs": [],
   "source": [
    "# 删除金融行业股票，其中金融行业公司代码来自tushare\n",
    "basic = pro.stock_basic(exchange='', list_status='L', fields='ts_code,symbol,name,area,industry,list_date')\n",
    "fin_list = ['银行','多元金融','证券','保险']\n",
    "fin_code = basic[basic['industry'].isin(fin_list)]['ts_code'].tolist()\n",
    "stk_month = stk_month[~stk_month['ts_code'].isin(fin_code)].reset_index(drop=True)\n",
    "# 删除ST股，其中个股ST信息来自baostock开源数据接口\n",
    "st_df = pd.read_csv('../st_file.csv')\n",
    "st_df['ts_code'] = st_df['code'].apply(lambda x: x.split('.')[-1]+'.SZ' if x.split('.')[0]=='sz' else x.split('.')[-1]+'.SH')\n",
    "st_df['trade_date'] = st_df['date'].apply(lambda x:int(x.replace('-','')))\n",
    "stk_month = pd.merge(stk_month,st_df[['trade_date','ts_code','isST']])\n",
    "stk_month = stk_month[stk_month['isST']==0].reset_index(drop=True)\n",
    "# 剔除上市不满一年的公司，其中个股上市日期来自tushare\n",
    "data = pro.stock_basic(exchange='', list_status='L', fields='ts_code,symbol,name,area,industry,list_date')\n",
    "stk_month = pd.merge(stk_month,data[['ts_code','list_date']])\n",
    "stk_month['list_tenure'] = (pd.to_datetime(stk_month['trade_date'],format=\"%Y%m%d\")-pd.to_datetime(stk_month['list_date'],format=\"%Y%m%d\")).apply(lambda x:x.days)\n",
    "stk_month = stk_month[stk_month['list_tenure']>365].reset_index(drop=True)"
   ]
  },
  {
   "cell_type": "markdown",
   "metadata": {},
   "source": [
    "## 描述性统计"
   ]
  },
  {
   "cell_type": "code",
   "execution_count": 50,
   "metadata": {
    "ExecuteTime": {
     "end_time": "2021-01-29T06:36:43.550023Z",
     "start_time": "2021-01-29T06:36:34.006335Z"
    }
   },
   "outputs": [],
   "source": [
    "total = pd.merge(var,stk_month).sort_values(by=['month','ts_code']).reset_index(drop=True)\n",
    "total.to_csv('c://users//coolgan//desktop//total.csv',index=False)"
   ]
  },
  {
   "cell_type": "code",
   "execution_count": 2,
   "metadata": {
    "ExecuteTime": {
     "end_time": "2021-01-30T11:44:19.890656Z",
     "start_time": "2021-01-30T11:44:19.172481Z"
    },
    "scrolled": true
   },
   "outputs": [],
   "source": [
    "# 用stata进行批量截尾\n",
    "# insheet using c://users//coolgan//desktop//total.csv\n",
    "# winsor2 max3d max5d max7d pe pb pct_chg,replace cuts(1,99)\n",
    "# egen mis = rowmiss(_all)\n",
    "# drop if mis\n",
    "# export delimited using c://users//coolgan//desktop//total_cleaned.csv, replace\n",
    "total = pd.read_csv('total_cleaned.csv')\n",
    "total = total.rename(columns = {'max3d':'Max3d','max5d':'Max5d','max7d':'Max7d'})"
   ]
  },
  {
   "cell_type": "code",
   "execution_count": 99,
   "metadata": {
    "ExecuteTime": {
     "end_time": "2021-01-30T15:12:10.539404Z",
     "start_time": "2021-01-30T15:12:10.324891Z"
    }
   },
   "outputs": [
    {
     "data": {
      "text/html": [
       "<div>\n",
       "<style scoped>\n",
       "    .dataframe tbody tr th:only-of-type {\n",
       "        vertical-align: middle;\n",
       "    }\n",
       "\n",
       "    .dataframe tbody tr th {\n",
       "        vertical-align: top;\n",
       "    }\n",
       "\n",
       "    .dataframe thead th {\n",
       "        text-align: right;\n",
       "    }\n",
       "</style>\n",
       "<table border=\"1\" class=\"dataframe\">\n",
       "  <thead>\n",
       "    <tr style=\"text-align: right;\">\n",
       "      <th></th>\n",
       "      <th>coskew</th>\n",
       "      <th>skew</th>\n",
       "      <th>iskew</th>\n",
       "      <th>Max3d</th>\n",
       "      <th>Max5d</th>\n",
       "      <th>Max7d</th>\n",
       "      <th>pe</th>\n",
       "      <th>pb</th>\n",
       "      <th>total_mv</th>\n",
       "      <th>pct_chg</th>\n",
       "    </tr>\n",
       "  </thead>\n",
       "  <tbody>\n",
       "    <tr>\n",
       "      <th>coskew</th>\n",
       "      <td>1.000000</td>\n",
       "      <td>0.344552</td>\n",
       "      <td>-0.095887</td>\n",
       "      <td>0.019752</td>\n",
       "      <td>-0.003457</td>\n",
       "      <td>-0.021033</td>\n",
       "      <td>-0.036355</td>\n",
       "      <td>-0.051406</td>\n",
       "      <td>0.001322</td>\n",
       "      <td>0.030394</td>\n",
       "    </tr>\n",
       "    <tr>\n",
       "      <th>skew</th>\n",
       "      <td>0.344552</td>\n",
       "      <td>1.000000</td>\n",
       "      <td>0.704241</td>\n",
       "      <td>0.260242</td>\n",
       "      <td>0.196846</td>\n",
       "      <td>0.161079</td>\n",
       "      <td>0.025039</td>\n",
       "      <td>0.042316</td>\n",
       "      <td>0.025052</td>\n",
       "      <td>0.340520</td>\n",
       "    </tr>\n",
       "    <tr>\n",
       "      <th>iskew</th>\n",
       "      <td>-0.095887</td>\n",
       "      <td>0.704241</td>\n",
       "      <td>1.000000</td>\n",
       "      <td>0.196890</td>\n",
       "      <td>0.155074</td>\n",
       "      <td>0.137532</td>\n",
       "      <td>0.024273</td>\n",
       "      <td>-0.004105</td>\n",
       "      <td>0.014065</td>\n",
       "      <td>0.348409</td>\n",
       "    </tr>\n",
       "    <tr>\n",
       "      <th>Max3d</th>\n",
       "      <td>0.019752</td>\n",
       "      <td>0.260242</td>\n",
       "      <td>0.196890</td>\n",
       "      <td>1.000000</td>\n",
       "      <td>0.983306</td>\n",
       "      <td>0.961565</td>\n",
       "      <td>0.122737</td>\n",
       "      <td>0.226098</td>\n",
       "      <td>-0.017912</td>\n",
       "      <td>0.421994</td>\n",
       "    </tr>\n",
       "    <tr>\n",
       "      <th>Max5d</th>\n",
       "      <td>-0.003457</td>\n",
       "      <td>0.196846</td>\n",
       "      <td>0.155074</td>\n",
       "      <td>0.983306</td>\n",
       "      <td>1.000000</td>\n",
       "      <td>0.992286</td>\n",
       "      <td>0.124325</td>\n",
       "      <td>0.230543</td>\n",
       "      <td>-0.017177</td>\n",
       "      <td>0.455498</td>\n",
       "    </tr>\n",
       "    <tr>\n",
       "      <th>Max7d</th>\n",
       "      <td>-0.021033</td>\n",
       "      <td>0.161079</td>\n",
       "      <td>0.137532</td>\n",
       "      <td>0.961565</td>\n",
       "      <td>0.992286</td>\n",
       "      <td>1.000000</td>\n",
       "      <td>0.122897</td>\n",
       "      <td>0.227499</td>\n",
       "      <td>-0.017268</td>\n",
       "      <td>0.484344</td>\n",
       "    </tr>\n",
       "    <tr>\n",
       "      <th>pe</th>\n",
       "      <td>-0.036355</td>\n",
       "      <td>0.025039</td>\n",
       "      <td>0.024273</td>\n",
       "      <td>0.122737</td>\n",
       "      <td>0.124325</td>\n",
       "      <td>0.122897</td>\n",
       "      <td>1.000000</td>\n",
       "      <td>0.298234</td>\n",
       "      <td>-0.033046</td>\n",
       "      <td>0.058900</td>\n",
       "    </tr>\n",
       "    <tr>\n",
       "      <th>pb</th>\n",
       "      <td>-0.051406</td>\n",
       "      <td>0.042316</td>\n",
       "      <td>-0.004105</td>\n",
       "      <td>0.226098</td>\n",
       "      <td>0.230543</td>\n",
       "      <td>0.227499</td>\n",
       "      <td>0.298234</td>\n",
       "      <td>1.000000</td>\n",
       "      <td>0.026058</td>\n",
       "      <td>0.114261</td>\n",
       "    </tr>\n",
       "    <tr>\n",
       "      <th>total_mv</th>\n",
       "      <td>0.001322</td>\n",
       "      <td>0.025052</td>\n",
       "      <td>0.014065</td>\n",
       "      <td>-0.017912</td>\n",
       "      <td>-0.017177</td>\n",
       "      <td>-0.017268</td>\n",
       "      <td>-0.033046</td>\n",
       "      <td>0.026058</td>\n",
       "      <td>1.000000</td>\n",
       "      <td>0.016667</td>\n",
       "    </tr>\n",
       "    <tr>\n",
       "      <th>pct_chg</th>\n",
       "      <td>0.030394</td>\n",
       "      <td>0.340520</td>\n",
       "      <td>0.348409</td>\n",
       "      <td>0.421994</td>\n",
       "      <td>0.455498</td>\n",
       "      <td>0.484344</td>\n",
       "      <td>0.058900</td>\n",
       "      <td>0.114261</td>\n",
       "      <td>0.016667</td>\n",
       "      <td>1.000000</td>\n",
       "    </tr>\n",
       "  </tbody>\n",
       "</table>\n",
       "</div>"
      ],
      "text/plain": [
       "            coskew      skew     iskew     Max3d     Max5d     Max7d  \\\n",
       "coskew    1.000000  0.344552 -0.095887  0.019752 -0.003457 -0.021033   \n",
       "skew      0.344552  1.000000  0.704241  0.260242  0.196846  0.161079   \n",
       "iskew    -0.095887  0.704241  1.000000  0.196890  0.155074  0.137532   \n",
       "Max3d     0.019752  0.260242  0.196890  1.000000  0.983306  0.961565   \n",
       "Max5d    -0.003457  0.196846  0.155074  0.983306  1.000000  0.992286   \n",
       "Max7d    -0.021033  0.161079  0.137532  0.961565  0.992286  1.000000   \n",
       "pe       -0.036355  0.025039  0.024273  0.122737  0.124325  0.122897   \n",
       "pb       -0.051406  0.042316 -0.004105  0.226098  0.230543  0.227499   \n",
       "total_mv  0.001322  0.025052  0.014065 -0.017912 -0.017177 -0.017268   \n",
       "pct_chg   0.030394  0.340520  0.348409  0.421994  0.455498  0.484344   \n",
       "\n",
       "                pe        pb  total_mv   pct_chg  \n",
       "coskew   -0.036355 -0.051406  0.001322  0.030394  \n",
       "skew      0.025039  0.042316  0.025052  0.340520  \n",
       "iskew     0.024273 -0.004105  0.014065  0.348409  \n",
       "Max3d     0.122737  0.226098 -0.017912  0.421994  \n",
       "Max5d     0.124325  0.230543 -0.017177  0.455498  \n",
       "Max7d     0.122897  0.227499 -0.017268  0.484344  \n",
       "pe        1.000000  0.298234 -0.033046  0.058900  \n",
       "pb        0.298234  1.000000  0.026058  0.114261  \n",
       "total_mv -0.033046  0.026058  1.000000  0.016667  \n",
       "pct_chg   0.058900  0.114261  0.016667  1.000000  "
      ]
     },
     "execution_count": 99,
     "metadata": {},
     "output_type": "execute_result"
    }
   ],
   "source": [
    "#total[['coskew','skew','iskew','Max3d','Max5d','Max7d','pe','pb','total_mv','pct_chg']].describe().T\n",
    "total[['coskew','skew','iskew','Max3d','Max5d','Max7d','pe','pb','total_mv','pct_chg']].corr()"
   ]
  },
  {
   "cell_type": "markdown",
   "metadata": {},
   "source": [
    "## 计算单因子组合收益率"
   ]
  },
  {
   "cell_type": "code",
   "execution_count": 3,
   "metadata": {
    "ExecuteTime": {
     "end_time": "2021-01-30T11:44:23.009935Z",
     "start_time": "2021-01-30T11:44:22.995124Z"
    }
   },
   "outputs": [],
   "source": [
    "def qcut(rebalance_group,fac_name,q_size):\n",
    "    rebalance_group = rebalance_group[rebalance_group[fac_name]>=rebalance_group[fac_name].quantile(q=0.1)].reset_index(drop=True)\n",
    "    rebalance_group = rebalance_group.sort_values(by=fac_name).reset_index(drop=True)\n",
    "    rebalance_group['decile'] = pd.qcut(rebalance_group.index,q = q_size,labels = [str(i) for i in range(q_size)])\n",
    "    return rebalance_group"
   ]
  },
  {
   "cell_type": "code",
   "execution_count": 100,
   "metadata": {
    "ExecuteTime": {
     "end_time": "2021-01-30T15:13:56.694221Z",
     "start_time": "2021-01-30T15:13:53.977826Z"
    },
    "scrolled": true
   },
   "outputs": [],
   "source": [
    "month_list = total['month'].unique().tolist()\n",
    "q_size = 10\n",
    "fac_name = 'skew' # or 'coskew'\n",
    "Mret_list = []\n",
    "Rf = rf.groupby('month').apply(lambda x:x.iloc[-1]).reset_index(drop=True)[['month','R007']]\n",
    "\n",
    "for i in range(1,len(month_list)):\n",
    "    rebalance_group = total[total['month'] == month_list[i-1]].reset_index(drop=True)\n",
    "    # 偏度指标分组\n",
    "    rebalance_group['decile'] = pd.qcut(rebalance_group[fac_name],q=q_size,labels = [str(i) for i in range(q_size)])\n",
    "    # 最大日收益指标分组（只是为了避免报错。。。）\n",
    "    #rebalance_group = qcut(rebalance_group,fac_name,q_size)\n",
    "    \n",
    "    current_group = total[total['month'] == month_list[i]].reset_index(drop=True)\n",
    "    current_group = current_group.rename(columns={'total_mv':'total_mv_end'})\n",
    "    current_group = pd.merge(current_group,rebalance_group[['ts_code','decile','total_mv']])\n",
    "    current_group = current_group[pd.notnull(current_group['decile'])].reset_index(drop=True)\n",
    "    current_group['vw_ret'] = current_group['total_mv']*current_group['pct_chg']\n",
    "    \n",
    "    rf_rate = Rf[Rf['month']==month_list[i]]['R007'].iloc[0]*12\n",
    "    # EW return\n",
    "    group_ret = current_group.groupby('decile').mean()['pct_chg'] - rf_rate\n",
    "    # VW return\n",
    "    #group_ret = current_group.groupby('decile').sum()['vw_ret']/current_group.groupby('decile').sum()['total_mv'] - rf_rate\n",
    "    group_ret.name = month_list[i]\n",
    "    \n",
    "    Mret_list.append(group_ret)"
   ]
  },
  {
   "cell_type": "code",
   "execution_count": 101,
   "metadata": {
    "ExecuteTime": {
     "end_time": "2021-01-30T15:13:57.549033Z",
     "start_time": "2021-01-30T15:13:57.305921Z"
    }
   },
   "outputs": [],
   "source": [
    "port_result = pd.concat(Mret_list,axis=1).T\n",
    "port_result = pd.DataFrame(port_result.values,index=port_result.index,columns=port_result.columns.tolist())\n",
    "dt = list(map(lambda x:datetime.strptime(str(x),'%Y%m'),port_result.index.tolist()))\n",
    "port_result['high-low'] = -(port_result[str(q_size-1)] - port_result['0']) # (port_result[str(q_size-1)] - port_result['0']) if fac_name == 'coskew' "
   ]
  },
  {
   "cell_type": "code",
   "execution_count": 102,
   "metadata": {
    "ExecuteTime": {
     "end_time": "2021-01-30T15:13:59.304188Z",
     "start_time": "2021-01-30T15:13:58.806900Z"
    }
   },
   "outputs": [
    {
     "data": {
      "text/plain": [
       "<matplotlib.legend.Legend at 0x28f4e0e66d0>"
      ]
     },
     "execution_count": 102,
     "metadata": {},
     "output_type": "execute_result"
    },
    {
     "data": {
      "image/png": "[encoded data removed]",
      "text/plain": [
       "<Figure size 864x432 with 2 Axes>"
      ]
     },
     "metadata": {
      "needs_background": "light"
     },
     "output_type": "display_data"
    }
   ],
   "source": [
    "import matplotlib\n",
    "matplotlib.rcParams['font.sans-serif'] = 'NSimSun,Times New Roman'# 中文设置成宋体，除此之外的字体设置成New Roman \n",
    "matplotlib.rc('ytick', labelsize=15) \n",
    "matplotlib.rc('xtick', labelsize=12.5)\n",
    "\n",
    "def cumret(factor):\n",
    "    return (factor+1).cumprod()\n",
    "quantile = q_size\n",
    "\n",
    "fig,ax1 = plt.subplots(figsize=(12,6))\n",
    "l1 = ax1.plot(dt,cumret(port_result[[str(i) for i in range(quantile)]]))\n",
    "ax2 = ax1.twinx()\n",
    "l2 = ax2.stackplot(dt,cumret(port_result['high-low']),alpha=0.2)\n",
    "#l1 = ax1.plot(dt,port_result[[str(i) for i in range(quantile)]].cumsum())\n",
    "#l2 = ax2.stackplot(dt,port_result['high-low'].cumprod(),alpha=0.2)\n",
    "plt.legend(l1+l2, [str(i+1) for i in range(quantile)] + ['low-high'],loc='upper left',fontsize=12.5)"
   ]
  },
  {
   "cell_type": "markdown",
   "metadata": {},
   "source": [
    "# 计算回测指标"
   ]
  },
  {
   "cell_type": "markdown",
   "metadata": {},
   "source": [
    "## 计算基本指标"
   ]
  },
  {
   "cell_type": "code",
   "execution_count": 103,
   "metadata": {
    "ExecuteTime": {
     "end_time": "2021-01-30T15:14:52.077257Z",
     "start_time": "2021-01-30T15:14:52.043314Z"
    }
   },
   "outputs": [],
   "source": [
    "result = pd.DataFrame()\n",
    "result['port_mean_ret'] = 12*port_result.mean().reset_index(drop=True) # 因子组合年度收益率\n",
    "result['t-stats'] = stats.ttest_1samp(port_result,0).statistic # t统计量\n",
    "result['port_annual_vol'] = math.sqrt(12)*port_result.std().reset_index(drop=True) # 因子组合年化波动率\n",
    "result['sharpe_ratio'] = result['port_mean_ret']/result['port_annual_vol'] # 因子组合夏普比率\n",
    "result['Maxdraw'] = (port_result.expanding().max() - port_result).max().tolist() # 因子组合最大回撤\n",
    "result = result.T\n",
    "result.columns = port_result.columns"
   ]
  },
  {
   "cell_type": "code",
   "execution_count": 104,
   "metadata": {
    "ExecuteTime": {
     "end_time": "2021-01-30T15:14:53.188964Z",
     "start_time": "2021-01-30T15:14:52.665801Z"
    }
   },
   "outputs": [
    {
     "data": {
      "text/html": [
       "<style  type=\"text/css\" >\n",
       "#T_e753f9aa_630d_11eb_bec5_b891363e92b7row0_col1,#T_e753f9aa_630d_11eb_bec5_b891363e92b7row1_col1,#T_e753f9aa_630d_11eb_bec5_b891363e92b7row2_col1,#T_e753f9aa_630d_11eb_bec5_b891363e92b7row3_col1,#T_e753f9aa_630d_11eb_bec5_b891363e92b7row4_col1,#T_e753f9aa_630d_11eb_bec5_b891363e92b7row5_col1,#T_e753f9aa_630d_11eb_bec5_b891363e92b7row6_col1,#T_e753f9aa_630d_11eb_bec5_b891363e92b7row7_col1,#T_e753f9aa_630d_11eb_bec5_b891363e92b7row8_col1,#T_e753f9aa_630d_11eb_bec5_b891363e92b7row9_col1{\n",
       "            color: None;\n",
       "        }#T_e753f9aa_630d_11eb_bec5_b891363e92b7row0_col3,#T_e753f9aa_630d_11eb_bec5_b891363e92b7row0_col4,#T_e753f9aa_630d_11eb_bec5_b891363e92b7row1_col3,#T_e753f9aa_630d_11eb_bec5_b891363e92b7row1_col4,#T_e753f9aa_630d_11eb_bec5_b891363e92b7row2_col3,#T_e753f9aa_630d_11eb_bec5_b891363e92b7row3_col3,#T_e753f9aa_630d_11eb_bec5_b891363e92b7row4_col3,#T_e753f9aa_630d_11eb_bec5_b891363e92b7row4_col4,#T_e753f9aa_630d_11eb_bec5_b891363e92b7row5_col3,#T_e753f9aa_630d_11eb_bec5_b891363e92b7row5_col4,#T_e753f9aa_630d_11eb_bec5_b891363e92b7row6_col3,#T_e753f9aa_630d_11eb_bec5_b891363e92b7row6_col4,#T_e753f9aa_630d_11eb_bec5_b891363e92b7row7_col3,#T_e753f9aa_630d_11eb_bec5_b891363e92b7row7_col4,#T_e753f9aa_630d_11eb_bec5_b891363e92b7row8_col3,#T_e753f9aa_630d_11eb_bec5_b891363e92b7row8_col4,#T_e753f9aa_630d_11eb_bec5_b891363e92b7row9_col3,#T_e753f9aa_630d_11eb_bec5_b891363e92b7row9_col4,#T_e753f9aa_630d_11eb_bec5_b891363e92b7row10_col4{\n",
       "            background-color: None;\n",
       "        }#T_e753f9aa_630d_11eb_bec5_b891363e92b7row2_col4,#T_e753f9aa_630d_11eb_bec5_b891363e92b7row3_col4{\n",
       "            background-color: lime;\n",
       "        }#T_e753f9aa_630d_11eb_bec5_b891363e92b7row10_col1{\n",
       "            color: red;\n",
       "        }#T_e753f9aa_630d_11eb_bec5_b891363e92b7row10_col3{\n",
       "            background-color: red;\n",
       "        }</style><table id=\"T_e753f9aa_630d_11eb_bec5_b891363e92b7\" ><thead>    <tr>        <th class=\"blank level0\" ></th>        <th class=\"col_heading level0 col0\" >port_mean_ret</th>        <th class=\"col_heading level0 col1\" >t-stats</th>        <th class=\"col_heading level0 col2\" >port_annual_vol</th>        <th class=\"col_heading level0 col3\" >sharpe_ratio</th>        <th class=\"col_heading level0 col4\" >Maxdraw</th>    </tr></thead><tbody>\n",
       "                <tr>\n",
       "                        <th id=\"T_e753f9aa_630d_11eb_bec5_b891363e92b7level0_row0\" class=\"row_heading level0 row0\" >0</th>\n",
       "                        <td id=\"T_e753f9aa_630d_11eb_bec5_b891363e92b7row0_col0\" class=\"data row0 col0\" >0.103477</td>\n",
       "                        <td id=\"T_e753f9aa_630d_11eb_bec5_b891363e92b7row0_col1\" class=\"data row0 col1\" >1.484735</td>\n",
       "                        <td id=\"T_e753f9aa_630d_11eb_bec5_b891363e92b7row0_col2\" class=\"data row0 col2\" >0.316193</td>\n",
       "                        <td id=\"T_e753f9aa_630d_11eb_bec5_b891363e92b7row0_col3\" class=\"data row0 col3\" >0.327259</td>\n",
       "                        <td id=\"T_e753f9aa_630d_11eb_bec5_b891363e92b7row0_col4\" class=\"data row0 col4\" >0.597139</td>\n",
       "            </tr>\n",
       "            <tr>\n",
       "                        <th id=\"T_e753f9aa_630d_11eb_bec5_b891363e92b7level0_row1\" class=\"row_heading level0 row1\" >1</th>\n",
       "                        <td id=\"T_e753f9aa_630d_11eb_bec5_b891363e92b7row1_col0\" class=\"data row1 col0\" >0.103338</td>\n",
       "                        <td id=\"T_e753f9aa_630d_11eb_bec5_b891363e92b7row1_col1\" class=\"data row1 col1\" >1.443790</td>\n",
       "                        <td id=\"T_e753f9aa_630d_11eb_bec5_b891363e92b7row1_col2\" class=\"data row1 col2\" >0.324725</td>\n",
       "                        <td id=\"T_e753f9aa_630d_11eb_bec5_b891363e92b7row1_col3\" class=\"data row1 col3\" >0.318234</td>\n",
       "                        <td id=\"T_e753f9aa_630d_11eb_bec5_b891363e92b7row1_col4\" class=\"data row1 col4\" >0.584483</td>\n",
       "            </tr>\n",
       "            <tr>\n",
       "                        <th id=\"T_e753f9aa_630d_11eb_bec5_b891363e92b7level0_row2\" class=\"row_heading level0 row2\" >2</th>\n",
       "                        <td id=\"T_e753f9aa_630d_11eb_bec5_b891363e92b7row2_col0\" class=\"data row2 col0\" >0.091671</td>\n",
       "                        <td id=\"T_e753f9aa_630d_11eb_bec5_b891363e92b7row2_col1\" class=\"data row2 col1\" >1.298651</td>\n",
       "                        <td id=\"T_e753f9aa_630d_11eb_bec5_b891363e92b7row2_col2\" class=\"data row2 col2\" >0.320258</td>\n",
       "                        <td id=\"T_e753f9aa_630d_11eb_bec5_b891363e92b7row2_col3\" class=\"data row2 col3\" >0.286243</td>\n",
       "                        <td id=\"T_e753f9aa_630d_11eb_bec5_b891363e92b7row2_col4\" class=\"data row2 col4\" >0.605813</td>\n",
       "            </tr>\n",
       "            <tr>\n",
       "                        <th id=\"T_e753f9aa_630d_11eb_bec5_b891363e92b7level0_row3\" class=\"row_heading level0 row3\" >3</th>\n",
       "                        <td id=\"T_e753f9aa_630d_11eb_bec5_b891363e92b7row3_col0\" class=\"data row3 col0\" >0.088916</td>\n",
       "                        <td id=\"T_e753f9aa_630d_11eb_bec5_b891363e92b7row3_col1\" class=\"data row3 col1\" >1.243299</td>\n",
       "                        <td id=\"T_e753f9aa_630d_11eb_bec5_b891363e92b7row3_col2\" class=\"data row3 col2\" >0.324460</td>\n",
       "                        <td id=\"T_e753f9aa_630d_11eb_bec5_b891363e92b7row3_col3\" class=\"data row3 col3\" >0.274042</td>\n",
       "                        <td id=\"T_e753f9aa_630d_11eb_bec5_b891363e92b7row3_col4\" class=\"data row3 col4\" >0.607500</td>\n",
       "            </tr>\n",
       "            <tr>\n",
       "                        <th id=\"T_e753f9aa_630d_11eb_bec5_b891363e92b7level0_row4\" class=\"row_heading level0 row4\" >4</th>\n",
       "                        <td id=\"T_e753f9aa_630d_11eb_bec5_b891363e92b7row4_col0\" class=\"data row4 col0\" >0.068861</td>\n",
       "                        <td id=\"T_e753f9aa_630d_11eb_bec5_b891363e92b7row4_col1\" class=\"data row4 col1\" >0.975671</td>\n",
       "                        <td id=\"T_e753f9aa_630d_11eb_bec5_b891363e92b7row4_col2\" class=\"data row4 col2\" >0.320203</td>\n",
       "                        <td id=\"T_e753f9aa_630d_11eb_bec5_b891363e92b7row4_col3\" class=\"data row4 col3\" >0.215053</td>\n",
       "                        <td id=\"T_e753f9aa_630d_11eb_bec5_b891363e92b7row4_col4\" class=\"data row4 col4\" >0.576692</td>\n",
       "            </tr>\n",
       "            <tr>\n",
       "                        <th id=\"T_e753f9aa_630d_11eb_bec5_b891363e92b7level0_row5\" class=\"row_heading level0 row5\" >5</th>\n",
       "                        <td id=\"T_e753f9aa_630d_11eb_bec5_b891363e92b7row5_col0\" class=\"data row5 col0\" >0.059570</td>\n",
       "                        <td id=\"T_e753f9aa_630d_11eb_bec5_b891363e92b7row5_col1\" class=\"data row5 col1\" >0.845136</td>\n",
       "                        <td id=\"T_e753f9aa_630d_11eb_bec5_b891363e92b7row5_col2\" class=\"data row5 col2\" >0.319785</td>\n",
       "                        <td id=\"T_e753f9aa_630d_11eb_bec5_b891363e92b7row5_col3\" class=\"data row5 col3\" >0.186281</td>\n",
       "                        <td id=\"T_e753f9aa_630d_11eb_bec5_b891363e92b7row5_col4\" class=\"data row5 col4\" >0.585976</td>\n",
       "            </tr>\n",
       "            <tr>\n",
       "                        <th id=\"T_e753f9aa_630d_11eb_bec5_b891363e92b7level0_row6\" class=\"row_heading level0 row6\" >6</th>\n",
       "                        <td id=\"T_e753f9aa_630d_11eb_bec5_b891363e92b7row6_col0\" class=\"data row6 col0\" >0.054148</td>\n",
       "                        <td id=\"T_e753f9aa_630d_11eb_bec5_b891363e92b7row6_col1\" class=\"data row6 col1\" >0.767330</td>\n",
       "                        <td id=\"T_e753f9aa_630d_11eb_bec5_b891363e92b7row6_col2\" class=\"data row6 col2\" >0.320156</td>\n",
       "                        <td id=\"T_e753f9aa_630d_11eb_bec5_b891363e92b7row6_col3\" class=\"data row6 col3\" >0.169132</td>\n",
       "                        <td id=\"T_e753f9aa_630d_11eb_bec5_b891363e92b7row6_col4\" class=\"data row6 col4\" >0.591479</td>\n",
       "            </tr>\n",
       "            <tr>\n",
       "                        <th id=\"T_e753f9aa_630d_11eb_bec5_b891363e92b7level0_row7\" class=\"row_heading level0 row7\" >7</th>\n",
       "                        <td id=\"T_e753f9aa_630d_11eb_bec5_b891363e92b7row7_col0\" class=\"data row7 col0\" >0.033634</td>\n",
       "                        <td id=\"T_e753f9aa_630d_11eb_bec5_b891363e92b7row7_col1\" class=\"data row7 col1\" >0.488143</td>\n",
       "                        <td id=\"T_e753f9aa_630d_11eb_bec5_b891363e92b7row7_col2\" class=\"data row7 col2\" >0.312598</td>\n",
       "                        <td id=\"T_e753f9aa_630d_11eb_bec5_b891363e92b7row7_col3\" class=\"data row7 col3\" >0.107594</td>\n",
       "                        <td id=\"T_e753f9aa_630d_11eb_bec5_b891363e92b7row7_col4\" class=\"data row7 col4\" >0.574314</td>\n",
       "            </tr>\n",
       "            <tr>\n",
       "                        <th id=\"T_e753f9aa_630d_11eb_bec5_b891363e92b7level0_row8\" class=\"row_heading level0 row8\" >8</th>\n",
       "                        <td id=\"T_e753f9aa_630d_11eb_bec5_b891363e92b7row8_col0\" class=\"data row8 col0\" >0.031133</td>\n",
       "                        <td id=\"T_e753f9aa_630d_11eb_bec5_b891363e92b7row8_col1\" class=\"data row8 col1\" >0.456629</td>\n",
       "                        <td id=\"T_e753f9aa_630d_11eb_bec5_b891363e92b7row8_col2\" class=\"data row8 col2\" >0.309321</td>\n",
       "                        <td id=\"T_e753f9aa_630d_11eb_bec5_b891363e92b7row8_col3\" class=\"data row8 col3\" >0.100648</td>\n",
       "                        <td id=\"T_e753f9aa_630d_11eb_bec5_b891363e92b7row8_col4\" class=\"data row8 col4\" >0.546809</td>\n",
       "            </tr>\n",
       "            <tr>\n",
       "                        <th id=\"T_e753f9aa_630d_11eb_bec5_b891363e92b7level0_row9\" class=\"row_heading level0 row9\" >9</th>\n",
       "                        <td id=\"T_e753f9aa_630d_11eb_bec5_b891363e92b7row9_col0\" class=\"data row9 col0\" >-0.019983</td>\n",
       "                        <td id=\"T_e753f9aa_630d_11eb_bec5_b891363e92b7row9_col1\" class=\"data row9 col1\" >-0.305325</td>\n",
       "                        <td id=\"T_e753f9aa_630d_11eb_bec5_b891363e92b7row9_col2\" class=\"data row9 col2\" >0.296929</td>\n",
       "                        <td id=\"T_e753f9aa_630d_11eb_bec5_b891363e92b7row9_col3\" class=\"data row9 col3\" >-0.067298</td>\n",
       "                        <td id=\"T_e753f9aa_630d_11eb_bec5_b891363e92b7row9_col4\" class=\"data row9 col4\" >0.539899</td>\n",
       "            </tr>\n",
       "            <tr>\n",
       "                        <th id=\"T_e753f9aa_630d_11eb_bec5_b891363e92b7level0_row10\" class=\"row_heading level0 row10\" >high-low</th>\n",
       "                        <td id=\"T_e753f9aa_630d_11eb_bec5_b891363e92b7row10_col0\" class=\"data row10 col0\" >0.123460</td>\n",
       "                        <td id=\"T_e753f9aa_630d_11eb_bec5_b891363e92b7row10_col1\" class=\"data row10 col1\" >6.101864</td>\n",
       "                        <td id=\"T_e753f9aa_630d_11eb_bec5_b891363e92b7row10_col2\" class=\"data row10 col2\" >0.091795</td>\n",
       "                        <td id=\"T_e753f9aa_630d_11eb_bec5_b891363e92b7row10_col3\" class=\"data row10 col3\" >1.344945</td>\n",
       "                        <td id=\"T_e753f9aa_630d_11eb_bec5_b891363e92b7row10_col4\" class=\"data row10 col4\" >0.154815</td>\n",
       "            </tr>\n",
       "    </tbody></table>"
      ],
      "text/plain": [
       "<pandas.io.formats.style.Styler at 0x28f4e2a4220>"
      ]
     },
     "execution_count": 104,
     "metadata": {},
     "output_type": "execute_result"
    }
   ],
   "source": [
    "# 好看的显示格式\n",
    "result.T.style.applymap(lambda x: 'color:red' if abs(x)>2 else 'color:None',subset='t-stats').\\\n",
    "        applymap(lambda x: 'background-color:lime' if x>0.6 else 'background-color:None',subset='Maxdraw').\\\n",
    "        applymap(lambda x: 'background-color:red' if x>0.5 else 'background-color:None',subset='sharpe_ratio')"
   ]
  },
  {
   "cell_type": "markdown",
   "metadata": {},
   "source": [
    "## 计算risk-adjusted $\\alpha$"
   ]
  },
  {
   "cell_type": "code",
   "execution_count": 105,
   "metadata": {
    "ExecuteTime": {
     "end_time": "2021-01-30T15:15:22.251005Z",
     "start_time": "2021-01-30T15:15:22.134069Z"
    }
   },
   "outputs": [],
   "source": [
    "# data source: https://www.factorwar.com/data/factor-models/\n",
    "capm = pd.read_csv('../benchmark_factor/capm_factor.csv')\n",
    "ff3 = pd.read_csv('../benchmark_factor/ff3_factor.csv')\n",
    "carhart = pd.read_csv('../benchmark_factor/carhart_factor.csv')\n",
    "ff5 = pd.read_csv('../benchmark_factor/ff5_factor.csv')\n",
    "q = pd.read_csv('../benchmark_factor/q_factor.csv')\n",
    "sy = pd.read_csv('../benchmark_factor/sy_factor.csv')\n",
    "dhs = pd.read_csv('../benchmark_factor/dhs_factor.csv')\n",
    "\n",
    "capm['month'] = capm['date'].apply(lambda x: x.split('-')[0]+x.split('-')[1]).astype(int)\n",
    "ff3['month'] = ff3['date'].apply(lambda x: x.split('-')[0]+x.split('-')[1]).astype(int)\n",
    "carhart['month'] = carhart['date'].apply(lambda x: x.split('-')[0]+x.split('-')[1]).astype(int)\n",
    "ff5['month'] = ff5['date'].apply(lambda x: x.split('-')[0]+x.split('-')[1]).astype(int)\n",
    "q['month'] = q['date'].apply(lambda x: x.split('-')[0]+x.split('-')[1]).astype(int)\n",
    "sy['month'] = sy['date'].apply(lambda x: x.split('-')[0]+x.split('-')[1]).astype(int)\n",
    "dhs['month'] = dhs['date'].apply(lambda x: x.split('-')[0]+x.split('-')[1]).astype(int)\n",
    "\n",
    "reg_capm = pd.merge(port_result.reset_index().rename(columns={'index':'month'}),capm).dropna().reset_index(drop=True)\n",
    "reg_ff3 = pd.merge(port_result.reset_index().rename(columns={'index':'month'}),ff3).dropna().reset_index(drop=True)\n",
    "reg_carhart = pd.merge(port_result.reset_index().rename(columns={'index':'month'}),carhart).dropna().reset_index(drop=True)\n",
    "reg_ff5 = pd.merge(port_result.reset_index().rename(columns={'index':'month'}),ff5).dropna().reset_index(drop=True)\n",
    "reg_q = pd.merge(port_result.reset_index().rename(columns={'index':'month'}),q).dropna().reset_index(drop=True)\n",
    "reg_sy = pd.merge(port_result.reset_index().rename(columns={'index':'month'}),sy).dropna().reset_index(drop=True)\n",
    "reg_dhs = pd.merge(port_result.reset_index().rename(columns={'index':'month'}),dhs).dropna().reset_index(drop=True)\n",
    "\n",
    "reg_all = pd.merge(reg_ff5,reg_carhart[['month','UMD']],on='month')\n",
    "reg_all = pd.merge(reg_all,reg_q[['month','R_inv','R_roe']],on='month')\n",
    "reg_all = pd.merge(reg_all,reg_sy[['month','R_mgmt','R_perf']],on='month')\n",
    "reg_all = pd.merge(reg_all,reg_dhs[['month','R_fin','R_pead']],on='month').reset_index(drop=True)"
   ]
  },
  {
   "cell_type": "code",
   "execution_count": 106,
   "metadata": {
    "ExecuteTime": {
     "end_time": "2021-01-30T15:15:23.726126Z",
     "start_time": "2021-01-30T15:15:23.709125Z"
    }
   },
   "outputs": [],
   "source": [
    "def outreg1(y,x):\n",
    "    X = sm.add_constant(x)\n",
    "    # Newey-West t, lag = N^(1/4) = 220^(1/4) = 4\n",
    "    result = sm.OLS(y,X).fit(cov_type='HAC',cov_kwds={'maxlags':4})\n",
    "    coef = result.params.values\n",
    "    tvalue = result.tvalues.values\n",
    "    coef_name = result.params.index.to_numpy()\n",
    "    coef_t_name = list(map(lambda x:x+'_t',coef_name))\n",
    "    output = pd.DataFrame()\n",
    "    output['coef'] = coef\n",
    "    output['tvalue'] = tvalue\n",
    "    output.index = coef_name\n",
    "    output.loc['N'] = round(result.nobs,0)\n",
    "    output.loc['R2'] = result.rsquared_adj\n",
    "    return output"
   ]
  },
  {
   "cell_type": "code",
   "execution_count": 107,
   "metadata": {
    "ExecuteTime": {
     "end_time": "2021-01-30T15:15:25.881606Z",
     "start_time": "2021-01-30T15:15:25.792194Z"
    },
    "scrolled": false
   },
   "outputs": [
    {
     "data": {
      "text/html": [
       "<div>\n",
       "<style scoped>\n",
       "    .dataframe tbody tr th:only-of-type {\n",
       "        vertical-align: middle;\n",
       "    }\n",
       "\n",
       "    .dataframe tbody tr th {\n",
       "        vertical-align: top;\n",
       "    }\n",
       "\n",
       "    .dataframe thead th {\n",
       "        text-align: right;\n",
       "    }\n",
       "</style>\n",
       "<table border=\"1\" class=\"dataframe\">\n",
       "  <thead>\n",
       "    <tr style=\"text-align: right;\">\n",
       "      <th></th>\n",
       "      <th>Alpha</th>\n",
       "      <th>MKT</th>\n",
       "      <th>SMB</th>\n",
       "      <th>HML</th>\n",
       "      <th>RMW</th>\n",
       "      <th>CMA</th>\n",
       "      <th>UMD</th>\n",
       "      <th>R_me</th>\n",
       "      <th>R_inv</th>\n",
       "      <th>R_roe</th>\n",
       "      <th>R_smb</th>\n",
       "      <th>R_mgmt</th>\n",
       "      <th>R_perf</th>\n",
       "      <th>R_fin</th>\n",
       "      <th>R_pead</th>\n",
       "      <th>N</th>\n",
       "      <th>R2</th>\n",
       "    </tr>\n",
       "  </thead>\n",
       "  <tbody>\n",
       "    <tr>\n",
       "      <th>FF5</th>\n",
       "      <td>0.008742</td>\n",
       "      <td>0.013855</td>\n",
       "      <td>0.240294</td>\n",
       "      <td>0.020373</td>\n",
       "      <td>0.042676</td>\n",
       "      <td>-0.011883</td>\n",
       "      <td>NaN</td>\n",
       "      <td>NaN</td>\n",
       "      <td>NaN</td>\n",
       "      <td>NaN</td>\n",
       "      <td>NaN</td>\n",
       "      <td>NaN</td>\n",
       "      <td>NaN</td>\n",
       "      <td>NaN</td>\n",
       "      <td>NaN</td>\n",
       "      <td>247.0</td>\n",
       "      <td>0.124361</td>\n",
       "    </tr>\n",
       "    <tr>\n",
       "      <th>FF5_t</th>\n",
       "      <td>5.071134</td>\n",
       "      <td>0.706383</td>\n",
       "      <td>3.779585</td>\n",
       "      <td>0.350561</td>\n",
       "      <td>0.436148</td>\n",
       "      <td>-0.079666</td>\n",
       "      <td>NaN</td>\n",
       "      <td>NaN</td>\n",
       "      <td>NaN</td>\n",
       "      <td>NaN</td>\n",
       "      <td>NaN</td>\n",
       "      <td>NaN</td>\n",
       "      <td>NaN</td>\n",
       "      <td>NaN</td>\n",
       "      <td>NaN</td>\n",
       "      <td>247.0</td>\n",
       "      <td>0.124361</td>\n",
       "    </tr>\n",
       "    <tr>\n",
       "      <th>Carhart</th>\n",
       "      <td>0.009158</td>\n",
       "      <td>0.007489</td>\n",
       "      <td>0.212891</td>\n",
       "      <td>0.004211</td>\n",
       "      <td>NaN</td>\n",
       "      <td>NaN</td>\n",
       "      <td>0.050537</td>\n",
       "      <td>NaN</td>\n",
       "      <td>NaN</td>\n",
       "      <td>NaN</td>\n",
       "      <td>NaN</td>\n",
       "      <td>NaN</td>\n",
       "      <td>NaN</td>\n",
       "      <td>NaN</td>\n",
       "      <td>NaN</td>\n",
       "      <td>247.0</td>\n",
       "      <td>0.128110</td>\n",
       "    </tr>\n",
       "    <tr>\n",
       "      <th>Carhart_t</th>\n",
       "      <td>6.007914</td>\n",
       "      <td>0.413887</td>\n",
       "      <td>5.160379</td>\n",
       "      <td>0.072582</td>\n",
       "      <td>NaN</td>\n",
       "      <td>NaN</td>\n",
       "      <td>1.108779</td>\n",
       "      <td>NaN</td>\n",
       "      <td>NaN</td>\n",
       "      <td>NaN</td>\n",
       "      <td>NaN</td>\n",
       "      <td>NaN</td>\n",
       "      <td>NaN</td>\n",
       "      <td>NaN</td>\n",
       "      <td>NaN</td>\n",
       "      <td>247.0</td>\n",
       "      <td>0.128110</td>\n",
       "    </tr>\n",
       "    <tr>\n",
       "      <th>HXZ4</th>\n",
       "      <td>0.009131</td>\n",
       "      <td>0.004576</td>\n",
       "      <td>NaN</td>\n",
       "      <td>NaN</td>\n",
       "      <td>NaN</td>\n",
       "      <td>NaN</td>\n",
       "      <td>NaN</td>\n",
       "      <td>0.244102</td>\n",
       "      <td>0.031222</td>\n",
       "      <td>-0.057813</td>\n",
       "      <td>NaN</td>\n",
       "      <td>NaN</td>\n",
       "      <td>NaN</td>\n",
       "      <td>NaN</td>\n",
       "      <td>NaN</td>\n",
       "      <td>203.0</td>\n",
       "      <td>0.197329</td>\n",
       "    </tr>\n",
       "    <tr>\n",
       "      <th>HXZ_t</th>\n",
       "      <td>5.502525</td>\n",
       "      <td>0.246840</td>\n",
       "      <td>NaN</td>\n",
       "      <td>NaN</td>\n",
       "      <td>NaN</td>\n",
       "      <td>NaN</td>\n",
       "      <td>NaN</td>\n",
       "      <td>4.866821</td>\n",
       "      <td>0.339357</td>\n",
       "      <td>-0.932442</td>\n",
       "      <td>NaN</td>\n",
       "      <td>NaN</td>\n",
       "      <td>NaN</td>\n",
       "      <td>NaN</td>\n",
       "      <td>NaN</td>\n",
       "      <td>203.0</td>\n",
       "      <td>0.197329</td>\n",
       "    </tr>\n",
       "    <tr>\n",
       "      <th>SY4</th>\n",
       "      <td>0.007939</td>\n",
       "      <td>0.030542</td>\n",
       "      <td>NaN</td>\n",
       "      <td>NaN</td>\n",
       "      <td>NaN</td>\n",
       "      <td>NaN</td>\n",
       "      <td>NaN</td>\n",
       "      <td>NaN</td>\n",
       "      <td>NaN</td>\n",
       "      <td>NaN</td>\n",
       "      <td>0.242618</td>\n",
       "      <td>0.187532</td>\n",
       "      <td>0.114523</td>\n",
       "      <td>NaN</td>\n",
       "      <td>NaN</td>\n",
       "      <td>220.0</td>\n",
       "      <td>0.198311</td>\n",
       "    </tr>\n",
       "    <tr>\n",
       "      <th>SY_t</th>\n",
       "      <td>5.089947</td>\n",
       "      <td>1.447096</td>\n",
       "      <td>NaN</td>\n",
       "      <td>NaN</td>\n",
       "      <td>NaN</td>\n",
       "      <td>NaN</td>\n",
       "      <td>NaN</td>\n",
       "      <td>NaN</td>\n",
       "      <td>NaN</td>\n",
       "      <td>NaN</td>\n",
       "      <td>6.227880</td>\n",
       "      <td>2.376034</td>\n",
       "      <td>2.606455</td>\n",
       "      <td>NaN</td>\n",
       "      <td>NaN</td>\n",
       "      <td>220.0</td>\n",
       "      <td>0.198311</td>\n",
       "    </tr>\n",
       "    <tr>\n",
       "      <th>DHS4</th>\n",
       "      <td>0.010778</td>\n",
       "      <td>0.015000</td>\n",
       "      <td>NaN</td>\n",
       "      <td>NaN</td>\n",
       "      <td>NaN</td>\n",
       "      <td>NaN</td>\n",
       "      <td>NaN</td>\n",
       "      <td>NaN</td>\n",
       "      <td>NaN</td>\n",
       "      <td>NaN</td>\n",
       "      <td>NaN</td>\n",
       "      <td>NaN</td>\n",
       "      <td>NaN</td>\n",
       "      <td>-0.027917</td>\n",
       "      <td>-0.185590</td>\n",
       "      <td>220.0</td>\n",
       "      <td>0.017279</td>\n",
       "    </tr>\n",
       "    <tr>\n",
       "      <th>DHS4_t</th>\n",
       "      <td>6.383869</td>\n",
       "      <td>0.529078</td>\n",
       "      <td>NaN</td>\n",
       "      <td>NaN</td>\n",
       "      <td>NaN</td>\n",
       "      <td>NaN</td>\n",
       "      <td>NaN</td>\n",
       "      <td>NaN</td>\n",
       "      <td>NaN</td>\n",
       "      <td>NaN</td>\n",
       "      <td>NaN</td>\n",
       "      <td>NaN</td>\n",
       "      <td>NaN</td>\n",
       "      <td>-0.294733</td>\n",
       "      <td>-1.545731</td>\n",
       "      <td>220.0</td>\n",
       "      <td>0.017279</td>\n",
       "    </tr>\n",
       "    <tr>\n",
       "      <th>ALL</th>\n",
       "      <td>0.009421</td>\n",
       "      <td>0.034237</td>\n",
       "      <td>0.239959</td>\n",
       "      <td>-0.022901</td>\n",
       "      <td>0.087258</td>\n",
       "      <td>0.312209</td>\n",
       "      <td>-0.048886</td>\n",
       "      <td>NaN</td>\n",
       "      <td>-0.328352</td>\n",
       "      <td>-0.112617</td>\n",
       "      <td>NaN</td>\n",
       "      <td>0.202772</td>\n",
       "      <td>0.189437</td>\n",
       "      <td>0.057378</td>\n",
       "      <td>0.017911</td>\n",
       "      <td>203.0</td>\n",
       "      <td>0.206459</td>\n",
       "    </tr>\n",
       "    <tr>\n",
       "      <th>ALL_t</th>\n",
       "      <td>5.314173</td>\n",
       "      <td>1.587812</td>\n",
       "      <td>3.016783</td>\n",
       "      <td>-0.347913</td>\n",
       "      <td>0.627140</td>\n",
       "      <td>1.360899</td>\n",
       "      <td>-0.784915</td>\n",
       "      <td>NaN</td>\n",
       "      <td>-1.269175</td>\n",
       "      <td>-1.149218</td>\n",
       "      <td>NaN</td>\n",
       "      <td>1.907105</td>\n",
       "      <td>2.396618</td>\n",
       "      <td>0.804048</td>\n",
       "      <td>0.224959</td>\n",
       "      <td>203.0</td>\n",
       "      <td>0.206459</td>\n",
       "    </tr>\n",
       "  </tbody>\n",
       "</table>\n",
       "</div>"
      ],
      "text/plain": [
       "              Alpha       MKT       SMB       HML       RMW       CMA  \\\n",
       "FF5        0.008742  0.013855  0.240294  0.020373  0.042676 -0.011883   \n",
       "FF5_t      5.071134  0.706383  3.779585  0.350561  0.436148 -0.079666   \n",
       "Carhart    0.009158  0.007489  0.212891  0.004211       NaN       NaN   \n",
       "Carhart_t  6.007914  0.413887  5.160379  0.072582       NaN       NaN   \n",
       "HXZ4       0.009131  0.004576       NaN       NaN       NaN       NaN   \n",
       "HXZ_t      5.502525  0.246840       NaN       NaN       NaN       NaN   \n",
       "SY4        0.007939  0.030542       NaN       NaN       NaN       NaN   \n",
       "SY_t       5.089947  1.447096       NaN       NaN       NaN       NaN   \n",
       "DHS4       0.010778  0.015000       NaN       NaN       NaN       NaN   \n",
       "DHS4_t     6.383869  0.529078       NaN       NaN       NaN       NaN   \n",
       "ALL        0.009421  0.034237  0.239959 -0.022901  0.087258  0.312209   \n",
       "ALL_t      5.314173  1.587812  3.016783 -0.347913  0.627140  1.360899   \n",
       "\n",
       "                UMD      R_me     R_inv     R_roe     R_smb    R_mgmt  \\\n",
       "FF5             NaN       NaN       NaN       NaN       NaN       NaN   \n",
       "FF5_t           NaN       NaN       NaN       NaN       NaN       NaN   \n",
       "Carhart    0.050537       NaN       NaN       NaN       NaN       NaN   \n",
       "Carhart_t  1.108779       NaN       NaN       NaN       NaN       NaN   \n",
       "HXZ4            NaN  0.244102  0.031222 -0.057813       NaN       NaN   \n",
       "HXZ_t           NaN  4.866821  0.339357 -0.932442       NaN       NaN   \n",
       "SY4             NaN       NaN       NaN       NaN  0.242618  0.187532   \n",
       "SY_t            NaN       NaN       NaN       NaN  6.227880  2.376034   \n",
       "DHS4            NaN       NaN       NaN       NaN       NaN       NaN   \n",
       "DHS4_t          NaN       NaN       NaN       NaN       NaN       NaN   \n",
       "ALL       -0.048886       NaN -0.328352 -0.112617       NaN  0.202772   \n",
       "ALL_t     -0.784915       NaN -1.269175 -1.149218       NaN  1.907105   \n",
       "\n",
       "             R_perf     R_fin    R_pead      N        R2  \n",
       "FF5             NaN       NaN       NaN  247.0  0.124361  \n",
       "FF5_t           NaN       NaN       NaN  247.0  0.124361  \n",
       "Carhart         NaN       NaN       NaN  247.0  0.128110  \n",
       "Carhart_t       NaN       NaN       NaN  247.0  0.128110  \n",
       "HXZ4            NaN       NaN       NaN  203.0  0.197329  \n",
       "HXZ_t           NaN       NaN       NaN  203.0  0.197329  \n",
       "SY4        0.114523       NaN       NaN  220.0  0.198311  \n",
       "SY_t       2.606455       NaN       NaN  220.0  0.198311  \n",
       "DHS4            NaN -0.027917 -0.185590  220.0  0.017279  \n",
       "DHS4_t          NaN -0.294733 -1.545731  220.0  0.017279  \n",
       "ALL        0.189437  0.057378  0.017911  203.0  0.206459  \n",
       "ALL_t      2.396618  0.804048  0.224959  203.0  0.206459  "
      ]
     },
     "execution_count": 107,
     "metadata": {},
     "output_type": "execute_result"
    }
   ],
   "source": [
    "y_idx = 'high-low'\n",
    "regtab = pd.DataFrame(index=['const','MKT','SMB','HML','RMW','CMA',\\\n",
    "                             'UMD','R_me','R_inv', 'R_roe','R_smb',\\\n",
    "                             'R_mgmt','R_perf','R_fin','R_pead','N','R2'])\n",
    "x = reg_ff5[['MKT','SMB','HML','RMW','CMA']]\n",
    "y = reg_ff5[y_idx]\n",
    "regtab[['FF5','FF5_t']] = outreg1(y,x)\n",
    "\n",
    "x = reg_carhart[['MKT','SMB','HML','UMD']]\n",
    "y = reg_carhart[y_idx]\n",
    "regtab[['Carhart','Carhart_t']] = outreg1(y,x)\n",
    "\n",
    "x = reg_q[['MKT','R_me','R_inv','R_roe']]\n",
    "y = reg_q[y_idx]\n",
    "regtab[['HXZ4','HXZ_t']] = outreg1(y,x)\n",
    "\n",
    "x = reg_sy[['MKT','R_smb','R_mgmt','R_perf']]\n",
    "y = reg_sy[y_idx]\n",
    "regtab[['SY4','SY_t']] = outreg1(y,x)\n",
    "\n",
    "x = reg_dhs[['MKT','R_fin','R_pead']]\n",
    "y = reg_dhs[y_idx]\n",
    "regtab[['DHS4','DHS4_t']] = outreg1(y,x)\n",
    "\n",
    "x = reg_all[['MKT','SMB','HML','RMW','CMA','UMD','R_inv','R_roe','R_mgmt','R_perf','R_fin','R_pead']]\n",
    "y = reg_all[y_idx]\n",
    "regtab[['ALL','ALL_t']] = outreg1(y,x)\n",
    "# x = reg_ff3[['MKT','SMB','HML']]\n",
    "# y = reg_ff3[y_idx]\n",
    "# x = reg_capm[['MKT']]\n",
    "# y = reg_capm[y_idx]\n",
    "regtab = regtab.T.rename(columns={'const':'Alpha'})\n",
    "regtab"
   ]
  },
  {
   "cell_type": "markdown",
   "metadata": {},
   "source": [
    "# 因子组合分析 (double sort)"
   ]
  },
  {
   "cell_type": "code",
   "execution_count": 145,
   "metadata": {
    "ExecuteTime": {
     "end_time": "2021-01-30T06:56:34.719549Z",
     "start_time": "2021-01-30T06:56:34.707582Z"
    }
   },
   "outputs": [],
   "source": [
    "def qcut2(rebalance_group,fac_name,q_size):\n",
    "    rebalance_group = rebalance_group[rebalance_group[fac_name]>=rebalance_group[fac_name].quantile(q=0.1)].reset_index(drop=True)\n",
    "    rebalance_group = rebalance_group.sort_values(by=fac_name).reset_index(drop=True)\n",
    "    rebalance_group['decile2'] = pd.qcut(rebalance_group.index,q = q_size,labels = [str(i) for i in range(q_size)])\n",
    "    return rebalance_group"
   ]
  },
  {
   "cell_type": "code",
   "execution_count": 108,
   "metadata": {
    "ExecuteTime": {
     "end_time": "2021-01-30T15:16:14.074007Z",
     "start_time": "2021-01-30T15:16:10.691871Z"
    }
   },
   "outputs": [],
   "source": [
    "month_list = total['month'].unique().tolist()\n",
    "q_size = 5\n",
    "fac_name1 = 'skew'\n",
    "fac_name2 = 'total_mv'\n",
    "Mret_list = []\n",
    "Rf = rf.groupby('month').apply(lambda x:x.iloc[-1]).reset_index(drop=True)[['month','R007']]\n",
    "\n",
    "for i in range(1,len(month_list)):\n",
    "    rebalance_group = total[total['month'] == month_list[i-1]].reset_index(drop=True)\n",
    "    rebalance_group['decile1'] = pd.qcut(rebalance_group[fac_name1],q=q_size,labels = [str(i) for i in range(q_size)])\n",
    "    #rebalance_group = qcut2(rebalance_group,fac_name2,q_size)\n",
    "    rebalance_group['decile2'] = pd.qcut(rebalance_group[fac_name2],q=q_size,labels = [str(i) for i in range(q_size)])\n",
    "    rebalance_group['decile'] = rebalance_group['decile1'].astype(str)+rebalance_group['decile2'].astype(str)\n",
    "\n",
    "    current_group = total[total['month'] == month_list[i]].reset_index(drop=True)\n",
    "    current_group = current_group.rename(columns={'total_mv':'total_mv_end'}) # 获得月初的总市值\n",
    "    current_group = pd.merge(current_group,rebalance_group[['ts_code','decile','total_mv']]) # 结合上一句，用来计算VW_ret\n",
    "    current_group = current_group[pd.notnull(current_group['decile'])].reset_index(drop=True)\n",
    "    current_group['vw_ret'] = current_group['total_mv']*current_group['pct_chg']\n",
    "\n",
    "    rf_rate = Rf[Rf['month']==month_list[i]]['R007'].iloc[0]*12\n",
    "    # EW return\n",
    "    group_ret = current_group.groupby('decile').mean()['pct_chg'] - rf_rate\n",
    "    # VW return\n",
    "    #group_ret = current_group.groupby('decile').sum()['vw_ret']/current_group.groupby('decile').sum()['total_mv'] - rf_rate\n",
    "    group_ret.name = month_list[i]\n",
    "\n",
    "    Mret_list.append(group_ret)"
   ]
  },
  {
   "cell_type": "code",
   "execution_count": 109,
   "metadata": {
    "ExecuteTime": {
     "end_time": "2021-01-30T15:16:15.169771Z",
     "start_time": "2021-01-30T15:16:15.099933Z"
    }
   },
   "outputs": [],
   "source": [
    "port_result = pd.concat(Mret_list,axis=1).T\n",
    "port_result = pd.DataFrame(port_result.values,index=port_result.index,columns=port_result.columns.tolist())\n",
    "dt = list(map(lambda x:datetime.strptime(str(x),'%Y%m'),port_result.index.tolist()))\n",
    "port_result['high-low'] = (port_result['00']+port_result['01']+port_result['02']+port_result['03']+port_result['04'])/q_size \\\n",
    "                           - (port_result['40']+port_result['41']+port_result['42']+port_result['43']+port_result['44'])/q_size"
   ]
  },
  {
   "cell_type": "code",
   "execution_count": 110,
   "metadata": {
    "ExecuteTime": {
     "end_time": "2021-01-30T15:16:16.505980Z",
     "start_time": "2021-01-30T15:16:16.472062Z"
    }
   },
   "outputs": [],
   "source": [
    "#ttest = stats.ttest_1samp(port_result,0)\n",
    "ttest = [stats.ttest_1samp(port_result.iloc[:,i].dropna().reset_index(drop=True),0).statistic for i in range(26)]\n",
    "result = pd.DataFrame()\n",
    "result['port_mean_ret'] = 100*port_result.mean().reset_index(drop=True) # 因子组合年度收益率\n",
    "result['t-stats'] = ttest # t统计量\n",
    "result['port_annual_vol'] = math.sqrt(12)*port_result.std().reset_index(drop=True) # 因子组合年化波动率\n",
    "result['sharpe_ratio'] = result['port_mean_ret']/result['port_annual_vol']/100*12 # 因子组合夏普比率\n",
    "result['Maxdraw'] = (port_result.expanding().max() - port_result).max().tolist() # 因子组合最大回撤\n",
    "result = result.T\n",
    "result.columns = port_result.columns"
   ]
  },
  {
   "cell_type": "code",
   "execution_count": 114,
   "metadata": {
    "ExecuteTime": {
     "end_time": "2021-01-30T15:17:42.667128Z",
     "start_time": "2021-01-30T15:17:42.649141Z"
    },
    "scrolled": true
   },
   "outputs": [
    {
     "data": {
      "text/html": [
       "<style  type=\"text/css\" >\n",
       "#T_4c59b3cc_630e_11eb_8050_b891363e92b7row0_col1,#T_4c59b3cc_630e_11eb_8050_b891363e92b7row5_col1,#T_4c59b3cc_630e_11eb_8050_b891363e92b7row10_col1,#T_4c59b3cc_630e_11eb_8050_b891363e92b7row25_col1{\n",
       "            color: red;\n",
       "        }#T_4c59b3cc_630e_11eb_8050_b891363e92b7row0_col3,#T_4c59b3cc_630e_11eb_8050_b891363e92b7row5_col3,#T_4c59b3cc_630e_11eb_8050_b891363e92b7row25_col3{\n",
       "            background-color: red;\n",
       "        }#T_4c59b3cc_630e_11eb_8050_b891363e92b7row0_col4,#T_4c59b3cc_630e_11eb_8050_b891363e92b7row1_col3,#T_4c59b3cc_630e_11eb_8050_b891363e92b7row2_col3,#T_4c59b3cc_630e_11eb_8050_b891363e92b7row3_col3,#T_4c59b3cc_630e_11eb_8050_b891363e92b7row3_col4,#T_4c59b3cc_630e_11eb_8050_b891363e92b7row4_col3,#T_4c59b3cc_630e_11eb_8050_b891363e92b7row4_col4,#T_4c59b3cc_630e_11eb_8050_b891363e92b7row5_col4,#T_4c59b3cc_630e_11eb_8050_b891363e92b7row6_col3,#T_4c59b3cc_630e_11eb_8050_b891363e92b7row7_col3,#T_4c59b3cc_630e_11eb_8050_b891363e92b7row8_col3,#T_4c59b3cc_630e_11eb_8050_b891363e92b7row9_col3,#T_4c59b3cc_630e_11eb_8050_b891363e92b7row9_col4,#T_4c59b3cc_630e_11eb_8050_b891363e92b7row10_col3,#T_4c59b3cc_630e_11eb_8050_b891363e92b7row11_col3,#T_4c59b3cc_630e_11eb_8050_b891363e92b7row11_col4,#T_4c59b3cc_630e_11eb_8050_b891363e92b7row12_col3,#T_4c59b3cc_630e_11eb_8050_b891363e92b7row13_col3,#T_4c59b3cc_630e_11eb_8050_b891363e92b7row13_col4,#T_4c59b3cc_630e_11eb_8050_b891363e92b7row14_col3,#T_4c59b3cc_630e_11eb_8050_b891363e92b7row14_col4,#T_4c59b3cc_630e_11eb_8050_b891363e92b7row15_col3,#T_4c59b3cc_630e_11eb_8050_b891363e92b7row16_col3,#T_4c59b3cc_630e_11eb_8050_b891363e92b7row16_col4,#T_4c59b3cc_630e_11eb_8050_b891363e92b7row17_col3,#T_4c59b3cc_630e_11eb_8050_b891363e92b7row18_col3,#T_4c59b3cc_630e_11eb_8050_b891363e92b7row18_col4,#T_4c59b3cc_630e_11eb_8050_b891363e92b7row19_col3,#T_4c59b3cc_630e_11eb_8050_b891363e92b7row19_col4,#T_4c59b3cc_630e_11eb_8050_b891363e92b7row20_col3,#T_4c59b3cc_630e_11eb_8050_b891363e92b7row21_col3,#T_4c59b3cc_630e_11eb_8050_b891363e92b7row21_col4,#T_4c59b3cc_630e_11eb_8050_b891363e92b7row22_col3,#T_4c59b3cc_630e_11eb_8050_b891363e92b7row22_col4,#T_4c59b3cc_630e_11eb_8050_b891363e92b7row23_col3,#T_4c59b3cc_630e_11eb_8050_b891363e92b7row23_col4,#T_4c59b3cc_630e_11eb_8050_b891363e92b7row24_col3,#T_4c59b3cc_630e_11eb_8050_b891363e92b7row24_col4,#T_4c59b3cc_630e_11eb_8050_b891363e92b7row25_col4{\n",
       "            background-color: None;\n",
       "        }#T_4c59b3cc_630e_11eb_8050_b891363e92b7row1_col1,#T_4c59b3cc_630e_11eb_8050_b891363e92b7row2_col1,#T_4c59b3cc_630e_11eb_8050_b891363e92b7row3_col1,#T_4c59b3cc_630e_11eb_8050_b891363e92b7row4_col1,#T_4c59b3cc_630e_11eb_8050_b891363e92b7row6_col1,#T_4c59b3cc_630e_11eb_8050_b891363e92b7row7_col1,#T_4c59b3cc_630e_11eb_8050_b891363e92b7row8_col1,#T_4c59b3cc_630e_11eb_8050_b891363e92b7row9_col1,#T_4c59b3cc_630e_11eb_8050_b891363e92b7row11_col1,#T_4c59b3cc_630e_11eb_8050_b891363e92b7row12_col1,#T_4c59b3cc_630e_11eb_8050_b891363e92b7row13_col1,#T_4c59b3cc_630e_11eb_8050_b891363e92b7row14_col1,#T_4c59b3cc_630e_11eb_8050_b891363e92b7row15_col1,#T_4c59b3cc_630e_11eb_8050_b891363e92b7row16_col1,#T_4c59b3cc_630e_11eb_8050_b891363e92b7row17_col1,#T_4c59b3cc_630e_11eb_8050_b891363e92b7row18_col1,#T_4c59b3cc_630e_11eb_8050_b891363e92b7row19_col1,#T_4c59b3cc_630e_11eb_8050_b891363e92b7row20_col1,#T_4c59b3cc_630e_11eb_8050_b891363e92b7row21_col1,#T_4c59b3cc_630e_11eb_8050_b891363e92b7row22_col1,#T_4c59b3cc_630e_11eb_8050_b891363e92b7row23_col1,#T_4c59b3cc_630e_11eb_8050_b891363e92b7row24_col1{\n",
       "            color: None;\n",
       "        }#T_4c59b3cc_630e_11eb_8050_b891363e92b7row1_col4,#T_4c59b3cc_630e_11eb_8050_b891363e92b7row2_col4,#T_4c59b3cc_630e_11eb_8050_b891363e92b7row6_col4,#T_4c59b3cc_630e_11eb_8050_b891363e92b7row7_col4,#T_4c59b3cc_630e_11eb_8050_b891363e92b7row8_col4,#T_4c59b3cc_630e_11eb_8050_b891363e92b7row10_col4,#T_4c59b3cc_630e_11eb_8050_b891363e92b7row12_col4,#T_4c59b3cc_630e_11eb_8050_b891363e92b7row15_col4,#T_4c59b3cc_630e_11eb_8050_b891363e92b7row17_col4,#T_4c59b3cc_630e_11eb_8050_b891363e92b7row20_col4{\n",
       "            background-color: lime;\n",
       "        }</style><table id=\"T_4c59b3cc_630e_11eb_8050_b891363e92b7\" ><thead>    <tr>        <th class=\"blank level0\" ></th>        <th class=\"col_heading level0 col0\" >port_mean_ret</th>        <th class=\"col_heading level0 col1\" >t-stats</th>        <th class=\"col_heading level0 col2\" >port_annual_vol</th>        <th class=\"col_heading level0 col3\" >sharpe_ratio</th>        <th class=\"col_heading level0 col4\" >Maxdraw</th>    </tr></thead><tbody>\n",
       "                <tr>\n",
       "                        <th id=\"T_4c59b3cc_630e_11eb_8050_b891363e92b7level0_row0\" class=\"row_heading level0 row0\" >00</th>\n",
       "                        <td id=\"T_4c59b3cc_630e_11eb_8050_b891363e92b7row0_col0\" class=\"data row0 col0\" >1.761733</td>\n",
       "                        <td id=\"T_4c59b3cc_630e_11eb_8050_b891363e92b7row0_col1\" class=\"data row0 col1\" >2.710809</td>\n",
       "                        <td id=\"T_4c59b3cc_630e_11eb_8050_b891363e92b7row0_col2\" class=\"data row0 col2\" >0.353818</td>\n",
       "                        <td id=\"T_4c59b3cc_630e_11eb_8050_b891363e92b7row0_col3\" class=\"data row0 col3\" >0.597504</td>\n",
       "                        <td id=\"T_4c59b3cc_630e_11eb_8050_b891363e92b7row0_col4\" class=\"data row0 col4\" >0.586917</td>\n",
       "            </tr>\n",
       "            <tr>\n",
       "                        <th id=\"T_4c59b3cc_630e_11eb_8050_b891363e92b7level0_row1\" class=\"row_heading level0 row1\" >01</th>\n",
       "                        <td id=\"T_4c59b3cc_630e_11eb_8050_b891363e92b7row1_col0\" class=\"data row1 col0\" >0.878740</td>\n",
       "                        <td id=\"T_4c59b3cc_630e_11eb_8050_b891363e92b7row1_col1\" class=\"data row1 col1\" >1.410267</td>\n",
       "                        <td id=\"T_4c59b3cc_630e_11eb_8050_b891363e92b7row1_col2\" class=\"data row1 col2\" >0.339233</td>\n",
       "                        <td id=\"T_4c59b3cc_630e_11eb_8050_b891363e92b7row1_col3\" class=\"data row1 col3\" >0.310845</td>\n",
       "                        <td id=\"T_4c59b3cc_630e_11eb_8050_b891363e92b7row1_col4\" class=\"data row1 col4\" >0.621490</td>\n",
       "            </tr>\n",
       "            <tr>\n",
       "                        <th id=\"T_4c59b3cc_630e_11eb_8050_b891363e92b7level0_row2\" class=\"row_heading level0 row2\" >02</th>\n",
       "                        <td id=\"T_4c59b3cc_630e_11eb_8050_b891363e92b7row2_col0\" class=\"data row2 col0\" >0.645153</td>\n",
       "                        <td id=\"T_4c59b3cc_630e_11eb_8050_b891363e92b7row2_col1\" class=\"data row2 col1\" >1.076110</td>\n",
       "                        <td id=\"T_4c59b3cc_630e_11eb_8050_b891363e92b7row2_col2\" class=\"data row2 col2\" >0.326396</td>\n",
       "                        <td id=\"T_4c59b3cc_630e_11eb_8050_b891363e92b7row2_col3\" class=\"data row2 col3\" >0.237191</td>\n",
       "                        <td id=\"T_4c59b3cc_630e_11eb_8050_b891363e92b7row2_col4\" class=\"data row2 col4\" >0.602154</td>\n",
       "            </tr>\n",
       "            <tr>\n",
       "                        <th id=\"T_4c59b3cc_630e_11eb_8050_b891363e92b7level0_row3\" class=\"row_heading level0 row3\" >03</th>\n",
       "                        <td id=\"T_4c59b3cc_630e_11eb_8050_b891363e92b7row3_col0\" class=\"data row3 col0\" >0.427390</td>\n",
       "                        <td id=\"T_4c59b3cc_630e_11eb_8050_b891363e92b7row3_col1\" class=\"data row3 col1\" >0.753263</td>\n",
       "                        <td id=\"T_4c59b3cc_630e_11eb_8050_b891363e92b7row3_col2\" class=\"data row3 col2\" >0.308899</td>\n",
       "                        <td id=\"T_4c59b3cc_630e_11eb_8050_b891363e92b7row3_col3\" class=\"data row3 col3\" >0.166031</td>\n",
       "                        <td id=\"T_4c59b3cc_630e_11eb_8050_b891363e92b7row3_col4\" class=\"data row3 col4\" >0.564279</td>\n",
       "            </tr>\n",
       "            <tr>\n",
       "                        <th id=\"T_4c59b3cc_630e_11eb_8050_b891363e92b7level0_row4\" class=\"row_heading level0 row4\" >04</th>\n",
       "                        <td id=\"T_4c59b3cc_630e_11eb_8050_b891363e92b7row4_col0\" class=\"data row4 col0\" >0.224992</td>\n",
       "                        <td id=\"T_4c59b3cc_630e_11eb_8050_b891363e92b7row4_col1\" class=\"data row4 col1\" >0.426730</td>\n",
       "                        <td id=\"T_4c59b3cc_630e_11eb_8050_b891363e92b7row4_col2\" class=\"data row4 col2\" >0.287047</td>\n",
       "                        <td id=\"T_4c59b3cc_630e_11eb_8050_b891363e92b7row4_col3\" class=\"data row4 col3\" >0.094058</td>\n",
       "                        <td id=\"T_4c59b3cc_630e_11eb_8050_b891363e92b7row4_col4\" class=\"data row4 col4\" >0.575679</td>\n",
       "            </tr>\n",
       "            <tr>\n",
       "                        <th id=\"T_4c59b3cc_630e_11eb_8050_b891363e92b7level0_row5\" class=\"row_heading level0 row5\" >10</th>\n",
       "                        <td id=\"T_4c59b3cc_630e_11eb_8050_b891363e92b7row5_col0\" class=\"data row5 col0\" >1.695352</td>\n",
       "                        <td id=\"T_4c59b3cc_630e_11eb_8050_b891363e92b7row5_col1\" class=\"data row5 col1\" >2.627278</td>\n",
       "                        <td id=\"T_4c59b3cc_630e_11eb_8050_b891363e92b7row5_col2\" class=\"data row5 col2\" >0.351312</td>\n",
       "                        <td id=\"T_4c59b3cc_630e_11eb_8050_b891363e92b7row5_col3\" class=\"data row5 col3\" >0.579093</td>\n",
       "                        <td id=\"T_4c59b3cc_630e_11eb_8050_b891363e92b7row5_col4\" class=\"data row5 col4\" >0.597303</td>\n",
       "            </tr>\n",
       "            <tr>\n",
       "                        <th id=\"T_4c59b3cc_630e_11eb_8050_b891363e92b7level0_row6\" class=\"row_heading level0 row6\" >11</th>\n",
       "                        <td id=\"T_4c59b3cc_630e_11eb_8050_b891363e92b7row6_col0\" class=\"data row6 col0\" >0.926301</td>\n",
       "                        <td id=\"T_4c59b3cc_630e_11eb_8050_b891363e92b7row6_col1\" class=\"data row6 col1\" >1.487807</td>\n",
       "                        <td id=\"T_4c59b3cc_630e_11eb_8050_b891363e92b7row6_col2\" class=\"data row6 col2\" >0.338957</td>\n",
       "                        <td id=\"T_4c59b3cc_630e_11eb_8050_b891363e92b7row6_col3\" class=\"data row6 col3\" >0.327936</td>\n",
       "                        <td id=\"T_4c59b3cc_630e_11eb_8050_b891363e92b7row6_col4\" class=\"data row6 col4\" >0.647383</td>\n",
       "            </tr>\n",
       "            <tr>\n",
       "                        <th id=\"T_4c59b3cc_630e_11eb_8050_b891363e92b7level0_row7\" class=\"row_heading level0 row7\" >12</th>\n",
       "                        <td id=\"T_4c59b3cc_630e_11eb_8050_b891363e92b7row7_col0\" class=\"data row7 col0\" >0.473103</td>\n",
       "                        <td id=\"T_4c59b3cc_630e_11eb_8050_b891363e92b7row7_col1\" class=\"data row7 col1\" >0.773564</td>\n",
       "                        <td id=\"T_4c59b3cc_630e_11eb_8050_b891363e92b7row7_col2\" class=\"data row7 col2\" >0.332965</td>\n",
       "                        <td id=\"T_4c59b3cc_630e_11eb_8050_b891363e92b7row7_col3\" class=\"data row7 col3\" >0.170506</td>\n",
       "                        <td id=\"T_4c59b3cc_630e_11eb_8050_b891363e92b7row7_col4\" class=\"data row7 col4\" >0.636015</td>\n",
       "            </tr>\n",
       "            <tr>\n",
       "                        <th id=\"T_4c59b3cc_630e_11eb_8050_b891363e92b7level0_row8\" class=\"row_heading level0 row8\" >13</th>\n",
       "                        <td id=\"T_4c59b3cc_630e_11eb_8050_b891363e92b7row8_col0\" class=\"data row8 col0\" >0.352428</td>\n",
       "                        <td id=\"T_4c59b3cc_630e_11eb_8050_b891363e92b7row8_col1\" class=\"data row8 col1\" >0.603815</td>\n",
       "                        <td id=\"T_4c59b3cc_630e_11eb_8050_b891363e92b7row8_col2\" class=\"data row8 col2\" >0.317764</td>\n",
       "                        <td id=\"T_4c59b3cc_630e_11eb_8050_b891363e92b7row8_col3\" class=\"data row8 col3\" >0.133090</td>\n",
       "                        <td id=\"T_4c59b3cc_630e_11eb_8050_b891363e92b7row8_col4\" class=\"data row8 col4\" >0.602166</td>\n",
       "            </tr>\n",
       "            <tr>\n",
       "                        <th id=\"T_4c59b3cc_630e_11eb_8050_b891363e92b7level0_row9\" class=\"row_heading level0 row9\" >14</th>\n",
       "                        <td id=\"T_4c59b3cc_630e_11eb_8050_b891363e92b7row9_col0\" class=\"data row9 col0\" >0.202987</td>\n",
       "                        <td id=\"T_4c59b3cc_630e_11eb_8050_b891363e92b7row9_col1\" class=\"data row9 col1\" >0.373803</td>\n",
       "                        <td id=\"T_4c59b3cc_630e_11eb_8050_b891363e92b7row9_col2\" class=\"data row9 col2\" >0.295641</td>\n",
       "                        <td id=\"T_4c59b3cc_630e_11eb_8050_b891363e92b7row9_col3\" class=\"data row9 col3\" >0.082392</td>\n",
       "                        <td id=\"T_4c59b3cc_630e_11eb_8050_b891363e92b7row9_col4\" class=\"data row9 col4\" >0.550521</td>\n",
       "            </tr>\n",
       "            <tr>\n",
       "                        <th id=\"T_4c59b3cc_630e_11eb_8050_b891363e92b7level0_row10\" class=\"row_heading level0 row10\" >20</th>\n",
       "                        <td id=\"T_4c59b3cc_630e_11eb_8050_b891363e92b7row10_col0\" class=\"data row10 col0\" >1.441112</td>\n",
       "                        <td id=\"T_4c59b3cc_630e_11eb_8050_b891363e92b7row10_col1\" class=\"data row10 col1\" >2.186210</td>\n",
       "                        <td id=\"T_4c59b3cc_630e_11eb_8050_b891363e92b7row10_col2\" class=\"data row10 col2\" >0.358876</td>\n",
       "                        <td id=\"T_4c59b3cc_630e_11eb_8050_b891363e92b7row10_col3\" class=\"data row10 col3\" >0.481875</td>\n",
       "                        <td id=\"T_4c59b3cc_630e_11eb_8050_b891363e92b7row10_col4\" class=\"data row10 col4\" >0.643106</td>\n",
       "            </tr>\n",
       "            <tr>\n",
       "                        <th id=\"T_4c59b3cc_630e_11eb_8050_b891363e92b7level0_row11\" class=\"row_heading level0 row11\" >21</th>\n",
       "                        <td id=\"T_4c59b3cc_630e_11eb_8050_b891363e92b7row11_col0\" class=\"data row11 col0\" >0.754909</td>\n",
       "                        <td id=\"T_4c59b3cc_630e_11eb_8050_b891363e92b7row11_col1\" class=\"data row11 col1\" >1.207577</td>\n",
       "                        <td id=\"T_4c59b3cc_630e_11eb_8050_b891363e92b7row11_col2\" class=\"data row11 col2\" >0.340344</td>\n",
       "                        <td id=\"T_4c59b3cc_630e_11eb_8050_b891363e92b7row11_col3\" class=\"data row11 col3\" >0.266169</td>\n",
       "                        <td id=\"T_4c59b3cc_630e_11eb_8050_b891363e92b7row11_col4\" class=\"data row11 col4\" >0.595311</td>\n",
       "            </tr>\n",
       "            <tr>\n",
       "                        <th id=\"T_4c59b3cc_630e_11eb_8050_b891363e92b7level0_row12\" class=\"row_heading level0 row12\" >22</th>\n",
       "                        <td id=\"T_4c59b3cc_630e_11eb_8050_b891363e92b7row12_col0\" class=\"data row12 col0\" >0.400473</td>\n",
       "                        <td id=\"T_4c59b3cc_630e_11eb_8050_b891363e92b7row12_col1\" class=\"data row12 col1\" >0.649136</td>\n",
       "                        <td id=\"T_4c59b3cc_630e_11eb_8050_b891363e92b7row12_col2\" class=\"data row12 col2\" >0.335874</td>\n",
       "                        <td id=\"T_4c59b3cc_630e_11eb_8050_b891363e92b7row12_col3\" class=\"data row12 col3\" >0.143080</td>\n",
       "                        <td id=\"T_4c59b3cc_630e_11eb_8050_b891363e92b7row12_col4\" class=\"data row12 col4\" >0.603801</td>\n",
       "            </tr>\n",
       "            <tr>\n",
       "                        <th id=\"T_4c59b3cc_630e_11eb_8050_b891363e92b7level0_row13\" class=\"row_heading level0 row13\" >23</th>\n",
       "                        <td id=\"T_4c59b3cc_630e_11eb_8050_b891363e92b7row13_col0\" class=\"data row13 col0\" >0.133431</td>\n",
       "                        <td id=\"T_4c59b3cc_630e_11eb_8050_b891363e92b7row13_col1\" class=\"data row13 col1\" >0.230592</td>\n",
       "                        <td id=\"T_4c59b3cc_630e_11eb_8050_b891363e92b7row13_col2\" class=\"data row13 col2\" >0.315029</td>\n",
       "                        <td id=\"T_4c59b3cc_630e_11eb_8050_b891363e92b7row13_col3\" class=\"data row13 col3\" >0.050826</td>\n",
       "                        <td id=\"T_4c59b3cc_630e_11eb_8050_b891363e92b7row13_col4\" class=\"data row13 col4\" >0.540041</td>\n",
       "            </tr>\n",
       "            <tr>\n",
       "                        <th id=\"T_4c59b3cc_630e_11eb_8050_b891363e92b7level0_row14\" class=\"row_heading level0 row14\" >24</th>\n",
       "                        <td id=\"T_4c59b3cc_630e_11eb_8050_b891363e92b7row14_col0\" class=\"data row14 col0\" >0.000770</td>\n",
       "                        <td id=\"T_4c59b3cc_630e_11eb_8050_b891363e92b7row14_col1\" class=\"data row14 col1\" >0.001452</td>\n",
       "                        <td id=\"T_4c59b3cc_630e_11eb_8050_b891363e92b7row14_col2\" class=\"data row14 col2\" >0.288666</td>\n",
       "                        <td id=\"T_4c59b3cc_630e_11eb_8050_b891363e92b7row14_col3\" class=\"data row14 col3\" >0.000320</td>\n",
       "                        <td id=\"T_4c59b3cc_630e_11eb_8050_b891363e92b7row14_col4\" class=\"data row14 col4\" >0.547233</td>\n",
       "            </tr>\n",
       "            <tr>\n",
       "                        <th id=\"T_4c59b3cc_630e_11eb_8050_b891363e92b7level0_row15\" class=\"row_heading level0 row15\" >30</th>\n",
       "                        <td id=\"T_4c59b3cc_630e_11eb_8050_b891363e92b7row15_col0\" class=\"data row15 col0\" >1.082142</td>\n",
       "                        <td id=\"T_4c59b3cc_630e_11eb_8050_b891363e92b7row15_col1\" class=\"data row15 col1\" >1.669182</td>\n",
       "                        <td id=\"T_4c59b3cc_630e_11eb_8050_b891363e92b7row15_col2\" class=\"data row15 col2\" >0.352955</td>\n",
       "                        <td id=\"T_4c59b3cc_630e_11eb_8050_b891363e92b7row15_col3\" class=\"data row15 col3\" >0.367914</td>\n",
       "                        <td id=\"T_4c59b3cc_630e_11eb_8050_b891363e92b7row15_col4\" class=\"data row15 col4\" >0.601818</td>\n",
       "            </tr>\n",
       "            <tr>\n",
       "                        <th id=\"T_4c59b3cc_630e_11eb_8050_b891363e92b7level0_row16\" class=\"row_heading level0 row16\" >31</th>\n",
       "                        <td id=\"T_4c59b3cc_630e_11eb_8050_b891363e92b7row16_col0\" class=\"data row16 col0\" >0.414258</td>\n",
       "                        <td id=\"T_4c59b3cc_630e_11eb_8050_b891363e92b7row16_col1\" class=\"data row16 col1\" >0.667422</td>\n",
       "                        <td id=\"T_4c59b3cc_630e_11eb_8050_b891363e92b7row16_col2\" class=\"data row16 col2\" >0.337917</td>\n",
       "                        <td id=\"T_4c59b3cc_630e_11eb_8050_b891363e92b7row16_col3\" class=\"data row16 col3\" >0.147110</td>\n",
       "                        <td id=\"T_4c59b3cc_630e_11eb_8050_b891363e92b7row16_col4\" class=\"data row16 col4\" >0.595146</td>\n",
       "            </tr>\n",
       "            <tr>\n",
       "                        <th id=\"T_4c59b3cc_630e_11eb_8050_b891363e92b7level0_row17\" class=\"row_heading level0 row17\" >32</th>\n",
       "                        <td id=\"T_4c59b3cc_630e_11eb_8050_b891363e92b7row17_col0\" class=\"data row17 col0\" >0.303628</td>\n",
       "                        <td id=\"T_4c59b3cc_630e_11eb_8050_b891363e92b7row17_col1\" class=\"data row17 col1\" >0.504087</td>\n",
       "                        <td id=\"T_4c59b3cc_630e_11eb_8050_b891363e92b7row17_col2\" class=\"data row17 col2\" >0.327925</td>\n",
       "                        <td id=\"T_4c59b3cc_630e_11eb_8050_b891363e92b7row17_col3\" class=\"data row17 col3\" >0.111109</td>\n",
       "                        <td id=\"T_4c59b3cc_630e_11eb_8050_b891363e92b7row17_col4\" class=\"data row17 col4\" >0.603971</td>\n",
       "            </tr>\n",
       "            <tr>\n",
       "                        <th id=\"T_4c59b3cc_630e_11eb_8050_b891363e92b7level0_row18\" class=\"row_heading level0 row18\" >33</th>\n",
       "                        <td id=\"T_4c59b3cc_630e_11eb_8050_b891363e92b7row18_col0\" class=\"data row18 col0\" >0.058333</td>\n",
       "                        <td id=\"T_4c59b3cc_630e_11eb_8050_b891363e92b7row18_col1\" class=\"data row18 col1\" >0.100460</td>\n",
       "                        <td id=\"T_4c59b3cc_630e_11eb_8050_b891363e92b7row18_col2\" class=\"data row18 col2\" >0.316128</td>\n",
       "                        <td id=\"T_4c59b3cc_630e_11eb_8050_b891363e92b7row18_col3\" class=\"data row18 col3\" >0.022143</td>\n",
       "                        <td id=\"T_4c59b3cc_630e_11eb_8050_b891363e92b7row18_col4\" class=\"data row18 col4\" >0.589280</td>\n",
       "            </tr>\n",
       "            <tr>\n",
       "                        <th id=\"T_4c59b3cc_630e_11eb_8050_b891363e92b7level0_row19\" class=\"row_heading level0 row19\" >34</th>\n",
       "                        <td id=\"T_4c59b3cc_630e_11eb_8050_b891363e92b7row19_col0\" class=\"data row19 col0\" >0.004195</td>\n",
       "                        <td id=\"T_4c59b3cc_630e_11eb_8050_b891363e92b7row19_col1\" class=\"data row19 col1\" >0.007779</td>\n",
       "                        <td id=\"T_4c59b3cc_630e_11eb_8050_b891363e92b7row19_col2\" class=\"data row19 col2\" >0.293568</td>\n",
       "                        <td id=\"T_4c59b3cc_630e_11eb_8050_b891363e92b7row19_col3\" class=\"data row19 col3\" >0.001715</td>\n",
       "                        <td id=\"T_4c59b3cc_630e_11eb_8050_b891363e92b7row19_col4\" class=\"data row19 col4\" >0.546112</td>\n",
       "            </tr>\n",
       "            <tr>\n",
       "                        <th id=\"T_4c59b3cc_630e_11eb_8050_b891363e92b7level0_row20\" class=\"row_heading level0 row20\" >40</th>\n",
       "                        <td id=\"T_4c59b3cc_630e_11eb_8050_b891363e92b7row20_col0\" class=\"data row20 col0\" >0.819068</td>\n",
       "                        <td id=\"T_4c59b3cc_630e_11eb_8050_b891363e92b7row20_col1\" class=\"data row20 col1\" >1.279584</td>\n",
       "                        <td id=\"T_4c59b3cc_630e_11eb_8050_b891363e92b7row20_col2\" class=\"data row20 col2\" >0.348490</td>\n",
       "                        <td id=\"T_4c59b3cc_630e_11eb_8050_b891363e92b7row20_col3\" class=\"data row20 col3\" >0.282040</td>\n",
       "                        <td id=\"T_4c59b3cc_630e_11eb_8050_b891363e92b7row20_col4\" class=\"data row20 col4\" >0.625603</td>\n",
       "            </tr>\n",
       "            <tr>\n",
       "                        <th id=\"T_4c59b3cc_630e_11eb_8050_b891363e92b7level0_row21\" class=\"row_heading level0 row21\" >41</th>\n",
       "                        <td id=\"T_4c59b3cc_630e_11eb_8050_b891363e92b7row21_col0\" class=\"data row21 col0\" >0.218923</td>\n",
       "                        <td id=\"T_4c59b3cc_630e_11eb_8050_b891363e92b7row21_col1\" class=\"data row21 col1\" >0.360948</td>\n",
       "                        <td id=\"T_4c59b3cc_630e_11eb_8050_b891363e92b7row21_col2\" class=\"data row21 col2\" >0.330207</td>\n",
       "                        <td id=\"T_4c59b3cc_630e_11eb_8050_b891363e92b7row21_col3\" class=\"data row21 col3\" >0.079558</td>\n",
       "                        <td id=\"T_4c59b3cc_630e_11eb_8050_b891363e92b7row21_col4\" class=\"data row21 col4\" >0.588185</td>\n",
       "            </tr>\n",
       "            <tr>\n",
       "                        <th id=\"T_4c59b3cc_630e_11eb_8050_b891363e92b7level0_row22\" class=\"row_heading level0 row22\" >42</th>\n",
       "                        <td id=\"T_4c59b3cc_630e_11eb_8050_b891363e92b7row22_col0\" class=\"data row22 col0\" >-0.136699</td>\n",
       "                        <td id=\"T_4c59b3cc_630e_11eb_8050_b891363e92b7row22_col1\" class=\"data row22 col1\" >-0.233111</td>\n",
       "                        <td id=\"T_4c59b3cc_630e_11eb_8050_b891363e92b7row22_col2\" class=\"data row22 col2\" >0.319258</td>\n",
       "                        <td id=\"T_4c59b3cc_630e_11eb_8050_b891363e92b7row22_col3\" class=\"data row22 col3\" >-0.051381</td>\n",
       "                        <td id=\"T_4c59b3cc_630e_11eb_8050_b891363e92b7row22_col4\" class=\"data row22 col4\" >0.560923</td>\n",
       "            </tr>\n",
       "            <tr>\n",
       "                        <th id=\"T_4c59b3cc_630e_11eb_8050_b891363e92b7level0_row23\" class=\"row_heading level0 row23\" >43</th>\n",
       "                        <td id=\"T_4c59b3cc_630e_11eb_8050_b891363e92b7row23_col0\" class=\"data row23 col0\" >-0.275553</td>\n",
       "                        <td id=\"T_4c59b3cc_630e_11eb_8050_b891363e92b7row23_col1\" class=\"data row23 col1\" >-0.502772</td>\n",
       "                        <td id=\"T_4c59b3cc_630e_11eb_8050_b891363e92b7row23_col2\" class=\"data row23 col2\" >0.298382</td>\n",
       "                        <td id=\"T_4c59b3cc_630e_11eb_8050_b891363e92b7row23_col3\" class=\"data row23 col3\" >-0.110819</td>\n",
       "                        <td id=\"T_4c59b3cc_630e_11eb_8050_b891363e92b7row23_col4\" class=\"data row23 col4\" >0.530438</td>\n",
       "            </tr>\n",
       "            <tr>\n",
       "                        <th id=\"T_4c59b3cc_630e_11eb_8050_b891363e92b7level0_row24\" class=\"row_heading level0 row24\" >44</th>\n",
       "                        <td id=\"T_4c59b3cc_630e_11eb_8050_b891363e92b7row24_col0\" class=\"data row24 col0\" >-0.138251</td>\n",
       "                        <td id=\"T_4c59b3cc_630e_11eb_8050_b891363e92b7row24_col1\" class=\"data row24 col1\" >-0.265169</td>\n",
       "                        <td id=\"T_4c59b3cc_630e_11eb_8050_b891363e92b7row24_col2\" class=\"data row24 col2\" >0.283846</td>\n",
       "                        <td id=\"T_4c59b3cc_630e_11eb_8050_b891363e92b7row24_col3\" class=\"data row24 col3\" >-0.058447</td>\n",
       "                        <td id=\"T_4c59b3cc_630e_11eb_8050_b891363e92b7row24_col4\" class=\"data row24 col4\" >0.532515</td>\n",
       "            </tr>\n",
       "            <tr>\n",
       "                        <th id=\"T_4c59b3cc_630e_11eb_8050_b891363e92b7level0_row25\" class=\"row_heading level0 row25\" >high-low</th>\n",
       "                        <td id=\"T_4c59b3cc_630e_11eb_8050_b891363e92b7row25_col0\" class=\"data row25 col0\" >0.690104</td>\n",
       "                        <td id=\"T_4c59b3cc_630e_11eb_8050_b891363e92b7row25_col1\" class=\"data row25 col1\" >5.750680</td>\n",
       "                        <td id=\"T_4c59b3cc_630e_11eb_8050_b891363e92b7row25_col2\" class=\"data row25 col2\" >0.065333</td>\n",
       "                        <td id=\"T_4c59b3cc_630e_11eb_8050_b891363e92b7row25_col3\" class=\"data row25 col3\" >1.267539</td>\n",
       "                        <td id=\"T_4c59b3cc_630e_11eb_8050_b891363e92b7row25_col4\" class=\"data row25 col4\" >0.131039</td>\n",
       "            </tr>\n",
       "    </tbody></table>"
      ],
      "text/plain": [
       "<pandas.io.formats.style.Styler at 0x28f6f893190>"
      ]
     },
     "execution_count": 114,
     "metadata": {},
     "output_type": "execute_result"
    }
   ],
   "source": [
    "# 好看的显示格式\n",
    "result.T.style.applymap(lambda x: 'color:red' if abs(x)>2 else 'color:None',subset='t-stats').\\\n",
    "        applymap(lambda x: 'background-color:lime' if x>0.6 else 'background-color:None',subset='Maxdraw').\\\n",
    "        applymap(lambda x: 'background-color:red' if x>0.5 else 'background-color:None',subset='sharpe_ratio')"
   ]
  },
  {
   "cell_type": "code",
   "execution_count": 115,
   "metadata": {
    "ExecuteTime": {
     "end_time": "2021-01-30T15:18:14.954203Z",
     "start_time": "2021-01-30T15:18:14.913277Z"
    }
   },
   "outputs": [
    {
     "data": {
      "text/html": [
       "<div>\n",
       "<style scoped>\n",
       "    .dataframe tbody tr th:only-of-type {\n",
       "        vertical-align: middle;\n",
       "    }\n",
       "\n",
       "    .dataframe tbody tr th {\n",
       "        vertical-align: top;\n",
       "    }\n",
       "\n",
       "    .dataframe thead th {\n",
       "        text-align: right;\n",
       "    }\n",
       "</style>\n",
       "<table border=\"1\" class=\"dataframe\">\n",
       "  <thead>\n",
       "    <tr style=\"text-align: right;\">\n",
       "      <th></th>\n",
       "      <th>0</th>\n",
       "      <th>1</th>\n",
       "      <th>2</th>\n",
       "      <th>3</th>\n",
       "      <th>4</th>\n",
       "      <th>hs-ls</th>\n",
       "    </tr>\n",
       "  </thead>\n",
       "  <tbody>\n",
       "    <tr>\n",
       "      <th>0</th>\n",
       "      <td>1.761733</td>\n",
       "      <td>1.695352</td>\n",
       "      <td>1.441112</td>\n",
       "      <td>1.082142</td>\n",
       "      <td>0.819068</td>\n",
       "      <td>0.942666</td>\n",
       "    </tr>\n",
       "    <tr>\n",
       "      <th>1</th>\n",
       "      <td>2.710809</td>\n",
       "      <td>2.627278</td>\n",
       "      <td>2.186210</td>\n",
       "      <td>1.669182</td>\n",
       "      <td>1.279584</td>\n",
       "      <td>6.885840</td>\n",
       "    </tr>\n",
       "    <tr>\n",
       "      <th>2</th>\n",
       "      <td>0.878740</td>\n",
       "      <td>0.926301</td>\n",
       "      <td>0.754909</td>\n",
       "      <td>0.414258</td>\n",
       "      <td>0.218923</td>\n",
       "      <td>0.659817</td>\n",
       "    </tr>\n",
       "    <tr>\n",
       "      <th>3</th>\n",
       "      <td>1.410267</td>\n",
       "      <td>1.487807</td>\n",
       "      <td>1.207577</td>\n",
       "      <td>0.667422</td>\n",
       "      <td>0.360948</td>\n",
       "      <td>3.817298</td>\n",
       "    </tr>\n",
       "    <tr>\n",
       "      <th>4</th>\n",
       "      <td>0.645153</td>\n",
       "      <td>0.473103</td>\n",
       "      <td>0.400473</td>\n",
       "      <td>0.303628</td>\n",
       "      <td>-0.136699</td>\n",
       "      <td>0.781851</td>\n",
       "    </tr>\n",
       "    <tr>\n",
       "      <th>5</th>\n",
       "      <td>1.076110</td>\n",
       "      <td>0.773564</td>\n",
       "      <td>0.649136</td>\n",
       "      <td>0.504087</td>\n",
       "      <td>-0.233111</td>\n",
       "      <td>4.235044</td>\n",
       "    </tr>\n",
       "    <tr>\n",
       "      <th>6</th>\n",
       "      <td>0.427390</td>\n",
       "      <td>0.352428</td>\n",
       "      <td>0.133431</td>\n",
       "      <td>0.058333</td>\n",
       "      <td>-0.275553</td>\n",
       "      <td>0.702943</td>\n",
       "    </tr>\n",
       "    <tr>\n",
       "      <th>7</th>\n",
       "      <td>0.753263</td>\n",
       "      <td>0.603815</td>\n",
       "      <td>0.230592</td>\n",
       "      <td>0.100460</td>\n",
       "      <td>-0.502772</td>\n",
       "      <td>3.810670</td>\n",
       "    </tr>\n",
       "    <tr>\n",
       "      <th>8</th>\n",
       "      <td>0.224992</td>\n",
       "      <td>0.202987</td>\n",
       "      <td>0.000770</td>\n",
       "      <td>0.004195</td>\n",
       "      <td>-0.138251</td>\n",
       "      <td>0.363243</td>\n",
       "    </tr>\n",
       "    <tr>\n",
       "      <th>9</th>\n",
       "      <td>0.426730</td>\n",
       "      <td>0.373803</td>\n",
       "      <td>0.001452</td>\n",
       "      <td>0.007779</td>\n",
       "      <td>-0.265169</td>\n",
       "      <td>2.011211</td>\n",
       "    </tr>\n",
       "    <tr>\n",
       "      <th>hm-lm</th>\n",
       "      <td>1.536742</td>\n",
       "      <td>1.492365</td>\n",
       "      <td>1.440342</td>\n",
       "      <td>1.077947</td>\n",
       "      <td>0.957318</td>\n",
       "      <td>1.300943</td>\n",
       "    </tr>\n",
       "    <tr>\n",
       "      <th>hm-lm_t</th>\n",
       "      <td>4.663768</td>\n",
       "      <td>4.451868</td>\n",
       "      <td>3.920576</td>\n",
       "      <td>3.067069</td>\n",
       "      <td>2.597998</td>\n",
       "      <td>3.965186</td>\n",
       "    </tr>\n",
       "  </tbody>\n",
       "</table>\n",
       "</div>"
      ],
      "text/plain": [
       "                0         1         2         3         4     hs-ls\n",
       "0        1.761733  1.695352  1.441112  1.082142  0.819068  0.942666\n",
       "1        2.710809  2.627278  2.186210  1.669182  1.279584  6.885840\n",
       "2        0.878740  0.926301  0.754909  0.414258  0.218923  0.659817\n",
       "3        1.410267  1.487807  1.207577  0.667422  0.360948  3.817298\n",
       "4        0.645153  0.473103  0.400473  0.303628 -0.136699  0.781851\n",
       "5        1.076110  0.773564  0.649136  0.504087 -0.233111  4.235044\n",
       "6        0.427390  0.352428  0.133431  0.058333 -0.275553  0.702943\n",
       "7        0.753263  0.603815  0.230592  0.100460 -0.502772  3.810670\n",
       "8        0.224992  0.202987  0.000770  0.004195 -0.138251  0.363243\n",
       "9        0.426730  0.373803  0.001452  0.007779 -0.265169  2.011211\n",
       "hm-lm    1.536742  1.492365  1.440342  1.077947  0.957318  1.300943\n",
       "hm-lm_t  4.663768  4.451868  3.920576  3.067069  2.597998  3.965186"
      ]
     },
     "execution_count": 115,
     "metadata": {},
     "output_type": "execute_result"
    }
   ],
   "source": [
    "coef = list(result.T['port_mean_ret'].iloc[0:-1].values.reshape(5,5).T)\n",
    "tvalue = list(result.T['t-stats'].iloc[0:-1].values.reshape(5,5).T)\n",
    "double_sort_result = pd.DataFrame(np.vstack([np.vstack([a,b]) for a,b in zip(coef,tvalue)]))\n",
    "hs_sub_ls = pd.DataFrame()\n",
    "hs_sub_ls[0] = (port_result['00'] - port_result['40'])\n",
    "hs_sub_ls[1] = (port_result['01'] - port_result['41'])\n",
    "hs_sub_ls[2] = (port_result['02'] - port_result['42'])\n",
    "hs_sub_ls[3] = (port_result['03'] - port_result['43'])\n",
    "hs_sub_ls[4] = (port_result['04'] - port_result['44'])\n",
    "tstat_hs_sub_ls = stats.ttest_1samp(hs_sub_ls.dropna().reset_index(drop=True),0).statistic\n",
    "double_sort_result['hs-ls']=pd.DataFrame(np.vstack([100*hs_sub_ls.mean().to_numpy(),tstat_hs_sub_ls]).T.reshape(q_size*2,1))\n",
    "\n",
    "hm_sub_lm = pd.DataFrame()\n",
    "hm_sub_lm[0] = (port_result['00'] - port_result['04'])\n",
    "hm_sub_lm[1] = (port_result['10'] - port_result['14'])\n",
    "hm_sub_lm[2] = (port_result['20'] - port_result['24'])\n",
    "hm_sub_lm[3] = (port_result['30'] - port_result['34'])\n",
    "hm_sub_lm[4] = (port_result['40'] - port_result['44'])\n",
    "# hm_sub_lm[5] = (port_result['00']+port_result['01']+port_result['02']+port_result['03']+port_result['04'])/q_size \\\n",
    "#                            - (port_result['40']+port_result['41']+port_result['42']+port_result['43']+port_result['44'])/q_size\n",
    "hm_sub_lm[5] = (port_result['00']+port_result['10']+port_result['20']+port_result['30']+port_result['40'])/q_size \\\n",
    "                            - (port_result['04']+port_result['14']+port_result['24']+port_result['34']+port_result['44'])/q_size\n",
    "\n",
    "tstat_hm_sub_lm = stats.ttest_1samp(hm_sub_lm.dropna().reset_index(drop=True),0).statistic\n",
    "double_sort_result.loc['hm-lm'] = hm_sub_lm.mean().values*100\n",
    "double_sort_result.loc['hm-lm_t'] = tstat_hm_sub_lm\n",
    "double_sort_result"
   ]
  },
  {
   "cell_type": "code",
   "execution_count": 157,
   "metadata": {
    "ExecuteTime": {
     "end_time": "2021-01-30T07:09:15.578437Z",
     "start_time": "2021-01-30T07:09:15.566710Z"
    }
   },
   "outputs": [
    {
     "data": {
      "text/plain": [
       "17.88"
      ]
     },
     "execution_count": 157,
     "metadata": {},
     "output_type": "execute_result"
    }
   ],
   "source": [
    "1.49*12"
   ]
  },
  {
   "cell_type": "markdown",
   "metadata": {},
   "source": [
    "# Fama-Macbeth回归"
   ]
  },
  {
   "cell_type": "markdown",
   "metadata": {},
   "source": [
    "## 简化版本"
   ]
  },
  {
   "cell_type": "code",
   "execution_count": 4,
   "metadata": {
    "ExecuteTime": {
     "end_time": "2021-01-30T04:08:45.824585Z",
     "start_time": "2021-01-30T04:08:45.815601Z"
    }
   },
   "outputs": [],
   "source": [
    "def outreg(var_list):\n",
    "    # cross-sectional regressiono\n",
    "    lambda_list = []\n",
    "    R_list = []\n",
    "    N_list = []\n",
    "    month_list = total['month'].unique().tolist()\n",
    "    for i in range(1,len(month_list)):\n",
    "        group_l1 = total[total['month'] == month_list[i-1]].reset_index(drop=True)\n",
    "        group_l1['lnpe'] = np.log(group_l1['pe'])\n",
    "        group_l1['lnpb'] = np.log(group_l1['pb'])\n",
    "        group_l1['lnmv'] = np.log(group_l1['total_mv'])\n",
    "        #group_l1['co_prod'] = group_l1['coskew']*group_l1['cokurt']\n",
    "        group_l1 = group_l1.rename(columns={'pct_chg':'ret_l1'})\n",
    "        group = total[total['month']==month_list[i]].reset_index(drop=True)\n",
    "        reg_df = pd.merge(group[['ts_code','pct_chg']],group_l1,on=['ts_code']).dropna().reset_index(drop=True)\n",
    "        #control_x = ['lnpe','lnpb','lnmv']\n",
    "        x = reg_df[var_list]\n",
    "        X = sm.add_constant(x)\n",
    "        y = reg_df['pct_chg']\n",
    "        result = sm.OLS(y,X).fit() # 因为是截面回归所以不做HAC调整（做了调整结果也类似）\n",
    "        dic1 = {\n",
    "            'month':month_list[i]\n",
    "        }\n",
    "        dic = {**dic1,**result.params}\n",
    "        lambda_list.append(dic)\n",
    "        R_list.append(result.rsquared_adj)\n",
    "        N_list.append(result.nobs)\n",
    "    lambda_df = pd.DataFrame(lambda_list)\n",
    "    # tabulate\n",
    "    coef = lambda_df.iloc[:,1:].mean().values\n",
    "    tvalue = stats.ttest_1samp(lambda_df.iloc[:,1:],0).statistic\n",
    "\n",
    "    coef_name = lambda_df.iloc[:,1:].mean().index.tolist()\n",
    "    coef_t_name = list(map(lambda x:x+'_t',coef_name))\n",
    "    output = pd.DataFrame(np.vstack([coef,tvalue]).T.reshape(len(coef_name)*2,1))\n",
    "    output.index = np.vstack([coef_name,coef_t_name]).T.reshape(len(coef_name)*2,1).T.tolist()[0]\n",
    "    output.loc['N'] = sum(N_list)\n",
    "    output.loc['Adj_R2'] = np.mean(R_list)*100\n",
    "    return output # 返回回归系数和t值的Series object"
   ]
  },
  {
   "cell_type": "code",
   "execution_count": 5,
   "metadata": {
    "ExecuteTime": {
     "end_time": "2021-01-30T04:08:49.183572Z",
     "start_time": "2021-01-30T04:08:46.457963Z"
    },
    "scrolled": true
   },
   "outputs": [
    {
     "data": {
      "text/html": [
       "<div>\n",
       "<style scoped>\n",
       "    .dataframe tbody tr th:only-of-type {\n",
       "        vertical-align: middle;\n",
       "    }\n",
       "\n",
       "    .dataframe tbody tr th {\n",
       "        vertical-align: top;\n",
       "    }\n",
       "\n",
       "    .dataframe thead th {\n",
       "        text-align: right;\n",
       "    }\n",
       "</style>\n",
       "<table border=\"1\" class=\"dataframe\">\n",
       "  <thead>\n",
       "    <tr style=\"text-align: right;\">\n",
       "      <th></th>\n",
       "      <th>0</th>\n",
       "    </tr>\n",
       "  </thead>\n",
       "  <tbody>\n",
       "    <tr>\n",
       "      <th>const</th>\n",
       "      <td>0.017335</td>\n",
       "    </tr>\n",
       "    <tr>\n",
       "      <th>const_t</th>\n",
       "      <td>3.117393</td>\n",
       "    </tr>\n",
       "    <tr>\n",
       "      <th>skew</th>\n",
       "      <td>-0.001559</td>\n",
       "    </tr>\n",
       "    <tr>\n",
       "      <th>skew_t</th>\n",
       "      <td>-1.953601</td>\n",
       "    </tr>\n",
       "    <tr>\n",
       "      <th>Max3d</th>\n",
       "      <td>-0.269038</td>\n",
       "    </tr>\n",
       "    <tr>\n",
       "      <th>Max3d_t</th>\n",
       "      <td>-4.908846</td>\n",
       "    </tr>\n",
       "    <tr>\n",
       "      <th>N</th>\n",
       "      <td>365933.000000</td>\n",
       "    </tr>\n",
       "    <tr>\n",
       "      <th>Adj_R2</th>\n",
       "      <td>2.237339</td>\n",
       "    </tr>\n",
       "  </tbody>\n",
       "</table>\n",
       "</div>"
      ],
      "text/plain": [
       "                     0\n",
       "const         0.017335\n",
       "const_t       3.117393\n",
       "skew         -0.001559\n",
       "skew_t       -1.953601\n",
       "Max3d        -0.269038\n",
       "Max3d_t      -4.908846\n",
       "N        365933.000000\n",
       "Adj_R2        2.237339"
      ]
     },
     "execution_count": 5,
     "metadata": {},
     "output_type": "execute_result"
    }
   ],
   "source": [
    "example = outreg(['skew','Max3d'])\n",
    "example"
   ]
  },
  {
   "cell_type": "code",
   "execution_count": 11,
   "metadata": {
    "ExecuteTime": {
     "end_time": "2021-01-30T04:27:18.042881Z",
     "start_time": "2021-01-30T04:27:01.682164Z"
    }
   },
   "outputs": [
    {
     "data": {
      "text/html": [
       "<div>\n",
       "<style scoped>\n",
       "    .dataframe tbody tr th:only-of-type {\n",
       "        vertical-align: middle;\n",
       "    }\n",
       "\n",
       "    .dataframe tbody tr th {\n",
       "        vertical-align: top;\n",
       "    }\n",
       "\n",
       "    .dataframe thead th {\n",
       "        text-align: right;\n",
       "    }\n",
       "</style>\n",
       "<table border=\"1\" class=\"dataframe\">\n",
       "  <thead>\n",
       "    <tr style=\"text-align: right;\">\n",
       "      <th></th>\n",
       "      <th>1</th>\n",
       "      <th>2</th>\n",
       "      <th>3</th>\n",
       "      <th>4</th>\n",
       "      <th>5</th>\n",
       "      <th>6</th>\n",
       "    </tr>\n",
       "  </thead>\n",
       "  <tbody>\n",
       "    <tr>\n",
       "      <th>const</th>\n",
       "      <td>0.077741</td>\n",
       "      <td>0.087197</td>\n",
       "      <td>0.088116</td>\n",
       "      <td>0.084059</td>\n",
       "      <td>0.084435</td>\n",
       "      <td>0.085384</td>\n",
       "    </tr>\n",
       "    <tr>\n",
       "      <th>const_t</th>\n",
       "      <td>4.271944</td>\n",
       "      <td>4.788519</td>\n",
       "      <td>4.829117</td>\n",
       "      <td>4.655752</td>\n",
       "      <td>4.677506</td>\n",
       "      <td>4.718714</td>\n",
       "    </tr>\n",
       "    <tr>\n",
       "      <th>iskew</th>\n",
       "      <td>-0.002520</td>\n",
       "      <td>NaN</td>\n",
       "      <td>NaN</td>\n",
       "      <td>-0.001112</td>\n",
       "      <td>-0.001438</td>\n",
       "      <td>-0.001611</td>\n",
       "    </tr>\n",
       "    <tr>\n",
       "      <th>iskew_t</th>\n",
       "      <td>-6.317995</td>\n",
       "      <td>NaN</td>\n",
       "      <td>NaN</td>\n",
       "      <td>-2.370965</td>\n",
       "      <td>-3.319954</td>\n",
       "      <td>-3.877444</td>\n",
       "    </tr>\n",
       "    <tr>\n",
       "      <th>Max3d</th>\n",
       "      <td>NaN</td>\n",
       "      <td>NaN</td>\n",
       "      <td>NaN</td>\n",
       "      <td>-0.285782</td>\n",
       "      <td>NaN</td>\n",
       "      <td>NaN</td>\n",
       "    </tr>\n",
       "    <tr>\n",
       "      <th>Max3d_t</th>\n",
       "      <td>NaN</td>\n",
       "      <td>NaN</td>\n",
       "      <td>NaN</td>\n",
       "      <td>-6.632623</td>\n",
       "      <td>NaN</td>\n",
       "      <td>NaN</td>\n",
       "    </tr>\n",
       "    <tr>\n",
       "      <th>Max5d</th>\n",
       "      <td>NaN</td>\n",
       "      <td>-0.391836</td>\n",
       "      <td>NaN</td>\n",
       "      <td>NaN</td>\n",
       "      <td>-0.357586</td>\n",
       "      <td>NaN</td>\n",
       "    </tr>\n",
       "    <tr>\n",
       "      <th>Max5d_t</th>\n",
       "      <td>NaN</td>\n",
       "      <td>-7.815550</td>\n",
       "      <td>NaN</td>\n",
       "      <td>NaN</td>\n",
       "      <td>-6.741200</td>\n",
       "      <td>NaN</td>\n",
       "    </tr>\n",
       "    <tr>\n",
       "      <th>Max7d</th>\n",
       "      <td>NaN</td>\n",
       "      <td>NaN</td>\n",
       "      <td>-0.469283</td>\n",
       "      <td>NaN</td>\n",
       "      <td>NaN</td>\n",
       "      <td>-0.427450</td>\n",
       "    </tr>\n",
       "    <tr>\n",
       "      <th>Max7d_t</th>\n",
       "      <td>NaN</td>\n",
       "      <td>NaN</td>\n",
       "      <td>-7.754364</td>\n",
       "      <td>NaN</td>\n",
       "      <td>NaN</td>\n",
       "      <td>-6.769636</td>\n",
       "    </tr>\n",
       "    <tr>\n",
       "      <th>lnpe</th>\n",
       "      <td>-0.000087</td>\n",
       "      <td>0.000610</td>\n",
       "      <td>0.000616</td>\n",
       "      <td>0.000624</td>\n",
       "      <td>0.000667</td>\n",
       "      <td>0.000674</td>\n",
       "    </tr>\n",
       "    <tr>\n",
       "      <th>lnpe_t</th>\n",
       "      <td>-0.146029</td>\n",
       "      <td>1.049255</td>\n",
       "      <td>1.065840</td>\n",
       "      <td>1.082473</td>\n",
       "      <td>1.162154</td>\n",
       "      <td>1.180652</td>\n",
       "    </tr>\n",
       "    <tr>\n",
       "      <th>lnpb</th>\n",
       "      <td>-0.008019</td>\n",
       "      <td>-0.005740</td>\n",
       "      <td>-0.005837</td>\n",
       "      <td>-0.005911</td>\n",
       "      <td>-0.005934</td>\n",
       "      <td>-0.006038</td>\n",
       "    </tr>\n",
       "    <tr>\n",
       "      <th>lnpb_t</th>\n",
       "      <td>-4.780117</td>\n",
       "      <td>-3.485486</td>\n",
       "      <td>-3.544852</td>\n",
       "      <td>-3.658093</td>\n",
       "      <td>-3.673764</td>\n",
       "      <td>-3.737222</td>\n",
       "    </tr>\n",
       "    <tr>\n",
       "      <th>lnmv</th>\n",
       "      <td>-0.004553</td>\n",
       "      <td>-0.004696</td>\n",
       "      <td>-0.004759</td>\n",
       "      <td>-0.004523</td>\n",
       "      <td>-0.004541</td>\n",
       "      <td>-0.004602</td>\n",
       "    </tr>\n",
       "    <tr>\n",
       "      <th>lnmv_t</th>\n",
       "      <td>-3.730053</td>\n",
       "      <td>-3.850807</td>\n",
       "      <td>-3.896285</td>\n",
       "      <td>-3.746155</td>\n",
       "      <td>-3.760774</td>\n",
       "      <td>-3.804743</td>\n",
       "    </tr>\n",
       "    <tr>\n",
       "      <th>N</th>\n",
       "      <td>365933.000000</td>\n",
       "      <td>365933.000000</td>\n",
       "      <td>365933.000000</td>\n",
       "      <td>365933.000000</td>\n",
       "      <td>365933.000000</td>\n",
       "      <td>365933.000000</td>\n",
       "    </tr>\n",
       "    <tr>\n",
       "      <th>Adj_R2</th>\n",
       "      <td>5.811749</td>\n",
       "      <td>6.741003</td>\n",
       "      <td>6.745473</td>\n",
       "      <td>6.939139</td>\n",
       "      <td>6.966935</td>\n",
       "      <td>6.959720</td>\n",
       "    </tr>\n",
       "  </tbody>\n",
       "</table>\n",
       "</div>"
      ],
      "text/plain": [
       "                     1              2              3              4  \\\n",
       "const         0.077741       0.087197       0.088116       0.084059   \n",
       "const_t       4.271944       4.788519       4.829117       4.655752   \n",
       "iskew        -0.002520            NaN            NaN      -0.001112   \n",
       "iskew_t      -6.317995            NaN            NaN      -2.370965   \n",
       "Max3d              NaN            NaN            NaN      -0.285782   \n",
       "Max3d_t            NaN            NaN            NaN      -6.632623   \n",
       "Max5d              NaN      -0.391836            NaN            NaN   \n",
       "Max5d_t            NaN      -7.815550            NaN            NaN   \n",
       "Max7d              NaN            NaN      -0.469283            NaN   \n",
       "Max7d_t            NaN            NaN      -7.754364            NaN   \n",
       "lnpe         -0.000087       0.000610       0.000616       0.000624   \n",
       "lnpe_t       -0.146029       1.049255       1.065840       1.082473   \n",
       "lnpb         -0.008019      -0.005740      -0.005837      -0.005911   \n",
       "lnpb_t       -4.780117      -3.485486      -3.544852      -3.658093   \n",
       "lnmv         -0.004553      -0.004696      -0.004759      -0.004523   \n",
       "lnmv_t       -3.730053      -3.850807      -3.896285      -3.746155   \n",
       "N        365933.000000  365933.000000  365933.000000  365933.000000   \n",
       "Adj_R2        5.811749       6.741003       6.745473       6.939139   \n",
       "\n",
       "                     5              6  \n",
       "const         0.084435       0.085384  \n",
       "const_t       4.677506       4.718714  \n",
       "iskew        -0.001438      -0.001611  \n",
       "iskew_t      -3.319954      -3.877444  \n",
       "Max3d              NaN            NaN  \n",
       "Max3d_t            NaN            NaN  \n",
       "Max5d        -0.357586            NaN  \n",
       "Max5d_t      -6.741200            NaN  \n",
       "Max7d              NaN      -0.427450  \n",
       "Max7d_t            NaN      -6.769636  \n",
       "lnpe          0.000667       0.000674  \n",
       "lnpe_t        1.162154       1.180652  \n",
       "lnpb         -0.005934      -0.006038  \n",
       "lnpb_t       -3.673764      -3.737222  \n",
       "lnmv         -0.004541      -0.004602  \n",
       "lnmv_t       -3.760774      -3.804743  \n",
       "N        365933.000000  365933.000000  \n",
       "Adj_R2        6.966935       6.959720  "
      ]
     },
     "execution_count": 11,
     "metadata": {},
     "output_type": "execute_result"
    }
   ],
   "source": [
    "#fmbtab = pd.DataFrame(index = ['const','const_t','skew','skew_t','coskew','coskew_t','Max1d','Max1d_t','Max5d','Max5d_t','Max7d','Max7d_t','lnpe','lnpe_t','lnpb','lnpb_t','lnmv','lnmv_t','N','R2'])\n",
    "# fmbtab = pd.DataFrame(index = ['const','const_t','skew','skew_t','Max3d','Max3d_t','Max5d','Max5d_t','Max7d','Max7d_t','lnpe','lnpe_t','lnpb','lnpb_t','lnmv','lnmv_t','N','Adj_R2'])\n",
    "# control_x = ['lnpe','lnpb','lnmv']\n",
    "# fmbtab[1] = outreg(['skew']+control_x)\n",
    "# fmbtab[2] = outreg(['Max5d']+control_x)\n",
    "# fmbtab[3] = outreg(['Max7d']+control_x)\n",
    "# fmbtab[4] = outreg(['skew','Max3d']+control_x)\n",
    "# fmbtab[5] = outreg(['skew','Max5d']+control_x)\n",
    "# fmbtab[6] = outreg(['skew','Max7d']+control_x)\n",
    "# fmbtab\n",
    "fmbtab = pd.DataFrame(index = ['const','const_t','iskew','iskew_t','Max3d','Max3d_t','Max5d','Max5d_t','Max7d','Max7d_t','lnpe','lnpe_t','lnpb','lnpb_t','lnmv','lnmv_t','N','Adj_R2'])\n",
    "control_x = ['lnpe','lnpb','lnmv']\n",
    "fmbtab[1] = outreg(['iskew']+control_x)\n",
    "fmbtab[2] = outreg(['Max5d']+control_x)\n",
    "fmbtab[3] = outreg(['Max7d']+control_x)\n",
    "fmbtab[4] = outreg(['iskew','Max3d']+control_x)\n",
    "fmbtab[5] = outreg(['iskew','Max5d']+control_x)\n",
    "fmbtab[6] = outreg(['iskew','Max7d']+control_x)\n",
    "fmbtab"
   ]
  },
  {
   "cell_type": "markdown",
   "metadata": {},
   "source": [
    "## 严格版本 (似乎不对...)"
   ]
  },
  {
   "cell_type": "code",
   "execution_count": 93,
   "metadata": {
    "ExecuteTime": {
     "end_time": "2021-01-27T08:59:11.517910Z",
     "start_time": "2021-01-27T08:59:11.508934Z"
    }
   },
   "outputs": [],
   "source": [
    "#control_x = ['MKT']\n",
    "#control_x = ['MKT','SMB','HML']\n",
    "#control_x = ['MKT','SMB','HML','UMD']\n",
    "control_x = ['MKT','R_me','R_inv','R_roe']\n",
    "#control_x = ['MKT','SMB','HML','RMW','CMA']\n",
    "bench_model = q"
   ]
  },
  {
   "cell_type": "markdown",
   "metadata": {},
   "source": [
    "### 时间序列回归估计$\\beta_i$"
   ]
  },
  {
   "cell_type": "code",
   "execution_count": 94,
   "metadata": {
    "ExecuteTime": {
     "end_time": "2021-01-27T09:00:02.732798Z",
     "start_time": "2021-01-27T08:59:29.672694Z"
    }
   },
   "outputs": [],
   "source": [
    "port_result_reg = port_result.reset_index().rename(columns={'index':'month'})[['month','high-low']]\n",
    "beta_list = []\n",
    "for code,group in stk_month.groupby('ts_code'):\n",
    "    ts_reg_df = pd.merge(group[['month','pct_chg']],bench_model[['month']+control_x])\n",
    "    ts_reg_df = pd.merge(ts_reg_df,port_result_reg).dropna().reset_index(drop=True)\n",
    "    if len(ts_reg_df)>10:\n",
    "        x = ts_reg_df[control_x+['high-low']]\n",
    "        X = sm.add_constant(x)\n",
    "        y = ts_reg_df['pct_chg']\n",
    "        result = sm.OLS(y,X).fit(cov_type='HAC',cov_kwds={'maxlags':4})\n",
    "        dic1 = {\n",
    "            \"ts_code\":code,\n",
    "            \"t\":result.tvalues['high-low'],\n",
    "            \"obs\":result.nobs\n",
    "        }\n",
    "        dic = {**dic1,**result.params.to_dict()}\n",
    "        beta_list.append(dic)\n",
    "    else:\n",
    "        pass\n",
    "beta_df = pd.DataFrame(beta_list)"
   ]
  },
  {
   "cell_type": "markdown",
   "metadata": {},
   "source": [
    "### 截面回归估计$\\lambda_i$"
   ]
  },
  {
   "cell_type": "code",
   "execution_count": 95,
   "metadata": {
    "ExecuteTime": {
     "end_time": "2021-01-27T09:00:05.072539Z",
     "start_time": "2021-01-27T09:00:03.095180Z"
    }
   },
   "outputs": [],
   "source": [
    "lambda_list = []\n",
    "for month,group in stk_month.groupby('month'):\n",
    "    cross_reg_df = pd.merge(group[['ts_code','pct_chg']],beta_df[['ts_code','high-low']+control_x])\n",
    "    x = cross_reg_df[['high-low']+control_x]\n",
    "    X = sm.add_constant(x)\n",
    "    y = cross_reg_df['pct_chg']\n",
    "    result = sm.OLS(y,X).fit()\n",
    "    dic1 = {\n",
    "        'month':month\n",
    "    }\n",
    "    dic = {**dic1,**result.params}\n",
    "    lambda_list.append(dic)\n",
    "lambda_df = pd.DataFrame(lambda_list)"
   ]
  },
  {
   "cell_type": "markdown",
   "metadata": {},
   "source": [
    "### 估计因子风险溢酬并计算标准误"
   ]
  },
  {
   "cell_type": "code",
   "execution_count": 96,
   "metadata": {
    "ExecuteTime": {
     "end_time": "2021-01-27T09:00:10.178571Z",
     "start_time": "2021-01-27T09:00:10.142720Z"
    }
   },
   "outputs": [],
   "source": [
    "def calculate_standard_error(series):\n",
    "    return np.sqrt(\n",
    "            np.power(\n",
    "                (series-series.mean()),2\n",
    "            ).sum() / (len(series)**2)\n",
    "    )\n",
    "\n",
    "risk_premium_df = pd.DataFrame()\n",
    "risk_premium_df['risk_premium'] = lambda_df.mean()\n",
    "risk_premium_df['standard_error'] = calculate_standard_error(lambda_df)\n",
    "risk_premium_df['t-stats'] = risk_premium_df['risk_premium']/risk_premium_df['standard_error']\n",
    "risk_premium_df = risk_premium_df.drop(index='month')"
   ]
  },
  {
   "cell_type": "code",
   "execution_count": 97,
   "metadata": {
    "ExecuteTime": {
     "end_time": "2021-01-27T09:00:10.638131Z",
     "start_time": "2021-01-27T09:00:10.629152Z"
    }
   },
   "outputs": [
    {
     "data": {
      "text/html": [
       "<style  type=\"text/css\" >\n",
       "#T_0f73be2d_607e_11eb_b604_be8506072d0brow0_col2,#T_0f73be2d_607e_11eb_b604_be8506072d0brow1_col2,#T_0f73be2d_607e_11eb_b604_be8506072d0brow2_col2,#T_0f73be2d_607e_11eb_b604_be8506072d0brow3_col2,#T_0f73be2d_607e_11eb_b604_be8506072d0brow4_col2,#T_0f73be2d_607e_11eb_b604_be8506072d0brow5_col2{\n",
       "            color: None;\n",
       "        }</style><table id=\"T_0f73be2d_607e_11eb_b604_be8506072d0b\" ><thead>    <tr>        <th class=\"blank level0\" ></th>        <th class=\"col_heading level0 col0\" >risk_premium</th>        <th class=\"col_heading level0 col1\" >standard_error</th>        <th class=\"col_heading level0 col2\" >t-stats</th>    </tr></thead><tbody>\n",
       "                <tr>\n",
       "                        <th id=\"T_0f73be2d_607e_11eb_b604_be8506072d0blevel0_row0\" class=\"row_heading level0 row0\" >const</th>\n",
       "                        <td id=\"T_0f73be2d_607e_11eb_b604_be8506072d0brow0_col0\" class=\"data row0 col0\" >-0.002569</td>\n",
       "                        <td id=\"T_0f73be2d_607e_11eb_b604_be8506072d0brow0_col1\" class=\"data row0 col1\" >0.004364</td>\n",
       "                        <td id=\"T_0f73be2d_607e_11eb_b604_be8506072d0brow0_col2\" class=\"data row0 col2\" >-0.588744</td>\n",
       "            </tr>\n",
       "            <tr>\n",
       "                        <th id=\"T_0f73be2d_607e_11eb_b604_be8506072d0blevel0_row1\" class=\"row_heading level0 row1\" >high-low</th>\n",
       "                        <td id=\"T_0f73be2d_607e_11eb_b604_be8506072d0brow1_col0\" class=\"data row1 col0\" >-0.001488</td>\n",
       "                        <td id=\"T_0f73be2d_607e_11eb_b604_be8506072d0brow1_col1\" class=\"data row1 col1\" >0.002863</td>\n",
       "                        <td id=\"T_0f73be2d_607e_11eb_b604_be8506072d0brow1_col2\" class=\"data row1 col2\" >-0.519681</td>\n",
       "            </tr>\n",
       "            <tr>\n",
       "                        <th id=\"T_0f73be2d_607e_11eb_b604_be8506072d0blevel0_row2\" class=\"row_heading level0 row2\" >MKT</th>\n",
       "                        <td id=\"T_0f73be2d_607e_11eb_b604_be8506072d0brow2_col0\" class=\"data row2 col0\" >0.009171</td>\n",
       "                        <td id=\"T_0f73be2d_607e_11eb_b604_be8506072d0brow2_col1\" class=\"data row2 col1\" >0.006028</td>\n",
       "                        <td id=\"T_0f73be2d_607e_11eb_b604_be8506072d0brow2_col2\" class=\"data row2 col2\" >1.521320</td>\n",
       "            </tr>\n",
       "            <tr>\n",
       "                        <th id=\"T_0f73be2d_607e_11eb_b604_be8506072d0blevel0_row3\" class=\"row_heading level0 row3\" >R_me</th>\n",
       "                        <td id=\"T_0f73be2d_607e_11eb_b604_be8506072d0brow3_col0\" class=\"data row3 col0\" >0.000573</td>\n",
       "                        <td id=\"T_0f73be2d_607e_11eb_b604_be8506072d0brow3_col1\" class=\"data row3 col1\" >0.002745</td>\n",
       "                        <td id=\"T_0f73be2d_607e_11eb_b604_be8506072d0brow3_col2\" class=\"data row3 col2\" >0.208637</td>\n",
       "            </tr>\n",
       "            <tr>\n",
       "                        <th id=\"T_0f73be2d_607e_11eb_b604_be8506072d0blevel0_row4\" class=\"row_heading level0 row4\" >R_inv</th>\n",
       "                        <td id=\"T_0f73be2d_607e_11eb_b604_be8506072d0brow4_col0\" class=\"data row4 col0\" >-0.000476</td>\n",
       "                        <td id=\"T_0f73be2d_607e_11eb_b604_be8506072d0brow4_col1\" class=\"data row4 col1\" >0.001550</td>\n",
       "                        <td id=\"T_0f73be2d_607e_11eb_b604_be8506072d0brow4_col2\" class=\"data row4 col2\" >-0.307113</td>\n",
       "            </tr>\n",
       "            <tr>\n",
       "                        <th id=\"T_0f73be2d_607e_11eb_b604_be8506072d0blevel0_row5\" class=\"row_heading level0 row5\" >R_roe</th>\n",
       "                        <td id=\"T_0f73be2d_607e_11eb_b604_be8506072d0brow5_col0\" class=\"data row5 col0\" >0.001857</td>\n",
       "                        <td id=\"T_0f73be2d_607e_11eb_b604_be8506072d0brow5_col1\" class=\"data row5 col1\" >0.002375</td>\n",
       "                        <td id=\"T_0f73be2d_607e_11eb_b604_be8506072d0brow5_col2\" class=\"data row5 col2\" >0.781643</td>\n",
       "            </tr>\n",
       "    </tbody></table>"
      ],
      "text/plain": [
       "<pandas.io.formats.style.Styler at 0x1b0738125b0>"
      ]
     },
     "execution_count": 97,
     "metadata": {},
     "output_type": "execute_result"
    }
   ],
   "source": [
    "risk_premium_df.style.applymap(lambda x:\"color:red\" if abs(x)>1.8 else \"color:None\",subset='t-stats')"
   ]
  },
  {
   "cell_type": "code",
   "execution_count": 98,
   "metadata": {
    "ExecuteTime": {
     "end_time": "2021-01-27T09:00:14.404064Z",
     "start_time": "2021-01-27T09:00:14.397080Z"
    }
   },
   "outputs": [
    {
     "data": {
      "text/plain": [
       "Ttest_1sampResult(statistic=array([-0.58757449, -0.51864905,  1.51829849,  0.20822305, -0.30650276,\n",
       "        0.78009027]), pvalue=array([0.55734615, 0.60446243, 0.1301977 , 0.83522367, 0.75947598,\n",
       "       0.43607273]))"
      ]
     },
     "execution_count": 98,
     "metadata": {},
     "output_type": "execute_result"
    }
   ],
   "source": [
    "stats.ttest_1samp(lambda_df[['const','high-low']+control_x],0)"
   ]
  },
  {
   "cell_type": "markdown",
   "metadata": {},
   "source": [
    "# 附录：因子收益率描述性统计"
   ]
  },
  {
   "cell_type": "code",
   "execution_count": 145,
   "metadata": {
    "ExecuteTime": {
     "end_time": "2021-01-29T07:31:42.910148Z",
     "start_time": "2021-01-29T07:31:39.327940Z"
    }
   },
   "outputs": [],
   "source": [
    "month_list = total['month'].unique().tolist()\n",
    "q_size = 10\n",
    "fac_name = 'Max7d' # or 'coskew'\n",
    "Mret_list = []\n",
    "Rf = rf.groupby('month').apply(lambda x:x.iloc[-1]).reset_index(drop=True)[['month','R007']]\n",
    "\n",
    "for i in range(1,len(month_list)):\n",
    "    rebalance_group = total[total['month'] == month_list[i-1]].reset_index(drop=True)\n",
    "    # 偏度指标分组\n",
    "    #rebalance_group['decile'] = pd.qcut(rebalance_group[fac_name],q=q_size,labels = [str(i) for i in range(q_size)])\n",
    "    # 最大日收益指标分组（只是为了避免报错。。。）\n",
    "    rebalance_group = qcut(rebalance_group,fac_name,q_size)\n",
    "    \n",
    "    current_group = total[total['month'] == month_list[i]].reset_index(drop=True)\n",
    "    current_group = current_group.rename(columns={'total_mv':'total_mv_end'})\n",
    "    current_group = pd.merge(current_group,rebalance_group[['ts_code','decile','total_mv']])\n",
    "    current_group = current_group[pd.notnull(current_group['decile'])].reset_index(drop=True)\n",
    "    current_group['vw_ret'] = current_group['total_mv']*current_group['pct_chg']\n",
    "    \n",
    "    rf_rate = Rf[Rf['month']==month_list[i]]['R007'].iloc[0]*12\n",
    "    # EW return\n",
    "    group_ret = current_group.groupby('decile').mean()['pct_chg'] - rf_rate\n",
    "    # VW return\n",
    "    #group_ret = current_group.groupby('decile').sum()['vw_ret']/current_group.groupby('decile').sum()['total_mv'] - rf_rate\n",
    "    group_ret.name = month_list[i]\n",
    "    \n",
    "    Mret_list.append(group_ret)"
   ]
  },
  {
   "cell_type": "code",
   "execution_count": 136,
   "metadata": {
    "ExecuteTime": {
     "end_time": "2021-01-29T07:30:50.171549Z",
     "start_time": "2021-01-29T07:30:49.941515Z"
    }
   },
   "outputs": [],
   "source": [
    "# skew\n",
    "port_result1 = pd.concat(Mret_list,axis=1).T\n",
    "port_result1 = pd.DataFrame(port_result1.values,index=port_result1.index,columns=port_result1.columns.tolist())\n",
    "dt = list(map(lambda x:datetime.strptime(str(x),'%Y%m'),port_result1.index.tolist()))\n",
    "port_result1['high-low'] = -(port_result1[str(q_size-1)] - port_result1['0']) # (port_result[str(q_size-1)] - port_result['0']) if fac_name == 'coskew' "
   ]
  },
  {
   "cell_type": "code",
   "execution_count": 138,
   "metadata": {
    "ExecuteTime": {
     "end_time": "2021-01-29T07:30:58.329250Z",
     "start_time": "2021-01-29T07:30:58.108780Z"
    }
   },
   "outputs": [],
   "source": [
    "# coskew\n",
    "port_result2 = pd.concat(Mret_list,axis=1).T\n",
    "port_result2 = pd.DataFrame(port_result2.values,index=port_result2.index,columns=port_result2.columns.tolist())\n",
    "dt = list(map(lambda x:datetime.strptime(str(x),'%Y%m'),port_result2.index.tolist()))\n",
    "port_result2['high-low'] = -(port_result2[str(q_size-1)] - port_result2['0']) # (port_result[str(q_size-1)] - port_result['0']) if fac_name == 'coskew' "
   ]
  },
  {
   "cell_type": "code",
   "execution_count": 140,
   "metadata": {
    "ExecuteTime": {
     "end_time": "2021-01-29T07:31:07.118393Z",
     "start_time": "2021-01-29T07:31:06.879764Z"
    }
   },
   "outputs": [],
   "source": [
    "# iskew\n",
    "port_result3 = pd.concat(Mret_list,axis=1).T\n",
    "port_result3 = pd.DataFrame(port_result3.values,index=port_result3.index,columns=port_result3.columns.tolist())\n",
    "dt = list(map(lambda x:datetime.strptime(str(x),'%Y%m'),port_result3.index.tolist()))\n",
    "port_result3['high-low'] = -(port_result3[str(q_size-1)] - port_result3['0']) # (port_result[str(q_size-1)] - port_result['0']) if fac_name == 'coskew' "
   ]
  },
  {
   "cell_type": "code",
   "execution_count": 142,
   "metadata": {
    "ExecuteTime": {
     "end_time": "2021-01-29T07:31:23.889038Z",
     "start_time": "2021-01-29T07:31:23.663380Z"
    }
   },
   "outputs": [],
   "source": [
    "# Max3d\n",
    "port_result4 = pd.concat(Mret_list,axis=1).T\n",
    "port_result4 = pd.DataFrame(port_result4.values,index=port_result4.index,columns=port_result4.columns.tolist())\n",
    "dt = list(map(lambda x:datetime.strptime(str(x),'%Y%m'),port_result4.index.tolist()))\n",
    "port_result4['high-low'] = -(port_result4[str(q_size-1)] - port_result4['0']) # (port_result[str(q_size-1)] - port_result['0']) if fac_name == 'coskew' "
   ]
  },
  {
   "cell_type": "code",
   "execution_count": 144,
   "metadata": {
    "ExecuteTime": {
     "end_time": "2021-01-29T07:31:34.699336Z",
     "start_time": "2021-01-29T07:31:34.465923Z"
    }
   },
   "outputs": [],
   "source": [
    "# Max5d\n",
    "port_result5 = pd.concat(Mret_list,axis=1).T\n",
    "port_result5 = pd.DataFrame(port_result5.values,index=port_result5.index,columns=port_result5.columns.tolist())\n",
    "dt = list(map(lambda x:datetime.strptime(str(x),'%Y%m'),port_result5.index.tolist()))\n",
    "port_result5['high-low'] = -(port_result5[str(q_size-1)] - port_result5['0']) # (port_result[str(q_size-1)] - port_result['0']) if fac_name == 'coskew' "
   ]
  },
  {
   "cell_type": "code",
   "execution_count": 146,
   "metadata": {
    "ExecuteTime": {
     "end_time": "2021-01-29T07:31:46.045124Z",
     "start_time": "2021-01-29T07:31:45.808742Z"
    }
   },
   "outputs": [],
   "source": [
    "# Max7d\n",
    "port_result6 = pd.concat(Mret_list,axis=1).T\n",
    "port_result6 = pd.DataFrame(port_result6.values,index=port_result6.index,columns=port_result6.columns.tolist())\n",
    "dt = list(map(lambda x:datetime.strptime(str(x),'%Y%m'),port_result6.index.tolist()))\n",
    "port_result6['high-low'] = -(port_result6[str(q_size-1)] - port_result6['0']) # (port_result[str(q_size-1)] - port_result['0']) if fac_name == 'coskew' "
   ]
  },
  {
   "cell_type": "code",
   "execution_count": 148,
   "metadata": {
    "ExecuteTime": {
     "end_time": "2021-01-29T07:32:02.230963Z",
     "start_time": "2021-01-29T07:32:02.175113Z"
    }
   },
   "outputs": [
    {
     "data": {
      "text/html": [
       "<div>\n",
       "<style scoped>\n",
       "    .dataframe tbody tr th:only-of-type {\n",
       "        vertical-align: middle;\n",
       "    }\n",
       "\n",
       "    .dataframe tbody tr th {\n",
       "        vertical-align: top;\n",
       "    }\n",
       "\n",
       "    .dataframe thead th {\n",
       "        text-align: right;\n",
       "    }\n",
       "</style>\n",
       "<table border=\"1\" class=\"dataframe\">\n",
       "  <thead>\n",
       "    <tr style=\"text-align: right;\">\n",
       "      <th></th>\n",
       "      <th>skew</th>\n",
       "      <th>coskew</th>\n",
       "      <th>iskew</th>\n",
       "      <th>Max3d</th>\n",
       "      <th>Max5d</th>\n",
       "      <th>Max7d</th>\n",
       "      <th>MKT</th>\n",
       "      <th>SMB</th>\n",
       "      <th>HML</th>\n",
       "      <th>RMW</th>\n",
       "      <th>CMA</th>\n",
       "      <th>UMD</th>\n",
       "      <th>R_inv</th>\n",
       "      <th>R_roe</th>\n",
       "      <th>R_mgmt</th>\n",
       "      <th>R_perf</th>\n",
       "      <th>R_fin</th>\n",
       "      <th>R_pead</th>\n",
       "    </tr>\n",
       "  </thead>\n",
       "  <tbody>\n",
       "    <tr>\n",
       "      <th>count</th>\n",
       "      <td>247.000000</td>\n",
       "      <td>247.000000</td>\n",
       "      <td>247.000000</td>\n",
       "      <td>247.000000</td>\n",
       "      <td>247.000000</td>\n",
       "      <td>247.000000</td>\n",
       "      <td>312.000000</td>\n",
       "      <td>312.000000</td>\n",
       "      <td>312.000000</td>\n",
       "      <td>312.000000</td>\n",
       "      <td>312.000000</td>\n",
       "      <td>312.000000</td>\n",
       "      <td>207.000000</td>\n",
       "      <td>207.000000</td>\n",
       "      <td>225.000000</td>\n",
       "      <td>225.000000</td>\n",
       "      <td>224.000000</td>\n",
       "      <td>224.000000</td>\n",
       "    </tr>\n",
       "    <tr>\n",
       "      <th>mean</th>\n",
       "      <td>0.010288</td>\n",
       "      <td>0.002591</td>\n",
       "      <td>0.007417</td>\n",
       "      <td>0.019034</td>\n",
       "      <td>0.019085</td>\n",
       "      <td>0.018859</td>\n",
       "      <td>0.011354</td>\n",
       "      <td>0.006185</td>\n",
       "      <td>0.004454</td>\n",
       "      <td>0.002517</td>\n",
       "      <td>-0.002414</td>\n",
       "      <td>0.000215</td>\n",
       "      <td>0.000223</td>\n",
       "      <td>0.007064</td>\n",
       "      <td>-0.000136</td>\n",
       "      <td>0.005668</td>\n",
       "      <td>0.003055</td>\n",
       "      <td>0.002203</td>\n",
       "    </tr>\n",
       "    <tr>\n",
       "      <th>std</th>\n",
       "      <td>0.026499</td>\n",
       "      <td>0.032198</td>\n",
       "      <td>0.027099</td>\n",
       "      <td>0.039850</td>\n",
       "      <td>0.041736</td>\n",
       "      <td>0.040901</td>\n",
       "      <td>0.082236</td>\n",
       "      <td>0.046563</td>\n",
       "      <td>0.046481</td>\n",
       "      <td>0.039729</td>\n",
       "      <td>0.027862</td>\n",
       "      <td>0.042905</td>\n",
       "      <td>0.020484</td>\n",
       "      <td>0.035802</td>\n",
       "      <td>0.032166</td>\n",
       "      <td>0.045330</td>\n",
       "      <td>0.027047</td>\n",
       "      <td>0.020572</td>\n",
       "    </tr>\n",
       "    <tr>\n",
       "      <th>min</th>\n",
       "      <td>-0.129661</td>\n",
       "      <td>-0.172038</td>\n",
       "      <td>-0.172556</td>\n",
       "      <td>-0.090788</td>\n",
       "      <td>-0.102675</td>\n",
       "      <td>-0.102228</td>\n",
       "      <td>-0.249598</td>\n",
       "      <td>-0.231450</td>\n",
       "      <td>-0.175990</td>\n",
       "      <td>-0.154054</td>\n",
       "      <td>-0.128406</td>\n",
       "      <td>-0.134186</td>\n",
       "      <td>-0.086705</td>\n",
       "      <td>-0.116880</td>\n",
       "      <td>-0.149962</td>\n",
       "      <td>-0.172100</td>\n",
       "      <td>-0.094044</td>\n",
       "      <td>-0.070656</td>\n",
       "    </tr>\n",
       "    <tr>\n",
       "      <th>25%</th>\n",
       "      <td>-0.004254</td>\n",
       "      <td>-0.014578</td>\n",
       "      <td>-0.002700</td>\n",
       "      <td>-0.003464</td>\n",
       "      <td>-0.004811</td>\n",
       "      <td>-0.004662</td>\n",
       "      <td>-0.043215</td>\n",
       "      <td>-0.020905</td>\n",
       "      <td>-0.016397</td>\n",
       "      <td>-0.015903</td>\n",
       "      <td>-0.016685</td>\n",
       "      <td>-0.023346</td>\n",
       "      <td>-0.011214</td>\n",
       "      <td>-0.013640</td>\n",
       "      <td>-0.019894</td>\n",
       "      <td>-0.019612</td>\n",
       "      <td>-0.011958</td>\n",
       "      <td>-0.006430</td>\n",
       "    </tr>\n",
       "    <tr>\n",
       "      <th>50%</th>\n",
       "      <td>0.010432</td>\n",
       "      <td>0.002431</td>\n",
       "      <td>0.007158</td>\n",
       "      <td>0.017214</td>\n",
       "      <td>0.018236</td>\n",
       "      <td>0.017196</td>\n",
       "      <td>0.008384</td>\n",
       "      <td>0.005840</td>\n",
       "      <td>0.003133</td>\n",
       "      <td>0.000307</td>\n",
       "      <td>-0.001785</td>\n",
       "      <td>0.001161</td>\n",
       "      <td>-0.001394</td>\n",
       "      <td>0.007579</td>\n",
       "      <td>0.002601</td>\n",
       "      <td>0.007930</td>\n",
       "      <td>0.002552</td>\n",
       "      <td>0.002775</td>\n",
       "    </tr>\n",
       "    <tr>\n",
       "      <th>75%</th>\n",
       "      <td>0.024126</td>\n",
       "      <td>0.019318</td>\n",
       "      <td>0.021541</td>\n",
       "      <td>0.041189</td>\n",
       "      <td>0.039248</td>\n",
       "      <td>0.040765</td>\n",
       "      <td>0.053270</td>\n",
       "      <td>0.031023</td>\n",
       "      <td>0.025512</td>\n",
       "      <td>0.022823</td>\n",
       "      <td>0.012161</td>\n",
       "      <td>0.025375</td>\n",
       "      <td>0.012144</td>\n",
       "      <td>0.027235</td>\n",
       "      <td>0.016167</td>\n",
       "      <td>0.032860</td>\n",
       "      <td>0.018459</td>\n",
       "      <td>0.014738</td>\n",
       "    </tr>\n",
       "    <tr>\n",
       "      <th>max</th>\n",
       "      <td>0.083061</td>\n",
       "      <td>0.091094</td>\n",
       "      <td>0.077916</td>\n",
       "      <td>0.155145</td>\n",
       "      <td>0.185141</td>\n",
       "      <td>0.193208</td>\n",
       "      <td>0.333979</td>\n",
       "      <td>0.203644</td>\n",
       "      <td>0.281128</td>\n",
       "      <td>0.178450</td>\n",
       "      <td>0.142250</td>\n",
       "      <td>0.136714</td>\n",
       "      <td>0.057459</td>\n",
       "      <td>0.126140</td>\n",
       "      <td>0.166101</td>\n",
       "      <td>0.138253</td>\n",
       "      <td>0.088788</td>\n",
       "      <td>0.063997</td>\n",
       "    </tr>\n",
       "  </tbody>\n",
       "</table>\n",
       "</div>"
      ],
      "text/plain": [
       "             skew      coskew       iskew       Max3d       Max5d       Max7d  \\\n",
       "count  247.000000  247.000000  247.000000  247.000000  247.000000  247.000000   \n",
       "mean     0.010288    0.002591    0.007417    0.019034    0.019085    0.018859   \n",
       "std      0.026499    0.032198    0.027099    0.039850    0.041736    0.040901   \n",
       "min     -0.129661   -0.172038   -0.172556   -0.090788   -0.102675   -0.102228   \n",
       "25%     -0.004254   -0.014578   -0.002700   -0.003464   -0.004811   -0.004662   \n",
       "50%      0.010432    0.002431    0.007158    0.017214    0.018236    0.017196   \n",
       "75%      0.024126    0.019318    0.021541    0.041189    0.039248    0.040765   \n",
       "max      0.083061    0.091094    0.077916    0.155145    0.185141    0.193208   \n",
       "\n",
       "              MKT         SMB         HML         RMW         CMA         UMD  \\\n",
       "count  312.000000  312.000000  312.000000  312.000000  312.000000  312.000000   \n",
       "mean     0.011354    0.006185    0.004454    0.002517   -0.002414    0.000215   \n",
       "std      0.082236    0.046563    0.046481    0.039729    0.027862    0.042905   \n",
       "min     -0.249598   -0.231450   -0.175990   -0.154054   -0.128406   -0.134186   \n",
       "25%     -0.043215   -0.020905   -0.016397   -0.015903   -0.016685   -0.023346   \n",
       "50%      0.008384    0.005840    0.003133    0.000307   -0.001785    0.001161   \n",
       "75%      0.053270    0.031023    0.025512    0.022823    0.012161    0.025375   \n",
       "max      0.333979    0.203644    0.281128    0.178450    0.142250    0.136714   \n",
       "\n",
       "            R_inv       R_roe      R_mgmt      R_perf       R_fin      R_pead  \n",
       "count  207.000000  207.000000  225.000000  225.000000  224.000000  224.000000  \n",
       "mean     0.000223    0.007064   -0.000136    0.005668    0.003055    0.002203  \n",
       "std      0.020484    0.035802    0.032166    0.045330    0.027047    0.020572  \n",
       "min     -0.086705   -0.116880   -0.149962   -0.172100   -0.094044   -0.070656  \n",
       "25%     -0.011214   -0.013640   -0.019894   -0.019612   -0.011958   -0.006430  \n",
       "50%     -0.001394    0.007579    0.002601    0.007930    0.002552    0.002775  \n",
       "75%      0.012144    0.027235    0.016167    0.032860    0.018459    0.014738  \n",
       "max      0.057459    0.126140    0.166101    0.138253    0.088788    0.063997  "
      ]
     },
     "execution_count": 148,
     "metadata": {},
     "output_type": "execute_result"
    }
   ],
   "source": [
    "pd.concat(\n",
    "    [\n",
    "        port_result1.rename(columns={'high-low':'skew'})['skew'].describe(),\n",
    "        port_result2.rename(columns={'high-low':'coskew'})['coskew'].describe(),\n",
    "        port_result3.rename(columns={'high-low':'iskew'})['iskew'].describe(),\n",
    "        port_result4.rename(columns={'high-low':'Max3d'})['Max3d'].describe(),\n",
    "        port_result5.rename(columns={'high-low':'Max5d'})['Max5d'].describe(),\n",
    "        port_result6.rename(columns={'high-low':'Max7d'})['Max7d'].describe(),\n",
    "        capm['MKT'].describe(),\n",
    "        ff5['SMB'].describe(),\n",
    "        ff5['HML'].describe(),\n",
    "        ff5['RMW'].describe(),\n",
    "        ff5['CMA'].describe(),\n",
    "        carhart['UMD'].describe(),\n",
    "        q['R_inv'].describe(),\n",
    "        q['R_roe'].describe(),\n",
    "        sy['R_mgmt'].describe(),\n",
    "        sy['R_perf'].describe(),\n",
    "        dhs['R_fin'].describe(),\n",
    "        dhs['R_pead'].describe()\n",
    "    ],axis=1\n",
    ")\n"
   ]
  },
  {
   "cell_type": "code",
   "execution_count": 149,
   "metadata": {
    "ExecuteTime": {
     "end_time": "2021-01-29T07:35:18.675969Z",
     "start_time": "2021-01-29T07:35:18.664530Z"
    }
   },
   "outputs": [],
   "source": [
    "factor_df = pd.concat([\n",
    "    port_result1.rename(columns={'high-low':'skew'})[['skew']],\n",
    "    port_result2.rename(columns={'high-low':'coskew'})['coskew'],\n",
    "    port_result3.rename(columns={'high-low':'iskew'})['iskew'],\n",
    "    port_result4.rename(columns={'high-low':'Max3d'})['Max3d'],\n",
    "    port_result5.rename(columns={'high-low':'Max5d'})['Max5d'],\n",
    "    port_result6.rename(columns={'high-low':'Max7d'})['Max7d']\n",
    "],axis=1).reset_index().rename(columns={'index':'month'})"
   ]
  },
  {
   "cell_type": "code",
   "execution_count": 150,
   "metadata": {
    "ExecuteTime": {
     "end_time": "2021-01-29T07:35:19.440849Z",
     "start_time": "2021-01-29T07:35:19.415913Z"
    }
   },
   "outputs": [],
   "source": [
    "reg_all = pd.merge(factor_df,reg_ff5[['month','MKT','SMB','HML','RMW','CMA']],on='month')\n",
    "reg_all = pd.merge(reg_all,reg_carhart[['month','UMD']],on='month')\n",
    "reg_all = pd.merge(reg_all,reg_q[['month','R_inv','R_roe']],on='month')\n",
    "reg_all = pd.merge(reg_all,reg_sy[['month','R_mgmt','R_perf']],on='month')\n",
    "reg_all = pd.merge(reg_all,reg_dhs[['month','R_fin','R_pead']],on='month').reset_index(drop=True)"
   ]
  },
  {
   "cell_type": "code",
   "execution_count": 151,
   "metadata": {
    "ExecuteTime": {
     "end_time": "2021-01-29T07:35:20.179887Z",
     "start_time": "2021-01-29T07:35:20.156907Z"
    }
   },
   "outputs": [
    {
     "data": {
      "text/html": [
       "<div>\n",
       "<style scoped>\n",
       "    .dataframe tbody tr th:only-of-type {\n",
       "        vertical-align: middle;\n",
       "    }\n",
       "\n",
       "    .dataframe tbody tr th {\n",
       "        vertical-align: top;\n",
       "    }\n",
       "\n",
       "    .dataframe thead th {\n",
       "        text-align: right;\n",
       "    }\n",
       "</style>\n",
       "<table border=\"1\" class=\"dataframe\">\n",
       "  <thead>\n",
       "    <tr style=\"text-align: right;\">\n",
       "      <th></th>\n",
       "      <th>skew</th>\n",
       "      <th>coskew</th>\n",
       "      <th>iskew</th>\n",
       "      <th>Max3d</th>\n",
       "      <th>Max5d</th>\n",
       "      <th>Max7d</th>\n",
       "      <th>MKT</th>\n",
       "      <th>SMB</th>\n",
       "      <th>HML</th>\n",
       "      <th>RMW</th>\n",
       "      <th>CMA</th>\n",
       "      <th>UMD</th>\n",
       "      <th>R_inv</th>\n",
       "      <th>R_roe</th>\n",
       "      <th>R_mgmt</th>\n",
       "      <th>R_perf</th>\n",
       "      <th>R_fin</th>\n",
       "      <th>R_pead</th>\n",
       "    </tr>\n",
       "  </thead>\n",
       "  <tbody>\n",
       "    <tr>\n",
       "      <th>skew</th>\n",
       "      <td>1.000000</td>\n",
       "      <td>0.385427</td>\n",
       "      <td>0.604470</td>\n",
       "      <td>0.018467</td>\n",
       "      <td>-0.010922</td>\n",
       "      <td>-0.024426</td>\n",
       "      <td>0.080119</td>\n",
       "      <td>0.430632</td>\n",
       "      <td>-0.194047</td>\n",
       "      <td>-0.312314</td>\n",
       "      <td>0.163063</td>\n",
       "      <td>-0.073962</td>\n",
       "      <td>0.015407</td>\n",
       "      <td>-0.319369</td>\n",
       "      <td>-0.183584</td>\n",
       "      <td>0.094102</td>\n",
       "      <td>-0.064588</td>\n",
       "      <td>-0.189496</td>\n",
       "    </tr>\n",
       "    <tr>\n",
       "      <th>coskew</th>\n",
       "      <td>0.385427</td>\n",
       "      <td>1.000000</td>\n",
       "      <td>-0.021938</td>\n",
       "      <td>0.188069</td>\n",
       "      <td>0.196346</td>\n",
       "      <td>0.174434</td>\n",
       "      <td>-0.051431</td>\n",
       "      <td>0.362708</td>\n",
       "      <td>-0.182584</td>\n",
       "      <td>-0.229830</td>\n",
       "      <td>0.144381</td>\n",
       "      <td>-0.025403</td>\n",
       "      <td>0.084825</td>\n",
       "      <td>-0.193659</td>\n",
       "      <td>-0.102865</td>\n",
       "      <td>0.080524</td>\n",
       "      <td>-0.071263</td>\n",
       "      <td>-0.135803</td>\n",
       "    </tr>\n",
       "    <tr>\n",
       "      <th>iskew</th>\n",
       "      <td>0.604470</td>\n",
       "      <td>-0.021938</td>\n",
       "      <td>1.000000</td>\n",
       "      <td>-0.186674</td>\n",
       "      <td>-0.215597</td>\n",
       "      <td>-0.216649</td>\n",
       "      <td>-0.031412</td>\n",
       "      <td>0.263553</td>\n",
       "      <td>-0.294913</td>\n",
       "      <td>-0.107882</td>\n",
       "      <td>-0.038672</td>\n",
       "      <td>0.219433</td>\n",
       "      <td>-0.116699</td>\n",
       "      <td>-0.102279</td>\n",
       "      <td>-0.280591</td>\n",
       "      <td>0.342258</td>\n",
       "      <td>-0.054719</td>\n",
       "      <td>-0.003507</td>\n",
       "    </tr>\n",
       "    <tr>\n",
       "      <th>Max3d</th>\n",
       "      <td>0.018467</td>\n",
       "      <td>0.188069</td>\n",
       "      <td>-0.186674</td>\n",
       "      <td>1.000000</td>\n",
       "      <td>0.966603</td>\n",
       "      <td>0.949322</td>\n",
       "      <td>-0.149126</td>\n",
       "      <td>-0.049887</td>\n",
       "      <td>0.311384</td>\n",
       "      <td>0.055430</td>\n",
       "      <td>0.234444</td>\n",
       "      <td>-0.198629</td>\n",
       "      <td>0.252283</td>\n",
       "      <td>0.025479</td>\n",
       "      <td>0.365398</td>\n",
       "      <td>-0.221817</td>\n",
       "      <td>0.154604</td>\n",
       "      <td>0.117211</td>\n",
       "    </tr>\n",
       "    <tr>\n",
       "      <th>Max5d</th>\n",
       "      <td>-0.010922</td>\n",
       "      <td>0.196346</td>\n",
       "      <td>-0.215597</td>\n",
       "      <td>0.966603</td>\n",
       "      <td>1.000000</td>\n",
       "      <td>0.981125</td>\n",
       "      <td>-0.160882</td>\n",
       "      <td>-0.032282</td>\n",
       "      <td>0.320818</td>\n",
       "      <td>0.035991</td>\n",
       "      <td>0.259975</td>\n",
       "      <td>-0.229372</td>\n",
       "      <td>0.276377</td>\n",
       "      <td>0.004513</td>\n",
       "      <td>0.386083</td>\n",
       "      <td>-0.261470</td>\n",
       "      <td>0.198987</td>\n",
       "      <td>0.096433</td>\n",
       "    </tr>\n",
       "    <tr>\n",
       "      <th>Max7d</th>\n",
       "      <td>-0.024426</td>\n",
       "      <td>0.174434</td>\n",
       "      <td>-0.216649</td>\n",
       "      <td>0.949322</td>\n",
       "      <td>0.981125</td>\n",
       "      <td>1.000000</td>\n",
       "      <td>-0.150586</td>\n",
       "      <td>-0.047220</td>\n",
       "      <td>0.300905</td>\n",
       "      <td>0.065830</td>\n",
       "      <td>0.238327</td>\n",
       "      <td>-0.191747</td>\n",
       "      <td>0.259130</td>\n",
       "      <td>0.044496</td>\n",
       "      <td>0.362247</td>\n",
       "      <td>-0.223108</td>\n",
       "      <td>0.185318</td>\n",
       "      <td>0.094951</td>\n",
       "    </tr>\n",
       "    <tr>\n",
       "      <th>MKT</th>\n",
       "      <td>0.080119</td>\n",
       "      <td>-0.051431</td>\n",
       "      <td>-0.031412</td>\n",
       "      <td>-0.149126</td>\n",
       "      <td>-0.160882</td>\n",
       "      <td>-0.150586</td>\n",
       "      <td>1.000000</td>\n",
       "      <td>0.112900</td>\n",
       "      <td>0.023087</td>\n",
       "      <td>-0.343683</td>\n",
       "      <td>0.043544</td>\n",
       "      <td>-0.077680</td>\n",
       "      <td>-0.008628</td>\n",
       "      <td>-0.282349</td>\n",
       "      <td>-0.222507</td>\n",
       "      <td>-0.095168</td>\n",
       "      <td>-0.161729</td>\n",
       "      <td>-0.308629</td>\n",
       "    </tr>\n",
       "    <tr>\n",
       "      <th>SMB</th>\n",
       "      <td>0.430632</td>\n",
       "      <td>0.362708</td>\n",
       "      <td>0.263553</td>\n",
       "      <td>-0.049887</td>\n",
       "      <td>-0.032282</td>\n",
       "      <td>-0.047220</td>\n",
       "      <td>0.112900</td>\n",
       "      <td>1.000000</td>\n",
       "      <td>-0.457767</td>\n",
       "      <td>-0.723381</td>\n",
       "      <td>0.274081</td>\n",
       "      <td>-0.242818</td>\n",
       "      <td>0.009661</td>\n",
       "      <td>-0.684236</td>\n",
       "      <td>-0.520795</td>\n",
       "      <td>0.000228</td>\n",
       "      <td>-0.379296</td>\n",
       "      <td>-0.396689</td>\n",
       "    </tr>\n",
       "    <tr>\n",
       "      <th>HML</th>\n",
       "      <td>-0.194047</td>\n",
       "      <td>-0.182584</td>\n",
       "      <td>-0.294913</td>\n",
       "      <td>0.311384</td>\n",
       "      <td>0.320818</td>\n",
       "      <td>0.300905</td>\n",
       "      <td>0.023087</td>\n",
       "      <td>-0.457767</td>\n",
       "      <td>1.000000</td>\n",
       "      <td>0.071600</td>\n",
       "      <td>0.474137</td>\n",
       "      <td>-0.277065</td>\n",
       "      <td>0.596738</td>\n",
       "      <td>0.058134</td>\n",
       "      <td>0.797848</td>\n",
       "      <td>-0.494667</td>\n",
       "      <td>0.422835</td>\n",
       "      <td>0.114301</td>\n",
       "    </tr>\n",
       "    <tr>\n",
       "      <th>RMW</th>\n",
       "      <td>-0.312314</td>\n",
       "      <td>-0.229830</td>\n",
       "      <td>-0.107882</td>\n",
       "      <td>0.055430</td>\n",
       "      <td>0.035991</td>\n",
       "      <td>0.065830</td>\n",
       "      <td>-0.343683</td>\n",
       "      <td>-0.723381</td>\n",
       "      <td>0.071600</td>\n",
       "      <td>1.000000</td>\n",
       "      <td>-0.586970</td>\n",
       "      <td>0.437758</td>\n",
       "      <td>-0.327383</td>\n",
       "      <td>0.860850</td>\n",
       "      <td>0.238037</td>\n",
       "      <td>0.317284</td>\n",
       "      <td>0.232077</td>\n",
       "      <td>0.460220</td>\n",
       "    </tr>\n",
       "    <tr>\n",
       "      <th>CMA</th>\n",
       "      <td>0.163063</td>\n",
       "      <td>0.144381</td>\n",
       "      <td>-0.038672</td>\n",
       "      <td>0.234444</td>\n",
       "      <td>0.259975</td>\n",
       "      <td>0.238327</td>\n",
       "      <td>0.043544</td>\n",
       "      <td>0.274081</td>\n",
       "      <td>0.474137</td>\n",
       "      <td>-0.586970</td>\n",
       "      <td>1.000000</td>\n",
       "      <td>-0.366303</td>\n",
       "      <td>0.884160</td>\n",
       "      <td>-0.491184</td>\n",
       "      <td>0.365960</td>\n",
       "      <td>-0.422400</td>\n",
       "      <td>0.175198</td>\n",
       "      <td>-0.175228</td>\n",
       "    </tr>\n",
       "    <tr>\n",
       "      <th>UMD</th>\n",
       "      <td>-0.073962</td>\n",
       "      <td>-0.025403</td>\n",
       "      <td>0.219433</td>\n",
       "      <td>-0.198629</td>\n",
       "      <td>-0.229372</td>\n",
       "      <td>-0.191747</td>\n",
       "      <td>-0.077680</td>\n",
       "      <td>-0.242818</td>\n",
       "      <td>-0.277065</td>\n",
       "      <td>0.437758</td>\n",
       "      <td>-0.366303</td>\n",
       "      <td>1.000000</td>\n",
       "      <td>-0.181564</td>\n",
       "      <td>0.578588</td>\n",
       "      <td>-0.246821</td>\n",
       "      <td>0.775642</td>\n",
       "      <td>0.047751</td>\n",
       "      <td>0.343365</td>\n",
       "    </tr>\n",
       "    <tr>\n",
       "      <th>R_inv</th>\n",
       "      <td>0.015407</td>\n",
       "      <td>0.084825</td>\n",
       "      <td>-0.116699</td>\n",
       "      <td>0.252283</td>\n",
       "      <td>0.276377</td>\n",
       "      <td>0.259130</td>\n",
       "      <td>-0.008628</td>\n",
       "      <td>0.009661</td>\n",
       "      <td>0.596738</td>\n",
       "      <td>-0.327383</td>\n",
       "      <td>0.884160</td>\n",
       "      <td>-0.181564</td>\n",
       "      <td>1.000000</td>\n",
       "      <td>-0.170973</td>\n",
       "      <td>0.513335</td>\n",
       "      <td>-0.317876</td>\n",
       "      <td>0.320029</td>\n",
       "      <td>0.003044</td>\n",
       "    </tr>\n",
       "    <tr>\n",
       "      <th>R_roe</th>\n",
       "      <td>-0.319369</td>\n",
       "      <td>-0.193659</td>\n",
       "      <td>-0.102279</td>\n",
       "      <td>0.025479</td>\n",
       "      <td>0.004513</td>\n",
       "      <td>0.044496</td>\n",
       "      <td>-0.282349</td>\n",
       "      <td>-0.684236</td>\n",
       "      <td>0.058134</td>\n",
       "      <td>0.860850</td>\n",
       "      <td>-0.491184</td>\n",
       "      <td>0.578588</td>\n",
       "      <td>-0.170973</td>\n",
       "      <td>1.000000</td>\n",
       "      <td>0.170208</td>\n",
       "      <td>0.461471</td>\n",
       "      <td>0.284863</td>\n",
       "      <td>0.464641</td>\n",
       "    </tr>\n",
       "    <tr>\n",
       "      <th>R_mgmt</th>\n",
       "      <td>-0.183584</td>\n",
       "      <td>-0.102865</td>\n",
       "      <td>-0.280591</td>\n",
       "      <td>0.365398</td>\n",
       "      <td>0.386083</td>\n",
       "      <td>0.362247</td>\n",
       "      <td>-0.222507</td>\n",
       "      <td>-0.520795</td>\n",
       "      <td>0.797848</td>\n",
       "      <td>0.238037</td>\n",
       "      <td>0.365960</td>\n",
       "      <td>-0.246821</td>\n",
       "      <td>0.513335</td>\n",
       "      <td>0.170208</td>\n",
       "      <td>1.000000</td>\n",
       "      <td>-0.500894</td>\n",
       "      <td>0.539455</td>\n",
       "      <td>0.191413</td>\n",
       "    </tr>\n",
       "    <tr>\n",
       "      <th>R_perf</th>\n",
       "      <td>0.094102</td>\n",
       "      <td>0.080524</td>\n",
       "      <td>0.342258</td>\n",
       "      <td>-0.221817</td>\n",
       "      <td>-0.261470</td>\n",
       "      <td>-0.223108</td>\n",
       "      <td>-0.095168</td>\n",
       "      <td>0.000228</td>\n",
       "      <td>-0.494667</td>\n",
       "      <td>0.317284</td>\n",
       "      <td>-0.422400</td>\n",
       "      <td>0.775642</td>\n",
       "      <td>-0.317876</td>\n",
       "      <td>0.461471</td>\n",
       "      <td>-0.500894</td>\n",
       "      <td>1.000000</td>\n",
       "      <td>0.021114</td>\n",
       "      <td>0.230622</td>\n",
       "    </tr>\n",
       "    <tr>\n",
       "      <th>R_fin</th>\n",
       "      <td>-0.064588</td>\n",
       "      <td>-0.071263</td>\n",
       "      <td>-0.054719</td>\n",
       "      <td>0.154604</td>\n",
       "      <td>0.198987</td>\n",
       "      <td>0.185318</td>\n",
       "      <td>-0.161729</td>\n",
       "      <td>-0.379296</td>\n",
       "      <td>0.422835</td>\n",
       "      <td>0.232077</td>\n",
       "      <td>0.175198</td>\n",
       "      <td>0.047751</td>\n",
       "      <td>0.320029</td>\n",
       "      <td>0.284863</td>\n",
       "      <td>0.539455</td>\n",
       "      <td>0.021114</td>\n",
       "      <td>1.000000</td>\n",
       "      <td>0.073229</td>\n",
       "    </tr>\n",
       "    <tr>\n",
       "      <th>R_pead</th>\n",
       "      <td>-0.189496</td>\n",
       "      <td>-0.135803</td>\n",
       "      <td>-0.003507</td>\n",
       "      <td>0.117211</td>\n",
       "      <td>0.096433</td>\n",
       "      <td>0.094951</td>\n",
       "      <td>-0.308629</td>\n",
       "      <td>-0.396689</td>\n",
       "      <td>0.114301</td>\n",
       "      <td>0.460220</td>\n",
       "      <td>-0.175228</td>\n",
       "      <td>0.343365</td>\n",
       "      <td>0.003044</td>\n",
       "      <td>0.464641</td>\n",
       "      <td>0.191413</td>\n",
       "      <td>0.230622</td>\n",
       "      <td>0.073229</td>\n",
       "      <td>1.000000</td>\n",
       "    </tr>\n",
       "  </tbody>\n",
       "</table>\n",
       "</div>"
      ],
      "text/plain": [
       "            skew    coskew     iskew     Max3d     Max5d     Max7d       MKT  \\\n",
       "skew    1.000000  0.385427  0.604470  0.018467 -0.010922 -0.024426  0.080119   \n",
       "coskew  0.385427  1.000000 -0.021938  0.188069  0.196346  0.174434 -0.051431   \n",
       "iskew   0.604470 -0.021938  1.000000 -0.186674 -0.215597 -0.216649 -0.031412   \n",
       "Max3d   0.018467  0.188069 -0.186674  1.000000  0.966603  0.949322 -0.149126   \n",
       "Max5d  -0.010922  0.196346 -0.215597  0.966603  1.000000  0.981125 -0.160882   \n",
       "Max7d  -0.024426  0.174434 -0.216649  0.949322  0.981125  1.000000 -0.150586   \n",
       "MKT     0.080119 -0.051431 -0.031412 -0.149126 -0.160882 -0.150586  1.000000   \n",
       "SMB     0.430632  0.362708  0.263553 -0.049887 -0.032282 -0.047220  0.112900   \n",
       "HML    -0.194047 -0.182584 -0.294913  0.311384  0.320818  0.300905  0.023087   \n",
       "RMW    -0.312314 -0.229830 -0.107882  0.055430  0.035991  0.065830 -0.343683   \n",
       "CMA     0.163063  0.144381 -0.038672  0.234444  0.259975  0.238327  0.043544   \n",
       "UMD    -0.073962 -0.025403  0.219433 -0.198629 -0.229372 -0.191747 -0.077680   \n",
       "R_inv   0.015407  0.084825 -0.116699  0.252283  0.276377  0.259130 -0.008628   \n",
       "R_roe  -0.319369 -0.193659 -0.102279  0.025479  0.004513  0.044496 -0.282349   \n",
       "R_mgmt -0.183584 -0.102865 -0.280591  0.365398  0.386083  0.362247 -0.222507   \n",
       "R_perf  0.094102  0.080524  0.342258 -0.221817 -0.261470 -0.223108 -0.095168   \n",
       "R_fin  -0.064588 -0.071263 -0.054719  0.154604  0.198987  0.185318 -0.161729   \n",
       "R_pead -0.189496 -0.135803 -0.003507  0.117211  0.096433  0.094951 -0.308629   \n",
       "\n",
       "             SMB       HML       RMW       CMA       UMD     R_inv     R_roe  \\\n",
       "skew    0.430632 -0.194047 -0.312314  0.163063 -0.073962  0.015407 -0.319369   \n",
       "coskew  0.362708 -0.182584 -0.229830  0.144381 -0.025403  0.084825 -0.193659   \n",
       "iskew   0.263553 -0.294913 -0.107882 -0.038672  0.219433 -0.116699 -0.102279   \n",
       "Max3d  -0.049887  0.311384  0.055430  0.234444 -0.198629  0.252283  0.025479   \n",
       "Max5d  -0.032282  0.320818  0.035991  0.259975 -0.229372  0.276377  0.004513   \n",
       "Max7d  -0.047220  0.300905  0.065830  0.238327 -0.191747  0.259130  0.044496   \n",
       "MKT     0.112900  0.023087 -0.343683  0.043544 -0.077680 -0.008628 -0.282349   \n",
       "SMB     1.000000 -0.457767 -0.723381  0.274081 -0.242818  0.009661 -0.684236   \n",
       "HML    -0.457767  1.000000  0.071600  0.474137 -0.277065  0.596738  0.058134   \n",
       "RMW    -0.723381  0.071600  1.000000 -0.586970  0.437758 -0.327383  0.860850   \n",
       "CMA     0.274081  0.474137 -0.586970  1.000000 -0.366303  0.884160 -0.491184   \n",
       "UMD    -0.242818 -0.277065  0.437758 -0.366303  1.000000 -0.181564  0.578588   \n",
       "R_inv   0.009661  0.596738 -0.327383  0.884160 -0.181564  1.000000 -0.170973   \n",
       "R_roe  -0.684236  0.058134  0.860850 -0.491184  0.578588 -0.170973  1.000000   \n",
       "R_mgmt -0.520795  0.797848  0.238037  0.365960 -0.246821  0.513335  0.170208   \n",
       "R_perf  0.000228 -0.494667  0.317284 -0.422400  0.775642 -0.317876  0.461471   \n",
       "R_fin  -0.379296  0.422835  0.232077  0.175198  0.047751  0.320029  0.284863   \n",
       "R_pead -0.396689  0.114301  0.460220 -0.175228  0.343365  0.003044  0.464641   \n",
       "\n",
       "          R_mgmt    R_perf     R_fin    R_pead  \n",
       "skew   -0.183584  0.094102 -0.064588 -0.189496  \n",
       "coskew -0.102865  0.080524 -0.071263 -0.135803  \n",
       "iskew  -0.280591  0.342258 -0.054719 -0.003507  \n",
       "Max3d   0.365398 -0.221817  0.154604  0.117211  \n",
       "Max5d   0.386083 -0.261470  0.198987  0.096433  \n",
       "Max7d   0.362247 -0.223108  0.185318  0.094951  \n",
       "MKT    -0.222507 -0.095168 -0.161729 -0.308629  \n",
       "SMB    -0.520795  0.000228 -0.379296 -0.396689  \n",
       "HML     0.797848 -0.494667  0.422835  0.114301  \n",
       "RMW     0.238037  0.317284  0.232077  0.460220  \n",
       "CMA     0.365960 -0.422400  0.175198 -0.175228  \n",
       "UMD    -0.246821  0.775642  0.047751  0.343365  \n",
       "R_inv   0.513335 -0.317876  0.320029  0.003044  \n",
       "R_roe   0.170208  0.461471  0.284863  0.464641  \n",
       "R_mgmt  1.000000 -0.500894  0.539455  0.191413  \n",
       "R_perf -0.500894  1.000000  0.021114  0.230622  \n",
       "R_fin   0.539455  0.021114  1.000000  0.073229  \n",
       "R_pead  0.191413  0.230622  0.073229  1.000000  "
      ]
     },
     "execution_count": 151,
     "metadata": {},
     "output_type": "execute_result"
    }
   ],
   "source": [
    "reg_all.iloc[:,1:].corr()"
   ]
  },
  {
   "cell_type": "code",
   "execution_count": 119,
   "metadata": {
    "ExecuteTime": {
     "end_time": "2021-01-30T15:30:26.398598Z",
     "start_time": "2021-01-30T15:30:23.770250Z"
    }
   },
   "outputs": [],
   "source": [
    "codes = total['ts_code'].unique().tolist()[0:50]\n",
    "total[total['ts_code'].isin(codes)].reset_index(drop=True).to_excel('c://users//coolgan//desktop//total_cleaned_demo.xlsx',index=False)"
   ]
  },
  {
   "cell_type": "code",
   "execution_count": null,
   "metadata": {},
   "outputs": [],
   "source": []
  }
 ],
 "metadata": {
  "kernelspec": {
   "display_name": "Python 3",
   "language": "python",
   "name": "python3"
  },
  "language_info": {
   "codemirror_mode": {
    "name": "ipython",
    "version": 3
   },
   "file_extension": ".py",
   "mimetype": "text/x-python",
   "name": "python",
   "nbconvert_exporter": "python",
   "pygments_lexer": "ipython3",
   "version": "3.8.5"
  },
  "toc": {
   "base_numbering": 1,
   "nav_menu": {},
   "number_sections": true,
   "sideBar": true,
   "skip_h1_title": false,
   "title_cell": "Table of Contents",
   "title_sidebar": "Contents",
   "toc_cell": false,
   "toc_position": {
    "height": "calc(100% - 180px)",
    "left": "10px",
    "top": "150px",
    "width": "256px"
   },
   "toc_section_display": true,
   "toc_window_display": true
  },
  "varInspector": {
   "cols": {
    "lenName": 16,
    "lenType": 16,
    "lenVar": 40
   },
   "kernels_config": {
    "python": {
     "delete_cmd_postfix": "",
     "delete_cmd_prefix": "del ",
     "library": "var_list.py",
     "varRefreshCmd": "print(var_dic_list())"
    },
    "r": {
     "delete_cmd_postfix": ") ",
     "delete_cmd_prefix": "rm(",
     "library": "var_list.r",
     "varRefreshCmd": "cat(var_dic_list()) "
    }
   },
   "position": {
    "height": "269.5px",
    "left": "938px",
    "right": "20px",
    "top": "120px",
    "width": "322px"
   },
   "types_to_exclude": [
    "module",
    "function",
    "builtin_function_or_method",
    "instance",
    "_Feature"
   ],
   "window_display": false
  }
 },
 "nbformat": 4,
 "nbformat_minor": 4
}
