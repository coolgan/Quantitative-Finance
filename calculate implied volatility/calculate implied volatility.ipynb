{
 "cells": [
  {
   "cell_type": "markdown",
   "metadata": {},
   "source": [
    "## 数据处理"
   ]
  },
  {
   "cell_type": "code",
   "execution_count": 1,
   "metadata": {
    "ExecuteTime": {
     "end_time": "2019-06-25T10:30:48.455050Z",
     "start_time": "2019-06-25T10:30:46.180443Z"
    }
   },
   "outputs": [],
   "source": [
    "import pandas as pd\n",
    "import datetime\n",
    "import calendar"
   ]
  },
  {
   "cell_type": "markdown",
   "metadata": {},
   "source": [
    "### 数据展示"
   ]
  },
  {
   "cell_type": "code",
   "execution_count": 15,
   "metadata": {
    "ExecuteTime": {
     "end_time": "2019-06-25T10:38:56.119206Z",
     "start_time": "2019-06-25T10:38:55.884347Z"
    }
   },
   "outputs": [],
   "source": [
    "rf=pd.read_csv('SHIBOR1月.csv')\n",
    "odata = pd.read_csv('上证50etf期权2015年.csv')\n",
    "edata = pd.read_csv('15年ETF.csv')\n",
    "test = edata"
   ]
  },
  {
   "cell_type": "code",
   "execution_count": 16,
   "metadata": {
    "ExecuteTime": {
     "end_time": "2019-06-25T10:39:03.917411Z",
     "start_time": "2019-06-25T10:39:03.890426Z"
    }
   },
   "outputs": [
    {
     "data": {
      "text/html": [
       "<div>\n",
       "<style scoped>\n",
       "    .dataframe tbody tr th:only-of-type {\n",
       "        vertical-align: middle;\n",
       "    }\n",
       "\n",
       "    .dataframe tbody tr th {\n",
       "        vertical-align: top;\n",
       "    }\n",
       "\n",
       "    .dataframe thead th {\n",
       "        text-align: right;\n",
       "    }\n",
       "</style>\n",
       "<table border=\"1\" class=\"dataframe\">\n",
       "  <thead>\n",
       "    <tr style=\"text-align: right;\">\n",
       "      <th></th>\n",
       "      <th>date</th>\n",
       "      <th>ETF_price</th>\n",
       "    </tr>\n",
       "  </thead>\n",
       "  <tbody>\n",
       "    <tr>\n",
       "      <th>0</th>\n",
       "      <td>2015-12-31</td>\n",
       "      <td>2.275</td>\n",
       "    </tr>\n",
       "    <tr>\n",
       "      <th>1</th>\n",
       "      <td>2015-12-30</td>\n",
       "      <td>2.282</td>\n",
       "    </tr>\n",
       "    <tr>\n",
       "      <th>2</th>\n",
       "      <td>2015-12-29</td>\n",
       "      <td>2.290</td>\n",
       "    </tr>\n",
       "    <tr>\n",
       "      <th>3</th>\n",
       "      <td>2015-12-28</td>\n",
       "      <td>2.271</td>\n",
       "    </tr>\n",
       "    <tr>\n",
       "      <th>4</th>\n",
       "      <td>2015-12-25</td>\n",
       "      <td>2.341</td>\n",
       "    </tr>\n",
       "  </tbody>\n",
       "</table>\n",
       "</div>"
      ],
      "text/plain": [
       "         date  ETF_price\n",
       "0  2015-12-31      2.275\n",
       "1  2015-12-30      2.282\n",
       "2  2015-12-29      2.290\n",
       "3  2015-12-28      2.271\n",
       "4  2015-12-25      2.341"
      ]
     },
     "execution_count": 16,
     "metadata": {},
     "output_type": "execute_result"
    }
   ],
   "source": [
    "test.head()"
   ]
  },
  {
   "cell_type": "code",
   "execution_count": 17,
   "metadata": {
    "ExecuteTime": {
     "end_time": "2019-06-25T10:39:10.691247Z",
     "start_time": "2019-06-25T10:39:10.650273Z"
    }
   },
   "outputs": [
    {
     "data": {
      "text/html": [
       "<div>\n",
       "<style scoped>\n",
       "    .dataframe tbody tr th:only-of-type {\n",
       "        vertical-align: middle;\n",
       "    }\n",
       "\n",
       "    .dataframe tbody tr th {\n",
       "        vertical-align: top;\n",
       "    }\n",
       "\n",
       "    .dataframe thead th {\n",
       "        text-align: right;\n",
       "    }\n",
       "</style>\n",
       "<table border=\"1\" class=\"dataframe\">\n",
       "  <thead>\n",
       "    <tr style=\"text-align: right;\">\n",
       "      <th></th>\n",
       "      <th>日期</th>\n",
       "      <th>交易代码</th>\n",
       "      <th>行权价</th>\n",
       "      <th>期权简称</th>\n",
       "      <th>收盘价</th>\n",
       "      <th>结算价</th>\n",
       "      <th>code</th>\n",
       "    </tr>\n",
       "  </thead>\n",
       "  <tbody>\n",
       "    <tr>\n",
       "      <th>0</th>\n",
       "      <td>2015-12-31</td>\n",
       "      <td>510050C1603M02650</td>\n",
       "      <td>2.65</td>\n",
       "      <td>50ETF购2016年3月2.65</td>\n",
       "      <td>0.0499</td>\n",
       "      <td>0.0499</td>\n",
       "      <td>1603</td>\n",
       "    </tr>\n",
       "    <tr>\n",
       "      <th>1</th>\n",
       "      <td>2015-12-31</td>\n",
       "      <td>510050C1603M02700</td>\n",
       "      <td>2.70</td>\n",
       "      <td>50ETF购2016年3月2.70</td>\n",
       "      <td>0.0409</td>\n",
       "      <td>0.0409</td>\n",
       "      <td>1603</td>\n",
       "    </tr>\n",
       "    <tr>\n",
       "      <th>2</th>\n",
       "      <td>2015-12-31</td>\n",
       "      <td>510050C1603M02750</td>\n",
       "      <td>2.75</td>\n",
       "      <td>50ETF购2016年3月2.75</td>\n",
       "      <td>0.0330</td>\n",
       "      <td>0.0330</td>\n",
       "      <td>1603</td>\n",
       "    </tr>\n",
       "    <tr>\n",
       "      <th>3</th>\n",
       "      <td>2015-12-31</td>\n",
       "      <td>510050C1603M02800</td>\n",
       "      <td>2.80</td>\n",
       "      <td>50ETF购2016年3月2.80</td>\n",
       "      <td>0.0280</td>\n",
       "      <td>0.0269</td>\n",
       "      <td>1603</td>\n",
       "    </tr>\n",
       "    <tr>\n",
       "      <th>4</th>\n",
       "      <td>2015-12-31</td>\n",
       "      <td>510050C1603M02850</td>\n",
       "      <td>2.85</td>\n",
       "      <td>50ETF购2016年3月2.85</td>\n",
       "      <td>0.0216</td>\n",
       "      <td>0.0216</td>\n",
       "      <td>1603</td>\n",
       "    </tr>\n",
       "  </tbody>\n",
       "</table>\n",
       "</div>"
      ],
      "text/plain": [
       "           日期               交易代码   行权价               期权简称     收盘价     结算价  \\\n",
       "0  2015-12-31  510050C1603M02650  2.65  50ETF购2016年3月2.65  0.0499  0.0499   \n",
       "1  2015-12-31  510050C1603M02700  2.70  50ETF购2016年3月2.70  0.0409  0.0409   \n",
       "2  2015-12-31  510050C1603M02750  2.75  50ETF购2016年3月2.75  0.0330  0.0330   \n",
       "3  2015-12-31  510050C1603M02800  2.80  50ETF购2016年3月2.80  0.0280  0.0269   \n",
       "4  2015-12-31  510050C1603M02850  2.85  50ETF购2016年3月2.85  0.0216  0.0216   \n",
       "\n",
       "   code  \n",
       "0  1603  \n",
       "1  1603  \n",
       "2  1603  \n",
       "3  1603  \n",
       "4  1603  "
      ]
     },
     "execution_count": 17,
     "metadata": {},
     "output_type": "execute_result"
    }
   ],
   "source": [
    "odata.head()"
   ]
  },
  {
   "cell_type": "code",
   "execution_count": 20,
   "metadata": {
    "ExecuteTime": {
     "end_time": "2019-06-25T10:40:31.260465Z",
     "start_time": "2019-06-25T10:40:31.223490Z"
    }
   },
   "outputs": [
    {
     "data": {
      "text/html": [
       "<div>\n",
       "<style scoped>\n",
       "    .dataframe tbody tr th:only-of-type {\n",
       "        vertical-align: middle;\n",
       "    }\n",
       "\n",
       "    .dataframe tbody tr th {\n",
       "        vertical-align: top;\n",
       "    }\n",
       "\n",
       "    .dataframe thead th {\n",
       "        text-align: right;\n",
       "    }\n",
       "</style>\n",
       "<table border=\"1\" class=\"dataframe\">\n",
       "  <thead>\n",
       "    <tr style=\"text-align: right;\">\n",
       "      <th></th>\n",
       "      <th>代码</th>\n",
       "      <th>名称</th>\n",
       "      <th>日期</th>\n",
       "      <th>价格</th>\n",
       "    </tr>\n",
       "  </thead>\n",
       "  <tbody>\n",
       "    <tr>\n",
       "      <th>0</th>\n",
       "      <td>SHIBOR1M.IR</td>\n",
       "      <td>SHIBOR1月</td>\n",
       "      <td>2006-10-08</td>\n",
       "      <td>2.5319</td>\n",
       "    </tr>\n",
       "    <tr>\n",
       "      <th>1</th>\n",
       "      <td>SHIBOR1M.IR</td>\n",
       "      <td>SHIBOR1月</td>\n",
       "      <td>2006-10-09</td>\n",
       "      <td>2.5522</td>\n",
       "    </tr>\n",
       "    <tr>\n",
       "      <th>2</th>\n",
       "      <td>SHIBOR1M.IR</td>\n",
       "      <td>SHIBOR1月</td>\n",
       "      <td>2006-10-10</td>\n",
       "      <td>2.5739</td>\n",
       "    </tr>\n",
       "    <tr>\n",
       "      <th>3</th>\n",
       "      <td>SHIBOR1M.IR</td>\n",
       "      <td>SHIBOR1月</td>\n",
       "      <td>2006-10-11</td>\n",
       "      <td>2.5864</td>\n",
       "    </tr>\n",
       "    <tr>\n",
       "      <th>4</th>\n",
       "      <td>SHIBOR1M.IR</td>\n",
       "      <td>SHIBOR1月</td>\n",
       "      <td>2006-10-12</td>\n",
       "      <td>2.5900</td>\n",
       "    </tr>\n",
       "  </tbody>\n",
       "</table>\n",
       "</div>"
      ],
      "text/plain": [
       "            代码        名称          日期      价格\n",
       "0  SHIBOR1M.IR  SHIBOR1月  2006-10-08  2.5319\n",
       "1  SHIBOR1M.IR  SHIBOR1月  2006-10-09  2.5522\n",
       "2  SHIBOR1M.IR  SHIBOR1月  2006-10-10  2.5739\n",
       "3  SHIBOR1M.IR  SHIBOR1月  2006-10-11  2.5864\n",
       "4  SHIBOR1M.IR  SHIBOR1月  2006-10-12  2.5900"
      ]
     },
     "execution_count": 20,
     "metadata": {},
     "output_type": "execute_result"
    }
   ],
   "source": [
    "rf.head()"
   ]
  },
  {
   "cell_type": "markdown",
   "metadata": {},
   "source": [
    "### 处理数据"
   ]
  },
  {
   "cell_type": "code",
   "execution_count": 5,
   "metadata": {
    "ExecuteTime": {
     "end_time": "2019-06-25T10:31:42.608812Z",
     "start_time": "2019-06-25T10:31:30.205431Z"
    }
   },
   "outputs": [],
   "source": [
    "#找到当前时刻上证50ETF对应的平价期权\n",
    "def find_atm_strike_price(temp,i):\n",
    "    strike_prices = temp['行权价'].tolist()\n",
    "    xxx = [abs(item-test['ETF_price'][i]) for item in strike_prices]\n",
    "    index = xxx.index(min(xxx))\n",
    "    best_strike_price = temp['行权价'].tolist()[index]\n",
    "    return best_strike_price\n",
    "\n",
    "#计算剩余期限\n",
    "def get_maturity_month(i):\n",
    "    date = test['date'].tolist()[i]\n",
    "    ddate = datetime.datetime.strptime(date,'%Y-%m-%d')\n",
    "    now_month = ddate.month\n",
    "    if now_month==12:\n",
    "        return '1'\n",
    "    else:\n",
    "        return str(now_month+1)\n",
    "    \n",
    "#寻找下月第四个礼拜三作为到期日\n",
    "def cal_next_month_ForthWed(i):\n",
    "    date = total['日期'].tolist()[i]\n",
    "    ddate = datetime.datetime.strptime(date,'%Y-%m-%d')\n",
    "    now_year = ddate.year\n",
    "    now_month = ddate.month\n",
    "    d = 1\n",
    "    if now_month==12:\n",
    "        next_month=1\n",
    "        now_year=now_year+1\n",
    "    else:\n",
    "        next_month=now_month+1\n",
    "    while(calendar.weekday(now_year,next_month,d)!=2):\n",
    "        d+=1\n",
    "    aim_date = datetime.date(now_year,next_month,d+21)\n",
    "    return datetime.datetime.strftime(aim_date,\"%Y-%m-%d\")\n",
    "\n",
    "#total内包含当前etf的结算价、行权价、剩余期限、无风险利率\n",
    "total=pd.DataFrame()\n",
    "for i in range(len(test)):\n",
    "    try:\n",
    "        temp=odata[odata['日期'].isin([test['date'][i]])]\n",
    "        temp_list = []\n",
    "        for j in range(len(temp)):\n",
    "            temp_year = temp['期权简称'].tolist()[j].split('年')\n",
    "            temp_month= temp_year[-1].split('月')[0]\n",
    "            maturity_month = get_maturity_month(i)\n",
    "\n",
    "            if temp_month==maturity_month:\n",
    "                temp_list.append(j)\n",
    "        temp = temp.iloc[temp_list,:]\n",
    "        strike_price = find_atm_strike_price(temp,i)\n",
    "        aim_option = temp[temp['行权价'].isin([strike_price])]\n",
    "        total=total.append(aim_option)\n",
    "    except Exception:\n",
    "        pass\n",
    "total['ETF_price']=[test[test['date'].isin([item])]['ETF_price'].tolist()[0] for item in total['日期'].tolist()]\n",
    "total['Next_Month_ForthWed']=[cal_next_month_ForthWed(i) for i in range(len(total))]\n",
    "total['Time_to_Maturity']=[((datetime.datetime.strptime(total['Next_Month_ForthWed'].tolist()[i],'%Y-%m-%d')-(datetime.datetime.strptime(total['日期'].tolist()[i],'%Y-%m-%d'))).days)/365 for i in range(len(total))]\n",
    "total['rf']=total['日期'].apply(lambda x:rf[rf['日期']==x]['价格'].tolist()[0]/100)"
   ]
  },
  {
   "cell_type": "markdown",
   "metadata": {},
   "source": [
    "### 处理结果"
   ]
  },
  {
   "cell_type": "code",
   "execution_count": 6,
   "metadata": {
    "ExecuteTime": {
     "end_time": "2019-06-25T10:31:47.427846Z",
     "start_time": "2019-06-25T10:31:47.358889Z"
    }
   },
   "outputs": [
    {
     "data": {
      "text/html": [
       "<div>\n",
       "<style scoped>\n",
       "    .dataframe tbody tr th:only-of-type {\n",
       "        vertical-align: middle;\n",
       "    }\n",
       "\n",
       "    .dataframe tbody tr th {\n",
       "        vertical-align: top;\n",
       "    }\n",
       "\n",
       "    .dataframe thead th {\n",
       "        text-align: right;\n",
       "    }\n",
       "</style>\n",
       "<table border=\"1\" class=\"dataframe\">\n",
       "  <thead>\n",
       "    <tr style=\"text-align: right;\">\n",
       "      <th></th>\n",
       "      <th>日期</th>\n",
       "      <th>交易代码</th>\n",
       "      <th>行权价</th>\n",
       "      <th>期权简称</th>\n",
       "      <th>收盘价</th>\n",
       "      <th>结算价</th>\n",
       "      <th>code</th>\n",
       "      <th>ETF_price</th>\n",
       "      <th>Next_Month_ForthWed</th>\n",
       "      <th>Time_to_Maturity</th>\n",
       "      <th>rf</th>\n",
       "    </tr>\n",
       "  </thead>\n",
       "  <tbody>\n",
       "    <tr>\n",
       "      <th>79</th>\n",
       "      <td>2015-12-31</td>\n",
       "      <td>510050C1601M02250</td>\n",
       "      <td>2.25</td>\n",
       "      <td>50ETF购2016年1月2.25</td>\n",
       "      <td>0.1769</td>\n",
       "      <td>0.1769</td>\n",
       "      <td>1601</td>\n",
       "      <td>2.275</td>\n",
       "      <td>2016-01-27</td>\n",
       "      <td>0.073973</td>\n",
       "      <td>0.03002</td>\n",
       "    </tr>\n",
       "    <tr>\n",
       "      <th>82</th>\n",
       "      <td>2015-12-31</td>\n",
       "      <td>510050P1601M02250</td>\n",
       "      <td>2.25</td>\n",
       "      <td>50ETF沽2016年1月2.25</td>\n",
       "      <td>0.0144</td>\n",
       "      <td>0.0144</td>\n",
       "      <td>1601</td>\n",
       "      <td>2.275</td>\n",
       "      <td>2016-01-27</td>\n",
       "      <td>0.073973</td>\n",
       "      <td>0.03002</td>\n",
       "    </tr>\n",
       "    <tr>\n",
       "      <th>180</th>\n",
       "      <td>2015-12-30</td>\n",
       "      <td>510050C1601M02300</td>\n",
       "      <td>2.30</td>\n",
       "      <td>50ETF购2016年1月2.30</td>\n",
       "      <td>0.1441</td>\n",
       "      <td>0.1441</td>\n",
       "      <td>1601</td>\n",
       "      <td>2.282</td>\n",
       "      <td>2016-01-27</td>\n",
       "      <td>0.076712</td>\n",
       "      <td>0.03004</td>\n",
       "    </tr>\n",
       "    <tr>\n",
       "      <th>183</th>\n",
       "      <td>2015-12-30</td>\n",
       "      <td>510050P1601M02300</td>\n",
       "      <td>2.30</td>\n",
       "      <td>50ETF沽2016年1月2.30</td>\n",
       "      <td>0.0201</td>\n",
       "      <td>0.0205</td>\n",
       "      <td>1601</td>\n",
       "      <td>2.282</td>\n",
       "      <td>2016-01-27</td>\n",
       "      <td>0.076712</td>\n",
       "      <td>0.03004</td>\n",
       "    </tr>\n",
       "    <tr>\n",
       "      <th>280</th>\n",
       "      <td>2015-12-29</td>\n",
       "      <td>510050C1601M02300</td>\n",
       "      <td>2.30</td>\n",
       "      <td>50ETF购2016年1月2.30</td>\n",
       "      <td>0.1489</td>\n",
       "      <td>0.1489</td>\n",
       "      <td>1601</td>\n",
       "      <td>2.290</td>\n",
       "      <td>2016-01-27</td>\n",
       "      <td>0.079452</td>\n",
       "      <td>0.03005</td>\n",
       "    </tr>\n",
       "  </tbody>\n",
       "</table>\n",
       "</div>"
      ],
      "text/plain": [
       "             日期               交易代码   行权价               期权简称     收盘价     结算价  \\\n",
       "79   2015-12-31  510050C1601M02250  2.25  50ETF购2016年1月2.25  0.1769  0.1769   \n",
       "82   2015-12-31  510050P1601M02250  2.25  50ETF沽2016年1月2.25  0.0144  0.0144   \n",
       "180  2015-12-30  510050C1601M02300  2.30  50ETF购2016年1月2.30  0.1441  0.1441   \n",
       "183  2015-12-30  510050P1601M02300  2.30  50ETF沽2016年1月2.30  0.0201  0.0205   \n",
       "280  2015-12-29  510050C1601M02300  2.30  50ETF购2016年1月2.30  0.1489  0.1489   \n",
       "\n",
       "     code  ETF_price Next_Month_ForthWed  Time_to_Maturity       rf  \n",
       "79   1601      2.275          2016-01-27          0.073973  0.03002  \n",
       "82   1601      2.275          2016-01-27          0.073973  0.03002  \n",
       "180  1601      2.282          2016-01-27          0.076712  0.03004  \n",
       "183  1601      2.282          2016-01-27          0.076712  0.03004  \n",
       "280  1601      2.290          2016-01-27          0.079452  0.03005  "
      ]
     },
     "execution_count": 6,
     "metadata": {},
     "output_type": "execute_result"
    }
   ],
   "source": [
    "total.head()"
   ]
  },
  {
   "cell_type": "markdown",
   "metadata": {},
   "source": [
    "## 计算隐含波动率"
   ]
  },
  {
   "cell_type": "code",
   "execution_count": 9,
   "metadata": {
    "ExecuteTime": {
     "end_time": "2019-06-25T10:34:04.744021Z",
     "start_time": "2019-06-25T10:34:04.736025Z"
    }
   },
   "outputs": [],
   "source": [
    "import numpy\n",
    "import scipy.stats\n",
    "import matplotlib.pyplot as plt\n",
    "from scipy.optimize import fsolve"
   ]
  },
  {
   "cell_type": "markdown",
   "metadata": {},
   "source": [
    "### 计算"
   ]
  },
  {
   "cell_type": "code",
   "execution_count": 21,
   "metadata": {
    "ExecuteTime": {
     "end_time": "2019-06-25T10:45:08.416981Z",
     "start_time": "2019-06-25T10:45:03.908752Z"
    }
   },
   "outputs": [
    {
     "name": "stderr",
     "output_type": "stream",
     "text": [
      "g:\\python\\lib\\site-packages\\ipykernel_launcher.py:18: RuntimeWarning: divide by zero encountered in true_divide\n"
     ]
    }
   ],
   "source": [
    "#对每一天循环\n",
    "date=total['日期'].unique().tolist()\n",
    "#存储隐含波动率数据\n",
    "vol_list=[]\n",
    "for j in range(len(date)):\n",
    "    sample=total[total['日期']==date[j]]\n",
    "    #寻找每天对应的看涨期权信息\n",
    "    call_sample=sample[sample['期权简称'].apply(lambda x:True if '购' in x else False)==True]\n",
    "    #如果某天不止一支看涨期权的话循环处理\n",
    "    temp=[]\n",
    "    for i in range(len(call_sample)):\n",
    "        x=call_sample.iloc[i,:]\n",
    "        s=x['ETF_price'];\n",
    "        k=x['行权价'];\n",
    "        rf=x['rf'];\n",
    "        t=x['Time_to_Maturity']\n",
    "        c=x['结算价']\n",
    "        def bsm_pricing(vol):\n",
    "            d1=(np.log(s/k)+(rf+vol**2/2)*t)/(vol*np.sqrt(t))\n",
    "            d2=d1-vol*np.sqrt(t)\n",
    "            price=s*scipy.stats.norm.cdf(d1)-k*scipy.stats.norm.cdf(d2)*np.exp(-rf*t)\n",
    "            error=price-c\n",
    "            return error\n",
    "        implied_vol=fsolve(bsm_pricing,0)\n",
    "        temp.append(implied_vol[0])\n",
    "    vol_list.append(np.mean(temp))"
   ]
  },
  {
   "cell_type": "markdown",
   "metadata": {},
   "source": [
    "### 展示"
   ]
  },
  {
   "cell_type": "code",
   "execution_count": 22,
   "metadata": {
    "ExecuteTime": {
     "end_time": "2019-06-25T10:45:10.364785Z",
     "start_time": "2019-06-25T10:45:10.341803Z"
    }
   },
   "outputs": [],
   "source": [
    "df=pd.DataFrame()\n",
    "df['IV']=vol_list\n",
    "df['date']=date\n",
    "df=df.sort_values(by='date')"
   ]
  },
  {
   "cell_type": "code",
   "execution_count": 23,
   "metadata": {
    "ExecuteTime": {
     "end_time": "2019-06-25T10:45:11.526236Z",
     "start_time": "2019-06-25T10:45:11.056360Z"
    }
   },
   "outputs": [
    {
     "data": {
      "text/plain": [
       "Text(0.5,1,'SSE50 Option Implied Voltility')"
      ]
     },
     "execution_count": 23,
     "metadata": {},
     "output_type": "execute_result"
    },
    {
     "data": {
      "image/png": "[encoded data removed]",
      "text/plain": [
       "<Figure size 576x432 with 1 Axes>"
      ]
     },
     "metadata": {
      "needs_background": "light"
     },
     "output_type": "display_data"
    }
   ],
   "source": [
    "fig=plt.figure(figsize=(8,6))\n",
    "plt.plot(df['IV'].tolist())\n",
    "plt.xlabel('Date')\n",
    "plt.ylabel('Implied Volatility')\n",
    "plt.title('SSE50 Option Implied Voltility')"
   ]
  },
  {
   "cell_type": "code",
   "execution_count": null,
   "metadata": {},
   "outputs": [],
   "source": []
  }
 ],
 "metadata": {
  "kernelspec": {
   "display_name": "Python 3",
   "language": "python",
   "name": "python3"
  },
  "language_info": {
   "codemirror_mode": {
    "name": "ipython",
    "version": 3
   },
   "file_extension": ".py",
   "mimetype": "text/x-python",
   "name": "python",
   "nbconvert_exporter": "python",
   "pygments_lexer": "ipython3",
   "version": "3.7.3"
  },
  "toc": {
   "base_numbering": 1,
   "nav_menu": {},
   "number_sections": true,
   "sideBar": true,
   "skip_h1_title": false,
   "title_cell": "Table of Contents",
   "title_sidebar": "Contents",
   "toc_cell": false,
   "toc_position": {},
   "toc_section_display": true,
   "toc_window_display": false
  },
  "varInspector": {
   "cols": {
    "lenName": 16,
    "lenType": 16,
    "lenVar": 40
   },
   "kernels_config": {
    "python": {
     "delete_cmd_postfix": "",
     "delete_cmd_prefix": "del ",
     "library": "var_list.py",
     "varRefreshCmd": "print(var_dic_list())"
    },
    "r": {
     "delete_cmd_postfix": ") ",
     "delete_cmd_prefix": "rm(",
     "library": "var_list.r",
     "varRefreshCmd": "cat(var_dic_list()) "
    }
   },
   "types_to_exclude": [
    "module",
    "function",
    "builtin_function_or_method",
    "instance",
    "_Feature"
   ],
   "window_display": false
  }
 },
 "nbformat": 4,
 "nbformat_minor": 2
}
