{
 "cells": [
  {
   "cell_type": "markdown",
   "metadata": {},
   "source": [
    "## 数据处理"
   ]
  },
  {
   "cell_type": "code",
   "execution_count": 1,
   "metadata": {
    "ExecuteTime": {
     "end_time": "2019-06-25T10:53:38.206561Z",
     "start_time": "2019-06-25T10:53:35.962943Z"
    }
   },
   "outputs": [],
   "source": [
    "import pandas as pd\n",
    "import datetime\n",
    "import calendar"
   ]
  },
  {
   "cell_type": "code",
   "execution_count": 2,
   "metadata": {
    "ExecuteTime": {
     "end_time": "2019-06-25T10:53:41.747386Z",
     "start_time": "2019-06-25T10:53:41.513531Z"
    }
   },
   "outputs": [],
   "source": [
    "rf=pd.read_csv('SHIBOR1月.csv')\n",
    "odata = pd.read_csv('上证50etf期权2015年.csv')\n",
    "edata = pd.read_csv('15年ETF.csv')\n",
    "test = edata"
   ]
  },
  {
   "cell_type": "code",
   "execution_count": 5,
   "metadata": {
    "ExecuteTime": {
     "end_time": "2019-06-25T10:55:29.721773Z",
     "start_time": "2019-06-25T10:54:58.961678Z"
    }
   },
   "outputs": [],
   "source": [
    "def get_maturity_month(i):\n",
    "    date = test['date'].tolist()[i]\n",
    "    ddate = datetime.datetime.strptime(date,'%Y-%m-%d')\n",
    "    now_month = ddate.month\n",
    "    if now_month==12:\n",
    "        return '1'\n",
    "    else:\n",
    "        return str(now_month+1)\n",
    "\n",
    "def cal_next_month_ForthWed(i):\n",
    "    date = total['日期'].tolist()[i]\n",
    "    ddate = datetime.datetime.strptime(date,'%Y-%m-%d')\n",
    "    now_year = ddate.year\n",
    "    now_month = ddate.month\n",
    "    d = 1\n",
    "    if now_month==12:\n",
    "        next_month=1\n",
    "        now_year=now_year+1\n",
    "    else:\n",
    "        next_month=now_month+1\n",
    "    while(calendar.weekday(now_year,next_month,d)!=2):\n",
    "        d+=1\n",
    "    aim_date = datetime.date(now_year,next_month,d+21)\n",
    "    return datetime.datetime.strftime(aim_date,\"%Y-%m-%d\")\n",
    "\n",
    "total=pd.DataFrame()\n",
    "for i in range(len(test)):\n",
    "    try:\n",
    "        temp=odata[odata['日期'].isin([test['date'][i]])]\n",
    "        temp_list = []\n",
    "        for j in range(len(temp)):\n",
    "            temp_year = temp['期权简称'].tolist()[j].split('年')\n",
    "            temp_month= temp_year[-1].split('月')[0]\n",
    "            maturity_month = get_maturity_month(i)\n",
    "\n",
    "            if temp_month==maturity_month:\n",
    "                temp_list.append(j)\n",
    "        temp = temp.iloc[temp_list,:]\n",
    "        total=total.append(temp)\n",
    "    except Exception:\n",
    "        pass\n",
    "total['ETF_price']=[test[test['date'].isin([item])]['ETF_price'].tolist()[0] for item in total['日期'].tolist()]\n",
    "total['Next_Month_ForthWed']=[cal_next_month_ForthWed(i) for i in range(len(total))]\n",
    "total['Time_to_Maturity']=[((datetime.datetime.strptime(total['Next_Month_ForthWed'].tolist()[i],'%Y-%m-%d')-(datetime.datetime.strptime(total['日期'].tolist()[i],'%Y-%m-%d'))).days)/365 for i in range(len(total))]\n",
    "total['rf']=total['日期'].apply(lambda x:rf[rf['日期']==x]['价格'].tolist()[0]/100)"
   ]
  },
  {
   "cell_type": "code",
   "execution_count": 9,
   "metadata": {
    "ExecuteTime": {
     "end_time": "2019-06-25T10:57:40.812705Z",
     "start_time": "2019-06-25T10:57:40.735752Z"
    }
   },
   "outputs": [
    {
     "name": "stdout",
     "output_type": "stream",
     "text": [
      "(6428, 11)\n"
     ]
    },
    {
     "data": {
      "text/html": [
       "<div>\n",
       "<style scoped>\n",
       "    .dataframe tbody tr th:only-of-type {\n",
       "        vertical-align: middle;\n",
       "    }\n",
       "\n",
       "    .dataframe tbody tr th {\n",
       "        vertical-align: top;\n",
       "    }\n",
       "\n",
       "    .dataframe thead th {\n",
       "        text-align: right;\n",
       "    }\n",
       "</style>\n",
       "<table border=\"1\" class=\"dataframe\">\n",
       "  <thead>\n",
       "    <tr style=\"text-align: right;\">\n",
       "      <th></th>\n",
       "      <th>日期</th>\n",
       "      <th>交易代码</th>\n",
       "      <th>行权价</th>\n",
       "      <th>期权简称</th>\n",
       "      <th>收盘价</th>\n",
       "      <th>结算价</th>\n",
       "      <th>code</th>\n",
       "      <th>ETF_price</th>\n",
       "      <th>Next_Month_ForthWed</th>\n",
       "      <th>Time_to_Maturity</th>\n",
       "      <th>rf</th>\n",
       "    </tr>\n",
       "  </thead>\n",
       "  <tbody>\n",
       "    <tr>\n",
       "      <th>68</th>\n",
       "      <td>2015-12-31</td>\n",
       "      <td>510050C1601M02350</td>\n",
       "      <td>2.35</td>\n",
       "      <td>50ETF购2016年1月2.35</td>\n",
       "      <td>0.1026</td>\n",
       "      <td>0.1026</td>\n",
       "      <td>1601</td>\n",
       "      <td>2.275</td>\n",
       "      <td>2016-01-27</td>\n",
       "      <td>0.073973</td>\n",
       "      <td>0.03002</td>\n",
       "    </tr>\n",
       "    <tr>\n",
       "      <th>69</th>\n",
       "      <td>2015-12-31</td>\n",
       "      <td>510050C1601M02400</td>\n",
       "      <td>2.40</td>\n",
       "      <td>50ETF购2016年1月2.40</td>\n",
       "      <td>0.0721</td>\n",
       "      <td>0.0721</td>\n",
       "      <td>1601</td>\n",
       "      <td>2.275</td>\n",
       "      <td>2016-01-27</td>\n",
       "      <td>0.073973</td>\n",
       "      <td>0.03002</td>\n",
       "    </tr>\n",
       "    <tr>\n",
       "      <th>70</th>\n",
       "      <td>2015-12-31</td>\n",
       "      <td>510050C1601M02450</td>\n",
       "      <td>2.45</td>\n",
       "      <td>50ETF购2016年1月2.45</td>\n",
       "      <td>0.0525</td>\n",
       "      <td>0.0525</td>\n",
       "      <td>1601</td>\n",
       "      <td>2.275</td>\n",
       "      <td>2016-01-27</td>\n",
       "      <td>0.073973</td>\n",
       "      <td>0.03002</td>\n",
       "    </tr>\n",
       "    <tr>\n",
       "      <th>71</th>\n",
       "      <td>2015-12-31</td>\n",
       "      <td>510050C1601M02500</td>\n",
       "      <td>2.50</td>\n",
       "      <td>50ETF购2016年1月2.50</td>\n",
       "      <td>0.0376</td>\n",
       "      <td>0.0376</td>\n",
       "      <td>1601</td>\n",
       "      <td>2.275</td>\n",
       "      <td>2016-01-27</td>\n",
       "      <td>0.073973</td>\n",
       "      <td>0.03002</td>\n",
       "    </tr>\n",
       "    <tr>\n",
       "      <th>72</th>\n",
       "      <td>2015-12-31</td>\n",
       "      <td>510050C1601M02550</td>\n",
       "      <td>2.55</td>\n",
       "      <td>50ETF购2016年1月2.55</td>\n",
       "      <td>0.0262</td>\n",
       "      <td>0.0262</td>\n",
       "      <td>1601</td>\n",
       "      <td>2.275</td>\n",
       "      <td>2016-01-27</td>\n",
       "      <td>0.073973</td>\n",
       "      <td>0.03002</td>\n",
       "    </tr>\n",
       "  </tbody>\n",
       "</table>\n",
       "</div>"
      ],
      "text/plain": [
       "            日期               交易代码   行权价               期权简称     收盘价     结算价  \\\n",
       "68  2015-12-31  510050C1601M02350  2.35  50ETF购2016年1月2.35  0.1026  0.1026   \n",
       "69  2015-12-31  510050C1601M02400  2.40  50ETF购2016年1月2.40  0.0721  0.0721   \n",
       "70  2015-12-31  510050C1601M02450  2.45  50ETF购2016年1月2.45  0.0525  0.0525   \n",
       "71  2015-12-31  510050C1601M02500  2.50  50ETF购2016年1月2.50  0.0376  0.0376   \n",
       "72  2015-12-31  510050C1601M02550  2.55  50ETF购2016年1月2.55  0.0262  0.0262   \n",
       "\n",
       "    code  ETF_price Next_Month_ForthWed  Time_to_Maturity       rf  \n",
       "68  1601      2.275          2016-01-27          0.073973  0.03002  \n",
       "69  1601      2.275          2016-01-27          0.073973  0.03002  \n",
       "70  1601      2.275          2016-01-27          0.073973  0.03002  \n",
       "71  1601      2.275          2016-01-27          0.073973  0.03002  \n",
       "72  1601      2.275          2016-01-27          0.073973  0.03002  "
      ]
     },
     "execution_count": 9,
     "metadata": {},
     "output_type": "execute_result"
    }
   ],
   "source": [
    "print(total.shape)\n",
    "total.head()"
   ]
  },
  {
   "cell_type": "markdown",
   "metadata": {},
   "source": [
    "## 波动率微笑：一个算例"
   ]
  },
  {
   "cell_type": "code",
   "execution_count": 7,
   "metadata": {
    "ExecuteTime": {
     "end_time": "2019-06-25T10:56:12.098783Z",
     "start_time": "2019-06-25T10:56:10.281901Z"
    }
   },
   "outputs": [],
   "source": [
    "import numpy\n",
    "import scipy.stats\n",
    "import matplotlib.pyplot as plt\n",
    "from scipy.optimize import fsolve"
   ]
  },
  {
   "cell_type": "code",
   "execution_count": 10,
   "metadata": {
    "ExecuteTime": {
     "end_time": "2019-06-25T10:58:10.957181Z",
     "start_time": "2019-06-25T10:58:10.915202Z"
    }
   },
   "outputs": [],
   "source": [
    "date=total['日期'].unique().tolist()\n",
    "sample=total[total['日期']==date[150]]#好像是2015年5月25号的数据\n",
    "call_sample=sample[sample['期权简称'].apply(lambda x:True if '购' in x else False)==True]\n",
    "put_sample=sample[sample['期权简称'].apply(lambda x:True if '沽' in x else False)==True]"
   ]
  },
  {
   "cell_type": "code",
   "execution_count": 12,
   "metadata": {
    "ExecuteTime": {
     "end_time": "2019-06-25T10:58:32.857719Z",
     "start_time": "2019-06-25T10:58:32.793761Z"
    }
   },
   "outputs": [
    {
     "name": "stdout",
     "output_type": "stream",
     "text": [
      "(22, 11)\n"
     ]
    },
    {
     "data": {
      "text/html": [
       "<div>\n",
       "<style scoped>\n",
       "    .dataframe tbody tr th:only-of-type {\n",
       "        vertical-align: middle;\n",
       "    }\n",
       "\n",
       "    .dataframe tbody tr th {\n",
       "        vertical-align: top;\n",
       "    }\n",
       "\n",
       "    .dataframe thead th {\n",
       "        text-align: right;\n",
       "    }\n",
       "</style>\n",
       "<table border=\"1\" class=\"dataframe\">\n",
       "  <thead>\n",
       "    <tr style=\"text-align: right;\">\n",
       "      <th></th>\n",
       "      <th>日期</th>\n",
       "      <th>交易代码</th>\n",
       "      <th>行权价</th>\n",
       "      <th>期权简称</th>\n",
       "      <th>收盘价</th>\n",
       "      <th>结算价</th>\n",
       "      <th>code</th>\n",
       "      <th>ETF_price</th>\n",
       "      <th>Next_Month_ForthWed</th>\n",
       "      <th>Time_to_Maturity</th>\n",
       "      <th>rf</th>\n",
       "    </tr>\n",
       "  </thead>\n",
       "  <tbody>\n",
       "    <tr>\n",
       "      <th>21872</th>\n",
       "      <td>2015-05-25</td>\n",
       "      <td>510050C1506M02200</td>\n",
       "      <td>2.20</td>\n",
       "      <td>50ETF购2015年6月2.20</td>\n",
       "      <td>1.1021</td>\n",
       "      <td>1.1099</td>\n",
       "      <td>1506</td>\n",
       "      <td>3.11</td>\n",
       "      <td>2015-06-24</td>\n",
       "      <td>0.082192</td>\n",
       "      <td>0.02302</td>\n",
       "    </tr>\n",
       "    <tr>\n",
       "      <th>21873</th>\n",
       "      <td>2015-05-25</td>\n",
       "      <td>510050C1506M02250</td>\n",
       "      <td>2.25</td>\n",
       "      <td>50ETF购2015年6月2.25</td>\n",
       "      <td>1.0590</td>\n",
       "      <td>1.0576</td>\n",
       "      <td>1506</td>\n",
       "      <td>3.11</td>\n",
       "      <td>2015-06-24</td>\n",
       "      <td>0.082192</td>\n",
       "      <td>0.02302</td>\n",
       "    </tr>\n",
       "    <tr>\n",
       "      <th>21874</th>\n",
       "      <td>2015-05-25</td>\n",
       "      <td>510050C1506M02300</td>\n",
       "      <td>2.30</td>\n",
       "      <td>50ETF购2015年6月2.30</td>\n",
       "      <td>1.0031</td>\n",
       "      <td>1.0081</td>\n",
       "      <td>1506</td>\n",
       "      <td>3.11</td>\n",
       "      <td>2015-06-24</td>\n",
       "      <td>0.082192</td>\n",
       "      <td>0.02302</td>\n",
       "    </tr>\n",
       "    <tr>\n",
       "      <th>21875</th>\n",
       "      <td>2015-05-25</td>\n",
       "      <td>510050C1506M02350</td>\n",
       "      <td>2.35</td>\n",
       "      <td>50ETF购2015年6月2.35</td>\n",
       "      <td>0.9532</td>\n",
       "      <td>0.9585</td>\n",
       "      <td>1506</td>\n",
       "      <td>3.11</td>\n",
       "      <td>2015-06-24</td>\n",
       "      <td>0.082192</td>\n",
       "      <td>0.02302</td>\n",
       "    </tr>\n",
       "    <tr>\n",
       "      <th>21876</th>\n",
       "      <td>2015-05-25</td>\n",
       "      <td>510050C1506M02400</td>\n",
       "      <td>2.40</td>\n",
       "      <td>50ETF购2015年6月2.40</td>\n",
       "      <td>0.9110</td>\n",
       "      <td>0.9110</td>\n",
       "      <td>1506</td>\n",
       "      <td>3.11</td>\n",
       "      <td>2015-06-24</td>\n",
       "      <td>0.082192</td>\n",
       "      <td>0.02302</td>\n",
       "    </tr>\n",
       "  </tbody>\n",
       "</table>\n",
       "</div>"
      ],
      "text/plain": [
       "               日期               交易代码   行权价               期权简称     收盘价     结算价  \\\n",
       "21872  2015-05-25  510050C1506M02200  2.20  50ETF购2015年6月2.20  1.1021  1.1099   \n",
       "21873  2015-05-25  510050C1506M02250  2.25  50ETF购2015年6月2.25  1.0590  1.0576   \n",
       "21874  2015-05-25  510050C1506M02300  2.30  50ETF购2015年6月2.30  1.0031  1.0081   \n",
       "21875  2015-05-25  510050C1506M02350  2.35  50ETF购2015年6月2.35  0.9532  0.9585   \n",
       "21876  2015-05-25  510050C1506M02400  2.40  50ETF购2015年6月2.40  0.9110  0.9110   \n",
       "\n",
       "       code  ETF_price Next_Month_ForthWed  Time_to_Maturity       rf  \n",
       "21872  1506       3.11          2015-06-24          0.082192  0.02302  \n",
       "21873  1506       3.11          2015-06-24          0.082192  0.02302  \n",
       "21874  1506       3.11          2015-06-24          0.082192  0.02302  \n",
       "21875  1506       3.11          2015-06-24          0.082192  0.02302  \n",
       "21876  1506       3.11          2015-06-24          0.082192  0.02302  "
      ]
     },
     "execution_count": 12,
     "metadata": {},
     "output_type": "execute_result"
    }
   ],
   "source": [
    "print(call_sample.shape)\n",
    "call_sample.head()"
   ]
  },
  {
   "cell_type": "code",
   "execution_count": 13,
   "metadata": {
    "ExecuteTime": {
     "end_time": "2019-06-25T10:59:05.838611Z",
     "start_time": "2019-06-25T10:59:05.408875Z"
    }
   },
   "outputs": [
    {
     "name": "stderr",
     "output_type": "stream",
     "text": [
      "g:\\python\\lib\\site-packages\\ipykernel_launcher.py:10: RuntimeWarning: divide by zero encountered in true_divide\n",
      "  # Remove the CWD from sys.path while we load stuff.\n"
     ]
    }
   ],
   "source": [
    "#temp存储隐含波动率；k_list存储不同行权价\n",
    "temp=[];k_list=[]\n",
    "#遍历每个看涨期权，计算不同报价对应的隐含波动率\n",
    "for i in range(len(call_sample)):\n",
    "    x=call_sample.iloc[i,:]\n",
    "    s=x['ETF_price'];\n",
    "    k=x['行权价'];\n",
    "    rf=x['rf'];\n",
    "    t=x['Time_to_Maturity']\n",
    "    c=x['结算价']\n",
    "    #待优化的函数\n",
    "    def bsm_pricing(vol):\n",
    "        d1=(np.log(s/k)+(rf+vol**2/2)*t)/(vol*np.sqrt(t))\n",
    "        d2=d1-vol*np.sqrt(t)\n",
    "        price=s*scipy.stats.norm.cdf(d1)-k*scipy.stats.norm.cdf(d2)*np.exp(-rf*t)\n",
    "        error=price-c\n",
    "        return error\n",
    "    implied_vol=fsolve(bsm_pricing,0)\n",
    "    temp.append(implied_vol[0])\n",
    "    k_list.append(k)"
   ]
  },
  {
   "cell_type": "code",
   "execution_count": 14,
   "metadata": {
    "ExecuteTime": {
     "end_time": "2019-06-25T10:59:14.194475Z",
     "start_time": "2019-06-25T10:59:13.648812Z"
    }
   },
   "outputs": [
    {
     "data": {
      "text/plain": [
       "Text(0.5,1,'IV Smile')"
      ]
     },
     "execution_count": 14,
     "metadata": {},
     "output_type": "execute_result"
    },
    {
     "data": {
      "image/png": "[encoded data removed]",
      "text/plain": [
       "<Figure size 432x288 with 1 Axes>"
      ]
     },
     "metadata": {
      "needs_background": "light"
     },
     "output_type": "display_data"
    }
   ],
   "source": [
    "plt.plot(k_list,temp,'o-')\n",
    "plt.xlabel('Strike Price')\n",
    "plt.ylabel('Implied Volatility')\n",
    "plt.title('IV Smile')"
   ]
  },
  {
   "cell_type": "markdown",
   "metadata": {},
   "source": [
    "## 隐含波动率与隐含偏斜"
   ]
  },
  {
   "cell_type": "markdown",
   "metadata": {},
   "source": [
    "### 计算"
   ]
  },
  {
   "cell_type": "markdown",
   "metadata": {},
   "source": [
    "隐含波动率的度量与前文不同。获得每天的波动率微笑，计算隐含波动率的平均。（some type of VXO???）\n",
    "\n",
    "隐含偏斜的度量方法比较草率。以上图为例，仅用最左边与最右边的隐含波动率做差度量。但这种方法在中国市场具有一定的可行性。"
   ]
  },
  {
   "cell_type": "code",
   "execution_count": 15,
   "metadata": {
    "ExecuteTime": {
     "end_time": "2019-06-25T11:03:22.027363Z",
     "start_time": "2019-06-25T11:02:54.486292Z"
    }
   },
   "outputs": [
    {
     "name": "stderr",
     "output_type": "stream",
     "text": [
      "g:\\python\\lib\\site-packages\\ipykernel_launcher.py:17: RuntimeWarning: divide by zero encountered in true_divide\n",
      "g:\\python\\lib\\site-packages\\scipy\\optimize\\minpack.py:162: RuntimeWarning: The iteration is not making good progress, as measured by the \n",
      "  improvement from the last ten iterations.\n",
      "  warnings.warn(msg, RuntimeWarning)\n"
     ]
    }
   ],
   "source": [
    "date=total['日期'].unique().tolist()\n",
    "vol_list=[]#存储每天的隐含波动率\n",
    "skew_list=[]#存储每天的隐含偏斜\n",
    "#遍历每天的信息\n",
    "for j in range(len(date)):\n",
    "    sample=total[total['日期']==date[j]]\n",
    "    call_sample=sample[sample['期权简称'].apply(lambda x:True if '购' in x else False)==True]\n",
    "    put_sample=sample[sample['期权简称'].apply(lambda x:True if '沽' in x else False)==True]\n",
    "    temp=[];k_list=[]\n",
    "    for i in range(len(call_sample)):\n",
    "        x=call_sample.iloc[i,:]\n",
    "        s=x['ETF_price'];\n",
    "        k=x['行权价'];\n",
    "        rf=x['rf'];\n",
    "        t=x['Time_to_Maturity']\n",
    "        c=x['结算价']\n",
    "        def bsm_pricing(vol):\n",
    "            d1=(np.log(s/k)+(rf+vol**2/2)*t)/(vol*np.sqrt(t))\n",
    "            d2=d1-vol*np.sqrt(t)\n",
    "            price=s*scipy.stats.norm.cdf(d1)-k*scipy.stats.norm.cdf(d2)*np.exp(-rf*t)\n",
    "            error=price-c\n",
    "            return error\n",
    "        implied_vol=fsolve(bsm_pricing,0)\n",
    "        temp.append(implied_vol[0])\n",
    "        k_list.append(k)\n",
    "    vol_list.append(np.mean(temp))\n",
    "    skew_list.append(temp[k_list.index(min(k_list))]-temp[k_list.index(max(k_list))])"
   ]
  },
  {
   "cell_type": "markdown",
   "metadata": {},
   "source": [
    "### 画图"
   ]
  },
  {
   "cell_type": "code",
   "execution_count": 16,
   "metadata": {
    "ExecuteTime": {
     "end_time": "2019-06-25T11:07:05.591458Z",
     "start_time": "2019-06-25T11:07:05.550485Z"
    }
   },
   "outputs": [],
   "source": [
    "df=pd.DataFrame()\n",
    "df['IV']=vol_list\n",
    "df['date']=date\n",
    "df=df.sort_values(by='date')\n",
    "df2=pd.DataFrame()\n",
    "df2['date']=date\n",
    "df2['IS']=skew_list\n",
    "df2=df2.sort_values(by='date')"
   ]
  },
  {
   "cell_type": "code",
   "execution_count": 17,
   "metadata": {
    "ExecuteTime": {
     "end_time": "2019-06-25T11:07:16.398970Z",
     "start_time": "2019-06-25T11:07:15.234687Z"
    }
   },
   "outputs": [
    {
     "data": {
      "text/plain": [
       "<matplotlib.legend.Legend at 0x1f172ec6080>"
      ]
     },
     "execution_count": 17,
     "metadata": {},
     "output_type": "execute_result"
    },
    {
     "data": {
      "image/png": "[encoded data removed]",
      "text/plain": [
       "<Figure size 864x360 with 2 Axes>"
      ]
     },
     "metadata": {
      "needs_background": "light"
     },
     "output_type": "display_data"
    }
   ],
   "source": [
    "fig = plt.figure(figsize=(12,5))\n",
    "plt.rcParams['font.sans-serif'] = ['SimHei']\n",
    "plt.rcParams['axes.unicode_minus'] = False\n",
    "\n",
    "ax1 = fig.add_subplot(1,1,1)\n",
    "ax1.plot(df['IV'],label='IV')\n",
    "#ax1.set_ylabel('每日情绪指数',fontsize=13.5)\n",
    "#ax1.set_title(\"BI和贴水率\",fontsize=16)\n",
    "plt.yticks(fontsize=17)\n",
    "plt.xticks(fontsize=17)\n",
    "plt.ylabel('IV',fontsize=15)\n",
    "plt.title('Implied volatility and skew',fontsize=17)\n",
    "\n",
    "ax2 = ax1.twinx()  # this is the important function\n",
    "ax2.plot(df2['IS'], color='r',label='IS')\n",
    "#ax2.set_ylabel('贴水率',fontsize=13.5)\n",
    "plt.yticks(fontsize=17)\n",
    "plt.ylabel('IS',fontsize=15)\n",
    "\n",
    "ax1.legend(loc=(0.85,0.9),fontsize=16)\n",
    "ax2.legend(loc=(0.85,0.8),fontsize=16)"
   ]
  },
  {
   "cell_type": "code",
   "execution_count": null,
   "metadata": {},
   "outputs": [],
   "source": []
  }
 ],
 "metadata": {
  "kernelspec": {
   "display_name": "Python 3",
   "language": "python",
   "name": "python3"
  },
  "language_info": {
   "codemirror_mode": {
    "name": "ipython",
    "version": 3
   },
   "file_extension": ".py",
   "mimetype": "text/x-python",
   "name": "python",
   "nbconvert_exporter": "python",
   "pygments_lexer": "ipython3",
   "version": "3.7.3"
  },
  "toc": {
   "base_numbering": 1,
   "nav_menu": {},
   "number_sections": true,
   "sideBar": true,
   "skip_h1_title": false,
   "title_cell": "Table of Contents",
   "title_sidebar": "Contents",
   "toc_cell": false,
   "toc_position": {},
   "toc_section_display": true,
   "toc_window_display": false
  },
  "varInspector": {
   "cols": {
    "lenName": 16,
    "lenType": 16,
    "lenVar": 40
   },
   "kernels_config": {
    "python": {
     "delete_cmd_postfix": "",
     "delete_cmd_prefix": "del ",
     "library": "var_list.py",
     "varRefreshCmd": "print(var_dic_list())"
    },
    "r": {
     "delete_cmd_postfix": ") ",
     "delete_cmd_prefix": "rm(",
     "library": "var_list.r",
     "varRefreshCmd": "cat(var_dic_list()) "
    }
   },
   "types_to_exclude": [
    "module",
    "function",
    "builtin_function_or_method",
    "instance",
    "_Feature"
   ],
   "window_display": false
  }
 },
 "nbformat": 4,
 "nbformat_minor": 2
}
