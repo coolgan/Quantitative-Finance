{
 "cells": [
  {
   "cell_type": "code",
   "execution_count": 79,
   "metadata": {
    "ExecuteTime": {
     "end_time": "2019-08-22T08:03:01.525223Z",
     "start_time": "2019-08-22T08:02:58.739533Z"
    }
   },
   "outputs": [],
   "source": [
    "import pandas as pd\n",
    "import numpy as np\n",
    "import matplotlib.pyplot as plt\n",
    "from math import factorial"
   ]
  },
  {
   "cell_type": "markdown",
   "metadata": {},
   "source": [
    "## 处理数据"
   ]
  },
  {
   "cell_type": "code",
   "execution_count": 49,
   "metadata": {
    "ExecuteTime": {
     "end_time": "2019-08-22T07:32:24.093547Z",
     "start_time": "2019-08-22T07:32:23.276011Z"
    }
   },
   "outputs": [],
   "source": [
    "data = pd.read_csv('50ETF_OPTION_INFO.csv',sep='\\t',encoding='gbk')\n",
    "etf = pd.read_csv('50ETF报价.csv',sep=',')\n",
    "rf = pd.read_csv('SHIBOR1月.csv')"
   ]
  },
  {
   "cell_type": "code",
   "execution_count": 51,
   "metadata": {
    "ExecuteTime": {
     "end_time": "2019-08-22T07:32:45.964465Z",
     "start_time": "2019-08-22T07:32:45.412971Z"
    }
   },
   "outputs": [],
   "source": [
    "rf['日期'] = pd.to_datetime(rf['日期'])\n",
    "etf['date'] = pd.to_datetime(etf['date'])\n",
    "data['date'] = pd.to_datetime(data['date'])\n",
    "data['exercise_date'] = pd.to_datetime(data['exercise_date'])\n",
    "data['type'] = data['trading_code'].apply(lambda x: x[6])"
   ]
  },
  {
   "cell_type": "markdown",
   "metadata": {},
   "source": [
    "## 算例"
   ]
  },
  {
   "cell_type": "code",
   "execution_count": 13,
   "metadata": {
    "ExecuteTime": {
     "end_time": "2019-08-22T07:00:04.701491Z",
     "start_time": "2019-08-22T07:00:04.598551Z"
    }
   },
   "outputs": [],
   "source": [
    "temp = data[data['date']=='2015-02-09']"
   ]
  },
  {
   "cell_type": "code",
   "execution_count": 33,
   "metadata": {
    "ExecuteTime": {
     "end_time": "2019-08-22T07:19:23.651732Z",
     "start_time": "2019-08-22T07:19:23.636745Z"
    }
   },
   "outputs": [],
   "source": [
    "temp_call = temp[temp['type']=='C']\n",
    "temp_put = temp[temp['type']=='P']"
   ]
  },
  {
   "cell_type": "code",
   "execution_count": 18,
   "metadata": {
    "ExecuteTime": {
     "end_time": "2019-08-22T07:01:59.827711Z",
     "start_time": "2019-08-22T07:01:59.732842Z"
    },
    "scrolled": true
   },
   "outputs": [
    {
     "data": {
      "text/html": [
       "<div>\n",
       "<style scoped>\n",
       "    .dataframe tbody tr th:only-of-type {\n",
       "        vertical-align: middle;\n",
       "    }\n",
       "\n",
       "    .dataframe tbody tr th {\n",
       "        vertical-align: top;\n",
       "    }\n",
       "\n",
       "    .dataframe thead th {\n",
       "        text-align: right;\n",
       "    }\n",
       "</style>\n",
       "<table border=\"1\" class=\"dataframe\">\n",
       "  <thead>\n",
       "    <tr style=\"text-align: right;\">\n",
       "      <th></th>\n",
       "      <th>code</th>\n",
       "      <th>date</th>\n",
       "      <th>open</th>\n",
       "      <th>high</th>\n",
       "      <th>close</th>\n",
       "      <th>low</th>\n",
       "      <th>settle_price</th>\n",
       "      <th>volume</th>\n",
       "      <th>money</th>\n",
       "      <th>position</th>\n",
       "      <th>exercise_date</th>\n",
       "      <th>name</th>\n",
       "      <th>trading_code</th>\n",
       "      <th>exercise_price</th>\n",
       "      <th>type</th>\n",
       "    </tr>\n",
       "  </thead>\n",
       "  <tbody>\n",
       "    <tr>\n",
       "      <th>2261</th>\n",
       "      <td>10000034.XSHG</td>\n",
       "      <td>2015-02-09</td>\n",
       "      <td>0.2828</td>\n",
       "      <td>0.2828</td>\n",
       "      <td>0.2326</td>\n",
       "      <td>0.2326</td>\n",
       "      <td>0.3992</td>\n",
       "      <td>160</td>\n",
       "      <td>418325.0</td>\n",
       "      <td>129</td>\n",
       "      <td>2015-09-23</td>\n",
       "      <td>50ETF购9月2350</td>\n",
       "      <td>510050C1509M02350</td>\n",
       "      <td>2.35</td>\n",
       "      <td>C</td>\n",
       "    </tr>\n",
       "    <tr>\n",
       "      <th>27</th>\n",
       "      <td>10000001.XSHG</td>\n",
       "      <td>2015-02-09</td>\n",
       "      <td>0.1820</td>\n",
       "      <td>0.2029</td>\n",
       "      <td>0.1826</td>\n",
       "      <td>0.1699</td>\n",
       "      <td>0.3495</td>\n",
       "      <td>2501</td>\n",
       "      <td>4712265.0</td>\n",
       "      <td>674</td>\n",
       "      <td>2015-03-25</td>\n",
       "      <td>50ETF购3月2200</td>\n",
       "      <td>510050C1503M02200</td>\n",
       "      <td>2.20</td>\n",
       "      <td>C</td>\n",
       "    </tr>\n",
       "    <tr>\n",
       "      <th>83</th>\n",
       "      <td>10000003.XSHG</td>\n",
       "      <td>2015-02-09</td>\n",
       "      <td>0.1272</td>\n",
       "      <td>0.1364</td>\n",
       "      <td>0.1225</td>\n",
       "      <td>0.1134</td>\n",
       "      <td>0.2650</td>\n",
       "      <td>1323</td>\n",
       "      <td>1675003.0</td>\n",
       "      <td>509</td>\n",
       "      <td>2015-03-25</td>\n",
       "      <td>50ETF购3月2300</td>\n",
       "      <td>510050C1503M02300</td>\n",
       "      <td>2.30</td>\n",
       "      <td>C</td>\n",
       "    </tr>\n",
       "    <tr>\n",
       "      <th>514</th>\n",
       "      <td>10000015.XSHG</td>\n",
       "      <td>2015-02-09</td>\n",
       "      <td>0.1226</td>\n",
       "      <td>0.1275</td>\n",
       "      <td>0.1008</td>\n",
       "      <td>0.0980</td>\n",
       "      <td>0.2282</td>\n",
       "      <td>675</td>\n",
       "      <td>784476.0</td>\n",
       "      <td>308</td>\n",
       "      <td>2015-04-22</td>\n",
       "      <td>50ETF购4月2400</td>\n",
       "      <td>510050C1504M02400</td>\n",
       "      <td>2.40</td>\n",
       "      <td>C</td>\n",
       "    </tr>\n",
       "    <tr>\n",
       "      <th>1199</th>\n",
       "      <td>10000025.XSHG</td>\n",
       "      <td>2015-02-09</td>\n",
       "      <td>0.1877</td>\n",
       "      <td>0.1877</td>\n",
       "      <td>0.1652</td>\n",
       "      <td>0.1652</td>\n",
       "      <td>0.2934</td>\n",
       "      <td>225</td>\n",
       "      <td>404926.0</td>\n",
       "      <td>196</td>\n",
       "      <td>2015-06-24</td>\n",
       "      <td>50ETF购6月2400</td>\n",
       "      <td>510050C1506M02400</td>\n",
       "      <td>2.40</td>\n",
       "      <td>C</td>\n",
       "    </tr>\n",
       "    <tr>\n",
       "      <th>373</th>\n",
       "      <td>10000012.XSHG</td>\n",
       "      <td>2015-02-09</td>\n",
       "      <td>0.1898</td>\n",
       "      <td>0.1994</td>\n",
       "      <td>0.1785</td>\n",
       "      <td>0.1757</td>\n",
       "      <td>0.3185</td>\n",
       "      <td>302</td>\n",
       "      <td>570257.0</td>\n",
       "      <td>193</td>\n",
       "      <td>2015-04-22</td>\n",
       "      <td>50ETF购4月2250</td>\n",
       "      <td>510050C1504M02250</td>\n",
       "      <td>2.25</td>\n",
       "      <td>C</td>\n",
       "    </tr>\n",
       "    <tr>\n",
       "      <th>111</th>\n",
       "      <td>10000004.XSHG</td>\n",
       "      <td>2015-02-09</td>\n",
       "      <td>0.1054</td>\n",
       "      <td>0.1117</td>\n",
       "      <td>0.0942</td>\n",
       "      <td>0.0925</td>\n",
       "      <td>0.2233</td>\n",
       "      <td>912</td>\n",
       "      <td>940923.0</td>\n",
       "      <td>295</td>\n",
       "      <td>2015-03-25</td>\n",
       "      <td>50ETF购3月2350</td>\n",
       "      <td>510050C1503M02350</td>\n",
       "      <td>2.35</td>\n",
       "      <td>C</td>\n",
       "    </tr>\n",
       "    <tr>\n",
       "      <th>326</th>\n",
       "      <td>10000011.XSHG</td>\n",
       "      <td>2015-02-09</td>\n",
       "      <td>0.2176</td>\n",
       "      <td>0.2279</td>\n",
       "      <td>0.2100</td>\n",
       "      <td>0.2042</td>\n",
       "      <td>0.3711</td>\n",
       "      <td>180</td>\n",
       "      <td>393371.0</td>\n",
       "      <td>110</td>\n",
       "      <td>2015-04-22</td>\n",
       "      <td>50ETF购4月2200</td>\n",
       "      <td>510050C1504M02200</td>\n",
       "      <td>2.20</td>\n",
       "      <td>C</td>\n",
       "    </tr>\n",
       "    <tr>\n",
       "      <th>839</th>\n",
       "      <td>10000021.XSHG</td>\n",
       "      <td>2015-02-09</td>\n",
       "      <td>0.2810</td>\n",
       "      <td>0.2810</td>\n",
       "      <td>0.2662</td>\n",
       "      <td>0.2662</td>\n",
       "      <td>0.4426</td>\n",
       "      <td>229</td>\n",
       "      <td>634478.0</td>\n",
       "      <td>162</td>\n",
       "      <td>2015-06-24</td>\n",
       "      <td>50ETF购6月2200</td>\n",
       "      <td>510050C1506M02200</td>\n",
       "      <td>2.20</td>\n",
       "      <td>C</td>\n",
       "    </tr>\n",
       "    <tr>\n",
       "      <th>1955</th>\n",
       "      <td>10000032.XSHG</td>\n",
       "      <td>2015-02-09</td>\n",
       "      <td>0.3283</td>\n",
       "      <td>0.3283</td>\n",
       "      <td>0.2787</td>\n",
       "      <td>0.2787</td>\n",
       "      <td>0.4505</td>\n",
       "      <td>451</td>\n",
       "      <td>1364909.0</td>\n",
       "      <td>325</td>\n",
       "      <td>2015-09-23</td>\n",
       "      <td>50ETF购9月2250</td>\n",
       "      <td>510050C1509M02250</td>\n",
       "      <td>2.25</td>\n",
       "      <td>C</td>\n",
       "    </tr>\n",
       "    <tr>\n",
       "      <th>2108</th>\n",
       "      <td>10000033.XSHG</td>\n",
       "      <td>2015-02-09</td>\n",
       "      <td>0.3046</td>\n",
       "      <td>0.3046</td>\n",
       "      <td>0.2583</td>\n",
       "      <td>0.2583</td>\n",
       "      <td>0.4294</td>\n",
       "      <td>170</td>\n",
       "      <td>482420.0</td>\n",
       "      <td>154</td>\n",
       "      <td>2015-09-23</td>\n",
       "      <td>50ETF购9月2300</td>\n",
       "      <td>510050C1509M02300</td>\n",
       "      <td>2.30</td>\n",
       "      <td>C</td>\n",
       "    </tr>\n",
       "    <tr>\n",
       "      <th>55</th>\n",
       "      <td>10000002.XSHG</td>\n",
       "      <td>2015-02-09</td>\n",
       "      <td>0.1529</td>\n",
       "      <td>0.1671</td>\n",
       "      <td>0.1460</td>\n",
       "      <td>0.1386</td>\n",
       "      <td>0.2975</td>\n",
       "      <td>1250</td>\n",
       "      <td>1942674.0</td>\n",
       "      <td>481</td>\n",
       "      <td>2015-03-25</td>\n",
       "      <td>50ETF购3月2250</td>\n",
       "      <td>510050C1503M02250</td>\n",
       "      <td>2.25</td>\n",
       "      <td>C</td>\n",
       "    </tr>\n",
       "    <tr>\n",
       "      <th>2414</th>\n",
       "      <td>10000035.XSHG</td>\n",
       "      <td>2015-02-09</td>\n",
       "      <td>0.2621</td>\n",
       "      <td>0.2621</td>\n",
       "      <td>0.2116</td>\n",
       "      <td>0.2116</td>\n",
       "      <td>0.3731</td>\n",
       "      <td>194</td>\n",
       "      <td>463183.0</td>\n",
       "      <td>127</td>\n",
       "      <td>2015-09-23</td>\n",
       "      <td>50ETF购9月2400</td>\n",
       "      <td>510050C1509M02400</td>\n",
       "      <td>2.40</td>\n",
       "      <td>C</td>\n",
       "    </tr>\n",
       "    <tr>\n",
       "      <th>929</th>\n",
       "      <td>10000022.XSHG</td>\n",
       "      <td>2015-02-09</td>\n",
       "      <td>0.2550</td>\n",
       "      <td>0.2550</td>\n",
       "      <td>0.2366</td>\n",
       "      <td>0.2366</td>\n",
       "      <td>0.4024</td>\n",
       "      <td>114</td>\n",
       "      <td>286345.0</td>\n",
       "      <td>75</td>\n",
       "      <td>2015-06-24</td>\n",
       "      <td>50ETF购6月2250</td>\n",
       "      <td>510050C1506M02250</td>\n",
       "      <td>2.25</td>\n",
       "      <td>C</td>\n",
       "    </tr>\n",
       "    <tr>\n",
       "      <th>1802</th>\n",
       "      <td>10000031.XSHG</td>\n",
       "      <td>2015-02-09</td>\n",
       "      <td>0.3531</td>\n",
       "      <td>0.3541</td>\n",
       "      <td>0.3130</td>\n",
       "      <td>0.3080</td>\n",
       "      <td>0.4955</td>\n",
       "      <td>247</td>\n",
       "      <td>818368.0</td>\n",
       "      <td>224</td>\n",
       "      <td>2015-09-23</td>\n",
       "      <td>50ETF购9月2200</td>\n",
       "      <td>510050C1509M02200</td>\n",
       "      <td>2.20</td>\n",
       "      <td>C</td>\n",
       "    </tr>\n",
       "    <tr>\n",
       "      <th>139</th>\n",
       "      <td>10000005.XSHG</td>\n",
       "      <td>2015-02-09</td>\n",
       "      <td>0.0868</td>\n",
       "      <td>0.0894</td>\n",
       "      <td>0.0735</td>\n",
       "      <td>0.0712</td>\n",
       "      <td>0.1844</td>\n",
       "      <td>1411</td>\n",
       "      <td>1163397.0</td>\n",
       "      <td>386</td>\n",
       "      <td>2015-03-25</td>\n",
       "      <td>50ETF购3月2400</td>\n",
       "      <td>510050C1503M02400</td>\n",
       "      <td>2.40</td>\n",
       "      <td>C</td>\n",
       "    </tr>\n",
       "    <tr>\n",
       "      <th>467</th>\n",
       "      <td>10000014.XSHG</td>\n",
       "      <td>2015-02-09</td>\n",
       "      <td>0.1429</td>\n",
       "      <td>0.1447</td>\n",
       "      <td>0.1261</td>\n",
       "      <td>0.1224</td>\n",
       "      <td>0.2561</td>\n",
       "      <td>331</td>\n",
       "      <td>455415.0</td>\n",
       "      <td>193</td>\n",
       "      <td>2015-04-22</td>\n",
       "      <td>50ETF购4月2350</td>\n",
       "      <td>510050C1504M02350</td>\n",
       "      <td>2.35</td>\n",
       "      <td>C</td>\n",
       "    </tr>\n",
       "    <tr>\n",
       "      <th>420</th>\n",
       "      <td>10000013.XSHG</td>\n",
       "      <td>2015-02-09</td>\n",
       "      <td>0.1657</td>\n",
       "      <td>0.1697</td>\n",
       "      <td>0.1466</td>\n",
       "      <td>0.1466</td>\n",
       "      <td>0.2880</td>\n",
       "      <td>378</td>\n",
       "      <td>614699.0</td>\n",
       "      <td>176</td>\n",
       "      <td>2015-04-22</td>\n",
       "      <td>50ETF购4月2300</td>\n",
       "      <td>510050C1504M02300</td>\n",
       "      <td>2.30</td>\n",
       "      <td>C</td>\n",
       "    </tr>\n",
       "    <tr>\n",
       "      <th>1109</th>\n",
       "      <td>10000024.XSHG</td>\n",
       "      <td>2015-02-09</td>\n",
       "      <td>0.2086</td>\n",
       "      <td>0.2086</td>\n",
       "      <td>0.1870</td>\n",
       "      <td>0.1870</td>\n",
       "      <td>0.2970</td>\n",
       "      <td>106</td>\n",
       "      <td>215695.0</td>\n",
       "      <td>71</td>\n",
       "      <td>2015-06-24</td>\n",
       "      <td>50ETF购6月2350</td>\n",
       "      <td>510050C1506M02350</td>\n",
       "      <td>2.35</td>\n",
       "      <td>C</td>\n",
       "    </tr>\n",
       "    <tr>\n",
       "      <th>1019</th>\n",
       "      <td>10000023.XSHG</td>\n",
       "      <td>2015-02-09</td>\n",
       "      <td>0.2319</td>\n",
       "      <td>0.2319</td>\n",
       "      <td>0.2105</td>\n",
       "      <td>0.2105</td>\n",
       "      <td>0.3465</td>\n",
       "      <td>161</td>\n",
       "      <td>363150.0</td>\n",
       "      <td>135</td>\n",
       "      <td>2015-06-24</td>\n",
       "      <td>50ETF购6月2300</td>\n",
       "      <td>510050C1506M02300</td>\n",
       "      <td>2.30</td>\n",
       "      <td>C</td>\n",
       "    </tr>\n",
       "  </tbody>\n",
       "</table>\n",
       "</div>"
      ],
      "text/plain": [
       "               code       date    open    high   close     low  settle_price  \\\n",
       "2261  10000034.XSHG 2015-02-09  0.2828  0.2828  0.2326  0.2326        0.3992   \n",
       "27    10000001.XSHG 2015-02-09  0.1820  0.2029  0.1826  0.1699        0.3495   \n",
       "83    10000003.XSHG 2015-02-09  0.1272  0.1364  0.1225  0.1134        0.2650   \n",
       "514   10000015.XSHG 2015-02-09  0.1226  0.1275  0.1008  0.0980        0.2282   \n",
       "1199  10000025.XSHG 2015-02-09  0.1877  0.1877  0.1652  0.1652        0.2934   \n",
       "373   10000012.XSHG 2015-02-09  0.1898  0.1994  0.1785  0.1757        0.3185   \n",
       "111   10000004.XSHG 2015-02-09  0.1054  0.1117  0.0942  0.0925        0.2233   \n",
       "326   10000011.XSHG 2015-02-09  0.2176  0.2279  0.2100  0.2042        0.3711   \n",
       "839   10000021.XSHG 2015-02-09  0.2810  0.2810  0.2662  0.2662        0.4426   \n",
       "1955  10000032.XSHG 2015-02-09  0.3283  0.3283  0.2787  0.2787        0.4505   \n",
       "2108  10000033.XSHG 2015-02-09  0.3046  0.3046  0.2583  0.2583        0.4294   \n",
       "55    10000002.XSHG 2015-02-09  0.1529  0.1671  0.1460  0.1386        0.2975   \n",
       "2414  10000035.XSHG 2015-02-09  0.2621  0.2621  0.2116  0.2116        0.3731   \n",
       "929   10000022.XSHG 2015-02-09  0.2550  0.2550  0.2366  0.2366        0.4024   \n",
       "1802  10000031.XSHG 2015-02-09  0.3531  0.3541  0.3130  0.3080        0.4955   \n",
       "139   10000005.XSHG 2015-02-09  0.0868  0.0894  0.0735  0.0712        0.1844   \n",
       "467   10000014.XSHG 2015-02-09  0.1429  0.1447  0.1261  0.1224        0.2561   \n",
       "420   10000013.XSHG 2015-02-09  0.1657  0.1697  0.1466  0.1466        0.2880   \n",
       "1109  10000024.XSHG 2015-02-09  0.2086  0.2086  0.1870  0.1870        0.2970   \n",
       "1019  10000023.XSHG 2015-02-09  0.2319  0.2319  0.2105  0.2105        0.3465   \n",
       "\n",
       "      volume      money  position exercise_date          name  \\\n",
       "2261     160   418325.0       129    2015-09-23  50ETF购9月2350   \n",
       "27      2501  4712265.0       674    2015-03-25  50ETF购3月2200   \n",
       "83      1323  1675003.0       509    2015-03-25  50ETF购3月2300   \n",
       "514      675   784476.0       308    2015-04-22  50ETF购4月2400   \n",
       "1199     225   404926.0       196    2015-06-24  50ETF购6月2400   \n",
       "373      302   570257.0       193    2015-04-22  50ETF购4月2250   \n",
       "111      912   940923.0       295    2015-03-25  50ETF购3月2350   \n",
       "326      180   393371.0       110    2015-04-22  50ETF购4月2200   \n",
       "839      229   634478.0       162    2015-06-24  50ETF购6月2200   \n",
       "1955     451  1364909.0       325    2015-09-23  50ETF购9月2250   \n",
       "2108     170   482420.0       154    2015-09-23  50ETF购9月2300   \n",
       "55      1250  1942674.0       481    2015-03-25  50ETF购3月2250   \n",
       "2414     194   463183.0       127    2015-09-23  50ETF购9月2400   \n",
       "929      114   286345.0        75    2015-06-24  50ETF购6月2250   \n",
       "1802     247   818368.0       224    2015-09-23  50ETF购9月2200   \n",
       "139     1411  1163397.0       386    2015-03-25  50ETF购3月2400   \n",
       "467      331   455415.0       193    2015-04-22  50ETF购4月2350   \n",
       "420      378   614699.0       176    2015-04-22  50ETF购4月2300   \n",
       "1109     106   215695.0        71    2015-06-24  50ETF购6月2350   \n",
       "1019     161   363150.0       135    2015-06-24  50ETF购6月2300   \n",
       "\n",
       "           trading_code  exercise_price type  \n",
       "2261  510050C1509M02350            2.35    C  \n",
       "27    510050C1503M02200            2.20    C  \n",
       "83    510050C1503M02300            2.30    C  \n",
       "514   510050C1504M02400            2.40    C  \n",
       "1199  510050C1506M02400            2.40    C  \n",
       "373   510050C1504M02250            2.25    C  \n",
       "111   510050C1503M02350            2.35    C  \n",
       "326   510050C1504M02200            2.20    C  \n",
       "839   510050C1506M02200            2.20    C  \n",
       "1955  510050C1509M02250            2.25    C  \n",
       "2108  510050C1509M02300            2.30    C  \n",
       "55    510050C1503M02250            2.25    C  \n",
       "2414  510050C1509M02400            2.40    C  \n",
       "929   510050C1506M02250            2.25    C  \n",
       "1802  510050C1509M02200            2.20    C  \n",
       "139   510050C1503M02400            2.40    C  \n",
       "467   510050C1504M02350            2.35    C  \n",
       "420   510050C1504M02300            2.30    C  \n",
       "1109  510050C1506M02350            2.35    C  \n",
       "1019  510050C1506M02300            2.30    C  "
      ]
     },
     "execution_count": 18,
     "metadata": {},
     "output_type": "execute_result"
    }
   ],
   "source": [
    "temp_call"
   ]
  },
  {
   "cell_type": "markdown",
   "metadata": {},
   "source": [
    "参考Leon和Bakshi等的方法，收益的风险中性偏度可从上证50ETF报价和对应期权信息中算出，该分布的偏度为:\n",
    "\n",
    "$$Skew = \\frac{e^{r_{t}\\tau}W(t,\\tau)-3\\mu(t,\\tau)e^{r_{t}\\tau}V(t,\\tau)+2\\mu(t,\\tau)^3}{(e^{r_{t}\\tau}V(t,\\tau)-\\mu(t,\\tau)^2)^\\frac{3}{2}} \\tag{1}$$\n",
    "\n",
    "其中，\n",
    "\n",
    "$$\\mu(t,\\tau)=e^{r_{t}\\tau}-1-\\frac{1}{2!}e^{r_{t}\\tau}V(t,\\tau)-\\frac{1}{3!}e^{r_{t}\\tau}W(t,\\tau)-\\frac{1}{4!}e^{r_{t}\\tau}U(t,\\tau) \\tag{2}$$\n",
    "\n",
    "利用期权的存续期$\\tau$，行权价格$K$，ETF的现价$S_t$，可算出$V$，$W$和$U$：\n",
    "\n",
    "$$V(t,\\tau)=\\int_{S_t}^{\\infty}\\frac{2(1-ln(\\frac{K}{S_t}))}{K^2}C(t,\\tau,K)dK+\\int_{\\infty}^{S_t}\\frac{2(1-ln(\\frac{K}{S_t}))}{K^2}P(t,\\tau,K)dK \\tag{3}$$\n",
    "\n",
    "\n",
    "$$W(t,\\tau)=\\int_{S_t}^{\\infty}\\frac{6ln(\\frac{K}{S_t})-3(ln(\\frac{K}{S_t}))^2}{K^2}C(t,\\tau,K)dK+\\int_{S_t}^{\\infty}\\frac{6ln(\\frac{K}{S_t})-3(ln(\\frac{K}{S_t}))^2}{K^2}P(t,\\tau,K)dK \\tag{4}$$\n",
    "\n",
    "\n",
    "$$U(t,\\tau)=\\int_{S_t}^{\\infty}\\frac{12ln(\\frac{K}{S_t})^2-4(ln(\\frac{K}{S_t}))^3}{K^2}C(t,\\tau,K)dK+\\int_{S_t}^{\\infty}\\frac{12ln(\\frac{K}{S_t})^2-4(ln(\\frac{K}{S_t}))^3}{K^2}P(t,\\tau,K)dK \\tag{5}$$\n",
    "\n",
    "由于深度虚值期权被行权的可能很小，其被积函数趋于零，由行权价不连续导致的数值积分误差可忽略"
   ]
  },
  {
   "cell_type": "code",
   "execution_count": 63,
   "metadata": {
    "ExecuteTime": {
     "end_time": "2019-08-22T07:40:22.000554Z",
     "start_time": "2019-08-22T07:40:21.867627Z"
    }
   },
   "outputs": [],
   "source": [
    "etf_price = etf[etf['date']==temp_call['date'].iloc[0]]['close'].iloc[0]\n",
    "T_to_t = (temp['exercise_date'].iloc[0]-temp['date'].iloc[0]).days/365\n",
    "r = rf[rf['日期']==temp_call['date'].iloc[0]]['价格'].iloc[0]/100\n",
    "\n",
    "v1 = sum(temp_call.apply(lambda x: 2*(1-np.log(etf_price/x['exercise_price']))/(x['exercise_price']**2)*0.05*x['settle_price'],axis=1))\n",
    "v2 = sum(temp_put.apply(lambda x: 2*(1-np.log(etf_price/x['exercise_price']))/(x['exercise_price']**2)*0.05*x['settle_price'],axis=1))\n",
    "v = v1+v2\n",
    "w1 = sum(temp_call.apply(lambda x:(6*np.log(x['exercise_price']/etf_price)-3*np.log(x['exercise_price']/etf_price)**2)/(x['exercise_price']**2)*0.05*x['settle_price'],axis=1))\n",
    "w2 = sum(temp_put.apply(lambda x:(6*np.log(x['exercise_price']/etf_price)-3*np.log(x['exercise_price']/etf_price)**2)/(x['exercise_price']**2)*0.05*x['settle_price'],axis=1))\n",
    "w = w1+w2\n",
    "u1 = sum(temp_call.apply(lambda x:(12*np.log(x['exercise_price']/etf_price)**2-4*np.log(x['exercise_price']/etf_price)**3)/(x['exercise_price']**2)*0.05*x['settle_price'],axis=1))\n",
    "u2 = sum(temp_put.apply(lambda x:(12*np.log(x['exercise_price']/etf_price)**2-4*np.log(x['exercise_price']/etf_price)**3)/(x['exercise_price']**2)*0.05*x['settle_price'],axis=1))\n",
    "u = u1+u2\n",
    "m = np.exp(r*T_to_t)-1-(np.exp(r*T_to_t)*v)/factorial(2)-(np.exp(r*T_to_t)*w)/factorial(3)-(np.exp(r*T_to_t)*u)/factorial(4)\n",
    "skew = (np.exp(r*T_to_t)*w-3*m*np.exp(r*T_to_t)*v+2*m**3)/((np.exp(r*T_to_t)*v-m**2)**1.5)"
   ]
  },
  {
   "cell_type": "code",
   "execution_count": 64,
   "metadata": {
    "ExecuteTime": {
     "end_time": "2019-08-22T07:40:25.691278Z",
     "start_time": "2019-08-22T07:40:25.674289Z"
    }
   },
   "outputs": [
    {
     "data": {
      "text/plain": [
       "0.7619568135300722"
      ]
     },
     "execution_count": 64,
     "metadata": {},
     "output_type": "execute_result"
    }
   ],
   "source": [
    "skew"
   ]
  },
  {
   "cell_type": "markdown",
   "metadata": {},
   "source": [
    "## 生成Skew序列"
   ]
  },
  {
   "cell_type": "code",
   "execution_count": 8,
   "metadata": {
    "ExecuteTime": {
     "end_time": "2019-08-22T06:56:33.792986Z",
     "start_time": "2019-08-22T06:56:33.730020Z"
    }
   },
   "outputs": [],
   "source": [
    "data = data.sort_values(by='date')\n",
    "x = data.groupby(data['date'])"
   ]
  },
  {
   "cell_type": "code",
   "execution_count": 73,
   "metadata": {
    "ExecuteTime": {
     "end_time": "2019-08-22T07:58:07.912206Z",
     "start_time": "2019-08-22T07:58:07.864233Z"
    }
   },
   "outputs": [],
   "source": [
    "def cal_RN_skew(temp_call,temp_put,etf_price,T_to_t,r):\n",
    "    v1 = sum(temp_call.apply(lambda x: 2*(1-np.log(etf_price/x['exercise_price']))/(x['exercise_price']**2)*0.05*x['settle_price'],axis=1))\n",
    "    v2 = sum(temp_put.apply(lambda x: 2*(1-np.log(etf_price/x['exercise_price']))/(x['exercise_price']**2)*0.05*x['settle_price'],axis=1))\n",
    "    v = v1+v2\n",
    "    w1 = sum(temp_call.apply(lambda x:(6*np.log(x['exercise_price']/etf_price)-3*np.log(x['exercise_price']/etf_price)**2)/(x['exercise_price']**2)*0.05*x['settle_price'],axis=1))\n",
    "    w2 = sum(temp_put.apply(lambda x:(6*np.log(x['exercise_price']/etf_price)-3*np.log(x['exercise_price']/etf_price)**2)/(x['exercise_price']**2)*0.05*x['settle_price'],axis=1))\n",
    "    w = w1+w2\n",
    "    u1 = sum(temp_call.apply(lambda x:(12*np.log(x['exercise_price']/etf_price)**2-4*np.log(x['exercise_price']/etf_price)**3)/(x['exercise_price']**2)*0.05*x['settle_price'],axis=1))\n",
    "    u2 = sum(temp_put.apply(lambda x:(12*np.log(x['exercise_price']/etf_price)**2-4*np.log(x['exercise_price']/etf_price)**3)/(x['exercise_price']**2)*0.05*x['settle_price'],axis=1))\n",
    "    u = u1+u2\n",
    "    m = np.exp(r*T_to_t)-1-(np.exp(r*T_to_t)*v)/factorial(2)-(np.exp(r*T_to_t)*w)/factorial(3)-(np.exp(r*T_to_t)*u)/factorial(4)\n",
    "    skew = (np.exp(r*T_to_t)*w-3*m*np.exp(r*T_to_t)*v+2*m**3)/((np.exp(r*T_to_t)*v-m**2)**1.5)\n",
    "    return skew"
   ]
  },
  {
   "cell_type": "markdown",
   "metadata": {},
   "source": [
    "每天存在不同存续期的期权，t时刻的风险中性偏度等于当天不同存续期的风险中性偏度的均值。"
   ]
  },
  {
   "cell_type": "code",
   "execution_count": 117,
   "metadata": {
    "ExecuteTime": {
     "end_time": "2019-08-22T08:30:51.314543Z",
     "start_time": "2019-08-22T08:27:33.036522Z"
    }
   },
   "outputs": [],
   "source": [
    "skew_dic = dict()\n",
    "#主循环：计算每天的隐含偏度\n",
    "for name,group in x:\n",
    "    try:\n",
    "        #对当天的期权按照不同存续期再次分组\n",
    "        temp_group = group.groupby(group['exercise_date'])\n",
    "        temp_skew = []\n",
    "        #计算每个存续期在当天的隐含偏度\n",
    "        for sub_name,sub_group in temp_group:\n",
    "            temp_call = sub_group[sub_group['type']=='C']\n",
    "            temp_put = sub_group[sub_group['type']=='P']\n",
    "            \n",
    "            r = rf[rf['日期']==name]['价格'].iloc[0]/100\n",
    "            S = etf[etf['date']==name]['close'].iloc[0]\n",
    "            T_to_t = (sub_group['exercise_date'].iloc[0]-sub_group['date'].iloc[0]).days/365\n",
    "            \n",
    "            skew1 = cal_RN_skew(temp_call,temp_put,S,T_to_t,r)\n",
    "            temp_skew.append(skew1)\n",
    "        #对不同存续期对应的隐含偏度取均值\n",
    "        skew = np.mean(temp_skew)\n",
    "        skew_dic[name]=skew\n",
    "    except Exception:\n",
    "        pass"
   ]
  },
  {
   "cell_type": "markdown",
   "metadata": {},
   "source": [
    "## 画图"
   ]
  },
  {
   "cell_type": "code",
   "execution_count": 118,
   "metadata": {
    "ExecuteTime": {
     "end_time": "2019-08-22T08:30:58.629139Z",
     "start_time": "2019-08-22T08:30:58.603151Z"
    }
   },
   "outputs": [],
   "source": [
    "df = pd.DataFrame.from_dict(skew_dic,orient='index',columns=['skew'])\n",
    "df['S']=etf[etf['date'].isin(df.index.tolist())]['close'].tolist()"
   ]
  },
  {
   "cell_type": "code",
   "execution_count": 130,
   "metadata": {
    "ExecuteTime": {
     "end_time": "2019-08-22T09:55:46.970467Z",
     "start_time": "2019-08-22T09:55:46.141537Z"
    }
   },
   "outputs": [
    {
     "data": {
      "text/plain": [
       "<matplotlib.legend.Legend at 0x17030ebca58>"
      ]
     },
     "execution_count": 130,
     "metadata": {},
     "output_type": "execute_result"
    },
    {
     "data": {
      "image/png": "[encoded data removed]",
      "text/plain": [
       "<Figure size 864x432 with 2 Axes>"
      ]
     },
     "metadata": {
      "needs_background": "light"
     },
     "output_type": "display_data"
    }
   ],
   "source": [
    "fig2 = plt.figure(figsize=(12,6))\n",
    "plt.rcParams['font.sans-serif'] = ['SimHei']\n",
    "plt.rcParams['axes.unicode_minus'] = False\n",
    "\n",
    "ax1 = fig2.add_subplot(1,1,1)\n",
    "ax1.plot(df['skew'],label='skew')\n",
    "#ax1.set_ylabel('每日情绪指数',fontsize=13.5)\n",
    "#ax1.set_title(\"BI和贴水率\",fontsize=16)\n",
    "plt.yticks(fontsize=17)\n",
    "plt.xticks(fontsize=17)\n",
    "plt.ylabel('Implied Skew',fontsize=15)\n",
    "plt.title('Implied Skew and ETF Quote',fontsize=17)\n",
    "\n",
    "ax2 = ax1.twinx()  # this is the important function\n",
    "ax2.plot(df['S'], color='r',label='close')\n",
    "#ax2.set_ylabel('贴水率',fontsize=13.5)\n",
    "plt.yticks(fontsize=17)\n",
    "plt.ylabel('SSE50 ETF close',fontsize=15)\n",
    "\n",
    "ax1.legend(loc=(0.85,0.9),fontsize=16)\n",
    "ax2.legend(loc=(0.85,0.8),fontsize=16)"
   ]
  },
  {
   "cell_type": "markdown",
   "metadata": {},
   "source": [
    "## 算法检验"
   ]
  },
  {
   "cell_type": "code",
   "execution_count": 119,
   "metadata": {
    "ExecuteTime": {
     "end_time": "2019-08-22T08:31:03.054148Z",
     "start_time": "2019-08-22T08:31:02.627679Z"
    }
   },
   "outputs": [
    {
     "data": {
      "text/plain": [
       "(-2, 1)"
      ]
     },
     "execution_count": 119,
     "metadata": {},
     "output_type": "execute_result"
    },
    {
     "data": {
      "image/png": "[encoded data removed]",
      "text/plain": [
       "<Figure size 1152x288 with 1 Axes>"
      ]
     },
     "metadata": {
      "needs_background": "light"
     },
     "output_type": "display_data"
    }
   ],
   "source": [
    "fig = plt.figure(figsize=(16,4))\n",
    "plt.plot(df['skew'].iloc[370:485])\n",
    "plt.ylim([-2,1])"
   ]
  },
  {
   "cell_type": "markdown",
   "metadata": {},
   "source": [
    "对比胡昌生和程志富（2019）计算的隐含偏度的结果，时间窗口为2016年8月16日到2017年2月9日，可见两图的趋势一致。"
   ]
  },
  {
   "cell_type": "markdown",
   "metadata": {},
   "source": [
    "![title](./1.png)"
   ]
  },
  {
   "cell_type": "markdown",
   "metadata": {},
   "source": [
    "## 参考文献"
   ]
  },
  {
   "cell_type": "markdown",
   "metadata": {},
   "source": [
    "[1] Bakshi G , Kapadia N . Delta-Hedged Gains and the Negative Market Volatility Risk Premium[J]. Review of Financial Studies, 2003, 16(2):527-566.\n",
    "\n",
    "[2] Elisa Alòs, Jorge A. León. On the short-maturity behaviour of the implied volatility skew for random strike options and applications to option pricing approximation[J]. Quantitative Finance, 2016, 16.\n",
    "\n",
    "[3] 胡昌生,程志富. 投资者情绪对上证50ETF隐含分布偏度影响的实证研究[J]. 数理统计与管理, 2019, 38(03):549-560."
   ]
  }
 ],
 "metadata": {
  "kernelspec": {
   "display_name": "Python 3",
   "language": "python",
   "name": "python3"
  },
  "language_info": {
   "codemirror_mode": {
    "name": "ipython",
    "version": 3
   },
   "file_extension": ".py",
   "mimetype": "text/x-python",
   "name": "python",
   "nbconvert_exporter": "python",
   "pygments_lexer": "ipython3",
   "version": "3.7.3"
  },
  "toc": {
   "base_numbering": 1,
   "nav_menu": {},
   "number_sections": true,
   "sideBar": true,
   "skip_h1_title": false,
   "title_cell": "Table of Contents",
   "title_sidebar": "Contents",
   "toc_cell": false,
   "toc_position": {},
   "toc_section_display": true,
   "toc_window_display": false
  },
  "varInspector": {
   "cols": {
    "lenName": 16,
    "lenType": 16,
    "lenVar": 40
   },
   "kernels_config": {
    "python": {
     "delete_cmd_postfix": "",
     "delete_cmd_prefix": "del ",
     "library": "var_list.py",
     "varRefreshCmd": "print(var_dic_list())"
    },
    "r": {
     "delete_cmd_postfix": ") ",
     "delete_cmd_prefix": "rm(",
     "library": "var_list.r",
     "varRefreshCmd": "cat(var_dic_list()) "
    }
   },
   "types_to_exclude": [
    "module",
    "function",
    "builtin_function_or_method",
    "instance",
    "_Feature"
   ],
   "window_display": false
  }
 },
 "nbformat": 4,
 "nbformat_minor": 2
}
