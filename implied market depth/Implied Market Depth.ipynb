{
 "cells": [
  {
   "cell_type": "markdown",
   "metadata": {},
   "source": [
    "### 导包"
   ]
  },
  {
   "cell_type": "code",
   "execution_count": 1,
   "metadata": {
    "ExecuteTime": {
     "end_time": "2019-08-07T02:02:42.006358Z",
     "start_time": "2019-08-07T02:02:34.937098Z"
    }
   },
   "outputs": [],
   "source": [
    "import pandas as pd\n",
    "import numpy as np\n",
    "import datetime\n",
    "import calendar\n",
    "import chardet"
   ]
  },
  {
   "cell_type": "markdown",
   "metadata": {},
   "source": [
    "### 导入数据：1.无风险利率；2.上证50ETF日行情；3.上证50ETF期权日行情"
   ]
  },
  {
   "cell_type": "code",
   "execution_count": 2,
   "metadata": {
    "ExecuteTime": {
     "end_time": "2019-08-07T03:38:33.298303Z",
     "start_time": "2019-08-07T03:38:31.502538Z"
    }
   },
   "outputs": [],
   "source": [
    "rf=pd.read_csv('SHIBOR1月.csv')\n",
    "odata = pd.read_csv('50ETF报价.csv',sep=',')\n",
    "edata = pd.read_csv('50ETF_OPTION_INFO.csv',encoding='gbk',sep='\\t')"
   ]
  },
  {
   "cell_type": "markdown",
   "metadata": {},
   "source": [
    "### 处理数据格式（30s'）"
   ]
  },
  {
   "cell_type": "code",
   "execution_count": 3,
   "metadata": {
    "ExecuteTime": {
     "end_time": "2019-08-07T03:39:01.216780Z",
     "start_time": "2019-08-07T03:38:34.288449Z"
    }
   },
   "outputs": [
    {
     "name": "stderr",
     "output_type": "stream",
     "text": [
      "g:\\python\\lib\\site-packages\\ipykernel_launcher.py:5: SettingWithCopyWarning: \n",
      "A value is trying to be set on a copy of a slice from a DataFrame.\n",
      "Try using .loc[row_indexer,col_indexer] = value instead\n",
      "\n",
      "See the caveats in the documentation: http://pandas.pydata.org/pandas-docs/stable/indexing.html#indexing-view-versus-copy\n",
      "  \"\"\"\n"
     ]
    }
   ],
   "source": [
    "rf['日期'] = pd.to_datetime(rf['日期'])\n",
    "edata['date'] = pd.to_datetime(edata['date'])\n",
    "odata['date'] = pd.to_datetime(odata['date'])\n",
    "test = edata[edata['date'].isin(odata['date'].tolist())]\n",
    "test['exercise_date'] = pd.to_datetime(test['exercise_date'])\n",
    "test = test.sort_values(by='date')\n",
    "test['time_to_maturity'] = test.apply(lambda x:(x['exercise_date']-x['date']).days,axis=1)\n",
    "test['name2'] = test['name'].apply(lambda x:x.replace(x[5],''))\n",
    "test['name3'] = test.apply(lambda x: str(x['date'])+x['name2'],axis=1)"
   ]
  },
  {
   "cell_type": "markdown",
   "metadata": {},
   "source": [
    "### 划分看涨看跌期权"
   ]
  },
  {
   "cell_type": "code",
   "execution_count": 5,
   "metadata": {
    "ExecuteTime": {
     "end_time": "2019-08-07T03:39:18.429648Z",
     "start_time": "2019-08-07T03:39:18.198760Z"
    }
   },
   "outputs": [],
   "source": [
    "call_sample = test[test['name'].apply(lambda x:True if '购' in x else False)==True]\n",
    "put_sample = test[test['name'].apply(lambda x:True if '沽' in x else False)==True]\n",
    "temp = put_sample[put_sample['name3'].isin(call_sample['name3'].tolist())].index.tolist()\n",
    "sub_put_sample = put_sample.loc[temp,:]\n",
    "sub_call_sample = call_sample[call_sample['name3'].isin(sub_put_sample['name3'].tolist())]"
   ]
  },
  {
   "cell_type": "markdown",
   "metadata": {},
   "source": [
    "### 匹配看涨期权对应的看跌期权的价格（1min）"
   ]
  },
  {
   "cell_type": "code",
   "execution_count": 6,
   "metadata": {
    "ExecuteTime": {
     "end_time": "2019-08-07T03:39:24.094308Z",
     "start_time": "2019-08-07T03:39:23.960390Z"
    },
    "scrolled": true
   },
   "outputs": [],
   "source": [
    "a = sub_call_sample['name3'].tolist()\n",
    "b = sub_put_sample['name3'].tolist()\n",
    "temp = [a.index(item) for idx,item in enumerate(b)]\n",
    "temp = sub_call_sample.iloc[temp,:]\n",
    "temp['put_price'] = sub_put_sample['settle_price'].tolist()"
   ]
  },
  {
   "cell_type": "markdown",
   "metadata": {},
   "source": [
    "### 匹配各交易日的无风险利率和ETF成交金额（5.3s'）"
   ]
  },
  {
   "cell_type": "code",
   "execution_count": 11,
   "metadata": {
    "ExecuteTime": {
     "end_time": "2019-08-07T03:40:45.277980Z",
     "start_time": "2019-08-07T03:40:39.993225Z"
    }
   },
   "outputs": [
    {
     "name": "stderr",
     "output_type": "stream",
     "text": [
      "g:\\python\\lib\\site-packages\\ipykernel_launcher.py:15: SettingWithCopyWarning: \n",
      "A value is trying to be set on a copy of a slice from a DataFrame.\n",
      "Try using .loc[row_indexer,col_indexer] = value instead\n",
      "\n",
      "See the caveats in the documentation: http://pandas.pydata.org/pandas-docs/stable/indexing.html#indexing-view-versus-copy\n",
      "  from ipykernel import kernelapp as app\n",
      "g:\\python\\lib\\site-packages\\ipykernel_launcher.py:16: SettingWithCopyWarning: \n",
      "A value is trying to be set on a copy of a slice from a DataFrame.\n",
      "Try using .loc[row_indexer,col_indexer] = value instead\n",
      "\n",
      "See the caveats in the documentation: http://pandas.pydata.org/pandas-docs/stable/indexing.html#indexing-view-versus-copy\n",
      "  app.launch_new_instance()\n"
     ]
    }
   ],
   "source": [
    "date = temp['date'].tolist()\n",
    "rate = [0 for i in range(len(temp))]\n",
    "rate[0] = rf[rf['日期']==date[0]]['价格'].iloc[0]\n",
    "etf_money = [0 for i in range(len(temp))]\n",
    "etf_money[0] = odata[odata['date']==date[0]]['money'].iloc[0] \n",
    "for i in range(1,len(temp)):\n",
    "    if date[i] == date[i-1]:\n",
    "        rate[i] = rate[i-1]\n",
    "        etf_money[i] = etf_money[i-1]\n",
    "    else:\n",
    "        rf_rate = rf[rf['日期']==date[i]]['价格'].iloc[0]\n",
    "        money = odata[odata['date']==date[i]]['money'].iloc[0]\n",
    "        rate[i] = rf_rate\n",
    "        etf_money[i] = money\n",
    "temp['rf'] = rate\n",
    "temp['etf_money'] = etf_money"
   ]
  },
  {
   "cell_type": "markdown",
   "metadata": {},
   "source": [
    "### 计算IMD（10s'）"
   ]
  },
  {
   "cell_type": "markdown",
   "metadata": {},
   "source": [
    "由期权看涨看跌平价公式（PCP）可知：\n",
    "\n",
    "$$q_{x}p +q_{x} S = q_{x}c + q_{x}Xe^{(-rT)}$$\n",
    "\n",
    "$q_{x}$为ETF的成交量，p和c分别为看跌和看涨期权的价格，S为上证50ETF的收盘价，X为期权对应的行权价。\n",
    "\n",
    "根据Feng（2016）提出的方法，将$q_{x}S$视作股票真实的成交金额$v_{x}$。利用期权市场每日的报价倒算上证50ETF的隐含成交量（隐含市场深度，IMD）：\n",
    "\n",
    "$$\\hat{q_{x}}=\\frac{v_{x}}{c-p+Xe^{-rT}} $$\n",
    "\n",
    "基于此，参考杨旸等（2019）的方法，为了消除量纲，构造隐含相对市场深度（IRMD），记作$\\frac{q_{x}}{\\hat{q_{x}}}$，其中$q_{x}$是真实成交量"
   ]
  },
  {
   "cell_type": "code",
   "execution_count": 17,
   "metadata": {
    "ExecuteTime": {
     "end_time": "2019-08-07T03:42:40.425521Z",
     "start_time": "2019-08-07T03:42:31.069236Z"
    }
   },
   "outputs": [],
   "source": [
    "IMD_list = []\n",
    "for i in range(len(temp)):\n",
    "    IMD = temp['etf_money'].iloc[i]/(temp['settle_price'].iloc[i]+temp['exercise_price'].iloc[i]*np.exp(-temp['rf'].iloc[i]/100*temp['time_to_maturity'].iloc[i]/365))\n",
    "    IMD_list.append(IMD)"
   ]
  },
  {
   "cell_type": "code",
   "execution_count": 31,
   "metadata": {
    "ExecuteTime": {
     "end_time": "2019-08-07T04:14:24.620741Z",
     "start_time": "2019-08-07T04:14:24.032267Z"
    }
   },
   "outputs": [
    {
     "name": "stderr",
     "output_type": "stream",
     "text": [
      "g:\\python\\lib\\site-packages\\ipykernel_launcher.py:1: SettingWithCopyWarning: \n",
      "A value is trying to be set on a copy of a slice from a DataFrame.\n",
      "Try using .loc[row_indexer,col_indexer] = value instead\n",
      "\n",
      "See the caveats in the documentation: http://pandas.pydata.org/pandas-docs/stable/indexing.html#indexing-view-versus-copy\n",
      "  \"\"\"Entry point for launching an IPython kernel.\n"
     ]
    },
    {
     "data": {
      "text/plain": [
       "<matplotlib.axes._subplots.AxesSubplot at 0x1dceb70f128>"
      ]
     },
     "execution_count": 31,
     "metadata": {},
     "output_type": "execute_result"
    },
    {
     "data": {
      "image/png": "[encoded data removed]",
      "text/plain": [
       "<Figure size 432x288 with 1 Axes>"
      ]
     },
     "metadata": {
      "needs_background": "light"
     },
     "output_type": "display_data"
    }
   ],
   "source": [
    "temp['IMD'] = IMD_list\n",
    "temp2 = temp.groupby(temp['date']).mean()\n",
    "temp2['IRMD'] = temp2['etf_money']/temp2['IMD']\n",
    "temp2['IRMD'].plot()"
   ]
  },
  {
   "cell_type": "code",
   "execution_count": null,
   "metadata": {},
   "outputs": [],
   "source": []
  }
 ],
 "metadata": {
  "kernelspec": {
   "display_name": "Python 3",
   "language": "python",
   "name": "python3"
  },
  "language_info": {
   "codemirror_mode": {
    "name": "ipython",
    "version": 3
   },
   "file_extension": ".py",
   "mimetype": "text/x-python",
   "name": "python",
   "nbconvert_exporter": "python",
   "pygments_lexer": "ipython3",
   "version": "3.7.3"
  },
  "toc": {
   "base_numbering": 1,
   "nav_menu": {},
   "number_sections": true,
   "sideBar": true,
   "skip_h1_title": false,
   "title_cell": "Table of Contents",
   "title_sidebar": "Contents",
   "toc_cell": false,
   "toc_position": {},
   "toc_section_display": true,
   "toc_window_display": false
  },
  "varInspector": {
   "cols": {
    "lenName": 16,
    "lenType": 16,
    "lenVar": 40
   },
   "kernels_config": {
    "python": {
     "delete_cmd_postfix": "",
     "delete_cmd_prefix": "del ",
     "library": "var_list.py",
     "varRefreshCmd": "print(var_dic_list())"
    },
    "r": {
     "delete_cmd_postfix": ") ",
     "delete_cmd_prefix": "rm(",
     "library": "var_list.r",
     "varRefreshCmd": "cat(var_dic_list()) "
    }
   },
   "types_to_exclude": [
    "module",
    "function",
    "builtin_function_or_method",
    "instance",
    "_Feature"
   ],
   "window_display": false
  }
 },
 "nbformat": 4,
 "nbformat_minor": 2
}
